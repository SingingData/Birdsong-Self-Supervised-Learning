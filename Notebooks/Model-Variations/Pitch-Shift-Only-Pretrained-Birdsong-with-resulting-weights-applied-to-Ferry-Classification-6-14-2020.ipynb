{
 "cells": [
  {
   "cell_type": "markdown",
   "metadata": {},
   "source": [
    "## 3 - Pitch Shift Only with Ferry Downstream Task\n",
    "## Wav Temporal Order Self-Supervised Learning from Birdsong Applied to Ferry Motor Classification.\n",
    "Self-Supervised Model, Extracted Weights, and Load into Custom Model"
   ]
  },
  {
   "cell_type": "markdown",
   "metadata": {},
   "source": [
    "Last Updated Date June 10\n"
   ]
  },
  {
   "cell_type": "code",
   "execution_count": 1,
   "metadata": {},
   "outputs": [],
   "source": [
    "from __future__ import print_function\n",
    "%matplotlib inline\n",
    "import matplotlib as plt\n",
    "plt.style.use('seaborn-white')\n",
    "from IPython.display import Markdown, display\n",
    "from IPython.display import SVG\n",
    "import numpy as np\n",
    "from time import time\n",
    "np.random.seed(10)\n",
    "import tensorflow as tf\n",
    "import pandas as pd\n",
    "import pyAudioAnalysis\n",
    "from pyAudioAnalysis import audioBasicIO\n",
    "from pyAudioAnalysis import ShortTermFeatures, MidTermFeatures\n",
    "import matplotlib.pyplot as plt\n",
    "import resampy\n",
    "import librosa\n",
    "from librosa import cqt\n",
    "\n",
    "import scipy.io.wavfile as wavfile \n",
    "import librosa\n",
    "import plotly\n",
    "import numpy as np\n",
    "import plotly.graph_objs as go\n",
    "from scipy.signal import medfilt as mf\n",
    "\n",
    "\n",
    "\n",
    "import os\n",
    "import os.path\n",
    "from os.path import isfile, join\n",
    "from os import listdir\n",
    "import sklearn\n",
    "from sklearn import preprocessing\n",
    "import scipy.io.wavfile as wavfile\n",
    "np.set_printoptions(suppress=True)\n",
    "import argparse\n",
    "from pydub import AudioSegment\n",
    "import random"
   ]
  },
  {
   "cell_type": "code",
   "execution_count": 2,
   "metadata": {},
   "outputs": [
    {
     "data": {
      "text/plain": [
       "'/home/pattyry/birds'"
      ]
     },
     "execution_count": 2,
     "metadata": {},
     "output_type": "execute_result"
    }
   ],
   "source": [
    "birds_home = os.path.join('/home/pattyry/birds/')\n",
    "#cwd_audio = os.path.join(\"..\",\"..\",\"birds\")\n",
    "os.chdir(birds_home)\n",
    "os.getcwd()"
   ]
  },
  {
   "cell_type": "code",
   "execution_count": 3,
   "metadata": {},
   "outputs": [
    {
     "name": "stdout",
     "output_type": "stream",
     "text": [
      "./cqt-sequences_train\n"
     ]
    }
   ],
   "source": [
    "cqt_train = os.path.join('./cqt-sequences_train')\n",
    "cqt_test = os.path.join('./cqt-sequences_test')\n",
    "spec_cqt_train = os.path.join('./spec-aug-sequences_train')\n",
    "spec_cqt_test = os.path.join('./spec-aug-sequences_test')\n",
    "new_train_test = os.path.join('./new-train-test')\n",
    "print(cqt_train)"
   ]
  },
  {
   "cell_type": "code",
   "execution_count": 4,
   "metadata": {},
   "outputs": [],
   "source": [
    "nb_classes = 2\n",
    "img_rows, img_cols = 70, 112"
   ]
  },
  {
   "cell_type": "code",
   "execution_count": 5,
   "metadata": {},
   "outputs": [
    {
     "data": {
      "text/plain": [
       "'/home/pattyry/birds/cqt-sequences_train'"
      ]
     },
     "execution_count": 5,
     "metadata": {},
     "output_type": "execute_result"
    }
   ],
   "source": [
    "os.chdir(birds_home)\n",
    "os.chdir(cqt_train)\n",
    "os.getcwd()"
   ]
  },
  {
   "cell_type": "code",
   "execution_count": 6,
   "metadata": {},
   "outputs": [
    {
     "name": "stdout",
     "output_type": "stream",
     "text": [
      "(763, 7840)\n",
      "(763, 7840)\n",
      "(763, 7840)\n",
      "(763, 7840)\n",
      "(763, 2)\n"
     ]
    }
   ],
   "source": [
    "train_x_cqt_1=pd.read_csv('a_train_cqt.csv', sep=',',header=None)\n",
    "print(train_x_cqt_1.shape)\n",
    "train_x_cqt_1 = np.asarray(train_x_cqt_1)\n",
    "\n",
    "train_x_cqt_2=pd.read_csv('b_train_cqt.csv', sep=',',header=None)\n",
    "print(train_x_cqt_2.shape)\n",
    "train_x_cqt_2 = np.asarray(train_x_cqt_2)\n",
    "\n",
    "train_x_cqt_3=pd.read_csv('c_train_cqt.csv', sep=',',header=None)\n",
    "print(train_x_cqt_3.shape)\n",
    "train_x_cqt_3 = np.asarray(train_x_cqt_3)\n",
    "\n",
    "train_x_cqt_4=pd.read_csv('d_train_cqt.csv', sep=',',header=None)\n",
    "print(train_x_cqt_4.shape)\n",
    "train_x_cqt_4 = np.asarray(train_x_cqt_4)\n",
    "\n",
    "\n",
    "train_y_cqt=pd.read_csv('labels_train_cqt.csv', sep=',',header=None)\n",
    "print(train_y_cqt.shape)\n",
    "train_y_cqt = np.asarray(train_y_cqt)\n"
   ]
  },
  {
   "cell_type": "code",
   "execution_count": 7,
   "metadata": {},
   "outputs": [
    {
     "data": {
      "text/plain": [
       "'/home/pattyry/birds/cqt-sequences_test'"
      ]
     },
     "execution_count": 7,
     "metadata": {},
     "output_type": "execute_result"
    }
   ],
   "source": [
    "os.chdir(birds_home)\n",
    "os.chdir(cqt_test)\n",
    "os.getcwd()"
   ]
  },
  {
   "cell_type": "code",
   "execution_count": 8,
   "metadata": {},
   "outputs": [
    {
     "name": "stdout",
     "output_type": "stream",
     "text": [
      "(489, 7840)\n",
      "(489, 7840)\n",
      "(489, 7840)\n",
      "(489, 7840)\n",
      "(489, 2)\n"
     ]
    }
   ],
   "source": [
    "test_x_cqt_1=pd.read_csv('a_test_cqt.csv', sep=',',header=None)\n",
    "print(test_x_cqt_1.shape)\n",
    "test_x_cqt_1 = np.asarray(test_x_cqt_1)\n",
    "\n",
    "test_x_cqt_2=pd.read_csv('b_test_cqt.csv', sep=',',header=None)\n",
    "print(test_x_cqt_2.shape)\n",
    "test_x_cqt_2 = np.asarray(test_x_cqt_2)\n",
    "\n",
    "test_x_cqt_3=pd.read_csv('c_test_cqt.csv', sep=',',header=None)\n",
    "print(test_x_cqt_3.shape)\n",
    "test_x_cqt_3 = np.asarray(test_x_cqt_3)\n",
    "\n",
    "test_x_cqt_4=pd.read_csv('d_test_cqt.csv', sep=',',header=None)\n",
    "print(test_x_cqt_4.shape)\n",
    "test_x_cqt_4 = np.asarray(test_x_cqt_4)\n",
    "\n",
    "test_y_cqt=pd.read_csv('labels_test_cqt.csv', sep=',',header=None)\n",
    "print(test_y_cqt.shape)\n",
    "test_y_cqt = np.asarray(test_y_cqt)"
   ]
  },
  {
   "cell_type": "code",
   "execution_count": 9,
   "metadata": {},
   "outputs": [
    {
     "data": {
      "text/plain": [
       "['b_train.csv',\n",
       " 'labels_test.csv',\n",
       " 'd_train.csv',\n",
       " 'a_train.csv',\n",
       " 'c_train.csv',\n",
       " 'labels_train.csv']"
      ]
     },
     "execution_count": 9,
     "metadata": {},
     "output_type": "execute_result"
    }
   ],
   "source": [
    "os.chdir(birds_home)\n",
    "os.chdir(spec_cqt_train)\n",
    "os.getcwd()\n",
    "os.listdir()"
   ]
  },
  {
   "cell_type": "code",
   "execution_count": 10,
   "metadata": {},
   "outputs": [
    {
     "name": "stdout",
     "output_type": "stream",
     "text": [
      "(763, 7840)\n",
      "(763, 7840)\n",
      "(763, 7840)\n",
      "(763, 7840)\n",
      "(763, 2)\n"
     ]
    }
   ],
   "source": [
    "train_x_spec_1=pd.read_csv('a_train.csv', sep=',',header=None)\n",
    "print(train_x_spec_1.shape)\n",
    "train_x_spec_1 = np.asarray(train_x_spec_1)\n",
    "\n",
    "train_x_spec_2=pd.read_csv('b_train.csv', sep=',',header=None)\n",
    "print(train_x_spec_2.shape)\n",
    "train_x_spec_2 = np.asarray(train_x_spec_2)\n",
    "\n",
    "train_x_spec_3=pd.read_csv('c_train.csv', sep=',',header=None)\n",
    "print(train_x_spec_3.shape)\n",
    "train_x_spec_3 = np.asarray(train_x_spec_3)\n",
    "\n",
    "train_x_spec_4=pd.read_csv('d_train.csv', sep=',',header=None)\n",
    "print(train_x_spec_4.shape)\n",
    "train_x_spec_4 = np.asarray(train_x_spec_4)\n",
    "\n",
    "train_y_spec=pd.read_csv('labels_train.csv', sep=',',header=None)\n",
    "print(train_y_spec.shape)\n",
    "train_y_spec = np.asarray(train_y_spec)"
   ]
  },
  {
   "cell_type": "code",
   "execution_count": 11,
   "metadata": {},
   "outputs": [
    {
     "data": {
      "text/plain": [
       "['labels_test.csv', 'b_test.csv', 'a_test.csv', 'd_test.csv', 'c_test.csv']"
      ]
     },
     "execution_count": 11,
     "metadata": {},
     "output_type": "execute_result"
    }
   ],
   "source": [
    "os.chdir(birds_home)\n",
    "os.chdir(spec_cqt_test)\n",
    "os.getcwd()\n",
    "os.listdir()"
   ]
  },
  {
   "cell_type": "code",
   "execution_count": null,
   "metadata": {},
   "outputs": [],
   "source": []
  },
  {
   "cell_type": "code",
   "execution_count": 12,
   "metadata": {},
   "outputs": [
    {
     "name": "stdout",
     "output_type": "stream",
     "text": [
      "(489, 7840)\n",
      "(489, 7840)\n",
      "(489, 7840)\n",
      "(489, 7840)\n",
      "(489, 2)\n"
     ]
    }
   ],
   "source": [
    "test_x_spec_1=pd.read_csv('a_test.csv', sep=',',header=None)\n",
    "print(test_x_spec_1.shape)\n",
    "test_x_spec_1 = np.asarray(test_x_spec_1)\n",
    "\n",
    "test_x_spec_2=pd.read_csv('b_test.csv', sep=',',header=None)\n",
    "print(test_x_spec_2.shape)\n",
    "test_x_spec_2 = np.asarray(test_x_spec_2)\n",
    "\n",
    "test_x_spec_3=pd.read_csv('c_test.csv', sep=',',header=None)\n",
    "print(test_x_spec_3.shape)\n",
    "test_x_spec_3 = np.asarray(test_x_spec_3)\n",
    "\n",
    "test_x_spec_4=pd.read_csv('d_test.csv', sep=',',header=None)\n",
    "print(test_x_spec_4.shape)\n",
    "test_x_spec_4 = np.asarray(test_x_spec_4)\n",
    "\n",
    "test_y_spec=pd.read_csv('labels_test.csv', sep=',',header=None)\n",
    "print(test_y_spec.shape)\n",
    "test_y_spec = np.asarray(test_y_spec)"
   ]
  },
  {
   "cell_type": "code",
   "execution_count": 13,
   "metadata": {},
   "outputs": [
    {
     "data": {
      "text/plain": [
       "['c_train_pitch.csv',\n",
       " 'pitch_shifted_train.csv',\n",
       " 'b_train_pitch.csv',\n",
       " 'd_train_pitch.csv',\n",
       " 'a_train_pitch.csv']"
      ]
     },
     "execution_count": 13,
     "metadata": {},
     "output_type": "execute_result"
    }
   ],
   "source": [
    "os.chdir(birds_home)\n",
    "pitch_train = os.path.join(birds_home,'./pitch-shifted_train')\n",
    "os.chdir(pitch_train)\n",
    "os.getcwd()\n",
    "os.listdir()"
   ]
  },
  {
   "cell_type": "code",
   "execution_count": 14,
   "metadata": {},
   "outputs": [
    {
     "name": "stdout",
     "output_type": "stream",
     "text": [
      "(3052, 7840)\n",
      "(3052, 7840)\n",
      "(3052, 7840)\n",
      "(3052, 7840)\n"
     ]
    }
   ],
   "source": [
    "train_x_pitch_1=pd.read_csv('a_train_pitch.csv', sep=',',header=None)\n",
    "print(train_x_pitch_1.shape)\n",
    "train_x_pitch_1 = np.asarray(train_x_pitch_1)\n",
    "\n",
    "train_x_pitch_2=pd.read_csv('b_train_pitch.csv', sep=',',header=None)\n",
    "print(train_x_pitch_2.shape)\n",
    "train_x_pitch_2 = np.asarray(train_x_pitch_2)\n",
    "\n",
    "train_x_pitch_3=pd.read_csv('c_train_pitch.csv', sep=',',header=None)\n",
    "print(train_x_pitch_3.shape)\n",
    "train_x_pitch_3 = np.asarray(train_x_pitch_3)\n",
    "\n",
    "train_x_pitch_4=pd.read_csv('d_train_pitch.csv', sep=',',header=None)\n",
    "print(train_x_pitch_4.shape)\n",
    "train_x_pitch_4 = np.asarray(train_x_pitch_4)\n"
   ]
  },
  {
   "cell_type": "code",
   "execution_count": 15,
   "metadata": {},
   "outputs": [
    {
     "data": {
      "text/plain": [
       "['d_test_pitch.csv',\n",
       " 'pitch_shifted_test.csv',\n",
       " 'c_test_pitch.csv',\n",
       " 'b_test_pitch.csv',\n",
       " 'a_test_pitch.csv']"
      ]
     },
     "execution_count": 15,
     "metadata": {},
     "output_type": "execute_result"
    }
   ],
   "source": [
    "os.chdir(birds_home)\n",
    "pitch_test = os.path.join(birds_home,'./pitch-shifted_test')\n",
    "os.chdir(pitch_test)\n",
    "os.getcwd()\n",
    "os.listdir()"
   ]
  },
  {
   "cell_type": "code",
   "execution_count": 16,
   "metadata": {},
   "outputs": [
    {
     "name": "stdout",
     "output_type": "stream",
     "text": [
      "(1956, 7840)\n",
      "(1956, 7840)\n",
      "(1956, 7840)\n",
      "(1956, 7840)\n"
     ]
    }
   ],
   "source": [
    "test_x_pitch_1=pd.read_csv('a_test_pitch.csv', sep=',',header=None)\n",
    "print(test_x_pitch_1.shape)\n",
    "test_x_pitch_1 = np.asarray(test_x_pitch_1)\n",
    "\n",
    "test_x_pitch_2=pd.read_csv('b_test_pitch.csv', sep=',',header=None)\n",
    "print(test_x_pitch_2.shape)\n",
    "test_x_pitch_2 = np.asarray(test_x_pitch_2)\n",
    "\n",
    "test_x_pitch_3=pd.read_csv('c_test_pitch.csv', sep=',',header=None)\n",
    "print(test_x_pitch_3.shape)\n",
    "test_x_pitch_3 = np.asarray(test_x_pitch_3)\n",
    "\n",
    "test_x_pitch_4=pd.read_csv('d_test_pitch.csv', sep=',',header=None)\n",
    "print(test_x_pitch_4.shape)\n",
    "test_x_pitch_4 = np.asarray(test_x_pitch_4)\n",
    "\n"
   ]
  },
  {
   "cell_type": "code",
   "execution_count": 17,
   "metadata": {},
   "outputs": [],
   "source": [
    "samples_train_pitch = len(train_x_pitch_4)\n",
    "samples_test_pitch = len(test_x_pitch_4)"
   ]
  },
  {
   "cell_type": "code",
   "execution_count": 18,
   "metadata": {},
   "outputs": [
    {
     "name": "stdout",
     "output_type": "stream",
     "text": [
      "(3052, 1)\n",
      "(1956, 1)\n",
      "(3052, 1)\n",
      "(1956, 1)\n"
     ]
    }
   ],
   "source": [
    "train_labels_positive_pitch = np.full((samples_train_pitch, 1), 1)\n",
    "print(train_labels_positive_pitch.shape)\n",
    "\n",
    "test_labels_positive_pitch = np.full((samples_test_pitch, 1), 1)\n",
    "print(test_labels_positive_pitch.shape)\n",
    "\n",
    "train_labels_negative_pitch = np.full((samples_train_pitch, 1), 0)\n",
    "print(train_labels_negative_pitch.shape)\n",
    "\n",
    "test_labels_negative_pitch = np.full((samples_test_pitch, 1), 0)\n",
    "print(test_labels_negative_pitch.shape)"
   ]
  },
  {
   "cell_type": "code",
   "execution_count": 19,
   "metadata": {},
   "outputs": [],
   "source": [
    "# Build sets of Samples\n",
    "# Positive Sequence \n",
    "# a, b, c\n",
    "# Negative Sequences:\n",
    "# b, a, d\n",
    "# d, a, b\n",
    "\n",
    "# train_x_cqt_1, train_x_cqt_2, train_x_cqt_3, train_x_cqt_4\n",
    "# test_x_cqt_1, test_x_cqt_2, test_x_cqt_3, test_x_cqt_4\n",
    "# train_y_cqt\n",
    "# test_y_cqt\n",
    "\n",
    "# train_x_spec_1, train_x_spec_2, train_x_spec_3, train_x_spec_4\n",
    "# test_x_spec_1, test_x_spec_2, test_x_spec_3, test_x_spec_4\n",
    "# train_y_spec\n",
    "# test_y_spec"
   ]
  },
  {
   "cell_type": "code",
   "execution_count": 20,
   "metadata": {},
   "outputs": [
    {
     "name": "stdout",
     "output_type": "stream",
     "text": [
      "(763, 1)\n",
      "(489, 1)\n",
      "(763, 1)\n",
      "(489, 1)\n"
     ]
    }
   ],
   "source": [
    "samples_train = len(train_x_cqt_1)\n",
    "samples_test = len(test_x_cqt_1)\n",
    "\n",
    "train_labels_positive = np.full((samples_train, 1), 1)\n",
    "print(train_labels_positive.shape)\n",
    "\n",
    "test_labels_positive = np.full((samples_test, 1), 1)\n",
    "print(test_labels_positive.shape)\n",
    "\n",
    "train_labels_negative = np.full((samples_train, 1), 0)\n",
    "print(train_labels_negative.shape)\n",
    "\n",
    "test_labels_negative = np.full((samples_test, 1), 0)\n",
    "print(test_labels_negative.shape)"
   ]
  },
  {
   "cell_type": "code",
   "execution_count": 21,
   "metadata": {},
   "outputs": [],
   "source": [
    "positive_train_type1_cqt = np.concatenate((train_x_cqt_1, train_x_cqt_2, train_x_cqt_3, train_labels_positive), axis=1)\n",
    "positive_test_type1_cqt = np.concatenate((test_x_cqt_1, test_x_cqt_2, test_x_cqt_3, test_labels_positive), axis=1)\n",
    "\n",
    "negative_train_type2_cqt = np.concatenate((train_x_cqt_2, train_x_cqt_1, train_x_cqt_4, train_labels_negative), axis=1)\n",
    "negative_test_type2_cqt = np.concatenate((test_x_cqt_2, test_x_cqt_1, test_x_cqt_4, test_labels_negative), axis=1)\n",
    "\n",
    "negative_train_type3_cqt = np.concatenate((train_x_cqt_4, train_x_cqt_1, train_x_cqt_2, train_labels_negative), axis=1)\n",
    "negative_test_type3_cqt = np.concatenate((test_x_cqt_4, test_x_cqt_1, test_x_cqt_2, test_labels_negative), axis=1)"
   ]
  },
  {
   "cell_type": "code",
   "execution_count": 22,
   "metadata": {},
   "outputs": [],
   "source": [
    "positive_train_type1_pitch = np.concatenate((train_x_pitch_1, train_x_pitch_2, train_x_pitch_3, train_labels_positive_pitch), axis=1)\n",
    "positive_test_type1_pitch = np.concatenate((test_x_pitch_1, test_x_pitch_2, test_x_pitch_3, test_labels_positive_pitch), axis=1)\n",
    "\n",
    "negative_train_type2_pitch = np.concatenate((train_x_pitch_2, train_x_pitch_1, train_x_pitch_4, train_labels_negative_pitch), axis=1)\n",
    "negative_test_type2_pitch = np.concatenate((test_x_pitch_2, test_x_pitch_1, test_x_pitch_4, test_labels_negative_pitch), axis=1)\n",
    "\n",
    "negative_train_type3_pitch = np.concatenate((train_x_pitch_4, train_x_pitch_1, train_x_pitch_2, train_labels_negative_pitch), axis=1)\n",
    "negative_test_type3_pitch = np.concatenate((test_x_pitch_4, test_x_pitch_1, test_x_pitch_2, test_labels_negative_pitch), axis=1)"
   ]
  },
  {
   "cell_type": "code",
   "execution_count": 23,
   "metadata": {},
   "outputs": [],
   "source": [
    "positive_train_type1_spec = np.concatenate((train_x_spec_1, train_x_spec_2, train_x_spec_3, train_labels_positive), axis=1)\n",
    "positive_test_type1_spec = np.concatenate((test_x_spec_1, test_x_spec_2, test_x_spec_3, test_labels_positive), axis=1)\n",
    "\n",
    "negative_train_type2_spec = np.concatenate((train_x_spec_2, train_x_spec_1, train_x_spec_4, train_labels_negative), axis=1)\n",
    "negative_test_type2_spec = np.concatenate((test_x_spec_2, test_x_spec_1, test_x_spec_4, test_labels_negative), axis=1)\n",
    "\n",
    "negative_train_type3_spec = np.concatenate((train_x_spec_4, train_x_spec_1, train_x_spec_2, train_labels_negative), axis=1)\n",
    "negative_test_type3_spec = np.concatenate((test_x_spec_4, test_x_spec_1, test_x_spec_2, test_labels_negative), axis=1)"
   ]
  },
  {
   "cell_type": "markdown",
   "metadata": {},
   "source": [
    "### Generate Correct and Incorrect Sequences "
   ]
  },
  {
   "cell_type": "code",
   "execution_count": 25,
   "metadata": {},
   "outputs": [
    {
     "name": "stdout",
     "output_type": "stream",
     "text": [
      "(2289, 23521)\n",
      "(1467, 23521)\n"
     ]
    }
   ],
   "source": [
    "train_cqt = np.append(positive_train_type1_cqt, negative_train_type2_cqt, axis=0)\n",
    "train_cqt = np.append(train_cqt, negative_train_type3_cqt, axis=0)\n",
    "print(train_cqt.shape)\n",
    "\n",
    "test_cqt = np.append(positive_test_type1_cqt,negative_test_type2_cqt, axis=0)\n",
    "test_cqt = np.append(test_cqt,negative_test_type3_cqt, axis=0)\n",
    "print(test_cqt.shape)"
   ]
  },
  {
   "cell_type": "code",
   "execution_count": 26,
   "metadata": {},
   "outputs": [
    {
     "name": "stdout",
     "output_type": "stream",
     "text": [
      "(2289, 23521)\n",
      "(1467, 23521)\n"
     ]
    }
   ],
   "source": [
    "train_spec = np.append(positive_train_type1_spec, negative_train_type2_spec, axis=0)\n",
    "train_spec = np.append(train_spec, negative_train_type3_spec, axis=0)\n",
    "print(train_spec.shape)\n",
    "\n",
    "test_spec = np.append(positive_test_type1_spec,negative_test_type2_spec, axis=0)\n",
    "test_spec = np.append(test_spec,negative_test_type3_spec, axis=0)\n",
    "print(test_spec.shape)"
   ]
  },
  {
   "cell_type": "code",
   "execution_count": 27,
   "metadata": {},
   "outputs": [
    {
     "name": "stdout",
     "output_type": "stream",
     "text": [
      "(9156, 23521)\n",
      "(5868, 23521)\n"
     ]
    }
   ],
   "source": [
    "train_pitch = np.append(positive_train_type1_pitch, negative_train_type2_pitch, axis=0)\n",
    "train_pitch = np.append(train_pitch, negative_train_type3_pitch, axis=0)\n",
    "print(train_pitch.shape)\n",
    "\n",
    "test_pitch = np.append(positive_test_type1_pitch,negative_test_type2_pitch, axis=0)\n",
    "test_pitch = np.append(test_pitch,negative_test_type3_pitch, axis=0)\n",
    "print(test_pitch.shape)"
   ]
  },
  {
   "cell_type": "code",
   "execution_count": 28,
   "metadata": {},
   "outputs": [
    {
     "data": {
      "text/plain": [
       "['self-supervised-temporal-order-2-6-14.hdf5',\n",
       " 'ferry-data',\n",
       " 'birds-notebooks',\n",
       " 'resampled-train',\n",
       " 'pitch-shifted_test',\n",
       " 'spec-aug-sequences_test',\n",
       " 'cqt-sequences_test',\n",
       " 'cqt-sequences_train',\n",
       " 'spec-aug-sequences_train',\n",
       " 'old-train-test',\n",
       " 'spec-and-pitchshift-aug-self-supervised-temporal-order--6-14.hdf5',\n",
       " 'pitch-shifted_train',\n",
       " 'new-train-test',\n",
       " 'resampled-test',\n",
       " 'file-index']"
      ]
     },
     "execution_count": 28,
     "metadata": {},
     "output_type": "execute_result"
    }
   ],
   "source": [
    "os.chdir(birds_home)\n",
    "#os.chdir(spec_cqt_test)\n",
    "os.getcwd()\n",
    "os.listdir()"
   ]
  },
  {
   "cell_type": "code",
   "execution_count": 29,
   "metadata": {},
   "outputs": [],
   "source": [
    "np.random.shuffle(train_cqt)\n",
    "np.random.shuffle(test_cqt)\n",
    "np.random.shuffle(train_spec)\n",
    "np.random.shuffle(test_spec)\n",
    "np.random.shuffle(train_pitch)\n",
    "np.random.shuffle(test_pitch)"
   ]
  },
  {
   "cell_type": "code",
   "execution_count": 30,
   "metadata": {},
   "outputs": [
    {
     "name": "stdout",
     "output_type": "stream",
     "text": [
      "23521\n"
     ]
    }
   ],
   "source": [
    "unrolled_cols = train_cqt.shape[1]\n",
    "print(unrolled_cols)"
   ]
  },
  {
   "cell_type": "code",
   "execution_count": 31,
   "metadata": {},
   "outputs": [
    {
     "name": "stdout",
     "output_type": "stream",
     "text": [
      "(2289,)\n",
      "(1467,)\n",
      "(2289,)\n",
      "(1467,)\n"
     ]
    }
   ],
   "source": [
    "train_cqt_y = train_cqt[:,-1]\n",
    "test_cqt_y = test_cqt[:,-1]\n",
    "\n",
    "print(train_cqt_y.shape)\n",
    "print(test_cqt_y.shape)\n",
    "\n",
    "train_spec_y = train_spec[:,-1]\n",
    "test_spec_y = test_spec[:,-1]\n",
    "\n",
    "print(train_spec_y.shape)\n",
    "print(test_spec_y.shape)"
   ]
  },
  {
   "cell_type": "code",
   "execution_count": 32,
   "metadata": {},
   "outputs": [
    {
     "name": "stdout",
     "output_type": "stream",
     "text": [
      "23521\n"
     ]
    }
   ],
   "source": [
    "unrolled_cols = train_pitch.shape[1]\n",
    "print(unrolled_cols)"
   ]
  },
  {
   "cell_type": "code",
   "execution_count": 33,
   "metadata": {},
   "outputs": [
    {
     "name": "stdout",
     "output_type": "stream",
     "text": [
      "(9156,)\n",
      "(5868,)\n",
      "(9156,)\n",
      "(5868,)\n"
     ]
    }
   ],
   "source": [
    "train_pitch_y = train_pitch[:,-1]\n",
    "test_pitch_y = test_pitch[:,-1]\n",
    "\n",
    "print(train_pitch_y.shape)\n",
    "print(test_pitch_y.shape)\n",
    "\n",
    "train_pitch_y = train_pitch[:,-1]\n",
    "test_pitch_y = test_pitch[:,-1]\n",
    "\n",
    "print(train_pitch_y.shape)\n",
    "print(test_pitch_y.shape)"
   ]
  },
  {
   "cell_type": "code",
   "execution_count": 34,
   "metadata": {},
   "outputs": [
    {
     "name": "stdout",
     "output_type": "stream",
     "text": [
      "(2289, 23520)\n",
      "(2289, 23520)\n",
      "(1467, 23520)\n",
      "(1467, 23520)\n"
     ]
    }
   ],
   "source": [
    "train_cqt_x = train_cqt[:,0:(unrolled_cols-1)]\n",
    "print(train_cqt_x.shape)\n",
    "\n",
    "train_spec_x = train_spec[:,0:(unrolled_cols-1)]\n",
    "print(train_spec_x.shape)\n",
    "\n",
    "test_cqt_x = test_cqt[:,0:(unrolled_cols-1)]\n",
    "print(test_cqt_x.shape)\n",
    "\n",
    "test_spec_x = test_spec[:,0:(unrolled_cols-1)]\n",
    "print(test_spec_x.shape)"
   ]
  },
  {
   "cell_type": "code",
   "execution_count": 35,
   "metadata": {},
   "outputs": [
    {
     "name": "stdout",
     "output_type": "stream",
     "text": [
      "(9156, 23520)\n",
      "(5868, 23520)\n"
     ]
    }
   ],
   "source": [
    "train_pitch_x = train_pitch[:,0:(unrolled_cols-1)]\n",
    "print(train_pitch_x.shape)\n",
    "\n",
    "test_pitch_x = test_pitch[:,0:(unrolled_cols-1)]\n",
    "print(test_pitch_x.shape)"
   ]
  },
  {
   "cell_type": "code",
   "execution_count": 36,
   "metadata": {},
   "outputs": [
    {
     "name": "stdout",
     "output_type": "stream",
     "text": [
      "/home/pattyry/birds/new-train-test\n"
     ]
    },
    {
     "data": {
      "text/plain": [
       "['train_pitch_y.csv',\n",
       " 'test_cqt_y.csv',\n",
       " 'train_spec_x.csv',\n",
       " 'test_spec_x.csv',\n",
       " 'test_spec_y.csv',\n",
       " 'test_pitch_y.csv',\n",
       " 'train_cqt_x.csv',\n",
       " 'test_pitch_x.csv',\n",
       " 'train_spec_y.csv',\n",
       " 'train_pitch_x.csv',\n",
       " 'train_cqt_y.csv',\n",
       " 'self-supervised-temporal-order6-4.hdf5',\n",
       " 'test_cqt_x.csv']"
      ]
     },
     "execution_count": 36,
     "metadata": {},
     "output_type": "execute_result"
    }
   ],
   "source": [
    "os.chdir(birds_home)\n",
    "os.chdir(new_train_test)\n",
    "print(os.getcwd())\n",
    "os.listdir()"
   ]
  },
  {
   "cell_type": "code",
   "execution_count": 63,
   "metadata": {},
   "outputs": [],
   "source": [
    "# np.savetxt('train_cqt_x.csv', train_cqt_x, delimiter=',')  \n",
    "# np.savetxt('train_spec_x.csv', train_spec_x, delimiter=',')  \n",
    "# np.savetxt('train_pitch_x.csv', train_spec_x, delimiter=',')  \n",
    "# np.savetxt('test_cqt_x.csv', test_cqt_x, delimiter=',')  \n",
    "# np.savetxt('test_spec_x.csv', test_spec_x, delimiter=',')  \n",
    "# np.savetxt('test_pitch_x.csv', test_spec_x, delimiter=',')  \n",
    "\n",
    "# np.savetxt('train_spec_y.csv', train_spec_y, delimiter=',')  \n",
    "# np.savetxt('test_spec_y.csv', test_spec_y, delimiter=',')  \n",
    "# np.savetxt('train_cqt_y.csv', train_cqt_y, delimiter=',')  \n",
    "# np.savetxt('test_cqt_y.csv', test_cqt_y, delimiter=',')  \n",
    "# np.savetxt('train_pitch_y.csv', train_cqt_y, delimiter=',')  \n",
    "# np.savetxt('test_pitch_y.csv', test_cqt_y, delimiter=',')  "
   ]
  },
  {
   "cell_type": "markdown",
   "metadata": {},
   "source": [
    "### Choose which augmentations to include"
   ]
  },
  {
   "cell_type": "code",
   "execution_count": 37,
   "metadata": {},
   "outputs": [
    {
     "name": "stdout",
     "output_type": "stream",
     "text": [
      "(11445, 23520)\n",
      "(1467, 23520)\n",
      "(11445,)\n",
      "(1467,)\n",
      "[1. 0. 0. ... 0. 0. 0.]\n",
      "[0. 0. 0. ... 0. 0. 0.]\n"
     ]
    }
   ],
   "source": [
    "train_x = np.append(train_cqt_x, train_pitch_x, axis=0)\n",
    "#train_x = np.append(train_x, train_pitch_x, axis=0)\n",
    "\n",
    "test_x = test_cqt_x \n",
    "\n",
    "train_y = np.append(train_cqt_y, train_pitch_y, axis=0)\n",
    "#train_y = np.append(train_y, train_pitch_y, axis=0)\n",
    "\n",
    "test_y = test_cqt_y\n",
    "\n",
    "print(train_x.shape)\n",
    "print(test_x.shape)\n",
    "print(train_y.shape)\n",
    "print(test_y.shape)\n",
    "print(test_y)\n",
    "print(train_y)"
   ]
  },
  {
   "cell_type": "code",
   "execution_count": 38,
   "metadata": {},
   "outputs": [
    {
     "name": "stdout",
     "output_type": "stream",
     "text": [
      "(11445, 23521)\n",
      "(1467, 23521)\n"
     ]
    }
   ],
   "source": [
    "train_labelled = np.asarray(pd.concat([pd.DataFrame(train_x), pd.DataFrame(train_y)], axis=1))\n",
    "test_labelled = np.asarray(pd.concat([pd.DataFrame(test_x), pd.DataFrame(test_y)], axis=1))\n",
    "print(train_labelled.shape)\n",
    "print(test_labelled.shape)\n"
   ]
  },
  {
   "cell_type": "code",
   "execution_count": 39,
   "metadata": {},
   "outputs": [],
   "source": [
    "np.random.shuffle(train_labelled)\n",
    "np.random.shuffle(test_labelled)"
   ]
  },
  {
   "cell_type": "code",
   "execution_count": 40,
   "metadata": {},
   "outputs": [
    {
     "data": {
      "text/plain": [
       "(1467, 23521)"
      ]
     },
     "execution_count": 40,
     "metadata": {},
     "output_type": "execute_result"
    }
   ],
   "source": [
    "test_labelled.shape"
   ]
  },
  {
   "cell_type": "code",
   "execution_count": 41,
   "metadata": {},
   "outputs": [
    {
     "data": {
      "text/plain": [
       "(11445, 23521)"
      ]
     },
     "execution_count": 41,
     "metadata": {},
     "output_type": "execute_result"
    }
   ],
   "source": [
    "train_labelled.shape"
   ]
  },
  {
   "cell_type": "code",
   "execution_count": 42,
   "metadata": {},
   "outputs": [
    {
     "data": {
      "text/plain": [
       "11445"
      ]
     },
     "execution_count": 42,
     "metadata": {},
     "output_type": "execute_result"
    }
   ],
   "source": [
    "num_train_samples = np.shape(train_labelled)[0]\n",
    "num_train_samples"
   ]
  },
  {
   "cell_type": "code",
   "execution_count": 43,
   "metadata": {},
   "outputs": [
    {
     "data": {
      "text/plain": [
       "1467"
      ]
     },
     "execution_count": 43,
     "metadata": {},
     "output_type": "execute_result"
    }
   ],
   "source": [
    "num_test_samples = np.shape(test_labelled)[0]\n",
    "num_test_samples"
   ]
  },
  {
   "cell_type": "code",
   "execution_count": 44,
   "metadata": {},
   "outputs": [
    {
     "name": "stdout",
     "output_type": "stream",
     "text": [
      "(11445,)\n",
      "(1467,)\n",
      "[0. 1. 0. ... 0. 0. 0.]\n",
      "[1. 0. 0. ... 0. 0. 1.]\n"
     ]
    }
   ],
   "source": [
    "train_y_shuffled = np.asarray(train_labelled)[:,-1]\n",
    "print(train_y_shuffled.shape)\n",
    "\n",
    "test_y_shuffled = np.asarray(test_labelled)[:,-1]\n",
    "print(test_y_shuffled.shape)\n",
    "\n",
    "train_y_ =  np.array(train_y_shuffled).reshape(num_train_samples)\n",
    "test_y_ =  np.array(test_y_shuffled).reshape(num_test_samples)\n",
    "print(train_y_)\n",
    "print(test_y_)"
   ]
  },
  {
   "cell_type": "code",
   "execution_count": 45,
   "metadata": {},
   "outputs": [
    {
     "name": "stdout",
     "output_type": "stream",
     "text": [
      "(11445, 23520)\n",
      "(1467, 23520)\n"
     ]
    }
   ],
   "source": [
    "train_x_shuffled = np.asarray(train_labelled)[:,0:(unrolled_cols-1)]\n",
    "print(train_x_shuffled.shape)\n",
    "\n",
    "test_x_shuffled = np.asarray(test_labelled)[:,0:(unrolled_cols-1)]\n",
    "print(test_x_shuffled.shape)"
   ]
  },
  {
   "cell_type": "code",
   "execution_count": 46,
   "metadata": {},
   "outputs": [],
   "source": [
    "# train_x_shuffled, train_y_shuffled\n",
    "# test_x_shuffled, test_y_shuffled\n",
    "\n",
    "#7840"
   ]
  },
  {
   "cell_type": "markdown",
   "metadata": {},
   "source": [
    "## Shape Data for Model Inputs"
   ]
  },
  {
   "cell_type": "code",
   "execution_count": 47,
   "metadata": {},
   "outputs": [
    {
     "name": "stdout",
     "output_type": "stream",
     "text": [
      "(11445, 7840)\n"
     ]
    }
   ],
   "source": [
    "# Split 'x' series back into sequences\n",
    "train_x_1 = train_x_shuffled[:,0:7840]\n",
    "train_x_2 = train_x_shuffled[:,7840:15680]\n",
    "train_x_3 = train_x_shuffled[:,15680:]\n",
    "print(train_x_3.shape)"
   ]
  },
  {
   "cell_type": "code",
   "execution_count": 48,
   "metadata": {},
   "outputs": [],
   "source": [
    "train_x_1 = train_x_shuffled[:,0:7840]\n",
    "train_x_2 = train_x_shuffled[:,7840:15680]\n",
    "train_x_3 = train_x_shuffled[:,15680:]\n",
    "\n",
    "test_x_1 = test_x_shuffled[:,0:7840]\n",
    "test_x_2 = test_x_shuffled[:,7840:15680]\n",
    "test_x_3 = test_x_shuffled[:,15680:]"
   ]
  },
  {
   "cell_type": "code",
   "execution_count": 49,
   "metadata": {},
   "outputs": [
    {
     "name": "stdout",
     "output_type": "stream",
     "text": [
      "1467\n",
      "11445\n",
      "70\n",
      "112\n"
     ]
    }
   ],
   "source": [
    "#Define Single input shape\n",
    "num_test_samples = test_x_shuffled.shape[0]\n",
    "num_train_samples = train_x_shuffled.shape[0]\n",
    "num_timesteps = 70\n",
    "num_features = 112\n",
    "print(num_test_samples)\n",
    "print(num_train_samples)\n",
    "print(num_timesteps)\n",
    "print(num_features)"
   ]
  },
  {
   "cell_type": "code",
   "execution_count": 50,
   "metadata": {},
   "outputs": [
    {
     "name": "stdout",
     "output_type": "stream",
     "text": [
      "(11445, 70, 112, 1)\n",
      "(1467, 70, 112, 1)\n"
     ]
    }
   ],
   "source": [
    "train_x_1 = np.array(train_x_1).reshape(num_train_samples, num_timesteps, num_features, 1)\n",
    "train_x_2 = np.array(train_x_2).reshape(num_train_samples, num_timesteps, num_features, 1)\n",
    "train_x_3 = np.array(train_x_3).reshape(num_train_samples, num_timesteps, num_features, 1)\n",
    "print(train_x_1.shape)\n",
    "\n",
    "test_x_1 = np.array(test_x_1).reshape(num_test_samples, num_timesteps, num_features, 1)\n",
    "test_x_2 = np.array(test_x_2).reshape(num_test_samples, num_timesteps, num_features, 1)\n",
    "test_x_3 = np.array(test_x_3).reshape(num_test_samples, num_timesteps, num_features, 1)\n",
    "print(test_x_1.shape)"
   ]
  },
  {
   "cell_type": "code",
   "execution_count": 51,
   "metadata": {},
   "outputs": [
    {
     "name": "stdout",
     "output_type": "stream",
     "text": [
      "(1467, 70, 112, 1)\n",
      "(11445, 70, 112, 1)\n",
      "(1467, 70, 112, 1)\n",
      "(11445, 70, 112, 1)\n",
      "(1467, 70, 112, 1)\n",
      "(11445, 70, 112, 1)\n"
     ]
    }
   ],
   "source": [
    "print(test_x_1.shape)\n",
    "print(train_x_1.shape)\n",
    "      \n",
    "print(test_x_2.shape)\n",
    "print(train_x_2.shape)\n",
    "\n",
    "print(test_x_3.shape)\n",
    "print(train_x_3.shape)\n",
    "\n",
    "train_x_1 = np.float32(train_x_1)\n",
    "test_x_1 = np.float32(test_x_1)\n",
    "\n",
    "train_x_2 = np.float32(train_x_2)\n",
    "test_x_2 = np.float32(test_x_2)\n",
    "\n",
    "train_x_3 = np.float32(train_x_3)\n",
    "test_x_3 = np.float32(test_x_3)\n"
   ]
  },
  {
   "cell_type": "code",
   "execution_count": 52,
   "metadata": {},
   "outputs": [
    {
     "name": "stdout",
     "output_type": "stream",
     "text": [
      "(70, 112, 1)\n",
      "(11445, 70, 112, 1)\n"
     ]
    },
    {
     "data": {
      "text/plain": [
       "numpy.ndarray"
      ]
     },
     "execution_count": 52,
     "metadata": {},
     "output_type": "execute_result"
    }
   ],
   "source": [
    "cqt_input_shape = train_x_1[0].shape\n",
    "print(cqt_input_shape)\n",
    "print(train_x_1.shape)\n",
    "type(train_x_1)\n"
   ]
  },
  {
   "cell_type": "code",
   "execution_count": null,
   "metadata": {},
   "outputs": [],
   "source": []
  },
  {
   "cell_type": "code",
   "execution_count": 53,
   "metadata": {},
   "outputs": [
    {
     "name": "stderr",
     "output_type": "stream",
     "text": [
      "Using TensorFlow backend.\n"
     ]
    }
   ],
   "source": [
    "%matplotlib inline\n",
    "import matplotlib.pyplot as plt\n",
    "plt.style.use('seaborn-white')\n",
    "import pywt\n",
    "from matplotlib.image import imread\n",
    "import numpy as np\n",
    "import os\n",
    "from scipy.io import wavfile\n",
    "from pathlib import Path\n",
    "import pywt\n",
    "#import soundfile\n",
    "import random\n",
    "import pickle\n",
    "from glob import iglob\n",
    "from sklearn.metrics import confusion_matrix, classification_report\n",
    "import pprint\n",
    "random.seed(42)\n",
    "import librosa\n",
    "import scipy.signal\n",
    "import tensorflow as tf\n",
    "from tensorflow import keras\n",
    "from tensorflow.keras import layers\n",
    "from tensorflow.keras.models import Sequential, load_model\n",
    "\n",
    "from tensorflow.keras.layers import MaxPooling2D, Flatten, Conv2D\n",
    "from tensorflow.keras.utils import to_categorical\n",
    "import tensorflow.keras\n",
    "from tensorflow.keras import initializers \n",
    "from tensorflow.keras import regularizers \n",
    "from tensorflow.keras import constraints \n",
    "from tensorflow.keras.layers import Activation\n",
    "from keras.layers.advanced_activations import PReLU\n",
    "from keras.layers.advanced_activations import LeakyReLU\n",
    "from keras.layers.advanced_activations import ELU\n",
    "from tensorflow.keras.constraints import max_norm\n",
    "from tensorflow.keras.layers import LeakyReLU\n",
    "from tensorflow.keras import optimizers, losses, activations, models\n",
    "from tensorflow.keras.callbacks import ModelCheckpoint, EarlyStopping, LearningRateScheduler\n",
    "from tensorflow.keras.layers import Dense, Input, Dropout, Convolution1D, MaxPool1D, GlobalMaxPool1D, GlobalAveragePooling1D,concatenate\n",
    "from tensorflow.keras.layers import MaxPooling3D, Flatten, Conv3D\n",
    "from tensorflow.keras import backend as K\n",
    "from tensorflow.keras.layers import LeakyReLU,PReLU\n",
    "import tensorflow.keras\n",
    "from tensorflow.keras.losses import *\n",
    "from tensorflow.keras.models import load_model\n",
    "# def my_init(shape,  dtype=None):\n",
    "#      vals=((float(shape[0], float(shape[1]))) * math.sqrt(2./float(shape[1])))\n",
    "#      return K.random_normal(vals, dtype=dtype)    \n",
    "import math\n"
   ]
  },
  {
   "cell_type": "code",
   "execution_count": 54,
   "metadata": {},
   "outputs": [
    {
     "name": "stdout",
     "output_type": "stream",
     "text": [
      "Num GPUs Available:  0\n"
     ]
    }
   ],
   "source": [
    "#Before prediction\n",
    "K.clear_session()\n",
    "# from tensorflow.compat.v1 import ConfigProto\n",
    "# from tensorflow.compat.v1 import InteractiveSession\n",
    "tf.compat.v1.disable_eager_execution()\n",
    "# # #session = InteractiveSession.close()\n",
    "# config = ConfigProto()\n",
    "# config.gpu_options.allow_growth = True\n",
    "\n",
    "print(\"Num GPUs Available: \", len(tf.config.experimental.list_physical_devices('GPU')))\n",
    "\n",
    "from tensorflow.python.framework import ops\n",
    "ops.reset_default_graph()"
   ]
  },
  {
   "cell_type": "code",
   "execution_count": 55,
   "metadata": {},
   "outputs": [
    {
     "name": "stdout",
     "output_type": "stream",
     "text": [
      "[0. 1.]\n",
      "[7630 3815]\n"
     ]
    }
   ],
   "source": [
    "# import os\n",
    "# os.environ[\"CUDA_DEVICE_ORDER\"]=\"PCI_BUS_ID\"   # see issue #152\n",
    "# os.environ[\"CUDA_VISIBLE_DEVICES\"]=\"1\"\n",
    "len(train_y)\n",
    "unique, counts = np.unique(train_y_, return_counts=True)\n",
    "print(unique)\n",
    "print(counts)"
   ]
  },
  {
   "cell_type": "code",
   "execution_count": 56,
   "metadata": {},
   "outputs": [],
   "source": [
    "# If wanted, add class weighting\n",
    "total_len = len(train_y)\n",
    "class_weight = {0: total_len/len([x for x in train_y_==0 if x]),\n",
    "                1: total_len/len([x for x in train_y_==1 if x])}"
   ]
  },
  {
   "cell_type": "code",
   "execution_count": 57,
   "metadata": {},
   "outputs": [],
   "source": [
    "def get_model():\n",
    "    with tf.device(\"GPU:1\"):\n",
    "        nclass = 2\n",
    "        initializer1 = tf.keras.initializers.RandomNormal\n",
    "        initializer2 = tf.keras.initializers.Zeros()\n",
    "        initializer3 = tf.keras.initializers.glorot_uniform(seed=None)\n",
    "        initializer4 = tf.keras.initializers.lecun_normal(seed=None)\n",
    "        initializer5 = tf.keras.initializers.TruncatedNormal(mean=0., stddev=1.)\n",
    "\n",
    "        inp = Input(shape=cqt_input_shape)\n",
    "        img_1 = LeakyReLU(alpha=0.3)(inp)\n",
    "        img_1 = Conv2D(128, kernel_size=(7,7), \n",
    "                       kernel_initializer=initializer4,  kernel_regularizer = regularizers.l2(0.001),         \n",
    "                       use_bias=True, bias_initializer=initializers.Zeros(),padding=\"valid\")(img_1)\n",
    "        img_1 = Dropout(0.3)(img_1)\n",
    "        img_1 = LeakyReLU(alpha=0.2)(img_1)\n",
    "        img_1 = MaxPooling2D()(img_1)\n",
    "        img_1 = Conv2D(128, kernel_size=(3,3),       \n",
    "                       kernel_initializer=initializer4, kernel_regularizer = regularizers.l2(0.001),            \n",
    "                       use_bias=True, bias_initializer=initializers.Zeros(),padding=\"valid\")(img_1)\n",
    "        img_1 = LeakyReLU(alpha=0.2)(img_1)\n",
    "        img_1 = MaxPooling2D()(img_1)\n",
    "        img_1 = Dropout(0.3)(img_1)\n",
    "        img_1 = Conv2D(256, kernel_size=(3,3),       \n",
    "                       kernel_initializer=initializer4, kernel_regularizer = regularizers.l2(0.001),            \n",
    "                       use_bias=True, bias_initializer=initializers.Zeros(),padding=\"valid\")(img_1)\n",
    "        img_1 = LeakyReLU(alpha=0.2)(img_1)\n",
    "        img_1 = Dropout(0.5)(img_1)   \n",
    "        img_1 = Flatten()(img_1)      \n",
    "        img_1 = Dense(512, kernel_initializer=initializer4,  kernel_regularizer = regularizers.l2(0.001))(img_1)\n",
    "        img_1 = LeakyReLU(alpha=0.2)(img_1)\n",
    "        img_1 = Dropout(0.5)(img_1)   \n",
    "        \n",
    "\n",
    "        inp2 = Input(shape=cqt_input_shape)\n",
    "        img_2 = LeakyReLU(alpha=0.2)(inp2)\n",
    "        img_2 = Conv2D(128, kernel_size=(7,7), \n",
    "                       kernel_initializer=initializer4,  kernel_regularizer = regularizers.l2(0.001),         \n",
    "                       use_bias=True, bias_initializer=initializers.Zeros())(img_2)\n",
    "        img_2 = Dropout(0.3)(img_2)\n",
    "        img_2 = LeakyReLU(alpha=0.2)(img_2)\n",
    "        img_2 = MaxPooling2D()(img_2)\n",
    "        img_2 = Conv2D(128, kernel_size=(3,3),       \n",
    "                       kernel_initializer=initializer4, kernel_regularizer = regularizers.l2(0.001),            \n",
    "                       use_bias=True, bias_initializer=initializers.Zeros(),padding=\"valid\")(img_2)\n",
    "        img_2 = LeakyReLU(alpha=0.2)(img_2)\n",
    "        img_2 = MaxPooling2D()(img_2)\n",
    "        img_2 = Dropout(0.3)(img_2)\n",
    "\n",
    "        img_2 = Conv2D(256, kernel_size=(3,3),       \n",
    "                       kernel_initializer=initializer4, kernel_regularizer = regularizers.l2(0.001),            \n",
    "                       use_bias=True, bias_initializer=initializers.Zeros(),padding=\"valid\")(img_2)\n",
    "        img_2 = LeakyReLU(alpha=0.2)(img_2)\n",
    "        img_2 = Dropout(0.5)(img_2)\n",
    "        img_2 = Flatten()(img_2)   \n",
    "\n",
    "        img_2 = Dense(512, kernel_initializer=initializer4,  kernel_regularizer = regularizers.l2(0.001))(img_2)\n",
    "        img_2 = LeakyReLU(alpha=0.2)(img_2)\n",
    "        img_2 = Dropout(0.5)(img_2)\n",
    "\n",
    "\n",
    "        inp3 = Input(shape=cqt_input_shape)\n",
    "        img_3 = LeakyReLU(alpha=0.2)(inp3)\n",
    "        img_3 = Conv2D(128, kernel_size=(7,7), \n",
    "                       kernel_initializer=initializer4,  kernel_regularizer = regularizers.l2(0.001),         \n",
    "                       use_bias=True, bias_initializer=initializers.Zeros(),padding=\"valid\")(img_3)\n",
    "        img_3 = Dropout(0.3)(img_3)\n",
    "        img_3 = LeakyReLU(alpha=0.2)(img_3)\n",
    "        img_3 = MaxPooling2D()(img_3)\n",
    "        img_3 = Conv2D(128, kernel_size=(3,3),       \n",
    "                       kernel_initializer=initializer4, kernel_regularizer = regularizers.l2(0.001),            \n",
    "                       use_bias=True, bias_initializer=initializers.Zeros(),padding=\"valid\")(img_3)\n",
    "        img_3 = LeakyReLU(alpha=0.2)(img_3)\n",
    "        img_3 = MaxPooling2D()(img_3)\n",
    "        img_3 = Dropout(0.3)(img_3)\n",
    "\n",
    "        img_3 = Conv2D(256, kernel_size=(3,3),       \n",
    "                       kernel_initializer=initializer4, kernel_regularizer = regularizers.l2(0.001),            \n",
    "                       use_bias=True, bias_initializer=initializers.Zeros(),padding=\"valid\")(img_3)\n",
    "        img_3 = LeakyReLU(alpha=0.2)(img_3)\n",
    "        img_3 = Dropout(0.5)(img_3)\n",
    "        img_3 = Flatten()(img_3)   \n",
    "\n",
    "        img_3 = Dense(512, kernel_initializer=initializer4,   kernel_regularizer = regularizers.l2(0.001))(img_3)\n",
    "        img_3 = LeakyReLU(alpha=0.2)(img_3)\n",
    "        img_3 = Dropout(0.5)(img_3)\n",
    "\n",
    "\n",
    "        concat_layer = keras.layers.concatenate([img_1, img_2, img_3])\n",
    "        concat_dense = LeakyReLU(alpha=0.2)(concat_layer)\n",
    "        concat_dense = Dense(256, kernel_initializer=initializer4,  kernel_regularizer = regularizers.l2(0.001),\n",
    "                             bias_initializer=initializers.Zeros(),use_bias=True)(concat_dense)\n",
    "        concat_dense = Dropout(0.5)(concat_dense)\n",
    "        concat_dense = Dense(16, kernel_regularizer = regularizers.l2(0.1))(concat_dense)\n",
    "        concat_dense = Dropout(0.5)(concat_dense)   \n",
    "\n",
    "        output_layer = Dense(2,activation=activations.sigmoid)(concat_dense)\n",
    "        model = models.Model(inputs=[inp, inp2, inp3], outputs=[output_layer])\n",
    "        opt = optimizers.Adam(lr=0.0009, beta_1=0.9, beta_2=0.999, epsilon=1e-5, decay=.03, amsgrad=False)\n",
    "        model.compile(optimizer=opt, loss=losses.binary_crossentropy, metrics=['acc'])\n",
    "\n",
    "        model.summary()\n",
    "\n",
    "\n",
    "        return model"
   ]
  },
  {
   "cell_type": "code",
   "execution_count": 58,
   "metadata": {},
   "outputs": [
    {
     "name": "stderr",
     "output_type": "stream",
     "text": [
      "WARNING: Logging before flag parsing goes to stderr.\n",
      "W0614 13:29:52.907210 139773647173376 deprecation.py:506] From /opt/anaconda3/envs/gansynth/lib/python3.6/site-packages/tensorflow/python/ops/init_ops.py:1251: calling VarianceScaling.__init__ (from tensorflow.python.ops.init_ops) with dtype is deprecated and will be removed in a future version.\n",
      "Instructions for updating:\n",
      "Call initializer instance with the dtype argument instead of passing it to the constructor\n",
      "W0614 13:29:52.908741 139773647173376 deprecation.py:506] From /opt/anaconda3/envs/gansynth/lib/python3.6/site-packages/tensorflow/python/keras/initializers.py:94: calling TruncatedNormal.__init__ (from tensorflow.python.ops.init_ops) with dtype is deprecated and will be removed in a future version.\n",
      "Instructions for updating:\n",
      "Call initializer instance with the dtype argument instead of passing it to the constructor\n",
      "W0614 13:29:54.422737 139773647173376 deprecation.py:323] From /opt/anaconda3/envs/gansynth/lib/python3.6/site-packages/tensorflow/python/ops/nn_impl.py:180: add_dispatch_support.<locals>.wrapper (from tensorflow.python.ops.array_ops) is deprecated and will be removed in a future version.\n",
      "Instructions for updating:\n",
      "Use tf.where in 2.0, which has the same broadcast rule as np.where\n"
     ]
    },
    {
     "name": "stdout",
     "output_type": "stream",
     "text": [
      "Model: \"model\"\n",
      "__________________________________________________________________________________________________\n",
      "Layer (type)                    Output Shape         Param #     Connected to                     \n",
      "==================================================================================================\n",
      "input_1 (InputLayer)            [(None, 70, 112, 1)] 0                                            \n",
      "__________________________________________________________________________________________________\n",
      "input_2 (InputLayer)            [(None, 70, 112, 1)] 0                                            \n",
      "__________________________________________________________________________________________________\n",
      "input_3 (InputLayer)            [(None, 70, 112, 1)] 0                                            \n",
      "__________________________________________________________________________________________________\n",
      "leaky_re_lu (LeakyReLU)         (None, 70, 112, 1)   0           input_1[0][0]                    \n",
      "__________________________________________________________________________________________________\n",
      "leaky_re_lu_5 (LeakyReLU)       (None, 70, 112, 1)   0           input_2[0][0]                    \n",
      "__________________________________________________________________________________________________\n",
      "leaky_re_lu_10 (LeakyReLU)      (None, 70, 112, 1)   0           input_3[0][0]                    \n",
      "__________________________________________________________________________________________________\n",
      "conv2d (Conv2D)                 (None, 64, 106, 128) 6400        leaky_re_lu[0][0]                \n",
      "__________________________________________________________________________________________________\n",
      "conv2d_3 (Conv2D)               (None, 64, 106, 128) 6400        leaky_re_lu_5[0][0]              \n",
      "__________________________________________________________________________________________________\n",
      "conv2d_6 (Conv2D)               (None, 64, 106, 128) 6400        leaky_re_lu_10[0][0]             \n",
      "__________________________________________________________________________________________________\n",
      "dropout (Dropout)               (None, 64, 106, 128) 0           conv2d[0][0]                     \n",
      "__________________________________________________________________________________________________\n",
      "dropout_4 (Dropout)             (None, 64, 106, 128) 0           conv2d_3[0][0]                   \n",
      "__________________________________________________________________________________________________\n",
      "dropout_8 (Dropout)             (None, 64, 106, 128) 0           conv2d_6[0][0]                   \n",
      "__________________________________________________________________________________________________\n",
      "leaky_re_lu_1 (LeakyReLU)       (None, 64, 106, 128) 0           dropout[0][0]                    \n",
      "__________________________________________________________________________________________________\n",
      "leaky_re_lu_6 (LeakyReLU)       (None, 64, 106, 128) 0           dropout_4[0][0]                  \n",
      "__________________________________________________________________________________________________\n",
      "leaky_re_lu_11 (LeakyReLU)      (None, 64, 106, 128) 0           dropout_8[0][0]                  \n",
      "__________________________________________________________________________________________________\n",
      "max_pooling2d (MaxPooling2D)    (None, 32, 53, 128)  0           leaky_re_lu_1[0][0]              \n",
      "__________________________________________________________________________________________________\n",
      "max_pooling2d_2 (MaxPooling2D)  (None, 32, 53, 128)  0           leaky_re_lu_6[0][0]              \n",
      "__________________________________________________________________________________________________\n",
      "max_pooling2d_4 (MaxPooling2D)  (None, 32, 53, 128)  0           leaky_re_lu_11[0][0]             \n",
      "__________________________________________________________________________________________________\n",
      "conv2d_1 (Conv2D)               (None, 30, 51, 128)  147584      max_pooling2d[0][0]              \n",
      "__________________________________________________________________________________________________\n",
      "conv2d_4 (Conv2D)               (None, 30, 51, 128)  147584      max_pooling2d_2[0][0]            \n",
      "__________________________________________________________________________________________________\n",
      "conv2d_7 (Conv2D)               (None, 30, 51, 128)  147584      max_pooling2d_4[0][0]            \n",
      "__________________________________________________________________________________________________\n",
      "leaky_re_lu_2 (LeakyReLU)       (None, 30, 51, 128)  0           conv2d_1[0][0]                   \n",
      "__________________________________________________________________________________________________\n",
      "leaky_re_lu_7 (LeakyReLU)       (None, 30, 51, 128)  0           conv2d_4[0][0]                   \n",
      "__________________________________________________________________________________________________\n",
      "leaky_re_lu_12 (LeakyReLU)      (None, 30, 51, 128)  0           conv2d_7[0][0]                   \n",
      "__________________________________________________________________________________________________\n",
      "max_pooling2d_1 (MaxPooling2D)  (None, 15, 25, 128)  0           leaky_re_lu_2[0][0]              \n",
      "__________________________________________________________________________________________________\n",
      "max_pooling2d_3 (MaxPooling2D)  (None, 15, 25, 128)  0           leaky_re_lu_7[0][0]              \n",
      "__________________________________________________________________________________________________\n",
      "max_pooling2d_5 (MaxPooling2D)  (None, 15, 25, 128)  0           leaky_re_lu_12[0][0]             \n",
      "__________________________________________________________________________________________________\n",
      "dropout_1 (Dropout)             (None, 15, 25, 128)  0           max_pooling2d_1[0][0]            \n",
      "__________________________________________________________________________________________________\n",
      "dropout_5 (Dropout)             (None, 15, 25, 128)  0           max_pooling2d_3[0][0]            \n",
      "__________________________________________________________________________________________________\n",
      "dropout_9 (Dropout)             (None, 15, 25, 128)  0           max_pooling2d_5[0][0]            \n",
      "__________________________________________________________________________________________________\n",
      "conv2d_2 (Conv2D)               (None, 13, 23, 256)  295168      dropout_1[0][0]                  \n",
      "__________________________________________________________________________________________________\n",
      "conv2d_5 (Conv2D)               (None, 13, 23, 256)  295168      dropout_5[0][0]                  \n",
      "__________________________________________________________________________________________________\n",
      "conv2d_8 (Conv2D)               (None, 13, 23, 256)  295168      dropout_9[0][0]                  \n",
      "__________________________________________________________________________________________________\n",
      "leaky_re_lu_3 (LeakyReLU)       (None, 13, 23, 256)  0           conv2d_2[0][0]                   \n",
      "__________________________________________________________________________________________________\n",
      "leaky_re_lu_8 (LeakyReLU)       (None, 13, 23, 256)  0           conv2d_5[0][0]                   \n",
      "__________________________________________________________________________________________________\n",
      "leaky_re_lu_13 (LeakyReLU)      (None, 13, 23, 256)  0           conv2d_8[0][0]                   \n",
      "__________________________________________________________________________________________________\n",
      "dropout_2 (Dropout)             (None, 13, 23, 256)  0           leaky_re_lu_3[0][0]              \n",
      "__________________________________________________________________________________________________\n",
      "dropout_6 (Dropout)             (None, 13, 23, 256)  0           leaky_re_lu_8[0][0]              \n",
      "__________________________________________________________________________________________________\n",
      "dropout_10 (Dropout)            (None, 13, 23, 256)  0           leaky_re_lu_13[0][0]             \n",
      "__________________________________________________________________________________________________\n",
      "flatten (Flatten)               (None, 76544)        0           dropout_2[0][0]                  \n",
      "__________________________________________________________________________________________________\n",
      "flatten_1 (Flatten)             (None, 76544)        0           dropout_6[0][0]                  \n",
      "__________________________________________________________________________________________________\n",
      "flatten_2 (Flatten)             (None, 76544)        0           dropout_10[0][0]                 \n",
      "__________________________________________________________________________________________________\n",
      "dense (Dense)                   (None, 512)          39191040    flatten[0][0]                    \n",
      "__________________________________________________________________________________________________\n",
      "dense_1 (Dense)                 (None, 512)          39191040    flatten_1[0][0]                  \n",
      "__________________________________________________________________________________________________\n",
      "dense_2 (Dense)                 (None, 512)          39191040    flatten_2[0][0]                  \n",
      "__________________________________________________________________________________________________\n",
      "leaky_re_lu_4 (LeakyReLU)       (None, 512)          0           dense[0][0]                      \n",
      "__________________________________________________________________________________________________\n",
      "leaky_re_lu_9 (LeakyReLU)       (None, 512)          0           dense_1[0][0]                    \n",
      "__________________________________________________________________________________________________\n",
      "leaky_re_lu_14 (LeakyReLU)      (None, 512)          0           dense_2[0][0]                    \n",
      "__________________________________________________________________________________________________\n",
      "dropout_3 (Dropout)             (None, 512)          0           leaky_re_lu_4[0][0]              \n",
      "__________________________________________________________________________________________________\n",
      "dropout_7 (Dropout)             (None, 512)          0           leaky_re_lu_9[0][0]              \n",
      "__________________________________________________________________________________________________\n",
      "dropout_11 (Dropout)            (None, 512)          0           leaky_re_lu_14[0][0]             \n",
      "__________________________________________________________________________________________________\n",
      "concatenate (Concatenate)       (None, 1536)         0           dropout_3[0][0]                  \n",
      "                                                                 dropout_7[0][0]                  \n",
      "                                                                 dropout_11[0][0]                 \n",
      "__________________________________________________________________________________________________\n",
      "leaky_re_lu_15 (LeakyReLU)      (None, 1536)         0           concatenate[0][0]                \n",
      "__________________________________________________________________________________________________\n",
      "dense_3 (Dense)                 (None, 256)          393472      leaky_re_lu_15[0][0]             \n",
      "__________________________________________________________________________________________________\n",
      "dropout_12 (Dropout)            (None, 256)          0           dense_3[0][0]                    \n",
      "__________________________________________________________________________________________________\n",
      "dense_4 (Dense)                 (None, 16)           4112        dropout_12[0][0]                 \n",
      "__________________________________________________________________________________________________\n",
      "dropout_13 (Dropout)            (None, 16)           0           dense_4[0][0]                    \n",
      "__________________________________________________________________________________________________\n",
      "dense_5 (Dense)                 (None, 2)            34          dropout_13[0][0]                 \n",
      "==================================================================================================\n",
      "Total params: 119,318,194\n",
      "Trainable params: 119,318,194\n",
      "Non-trainable params: 0\n",
      "__________________________________________________________________________________________________\n"
     ]
    }
   ],
   "source": [
    "cqt_order_model = get_model()"
   ]
  },
  {
   "cell_type": "code",
   "execution_count": 59,
   "metadata": {},
   "outputs": [
    {
     "data": {
      "text/plain": [
       "<bound method Network.summary of <tensorflow.python.keras.engine.training.Model object at 0x7f1f178e80f0>>"
      ]
     },
     "execution_count": 59,
     "metadata": {},
     "output_type": "execute_result"
    }
   ],
   "source": [
    "cqt_order_model.summary"
   ]
  },
  {
   "cell_type": "code",
   "execution_count": 69,
   "metadata": {},
   "outputs": [],
   "source": [
    "mcp_save = ModelCheckpoint('pitchshift-only-aug-self-supervised-temporal-order--6-14b.hdf5', save_best_only=True, monitor='val_acc', mode='max')\n",
    "reduce_lr = keras.callbacks.ReduceLROnPlateau(monitor='val_loss', \n",
    "                                  factor=.2, \n",
    "                                  patience=1, \n",
    "                                  verbose=0, \n",
    "                                  mode='auto', \n",
    "                                  min_delta=0.00001, \n",
    "                                  cooldown=0, \n",
    "                                  min_lr=0)\n",
    "from tensorflow.keras.callbacks import EarlyStopping"
   ]
  },
  {
   "cell_type": "code",
   "execution_count": 70,
   "metadata": {},
   "outputs": [
    {
     "data": {
      "text/plain": [
       "'/home/pattyry/birds'"
      ]
     },
     "execution_count": 70,
     "metadata": {},
     "output_type": "execute_result"
    }
   ],
   "source": [
    "birds_home = os.path.join('/home/pattyry/birds/')\n",
    "#cwd_audio = os.path.join(\"..\",\"..\",\"birds\")\n",
    "os.chdir(birds_home)\n",
    "os.getcwd()"
   ]
  },
  {
   "cell_type": "code",
   "execution_count": 71,
   "metadata": {
    "scrolled": true
   },
   "outputs": [
    {
     "name": "stdout",
     "output_type": "stream",
     "text": [
      "Train on 11445 samples, validate on 1467 samples\n",
      "11445/11445 [==============================] - 487s 43ms/sample - loss: 1.5740 - acc: 0.8564 - val_loss: 1.2945 - val_acc: 0.8105\n"
     ]
    }
   ],
   "source": [
    "history = cqt_order_model.fit([train_x_1, train_x_2, train_x_3],[to_categorical(train_y_)], \n",
    "                         epochs=1,\n",
    "                         #verbose=2, \n",
    "                         batch_size=240,\n",
    "                         validation_data=([test_x_1, test_x_2,test_x_3], to_categorical(test_y_)),\n",
    "                         callbacks=[mcp_save, reduce_lr],\n",
    "                         class_weight=class_weight)"
   ]
  },
  {
   "cell_type": "code",
   "execution_count": 72,
   "metadata": {},
   "outputs": [
    {
     "data": {
      "text/plain": [
       "'/opt/anaconda3/envs/gansynth/bin'"
      ]
     },
     "execution_count": 72,
     "metadata": {},
     "output_type": "execute_result"
    }
   ],
   "source": [
    "import sys\n",
    "os.path.dirname(sys.executable)"
   ]
  },
  {
   "cell_type": "code",
   "execution_count": 73,
   "metadata": {},
   "outputs": [
    {
     "data": {
      "image/png": "[encoded data removed]",
      "text/plain": [
       "<Figure size 432x288 with 1 Axes>"
      ]
     },
     "metadata": {},
     "output_type": "display_data"
    }
   ],
   "source": [
    "import matplotlib.pyplot as plt\n",
    "#Accuracy\n",
    "plt.plot(history.history['acc'])\n",
    "plt.plot(history.history['val_acc'])\n",
    "plt.title('model accuracy')\n",
    "plt.ylabel('accuracy')\n",
    "plt.xlabel('epoch')\n",
    "plt.legend(['train', 'validation'], loc='upper left')\n",
    "plt.show()"
   ]
  },
  {
   "cell_type": "code",
   "execution_count": 74,
   "metadata": {},
   "outputs": [
    {
     "data": {
      "image/png": "[encoded data removed]",
      "text/plain": [
       "<Figure size 432x288 with 1 Axes>"
      ]
     },
     "metadata": {},
     "output_type": "display_data"
    }
   ],
   "source": [
    "plt.plot(history.history['loss'])\n",
    "plt.plot(history.history['val_loss'])\n",
    "plt.title('model loss')\n",
    "plt.ylabel('loss')\n",
    "plt.xlabel('epoch')\n",
    "plt.legend(['train', 'validation'], loc='upper left')\n",
    "plt.show()"
   ]
  },
  {
   "cell_type": "code",
   "execution_count": 75,
   "metadata": {},
   "outputs": [],
   "source": [
    "from tensorflow.keras.preprocessing.image import img_to_array\n",
    "from tensorflow.keras.models import load_model\n"
   ]
  },
  {
   "cell_type": "code",
   "execution_count": null,
   "metadata": {},
   "outputs": [],
   "source": []
  },
  {
   "cell_type": "markdown",
   "metadata": {},
   "source": [
    "## Self-Supervised Learning"
   ]
  },
  {
   "cell_type": "code",
   "execution_count": 107,
   "metadata": {},
   "outputs": [
    {
     "data": {
      "text/plain": [
       "'/home/pattyry/birds/ferry-data/ferry-cqt'"
      ]
     },
     "execution_count": 107,
     "metadata": {},
     "output_type": "execute_result"
    }
   ],
   "source": [
    "os.getcwd()"
   ]
  },
  {
   "cell_type": "code",
   "execution_count": 108,
   "metadata": {},
   "outputs": [
    {
     "data": {
      "text/plain": [
       "'/home/pattyry/birds'"
      ]
     },
     "execution_count": 108,
     "metadata": {},
     "output_type": "execute_result"
    }
   ],
   "source": [
    "# cwd_audio = os.path.join(\"..\",\"..\",\"birds-data\")\n",
    "os.chdir(birds_home)\n",
    "os.getcwd()"
   ]
  },
  {
   "cell_type": "code",
   "execution_count": 113,
   "metadata": {},
   "outputs": [],
   "source": [
    "model = load_model('pitchshift-only-aug-self-supervised-temporal-order--6-14b.hdf5')"
   ]
  },
  {
   "cell_type": "code",
   "execution_count": 114,
   "metadata": {},
   "outputs": [],
   "source": [
    "from azure.storage.blob import BlockBlobService"
   ]
  },
  {
   "cell_type": "code",
   "execution_count": 115,
   "metadata": {},
   "outputs": [],
   "source": [
    "block_blob_service = BlockBlobService(\n",
    "    account_name='videotaggingstorage', account_key='cjA2Qw1hYEX4/RK1q4qhnJx2Rjo8qbCB2IIhfoRuTslENLAetCjA3YlUB876tw1ArLnsWxnJ1bo9ylRaoDSjBg==')"
   ]
  },
  {
   "cell_type": "code",
   "execution_count": 116,
   "metadata": {},
   "outputs": [],
   "source": [
    "def upload_to_blob(block_blob_service, local_dir, container_name):\n",
    "    obj_list = [f for f in Path(local_dir).rglob('*.hdf5')]\n",
    "    \n",
    "    for path_obj in obj_list:\n",
    "        print(path_obj.name)\n",
    "        block_blob_service.create_blob_from_path(\n",
    "            container_name, path_obj.name, str(path_obj))"
   ]
  },
  {
   "cell_type": "code",
   "execution_count": 117,
   "metadata": {},
   "outputs": [
    {
     "name": "stdout",
     "output_type": "stream",
     "text": [
      "self-supervised-temporal-order-2-6-14.hdf5\n",
      "spec-augment-only-aug-self-supervised-temporal-order--6-14b.hdf5\n",
      "spec-augment-only-aug-self-supervised-temporal-order--6-14.hdf5\n",
      "spec-and-pitchshift-aug-self-supervised-temporal-order--6-14.hdf5\n",
      "pitchshift-only-aug-self-supervised-temporal-order--6-14b.hdf5\n",
      "pitchshift-only-aug-self-supervised-temporal-order--6-14.hdf5\n",
      "spec_augment_only_ferry_pretrained_6-14.hdf5\n",
      "spec-and-pitch-augment_ferry_pretrained_6-14.hdf5\n",
      "best_ferry_pretrained_6-7.hdf5\n",
      "best_ferry_pretrained_6-13.hdf5\n",
      "self-supervised-temporal-order6-4.hdf5\n",
      "self-supervised-temporal-order6-4.hdf5\n"
     ]
    }
   ],
   "source": [
    "upload_to_blob(block_blob_service, birds_home, 'models-trained-birdsong')"
   ]
  },
  {
   "cell_type": "code",
   "execution_count": null,
   "metadata": {},
   "outputs": [],
   "source": []
  },
  {
   "cell_type": "code",
   "execution_count": 118,
   "metadata": {},
   "outputs": [],
   "source": [
    "x1 = keras.Input(shape =(cqt_input_shape))\n",
    "x2 = keras.Input(shape =(cqt_input_shape))\n",
    "x3 = keras.Input(shape =(cqt_input_shape))\n",
    "\n",
    "inputs=[x1, x2, x3]"
   ]
  },
  {
   "cell_type": "code",
   "execution_count": 119,
   "metadata": {
    "scrolled": true
   },
   "outputs": [
    {
     "name": "stdout",
     "output_type": "stream",
     "text": [
      "{'input_1': <tensorflow.python.keras.engine.input_layer.InputLayer object at 0x7f19d8228f98>, 'input_2': <tensorflow.python.keras.engine.input_layer.InputLayer object at 0x7f1f1cab7be0>, 'input_3': <tensorflow.python.keras.engine.input_layer.InputLayer object at 0x7f19d82300f0>, 'leaky_re_lu': <tensorflow.python.keras.layers.advanced_activations.LeakyReLU object at 0x7f19d82306d8>, 'leaky_re_lu_5': <tensorflow.python.keras.layers.advanced_activations.LeakyReLU object at 0x7f19d8230a20>, 'leaky_re_lu_10': <tensorflow.python.keras.layers.advanced_activations.LeakyReLU object at 0x7f19d8230c88>, 'conv2d': <tensorflow.python.keras.layers.convolutional.Conv2D object at 0x7f19d8230da0>, 'conv2d_3': <tensorflow.python.keras.layers.convolutional.Conv2D object at 0x7f19d82392b0>, 'conv2d_6': <tensorflow.python.keras.layers.convolutional.Conv2D object at 0x7f19d8239780>, 'dropout': <tensorflow.python.keras.layers.core.Dropout object at 0x7f19d8239c50>, 'dropout_4': <tensorflow.python.keras.layers.core.Dropout object at 0x7f19d8239da0>, 'dropout_8': <tensorflow.python.keras.layers.core.Dropout object at 0x7f19d8239ef0>, 'leaky_re_lu_1': <tensorflow.python.keras.layers.advanced_activations.LeakyReLU object at 0x7f19d823d080>, 'leaky_re_lu_6': <tensorflow.python.keras.layers.advanced_activations.LeakyReLU object at 0x7f19d823d1d0>, 'leaky_re_lu_11': <tensorflow.python.keras.layers.advanced_activations.LeakyReLU object at 0x7f19d823d320>, 'max_pooling2d': <tensorflow.python.keras.layers.pooling.MaxPooling2D object at 0x7f19d823d470>, 'max_pooling2d_2': <tensorflow.python.keras.layers.pooling.MaxPooling2D object at 0x7f19d823d710>, 'max_pooling2d_4': <tensorflow.python.keras.layers.pooling.MaxPooling2D object at 0x7f19d823d9b0>, 'conv2d_1': <tensorflow.python.keras.layers.convolutional.Conv2D object at 0x7f19d823dc50>, 'conv2d_4': <tensorflow.python.keras.layers.convolutional.Conv2D object at 0x7f19d81c2160>, 'conv2d_7': <tensorflow.python.keras.layers.convolutional.Conv2D object at 0x7f19d81c2630>, 'leaky_re_lu_2': <tensorflow.python.keras.layers.advanced_activations.LeakyReLU object at 0x7f19d81c2b00>, 'leaky_re_lu_7': <tensorflow.python.keras.layers.advanced_activations.LeakyReLU object at 0x7f19d81c2c50>, 'leaky_re_lu_12': <tensorflow.python.keras.layers.advanced_activations.LeakyReLU object at 0x7f19d81c2da0>, 'max_pooling2d_1': <tensorflow.python.keras.layers.pooling.MaxPooling2D object at 0x7f19d81c2ef0>, 'max_pooling2d_3': <tensorflow.python.keras.layers.pooling.MaxPooling2D object at 0x7f19d81c81d0>, 'max_pooling2d_5': <tensorflow.python.keras.layers.pooling.MaxPooling2D object at 0x7f19d81c8470>, 'dropout_1': <tensorflow.python.keras.layers.core.Dropout object at 0x7f19d81c8710>, 'dropout_5': <tensorflow.python.keras.layers.core.Dropout object at 0x7f19d81c8860>, 'dropout_9': <tensorflow.python.keras.layers.core.Dropout object at 0x7f19d81c89b0>, 'conv2d_2': <tensorflow.python.keras.layers.convolutional.Conv2D object at 0x7f19d81c8b00>, 'conv2d_5': <tensorflow.python.keras.layers.convolutional.Conv2D object at 0x7f19d81c8fd0>, 'conv2d_8': <tensorflow.python.keras.layers.convolutional.Conv2D object at 0x7f19d81cb4e0>, 'leaky_re_lu_3': <tensorflow.python.keras.layers.advanced_activations.LeakyReLU object at 0x7f19d81cb9b0>, 'leaky_re_lu_8': <tensorflow.python.keras.layers.advanced_activations.LeakyReLU object at 0x7f19d81cbb00>, 'leaky_re_lu_13': <tensorflow.python.keras.layers.advanced_activations.LeakyReLU object at 0x7f19d81cbc50>, 'dropout_2': <tensorflow.python.keras.layers.core.Dropout object at 0x7f19d81cbda0>, 'dropout_6': <tensorflow.python.keras.layers.core.Dropout object at 0x7f19d81cbef0>, 'dropout_10': <tensorflow.python.keras.layers.core.Dropout object at 0x7f19d81d2080>, 'flatten': <tensorflow.python.keras.layers.core.Flatten object at 0x7f19d81d21d0>, 'flatten_1': <tensorflow.python.keras.layers.core.Flatten object at 0x7f19d81d2358>, 'flatten_2': <tensorflow.python.keras.layers.core.Flatten object at 0x7f19d81d24e0>, 'dense': <tensorflow.python.keras.layers.core.Dense object at 0x7f19d81d2668>, 'dense_1': <tensorflow.python.keras.layers.core.Dense object at 0x7f19d81d29b0>, 'dense_2': <tensorflow.python.keras.layers.core.Dense object at 0x7f19d81d2cf8>, 'leaky_re_lu_4': <tensorflow.python.keras.layers.advanced_activations.LeakyReLU object at 0x7f19d81d8080>, 'leaky_re_lu_9': <tensorflow.python.keras.layers.advanced_activations.LeakyReLU object at 0x7f19d81d81d0>, 'leaky_re_lu_14': <tensorflow.python.keras.layers.advanced_activations.LeakyReLU object at 0x7f19d81d8320>, 'dropout_3': <tensorflow.python.keras.layers.core.Dropout object at 0x7f19d81d8470>, 'dropout_7': <tensorflow.python.keras.layers.core.Dropout object at 0x7f19d81d85c0>, 'dropout_11': <tensorflow.python.keras.layers.core.Dropout object at 0x7f19d81d8710>, 'concatenate': <tensorflow.python.keras.layers.merge.Concatenate object at 0x7f19d81d8860>, 'leaky_re_lu_15': <tensorflow.python.keras.layers.advanced_activations.LeakyReLU object at 0x7f19d81d89e8>, 'dense_3': <tensorflow.python.keras.layers.core.Dense object at 0x7f19d81d8ba8>, 'dropout_12': <tensorflow.python.keras.layers.core.Dropout object at 0x7f19d81d8ef0>, 'dense_4': <tensorflow.python.keras.layers.core.Dense object at 0x7f19d81de080>, 'dropout_13': <tensorflow.python.keras.layers.core.Dropout object at 0x7f19d81de400>, 'dense_5': <tensorflow.python.keras.layers.core.Dense object at 0x7f19d81de550>}\n"
     ]
    }
   ],
   "source": [
    "layer_dict = dict([(layer.name, layer) for layer in model.layers])\n",
    "print(layer_dict)"
   ]
  },
  {
   "cell_type": "code",
   "execution_count": 120,
   "metadata": {},
   "outputs": [
    {
     "name": "stdout",
     "output_type": "stream",
     "text": [
      "[]\n",
      "[]\n",
      "[array([[[[-0.01187527,  0.0015317 , -0.00971723, ..., -0.14492604,\n",
      "          -0.03751224,  0.01732554]],\n",
      "\n",
      "        [[ 0.21667589, -0.05901612,  0.04007906, ...,  0.03227997,\n",
      "           0.20189057,  0.00927232]],\n",
      "\n",
      "        [[ 0.06191656,  0.00054594,  0.21008775, ..., -0.10033914,\n",
      "          -0.07373538,  0.02779702]],\n",
      "\n",
      "        ...,\n",
      "\n",
      "        [[-0.04401651,  0.00068354,  0.1430007 , ...,  0.08548132,\n",
      "          -0.04163494,  0.05652876]],\n",
      "\n",
      "        [[-0.0242262 , -0.12977515, -0.11523124, ...,  0.00612659,\n",
      "          -0.09389069, -0.02561852]],\n",
      "\n",
      "        [[-0.23645774, -0.04042454, -0.21882308, ...,  0.17700344,\n",
      "          -0.05074772, -0.02678195]]],\n",
      "\n",
      "\n",
      "       [[[ 0.16934513, -0.00131791,  0.11761586, ...,  0.04723837,\n",
      "          -0.24375889,  0.00275071]],\n",
      "\n",
      "        [[-0.0393817 , -0.06147302, -0.04310208, ..., -0.0199296 ,\n",
      "           0.14527388, -0.08884607]],\n",
      "\n",
      "        [[-0.28020227, -0.03481493,  0.00207788, ..., -0.10853183,\n",
      "          -0.01102869, -0.05332716]],\n",
      "\n",
      "        ...,\n",
      "\n",
      "        [[ 0.00621356, -0.01532328,  0.02874749, ...,  0.00843494,\n",
      "           0.01015898,  0.01575493]],\n",
      "\n",
      "        [[ 0.00598513, -0.13949858, -0.17555705, ...,  0.08649734,\n",
      "          -0.1267954 , -0.07186777]],\n",
      "\n",
      "        [[-0.12066909, -0.00097182, -0.00487827, ...,  0.15111782,\n",
      "           0.20748954,  0.06202063]]],\n",
      "\n",
      "\n",
      "       [[[-0.06738118,  0.12643526,  0.13675204, ...,  0.00790591,\n",
      "          -0.04697373, -0.1138599 ]],\n",
      "\n",
      "        [[ 0.05761722, -0.19701369,  0.1529912 , ...,  0.12108586,\n",
      "           0.14094284,  0.07768911]],\n",
      "\n",
      "        [[-0.12956913,  0.00033308, -0.1475586 , ...,  0.15245737,\n",
      "          -0.02278001,  0.18559636]],\n",
      "\n",
      "        ...,\n",
      "\n",
      "        [[ 0.06549592, -0.06565239,  0.02448376, ...,  0.1445299 ,\n",
      "          -0.19407956, -0.01045814]],\n",
      "\n",
      "        [[-0.03813035,  0.0006257 , -0.09972569, ..., -0.02672153,\n",
      "           0.14286995, -0.01219211]],\n",
      "\n",
      "        [[-0.09501203, -0.04258649, -0.01113654, ...,  0.15750317,\n",
      "           0.17642388, -0.08068935]]],\n",
      "\n",
      "\n",
      "       ...,\n",
      "\n",
      "\n",
      "       [[[ 0.02095816, -0.13318016,  0.00168709, ..., -0.03377749,\n",
      "           0.10219581,  0.0464475 ]],\n",
      "\n",
      "        [[-0.09400804, -0.13839069, -0.0552964 , ..., -0.04314441,\n",
      "           0.08675145,  0.07213204]],\n",
      "\n",
      "        [[ 0.01848686, -0.10278398, -0.06294105, ..., -0.13440888,\n",
      "           0.05617012, -0.07243729]],\n",
      "\n",
      "        ...,\n",
      "\n",
      "        [[-0.14655773,  0.02810127, -0.03816953, ..., -0.02506427,\n",
      "          -0.26732627,  0.19234963]],\n",
      "\n",
      "        [[-0.02871799, -0.00252099,  0.01647577, ..., -0.02896444,\n",
      "           0.06558431, -0.12697005]],\n",
      "\n",
      "        [[-0.2257277 , -0.065339  ,  0.0306758 , ...,  0.02403575,\n",
      "           0.16938436,  0.1339612 ]]],\n",
      "\n",
      "\n",
      "       [[[-0.11545141,  0.02131138,  0.04199323, ...,  0.02487213,\n",
      "           0.1718961 , -0.01100363]],\n",
      "\n",
      "        [[-0.05915572, -0.03936091,  0.09705814, ...,  0.06174573,\n",
      "           0.16359293,  0.0317336 ]],\n",
      "\n",
      "        [[ 0.0777317 ,  0.09378645,  0.0547736 , ...,  0.09769785,\n",
      "           0.17052062, -0.16555268]],\n",
      "\n",
      "        ...,\n",
      "\n",
      "        [[-0.19153832, -0.02224512,  0.21484505, ...,  0.07314906,\n",
      "          -0.05929922, -0.04802489]],\n",
      "\n",
      "        [[-0.01524438,  0.02471209, -0.04087501, ..., -0.03244406,\n",
      "           0.14833865,  0.01328435]],\n",
      "\n",
      "        [[ 0.11570378, -0.0742049 ,  0.09527194, ...,  0.18130635,\n",
      "          -0.06812452, -0.15680973]]],\n",
      "\n",
      "\n",
      "       [[[-0.05468321,  0.05817629, -0.01675552, ...,  0.12605613,\n",
      "          -0.0892427 ,  0.12343619]],\n",
      "\n",
      "        [[ 0.07913907, -0.09576697,  0.01317632, ...,  0.09383041,\n",
      "           0.05266991,  0.03887282]],\n",
      "\n",
      "        [[ 0.23680958, -0.06197461,  0.07889374, ...,  0.03638734,\n",
      "           0.02324231, -0.09814903]],\n",
      "\n",
      "        ...,\n",
      "\n",
      "        [[ 0.09318402,  0.21250959, -0.10167489, ...,  0.08630409,\n",
      "          -0.08307306, -0.08276635]],\n",
      "\n",
      "        [[ 0.07166529,  0.02005366,  0.03027508, ...,  0.01165475,\n",
      "          -0.25332016, -0.01181416]],\n",
      "\n",
      "        [[-0.0670377 , -0.00327669,  0.06449977, ..., -0.10347433,\n",
      "           0.02531213, -0.22173123]]]], dtype=float32), array([ 0.01473711,  0.00062688, -0.00492703, -0.00113565, -0.00389608,\n",
      "        0.00195244, -0.00468595, -0.00295242, -0.00169522, -0.0117272 ,\n",
      "       -0.00739016, -0.0053465 , -0.00241259, -0.00126579,  0.01617547,\n",
      "       -0.0056297 ,  0.00998418, -0.00292829, -0.01100832, -0.00499496,\n",
      "       -0.00484754, -0.00900733, -0.00064425, -0.01295463,  0.00495622,\n",
      "       -0.00195026,  0.00692633, -0.00131915, -0.00491599, -0.00106296,\n",
      "       -0.00275199, -0.00756039,  0.00546267, -0.00131252, -0.00319405,\n",
      "       -0.00532015,  0.0015654 , -0.00481335, -0.00626894,  0.00774272,\n",
      "       -0.00027031,  0.00447604,  0.0165729 ,  0.00613034, -0.00253844,\n",
      "        0.00348804,  0.00403561, -0.00556975, -0.00214252,  0.00274218,\n",
      "       -0.00544102, -0.0045226 ,  0.00365699, -0.00275731, -0.0023326 ,\n",
      "        0.01092721,  0.00421436, -0.00519675, -0.00481066,  0.00790474,\n",
      "        0.00648489, -0.00441194, -0.00587199,  0.00166196,  0.0004687 ,\n",
      "        0.00421146,  0.00349619, -0.0032504 , -0.00446896,  0.00525921,\n",
      "       -0.00014903, -0.00373202, -0.00529316, -0.00176373,  0.01695261,\n",
      "       -0.00437334, -0.0017273 ,  0.00578951, -0.00557361,  0.00153714,\n",
      "       -0.00694118, -0.00053219, -0.00582394, -0.00592419,  0.00651561,\n",
      "       -0.0092253 ,  0.0001211 , -0.00313161,  0.00794028, -0.00960028,\n",
      "       -0.00585734,  0.00667234, -0.00315781,  0.00916758, -0.0069255 ,\n",
      "       -0.00458597, -0.00505002, -0.00387494,  0.01013653, -0.00224791,\n",
      "        0.00803036, -0.0015173 , -0.00583653,  0.00392575, -0.00452383,\n",
      "       -0.00524401,  0.00621647, -0.00498369, -0.00349716, -0.00007796,\n",
      "       -0.00570182, -0.00196434,  0.0183871 ,  0.02161472, -0.00706333,\n",
      "       -0.00932439, -0.00114241,  0.00278245, -0.00436518,  0.00278497,\n",
      "       -0.00427554, -0.00408362, -0.00108998,  0.01372637, -0.00700489,\n",
      "       -0.00961336, -0.00907866, -0.00418464], dtype=float32)]\n",
      "[]\n",
      "[]\n",
      "[]\n",
      "[array([[[[-0.00503672, -0.02385883, -0.00491539, ..., -0.0023348 ,\n",
      "          -0.01355889, -0.02628969],\n",
      "         [ 0.00265807, -0.02018247, -0.00032081, ...,  0.00461708,\n",
      "          -0.00069641, -0.00385457],\n",
      "         [ 0.01994732,  0.00299301,  0.01028   , ...,  0.00161911,\n",
      "          -0.00195948,  0.03718288],\n",
      "         ...,\n",
      "         [-0.00798164, -0.02111218,  0.00151468, ..., -0.00725943,\n",
      "           0.01456724,  0.0097015 ],\n",
      "         [-0.0159472 ,  0.01374584,  0.01512773, ...,  0.0048574 ,\n",
      "           0.01190209,  0.02107164],\n",
      "         [-0.00526733,  0.01412698,  0.00427059, ...,  0.00142145,\n",
      "           0.00015566,  0.00330675]],\n",
      "\n",
      "        [[-0.02087711, -0.00824821,  0.00085351, ...,  0.01574866,\n",
      "           0.0207747 ,  0.01375355],\n",
      "         [-0.00001831, -0.00836053, -0.00152454, ...,  0.00317319,\n",
      "          -0.00869071,  0.00341553],\n",
      "         [-0.01799656, -0.03426444,  0.01549574, ...,  0.0001552 ,\n",
      "           0.00060166,  0.01044581],\n",
      "         ...,\n",
      "         [-0.00385549, -0.01449658,  0.00783313, ..., -0.00709236,\n",
      "          -0.00107185,  0.02400717],\n",
      "         [ 0.0056007 ,  0.00973705,  0.00521614, ...,  0.02959105,\n",
      "           0.00677661,  0.01158568],\n",
      "         [-0.01301392, -0.0001383 ,  0.02404726, ..., -0.00151361,\n",
      "           0.00305904,  0.0037081 ]],\n",
      "\n",
      "        [[-0.03028762, -0.03010915, -0.00835354, ..., -0.01320607,\n",
      "          -0.00615116, -0.00167903],\n",
      "         [ 0.00025475,  0.01972864, -0.00630387, ..., -0.00359573,\n",
      "          -0.0011221 , -0.00181735],\n",
      "         [-0.00153741, -0.01489904,  0.00017989, ...,  0.00460386,\n",
      "           0.0046442 ,  0.00660053],\n",
      "         ...,\n",
      "         [ 0.00123285, -0.01086604,  0.00325038, ..., -0.00943472,\n",
      "           0.02354955,  0.0252997 ],\n",
      "         [ 0.0058007 ,  0.01728754,  0.00407035, ...,  0.01984597,\n",
      "           0.01700501,  0.00622348],\n",
      "         [-0.00047637,  0.00280421, -0.00121923, ..., -0.00534477,\n",
      "           0.00029362, -0.00679906]]],\n",
      "\n",
      "\n",
      "       [[[ 0.01292956, -0.00006296, -0.00966486, ...,  0.00451989,\n",
      "           0.00856318,  0.00928571],\n",
      "         [ 0.003343  , -0.00504255,  0.00265919, ...,  0.00489514,\n",
      "           0.00672482, -0.00872371],\n",
      "         [ 0.02402182, -0.01848674,  0.00277719, ...,  0.00504155,\n",
      "           0.00221513,  0.00976572],\n",
      "         ...,\n",
      "         [ 0.0066031 , -0.02372409,  0.00641126, ...,  0.01413119,\n",
      "           0.02385237, -0.00608778],\n",
      "         [-0.00554352, -0.00887658,  0.02585331, ...,  0.00700524,\n",
      "           0.01184156,  0.01215879],\n",
      "         [ 0.00440985, -0.02101942,  0.00404637, ...,  0.00200761,\n",
      "           0.00781613,  0.02109872]],\n",
      "\n",
      "        [[ 0.00363022,  0.01647392,  0.00224101, ..., -0.01524974,\n",
      "           0.00120972,  0.00448831],\n",
      "         [ 0.00802223, -0.01149286,  0.00021673, ...,  0.00096629,\n",
      "          -0.00560543, -0.01129833],\n",
      "         [ 0.02141107, -0.02117208, -0.003535  , ...,  0.00338027,\n",
      "          -0.00546629,  0.0172895 ],\n",
      "         ...,\n",
      "         [-0.01246329, -0.00119883, -0.00001318, ...,  0.02599839,\n",
      "           0.00662685,  0.01750108],\n",
      "         [ 0.02409772,  0.03501961, -0.01463928, ...,  0.00188258,\n",
      "           0.01099564,  0.0063174 ],\n",
      "         [-0.00324866, -0.00462226,  0.00352313, ...,  0.00177868,\n",
      "          -0.00354646,  0.02185821]],\n",
      "\n",
      "        [[-0.00573198, -0.01437784, -0.01920989, ..., -0.00434305,\n",
      "          -0.00623273,  0.01494943],\n",
      "         [-0.00110995, -0.00752408,  0.00126259, ...,  0.00038662,\n",
      "          -0.00125449, -0.00449171],\n",
      "         [ 0.01208015, -0.00319217,  0.00326329, ..., -0.00333104,\n",
      "          -0.00088679,  0.0310332 ],\n",
      "         ...,\n",
      "         [ 0.01576898, -0.02803771,  0.0204518 , ..., -0.00545551,\n",
      "          -0.00654489,  0.01448353],\n",
      "         [ 0.02393844, -0.00915146,  0.00104567, ..., -0.00731911,\n",
      "           0.01185709,  0.00184084],\n",
      "         [-0.00087616,  0.00075215,  0.0074824 , ..., -0.01654328,\n",
      "          -0.00674763,  0.01208588]]],\n",
      "\n",
      "\n",
      "       [[[-0.02254702,  0.0014503 , -0.00229419, ...,  0.0257839 ,\n",
      "          -0.00237262, -0.02435119],\n",
      "         [ 0.0019893 ,  0.00468879,  0.00625606, ..., -0.00739152,\n",
      "          -0.00270403, -0.02062141],\n",
      "         [ 0.01482155, -0.00175622, -0.00613007, ...,  0.00375275,\n",
      "           0.00294923, -0.00507888],\n",
      "         ...,\n",
      "         [ 0.00731158, -0.00396442,  0.01818209, ...,  0.02985181,\n",
      "           0.0012059 ,  0.01363555],\n",
      "         [ 0.00601119, -0.02201419,  0.00965484, ...,  0.02186925,\n",
      "           0.01759326,  0.02394101],\n",
      "         [ 0.01020077, -0.01955101, -0.00220792, ...,  0.00207828,\n",
      "           0.00580786,  0.01316877]],\n",
      "\n",
      "        [[ 0.00683492,  0.02516017, -0.01389713, ...,  0.00959952,\n",
      "           0.00618799, -0.00140184],\n",
      "         [-0.00116436, -0.00380196, -0.01255938, ..., -0.00103159,\n",
      "          -0.00475373,  0.01650518],\n",
      "         [ 0.00241538, -0.0002848 ,  0.00114527, ..., -0.00789563,\n",
      "          -0.0072156 ,  0.00256675],\n",
      "         ...,\n",
      "         [-0.00737616, -0.00532675,  0.00596887, ..., -0.01655936,\n",
      "           0.00782818,  0.03432062],\n",
      "         [-0.02692821, -0.03528816, -0.00737103, ..., -0.0004729 ,\n",
      "           0.00402377,  0.02544576],\n",
      "         [ 0.01849123, -0.01645768, -0.00207881, ...,  0.002348  ,\n",
      "           0.01517292,  0.01760183]],\n",
      "\n",
      "        [[-0.02413794, -0.00596897, -0.01203256, ...,  0.02435289,\n",
      "           0.01461738, -0.00194363],\n",
      "         [-0.00726249, -0.01452449,  0.00091515, ...,  0.00472789,\n",
      "          -0.01007551, -0.00385069],\n",
      "         [ 0.01680951,  0.01040393,  0.00237984, ...,  0.00594942,\n",
      "           0.00702614, -0.01721324],\n",
      "         ...,\n",
      "         [ 0.00459851, -0.02362948,  0.00679336, ...,  0.01051973,\n",
      "           0.00367162, -0.01561863],\n",
      "         [ 0.00372415, -0.01940825,  0.00998081, ...,  0.01356838,\n",
      "          -0.00940852,  0.00315249],\n",
      "         [ 0.02106138, -0.02254565,  0.00170798, ..., -0.01215113,\n",
      "          -0.00347448,  0.0191022 ]]]], dtype=float32), array([-0.01152584,  0.00027083, -0.0140936 ,  0.00327277, -0.00887781,\n",
      "       -0.00169097,  0.00408102, -0.00468086,  0.00341826, -0.00626201,\n",
      "       -0.00182623,  0.00297117, -0.01121692, -0.00364623, -0.00607973,\n",
      "       -0.00801541, -0.00751005, -0.00658631, -0.00602066,  0.0029011 ,\n",
      "       -0.00350834,  0.00097364, -0.0057832 , -0.00190663, -0.00098538,\n",
      "        0.00644058, -0.00202573, -0.00433747, -0.00093234,  0.00054125,\n",
      "       -0.0039566 , -0.00340401,  0.00176329,  0.001195  , -0.00727333,\n",
      "        0.0079895 ,  0.00538931, -0.00359124, -0.00960317,  0.00007125,\n",
      "       -0.00200367, -0.00341853, -0.0020192 ,  0.00347019, -0.00932757,\n",
      "        0.00037743,  0.00221748,  0.00404392,  0.00620238,  0.00068748,\n",
      "       -0.00568725, -0.00114245, -0.0052073 , -0.00398101,  0.00526295,\n",
      "       -0.00166722, -0.00101155, -0.00648019, -0.00332403,  0.00283843,\n",
      "       -0.00084712,  0.00856952, -0.00309757, -0.0046552 , -0.00050209,\n",
      "       -0.00410754,  0.00171119, -0.0082147 ,  0.00881841, -0.00822906,\n",
      "       -0.00190367,  0.00553608, -0.01065778,  0.0018803 , -0.00148063,\n",
      "        0.00406885,  0.00449431,  0.00211448, -0.00381876, -0.00040006,\n",
      "        0.00551531,  0.00889509,  0.00156391, -0.00202455, -0.00758107,\n",
      "       -0.00953062,  0.00009913, -0.00156994,  0.00218157,  0.01257581,\n",
      "        0.00548868, -0.01382167, -0.00895808, -0.00441481, -0.00936915,\n",
      "       -0.00197189,  0.00116009, -0.0050184 , -0.00647809, -0.00018152,\n",
      "       -0.00781469, -0.00326995, -0.00047862, -0.00992217, -0.01073398,\n",
      "        0.00783369,  0.00315581, -0.00131997, -0.01053646,  0.00040383,\n",
      "        0.00258445, -0.00344999, -0.01255449, -0.00866329, -0.01036633,\n",
      "        0.00077354, -0.00482092, -0.00809672, -0.01447835, -0.01101767,\n",
      "       -0.00620075, -0.00478031, -0.00193878,  0.00816498, -0.00658751,\n",
      "       -0.00902033, -0.01096377, -0.01063718], dtype=float32)]\n",
      "[]\n",
      "[]\n",
      "[]\n"
     ]
    },
    {
     "name": "stdout",
     "output_type": "stream",
     "text": [
      "[array([[[[-0.01599342,  0.00067686,  0.0036152 , ..., -0.01147386,\n",
      "          -0.0277785 , -0.01872135],\n",
      "         [ 0.03561383, -0.01965191, -0.02688682, ...,  0.00612356,\n",
      "           0.00434216, -0.01330854],\n",
      "         [ 0.02161324, -0.00183436,  0.00039313, ...,  0.01732191,\n",
      "          -0.00216664,  0.00510495],\n",
      "         ...,\n",
      "         [ 0.01008879,  0.00266671,  0.00308265, ...,  0.00008631,\n",
      "          -0.00620653, -0.00819741],\n",
      "         [-0.00475123, -0.01663374,  0.00530455, ...,  0.01985906,\n",
      "          -0.00733853, -0.00224754],\n",
      "         [-0.00569526, -0.01095667, -0.00376856, ...,  0.01038977,\n",
      "          -0.00776789,  0.0223318 ]],\n",
      "\n",
      "        [[ 0.00302485, -0.01445616,  0.02892959, ..., -0.00668708,\n",
      "          -0.00530695,  0.00357842],\n",
      "         [-0.00667773,  0.01320624, -0.01056745, ..., -0.03142536,\n",
      "           0.0177921 , -0.00074988],\n",
      "         [ 0.0014389 , -0.00301497,  0.00970078, ..., -0.0138653 ,\n",
      "          -0.00820416,  0.00244349],\n",
      "         ...,\n",
      "         [-0.00028181, -0.0003063 , -0.00411269, ...,  0.02220699,\n",
      "           0.00748747, -0.0000021 ],\n",
      "         [-0.02596415, -0.00538947, -0.0028376 , ..., -0.00647686,\n",
      "          -0.00179212, -0.00720277],\n",
      "         [ 0.01498877, -0.0043224 ,  0.00175802, ...,  0.00601419,\n",
      "          -0.00488034,  0.01640183]],\n",
      "\n",
      "        [[ 0.02165801, -0.00994607,  0.00417324, ..., -0.01519789,\n",
      "           0.01838762,  0.01991981],\n",
      "         [-0.00538365,  0.04312446, -0.00771866, ...,  0.00792556,\n",
      "          -0.00446203,  0.00344282],\n",
      "         [-0.00557518, -0.00184526,  0.00144313, ..., -0.02225609,\n",
      "          -0.00251118,  0.006323  ],\n",
      "         ...,\n",
      "         [-0.01873481, -0.01143858, -0.01134536, ..., -0.02709932,\n",
      "           0.01337935, -0.01757036],\n",
      "         [-0.00354411, -0.00732955,  0.01156308, ..., -0.00869182,\n",
      "           0.01330035,  0.00256727],\n",
      "         [ 0.00736649, -0.02715765, -0.00592815, ...,  0.01826255,\n",
      "           0.00754958,  0.02071174]]],\n",
      "\n",
      "\n",
      "       [[[-0.00227601,  0.01010565,  0.00063844, ..., -0.0000955 ,\n",
      "           0.00440005,  0.00648523],\n",
      "         [ 0.00794969,  0.02324985,  0.00853149, ..., -0.02550008,\n",
      "          -0.03446648, -0.00622719],\n",
      "         [ 0.00593725,  0.01220594,  0.00320805, ...,  0.00273622,\n",
      "           0.00586782, -0.00125549],\n",
      "         ...,\n",
      "         [ 0.00983509, -0.00087828,  0.0001789 , ..., -0.01407242,\n",
      "          -0.00813316, -0.00348579],\n",
      "         [ 0.00306283,  0.00304342, -0.00356002, ...,  0.00794545,\n",
      "          -0.00810374, -0.00078282],\n",
      "         [ 0.00961625,  0.01626683,  0.0177989 , ...,  0.00819037,\n",
      "           0.00822161, -0.00284406]],\n",
      "\n",
      "        [[-0.01030196, -0.00862525, -0.0081414 , ..., -0.01516923,\n",
      "           0.00778745,  0.01748493],\n",
      "         [ 0.00177528,  0.01996667,  0.01943612, ..., -0.00604959,\n",
      "          -0.01784844,  0.0094497 ],\n",
      "         [ 0.01567635,  0.00087428,  0.00666786, ..., -0.00028616,\n",
      "           0.01189885, -0.01950084],\n",
      "         ...,\n",
      "         [ 0.01102567, -0.01820155, -0.00835682, ...,  0.02192902,\n",
      "           0.00015505,  0.00173481],\n",
      "         [ 0.00889673, -0.01762695, -0.00768407, ..., -0.01699273,\n",
      "           0.0015979 , -0.0013901 ],\n",
      "         [ 0.02088616,  0.00123921,  0.00076782, ..., -0.00983428,\n",
      "           0.00316583,  0.00869542]],\n",
      "\n",
      "        [[-0.00235474, -0.00910976,  0.01260665, ...,  0.00427932,\n",
      "           0.03132782,  0.01599902],\n",
      "         [ 0.03233586,  0.02231403,  0.00610121, ...,  0.00117339,\n",
      "          -0.00392466,  0.00692676],\n",
      "         [-0.01224846,  0.00940801, -0.00275626, ..., -0.00363769,\n",
      "          -0.00862822, -0.00151438],\n",
      "         ...,\n",
      "         [-0.02032212, -0.00814634,  0.00273473, ...,  0.03248074,\n",
      "           0.00019871, -0.001408  ],\n",
      "         [ 0.00313236, -0.01145155,  0.00349883, ...,  0.00894067,\n",
      "           0.00642445,  0.00510805],\n",
      "         [-0.01803014, -0.01063873,  0.00293012, ...,  0.00622951,\n",
      "           0.00979537, -0.00073826]]],\n",
      "\n",
      "\n",
      "       [[[ 0.01909618,  0.0191878 , -0.0002673 , ...,  0.02101237,\n",
      "           0.00068226,  0.008922  ],\n",
      "         [ 0.00328796, -0.01025879, -0.00365751, ...,  0.00375414,\n",
      "          -0.00032999, -0.01979576],\n",
      "         [ 0.01364878, -0.00755967,  0.00299675, ..., -0.02887328,\n",
      "           0.01206282,  0.00254948],\n",
      "         ...,\n",
      "         [ 0.01796952, -0.02185399, -0.00271663, ...,  0.01574098,\n",
      "          -0.01316146,  0.00323547],\n",
      "         [ 0.01683334, -0.00675   ,  0.0051221 , ..., -0.02006001,\n",
      "           0.00865797,  0.00001476],\n",
      "         [ 0.02241994,  0.02495761, -0.00270418, ...,  0.02506071,\n",
      "          -0.01225273, -0.00827195]],\n",
      "\n",
      "        [[ 0.001551  , -0.00359565,  0.004229  , ...,  0.00224493,\n",
      "           0.01485327,  0.00527168],\n",
      "         [-0.00728931,  0.00105066,  0.01603178, ..., -0.02519612,\n",
      "          -0.02351672, -0.00278959],\n",
      "         [-0.01182595,  0.00817257,  0.00095673, ..., -0.0055562 ,\n",
      "           0.01135417, -0.00058707],\n",
      "         ...,\n",
      "         [ 0.01729554, -0.01029796, -0.00094974, ...,  0.00550486,\n",
      "           0.00646324,  0.00544282],\n",
      "         [-0.01447738,  0.01382408, -0.00277663, ...,  0.01138771,\n",
      "          -0.01322456, -0.00721608],\n",
      "         [ 0.00782059, -0.00072057,  0.01114469, ...,  0.03964805,\n",
      "          -0.02712524, -0.01731915]],\n",
      "\n",
      "        [[-0.00403059, -0.00631846, -0.00848803, ..., -0.00276353,\n",
      "           0.00522563,  0.00597558],\n",
      "         [-0.00721089, -0.00393394,  0.01341878, ...,  0.00424614,\n",
      "           0.02589431, -0.00831892],\n",
      "         [-0.02813586, -0.00255485,  0.00763044, ...,  0.00733238,\n",
      "           0.00250824,  0.01234994],\n",
      "         ...,\n",
      "         [ 0.03048024, -0.00371535,  0.00403402, ..., -0.01954491,\n",
      "           0.00841631,  0.02652485],\n",
      "         [-0.00165383, -0.00288609,  0.0003131 , ..., -0.0017529 ,\n",
      "           0.00348348,  0.01765812],\n",
      "         [ 0.02014449, -0.00139634, -0.00934024, ...,  0.02800103,\n",
      "          -0.00151272, -0.00473802]]]], dtype=float32), array([-0.00460549, -0.00223123, -0.00715014,  0.01205563,  0.00042259,\n",
      "        0.00835822, -0.00098211,  0.01177983, -0.01331447,  0.00512316,\n",
      "        0.01399676,  0.00774349, -0.00545508, -0.00077893,  0.00320903,\n",
      "       -0.01156358, -0.01291213, -0.00924864,  0.00062357, -0.00686198,\n",
      "        0.00134723, -0.01110036, -0.00112828, -0.00908646,  0.00189952,\n",
      "       -0.00600357, -0.0111352 , -0.00330064, -0.01477259, -0.00742073,\n",
      "        0.00071964,  0.00099912, -0.00780454,  0.00141337,  0.00163852,\n",
      "        0.00291055, -0.01358349,  0.00120608, -0.01321999, -0.00508875,\n",
      "       -0.00440594, -0.01075799, -0.00425097, -0.00318544, -0.0087272 ,\n",
      "       -0.00401341,  0.01030221, -0.0035418 ,  0.00003971,  0.00765439,\n",
      "        0.00176521, -0.00099393, -0.00241888,  0.002151  , -0.0019698 ,\n",
      "       -0.00948366, -0.00053388, -0.00138744, -0.00684952,  0.00476206,\n",
      "       -0.00983794,  0.0020228 , -0.00863965, -0.01064407, -0.00245457,\n",
      "       -0.00727477, -0.00837585, -0.01605125, -0.01041413, -0.00322579,\n",
      "       -0.0079619 , -0.00876268, -0.00327229, -0.00093671, -0.00546879,\n",
      "       -0.0055611 , -0.00732983, -0.00601217, -0.00501122, -0.00126839,\n",
      "       -0.00518253, -0.01094709, -0.00362483,  0.00199454,  0.00064053,\n",
      "       -0.0093206 ,  0.00004226,  0.00147713, -0.00426203, -0.00223568,\n",
      "        0.00386355, -0.01039443,  0.00037414,  0.00806226, -0.00292137,\n",
      "       -0.01570758, -0.00502992, -0.00134378,  0.00001029,  0.00694111,\n",
      "       -0.01316533, -0.00536277, -0.00564281, -0.00459915, -0.00323518,\n",
      "       -0.0129315 , -0.00647662, -0.00653417, -0.01474287, -0.00553356,\n",
      "       -0.0153991 ,  0.00958084, -0.00445065, -0.00316154, -0.00059028,\n",
      "        0.00903331, -0.00052617, -0.00198572, -0.00149585, -0.00983057,\n",
      "       -0.00632735,  0.00734767, -0.0088068 , -0.00329601, -0.0025133 ,\n",
      "       -0.00022046, -0.00505605,  0.00044149, -0.01197186,  0.00079706,\n",
      "       -0.00229739,  0.00005724, -0.00378719, -0.00848053,  0.00168663,\n",
      "       -0.00720524, -0.00997009, -0.0048856 , -0.00117528, -0.00271838,\n",
      "        0.0011123 , -0.00040363,  0.00373057, -0.00317306, -0.00114672,\n",
      "       -0.00803195,  0.00079638,  0.00196746, -0.00353763, -0.01264952,\n",
      "        0.00321973, -0.00412143,  0.00587283, -0.00030565, -0.00813438,\n",
      "       -0.00652201,  0.00530639, -0.00096153,  0.00335216, -0.00882276,\n",
      "       -0.00888578, -0.00082383, -0.00072396, -0.00025559, -0.01063906,\n",
      "       -0.00801918, -0.00857302, -0.00039133, -0.00244719, -0.0065679 ,\n",
      "        0.00371415, -0.00880462, -0.00464915, -0.00796774, -0.00078175,\n",
      "       -0.00674097, -0.00495926, -0.00187095,  0.00349485, -0.01063786,\n",
      "       -0.00058971, -0.00978148,  0.00236649, -0.00690672, -0.00704387,\n",
      "       -0.00438319,  0.00536884, -0.00368757, -0.00836576, -0.00412835,\n",
      "       -0.00492544, -0.00086521, -0.00566144, -0.00188009,  0.00070318,\n",
      "       -0.01430217,  0.00869762, -0.00759503, -0.00139438, -0.00608836,\n",
      "       -0.01370199,  0.00890302, -0.00589885,  0.00129479, -0.00049638,\n",
      "       -0.00192469, -0.01405203, -0.00350392,  0.00058503, -0.00595256,\n",
      "       -0.00764844, -0.0016657 ,  0.00137887, -0.00209525, -0.00716875,\n",
      "       -0.00491553, -0.00755117, -0.00524021, -0.01322103, -0.00338206,\n",
      "       -0.00172793, -0.0032271 ,  0.00349199, -0.00068209,  0.0042345 ,\n",
      "        0.00001611, -0.00493203, -0.00897312, -0.00575095,  0.00113502,\n",
      "       -0.00318412, -0.00110733, -0.00363764, -0.01006361,  0.00312747,\n",
      "       -0.01259007, -0.0022288 ,  0.00249677, -0.01537227,  0.00658603,\n",
      "       -0.00872077,  0.00417908, -0.00513789, -0.01095401,  0.00060616,\n",
      "       -0.003338  , -0.00228209, -0.00137909, -0.00602638, -0.00295834,\n",
      "        0.00388979, -0.00522946, -0.00040392,  0.00519567, -0.00948887,\n",
      "       -0.00018895], dtype=float32)]\n",
      "[]\n",
      "[]\n",
      "[]\n"
     ]
    },
    {
     "name": "stdout",
     "output_type": "stream",
     "text": [
      "[array([[-0.00001867,  0.00055899, -0.00003944, ...,  0.00158701,\n",
      "         0.00003364,  0.00184311],\n",
      "       [ 0.00000861, -0.00024103, -0.00001001, ..., -0.00028929,\n",
      "         0.00099949, -0.00253383],\n",
      "       [ 0.00001054, -0.00099561, -0.00000389, ...,  0.0019875 ,\n",
      "        -0.00093252,  0.00015174],\n",
      "       ...,\n",
      "       [ 0.00003865,  0.00272038, -0.00001474, ...,  0.00017757,\n",
      "        -0.00144057, -0.00147765],\n",
      "       [ 0.00000009,  0.00165917, -0.00000739, ...,  0.00058494,\n",
      "         0.00304537, -0.00449157],\n",
      "       [ 0.00001905,  0.00263562, -0.00000612, ..., -0.00204893,\n",
      "         0.00165833, -0.00085228]], dtype=float32), array([-0.00718573,  0.00069931, -0.0051023 , -0.0005026 , -0.00330259,\n",
      "        0.00230933, -0.00030487,  0.00166708,  0.00167959,  0.00053663,\n",
      "       -0.00368893, -0.00254991, -0.0036014 ,  0.00089336, -0.0038317 ,\n",
      "       -0.00646718,  0.00153521,  0.00024763, -0.00282498,  0.00919031,\n",
      "       -0.00008842, -0.00702026,  0.00249554, -0.01124838, -0.00810196,\n",
      "       -0.00406485, -0.00296413,  0.00346309, -0.00156495,  0.00332985,\n",
      "       -0.00719497, -0.00506121, -0.00772923,  0.00028883, -0.00064642,\n",
      "       -0.00214333,  0.00327737, -0.00292039,  0.0045547 , -0.00273655,\n",
      "        0.00097879, -0.0015144 ,  0.00342343, -0.00176301, -0.0090567 ,\n",
      "       -0.00204823,  0.00474794, -0.00899835,  0.00250761, -0.00378259,\n",
      "       -0.00699678, -0.00368562, -0.00151123, -0.00095696, -0.00018501,\n",
      "       -0.00837883,  0.00489679,  0.00033005,  0.00517115, -0.00169199,\n",
      "        0.00170805,  0.00210984, -0.0016277 , -0.00078207, -0.00553054,\n",
      "        0.00129289,  0.0011213 , -0.00114729, -0.00699113, -0.00290354,\n",
      "        0.0050343 ,  0.00114702, -0.00086749, -0.00794948, -0.00354709,\n",
      "       -0.00977231, -0.00590744, -0.00045678, -0.00226948,  0.00356936,\n",
      "       -0.00014897, -0.0005176 , -0.00049696, -0.00580675, -0.00362209,\n",
      "        0.00065372,  0.00740785,  0.00106424,  0.00346761,  0.00193137,\n",
      "        0.00250517, -0.00658462,  0.00327142, -0.0016721 ,  0.00666004,\n",
      "        0.00363758, -0.00323422,  0.006655  , -0.00220514, -0.00078906,\n",
      "       -0.00159963, -0.00419192, -0.00134035,  0.00227139, -0.00052873,\n",
      "       -0.00422985,  0.00107602,  0.00029591, -0.00375958, -0.0022718 ,\n",
      "       -0.00405028,  0.00232095,  0.00445696,  0.00496751,  0.00217247,\n",
      "        0.00176476, -0.00416886, -0.00481661, -0.00458382, -0.00697425,\n",
      "       -0.00574121,  0.00230405,  0.00581214,  0.00001823, -0.0065038 ,\n",
      "        0.00041949,  0.00254576, -0.00201844,  0.00358502,  0.00792785,\n",
      "       -0.00163969,  0.00244468, -0.00294202, -0.00062239,  0.0030489 ,\n",
      "        0.00479828,  0.00456138, -0.00485979, -0.00844021,  0.00294075,\n",
      "       -0.01033989, -0.00373348,  0.00206194,  0.00743513, -0.00238563,\n",
      "       -0.00318101, -0.0013772 , -0.01020468, -0.00344379, -0.00489567,\n",
      "       -0.0032631 , -0.00221324,  0.00331258, -0.00442955,  0.00151696,\n",
      "       -0.00515515, -0.00211484, -0.00377367, -0.0041454 , -0.00086721,\n",
      "        0.00427715, -0.0052046 , -0.00196037, -0.00619857,  0.00017619,\n",
      "       -0.00384199,  0.00285663, -0.00014306,  0.0001716 , -0.001709  ,\n",
      "        0.00256397,  0.00237728,  0.00045989,  0.00268324, -0.00520463,\n",
      "       -0.00177209,  0.00262182,  0.00254396,  0.00046618,  0.00067556,\n",
      "       -0.00202082,  0.00201398, -0.00221845, -0.00055588, -0.00351354,\n",
      "        0.00399608,  0.00094636, -0.00165876,  0.00062328, -0.00276737,\n",
      "       -0.00675708, -0.0025524 ,  0.00156968, -0.0011084 ,  0.01064674,\n",
      "       -0.00678054,  0.00281856, -0.00133065, -0.00989034, -0.00671677,\n",
      "       -0.00025099, -0.00815164,  0.00525008, -0.00226459, -0.0001413 ,\n",
      "       -0.00111097,  0.00387196, -0.00524299,  0.0047281 ,  0.00392998,\n",
      "        0.00601214, -0.00514548,  0.00312598, -0.00780547, -0.00042723,\n",
      "       -0.00539168, -0.00451506,  0.00136331, -0.00166864,  0.00120969,\n",
      "        0.00126787, -0.00679696, -0.00179773, -0.00009169, -0.00165437,\n",
      "       -0.00043827,  0.00329891,  0.0027409 ,  0.00499409,  0.00138112,\n",
      "       -0.0088958 , -0.00110289,  0.0018751 , -0.00273164,  0.00446175,\n",
      "        0.00139569,  0.00155032, -0.00066442,  0.01113664, -0.00250611,\n",
      "       -0.00078376, -0.00280202,  0.000166  ,  0.00090984, -0.00257815,\n",
      "        0.00085875, -0.00435161, -0.00222543, -0.00472391,  0.00257208,\n",
      "        0.00463161, -0.00302428,  0.00457858, -0.00003401, -0.00773601,\n",
      "       -0.00186864, -0.00017109,  0.00428087,  0.0002707 , -0.00272474,\n",
      "        0.00155173, -0.00050218,  0.00258359, -0.0029672 , -0.00169625,\n",
      "        0.00320843,  0.00400515, -0.00009626,  0.00420722, -0.00060407,\n",
      "       -0.00737132,  0.00238071, -0.000548  , -0.00149206, -0.00505128,\n",
      "       -0.0003333 , -0.00446077, -0.00648578, -0.00013027, -0.00493035,\n",
      "        0.00531131, -0.00014419,  0.00559888, -0.00618025,  0.00447827,\n",
      "        0.00030469, -0.00435924, -0.00263674, -0.00034624,  0.00096746,\n",
      "        0.00069289, -0.00887454,  0.00144273, -0.0015781 , -0.00065969,\n",
      "        0.00068089, -0.00002962, -0.0025366 ,  0.00305789, -0.00413046,\n",
      "       -0.00036432, -0.00331511, -0.00240755, -0.00531085, -0.00213923,\n",
      "        0.00027081, -0.00111414,  0.00044163, -0.00915267, -0.00718226,\n",
      "       -0.00406501, -0.00377816, -0.00992124, -0.00316511, -0.00006623,\n",
      "       -0.0016756 , -0.0054095 ,  0.00044402, -0.00854928,  0.00362587,\n",
      "        0.00805426, -0.00407502,  0.00146584,  0.0048007 ,  0.00404292,\n",
      "       -0.00406006,  0.00294101, -0.00117009,  0.00165716,  0.00952379,\n",
      "       -0.0018876 ,  0.00508669, -0.00522382, -0.00371762, -0.00061142,\n",
      "       -0.00225445,  0.00006058, -0.00305353, -0.00107813,  0.01035381,\n",
      "        0.00096061,  0.00115026, -0.00379272, -0.00121137, -0.00190099,\n",
      "       -0.00673645, -0.00798964, -0.00352975, -0.00040121, -0.00270866,\n",
      "       -0.00300412,  0.00019964,  0.00332268, -0.00182533, -0.00501369,\n",
      "       -0.00709015, -0.00339693, -0.00684368,  0.00101554,  0.00076245,\n",
      "       -0.0045832 , -0.00841014,  0.00007316, -0.00063086, -0.00867185,\n",
      "       -0.00435892, -0.00606985,  0.00254241,  0.00758247, -0.00379191,\n",
      "       -0.00051906, -0.00115456,  0.00205136, -0.00116788,  0.0026706 ,\n",
      "        0.00138645, -0.00156841,  0.00128699, -0.00024038,  0.00001189,\n",
      "       -0.00474206,  0.00263711,  0.00092766,  0.00176454, -0.00227975,\n",
      "       -0.00585611, -0.00669987,  0.0046847 ,  0.00000372,  0.00451355,\n",
      "        0.00382468,  0.00055757,  0.0058262 , -0.00842506,  0.00544838,\n",
      "        0.00043085, -0.0053941 ,  0.00738389, -0.00139491, -0.00472131,\n",
      "        0.00083626, -0.00063942,  0.00216746,  0.00031964, -0.00495232,\n",
      "        0.00223932, -0.00181427,  0.00101408,  0.00014638,  0.01208313,\n",
      "        0.00022443, -0.00364215,  0.00021774,  0.01056242,  0.00039672,\n",
      "       -0.00251418,  0.0038283 , -0.00270677, -0.0025569 ,  0.00296414,\n",
      "       -0.00109084, -0.00445266, -0.00030845,  0.00532222,  0.00268969,\n",
      "        0.00245191,  0.00122257,  0.0014153 , -0.00158089, -0.0055003 ,\n",
      "       -0.00617348, -0.00198412, -0.00289932,  0.00012805,  0.0012684 ,\n",
      "       -0.00141068, -0.00444291, -0.00322101, -0.0054112 ,  0.00012399,\n",
      "       -0.00068762, -0.00261299,  0.00087192,  0.00136973,  0.00308212,\n",
      "        0.00399355,  0.00031538, -0.00514546, -0.00495391,  0.00087427,\n",
      "       -0.00037291,  0.00831588,  0.004747  , -0.01020436, -0.00020839,\n",
      "       -0.00136789, -0.00143966, -0.00285828,  0.00192772,  0.00530067,\n",
      "       -0.00021782, -0.00084193,  0.00040391, -0.00100059, -0.00304827,\n",
      "       -0.00025812, -0.00076065,  0.00466208,  0.003165  , -0.00639878,\n",
      "       -0.00625278, -0.00571227,  0.00227734, -0.00146856, -0.00193873,\n",
      "       -0.00941397,  0.00412846,  0.00172089, -0.00567118, -0.0018264 ,\n",
      "        0.00280647, -0.00516715, -0.00389196,  0.00031148,  0.00696095,\n",
      "       -0.00250518, -0.00665869,  0.00100592, -0.00586943,  0.00528132,\n",
      "       -0.00206711, -0.00172089,  0.00314282, -0.00351449,  0.00825322,\n",
      "        0.00156193, -0.00378858, -0.00444744, -0.00135566, -0.00540161,\n",
      "       -0.0085846 ,  0.0028582 ,  0.00758596, -0.00659894,  0.0056066 ,\n",
      "        0.00448272, -0.00637052,  0.0018925 ,  0.00196196, -0.00526326,\n",
      "        0.00411042, -0.00239466], dtype=float32)]\n"
     ]
    }
   ],
   "source": [
    "weights_list = []\n",
    "for layer in model.layers[:45:3]:\n",
    "  layer_name = layer.name\n",
    "  # print(layer.name)\n",
    "  layer.set_weights(layer_dict[layer_name].get_weights())\n",
    "  print(layer.get_weights())\n",
    "  #print(type(np.asarray(layer.get_weights)))\n",
    "  x = (np.asarray(layer.get_weights()))\n",
    "\n",
    "  weights_list.append(np.asarray(x))\n"
   ]
  },
  {
   "cell_type": "code",
   "execution_count": 121,
   "metadata": {},
   "outputs": [],
   "source": [
    "def get_model2():\n",
    "    with tf.device(\"GPU:1\"):\n",
    "        nclass = 2\n",
    "        initializer1 = tf.keras.initializers.RandomNormal\n",
    "        initializer2 = tf.keras.initializers.Zeros()\n",
    "        initializer3 = tf.keras.initializers.glorot_uniform(seed=None)\n",
    "        initializer4 = tf.keras.initializers.lecun_normal(seed=None)\n",
    "        initializer5 = tf.keras.initializers.TruncatedNormal(mean=0., stddev=1.)\n",
    "\n",
    "        inp = Input(shape=cqt_input_shape)\n",
    "        img_1 = LeakyReLU(alpha=0.3)(inp)\n",
    "        img_1 = Conv2D(128, kernel_size=(7,7), \n",
    "                       # kernel_initializer=initializer4,  \n",
    "                       trainable = False,\n",
    "                       # kernel_regularizer = regularizers.l2(0.01),         \n",
    "                       #use_bias=True, \n",
    "                       #bias_initializer=initializers.Zeros(),\n",
    "                       padding=\"valid\")(img_1)\n",
    "        img_1 = Dropout(0.1)(img_1)\n",
    "        img_1 = LeakyReLU(alpha=0.2)(img_1)\n",
    "        img_1 = MaxPooling2D()(img_1)\n",
    "        img_1 = Conv2D(128, kernel_size=(3,3),       \n",
    "                       # kernel_initializer=initializer4, \n",
    "                       trainable = False,\n",
    "                       # kernel_regularizer = regularizers.l2(0.01),            \n",
    "                       #use_bias=True, \n",
    "                       #bias_initializer=initializers.Zeros(),\n",
    "                       padding=\"valid\")(img_1)\n",
    "        img_1 = LeakyReLU(alpha=0.2)(img_1)\n",
    "        img_1 = MaxPooling2D()(img_1)\n",
    "        img_1 = Dropout(0.1)(img_1)\n",
    "        img_1 = Conv2D(256, kernel_size=(3,3),       \n",
    "                       # kernel_initializer=initializer4, \n",
    "                       # kernel_regularizer = regularizers.l2(0.01), \n",
    "                       trainable = False,\n",
    "                       #use_bias=True, \n",
    "                       #bias_initializer=initializers.Zeros(),\n",
    "                       padding=\"valid\")(img_1)\n",
    "        img_1 = LeakyReLU(alpha=0.2)(img_1)\n",
    "        img_1 = Dropout(0.1)(img_1)   \n",
    "        img_1 = Flatten()(img_1)      \n",
    "        img_1 = Dense(512, \n",
    "                      # kernel_initializer=initializer4,  \n",
    "                      kernel_regularizer = regularizers.l2(0.001),\n",
    "                      # trainable = False,\n",
    "                     )(img_1)\n",
    "        img_1 = LeakyReLU(alpha=0.2)(img_1)\n",
    "        img_1 = Dropout(0.1)(img_1)   \n",
    "        \n",
    "        img_1 = Dense(128, kernel_initializer=initializer4, trainable = True,\n",
    "                             kernel_regularizer = regularizers.l2(0.001),\n",
    "                             use_bias=True, \n",
    "                             bias_initializer=initializer4,\n",
    "                            )(img_1)\n",
    "        img_1 = LeakyReLU(alpha=0.2)(img_1)\n",
    "        img_1 = Dropout(0.4)(img_1)   \n",
    "\n",
    "        img_1 = Dense(16, kernel_initializer=initializer4, trainable = True,\n",
    "                             kernel_regularizer = regularizers.l2(0.01),\n",
    "                             use_bias=True, \n",
    "                             bias_initializer=initializer4,\n",
    "                            )(img_1)\n",
    "        img_1 = LeakyReLU(alpha=0.2)(img_1)\n",
    "        img_1 = Dropout(0.4)(img_1)   \n",
    "\n",
    "\n",
    "        # 32 .3\n",
    "\n",
    "\n",
    "        output_layer = Dense(2,activation=activations.sigmoid)(img_1)\n",
    "        model = models.Model(inputs=[inp], outputs=[output_layer])\n",
    "        opt = optimizers.Adam(lr=0.00005, beta_1=0.9, beta_2=0.999, epsilon=1e-5, decay=.03, amsgrad=False)\n",
    "        model.compile(optimizer=opt, loss=losses.binary_crossentropy, metrics=['acc'])\n",
    "\n",
    "        model.summary()\n",
    "\n",
    "\n",
    "        return model"
   ]
  },
  {
   "cell_type": "code",
   "execution_count": 122,
   "metadata": {},
   "outputs": [],
   "source": [
    "#Before prediction\n",
    "K.clear_session()\n",
    "# from tensorflow.compat.v1 import ConfigProto\n",
    "# from tensorflow.compat.v1 import InteractiveSession\n",
    "tf.compat.v1.disable_eager_execution()\n",
    "# # #session = InteractiveSession.close()\n",
    "# config = ConfigProto()\n",
    "# config.gpu_options.allow_growth = True\n",
    "\n",
    "\n",
    "\n",
    "from tensorflow.python.framework import ops\n",
    "ops.reset_default_graph()"
   ]
  },
  {
   "cell_type": "code",
   "execution_count": 123,
   "metadata": {},
   "outputs": [
    {
     "name": "stdout",
     "output_type": "stream",
     "text": [
      "Num GPUs Available:  0\n"
     ]
    }
   ],
   "source": [
    "print(\"Num GPUs Available: \", len(tf.config.experimental.list_physical_devices('GPU')))"
   ]
  },
  {
   "cell_type": "code",
   "execution_count": 124,
   "metadata": {},
   "outputs": [
    {
     "name": "stdout",
     "output_type": "stream",
     "text": [
      "Model: \"model\"\n",
      "_________________________________________________________________\n",
      "Layer (type)                 Output Shape              Param #   \n",
      "=================================================================\n",
      "input_1 (InputLayer)         [(None, 70, 112, 1)]      0         \n",
      "_________________________________________________________________\n",
      "leaky_re_lu (LeakyReLU)      (None, 70, 112, 1)        0         \n",
      "_________________________________________________________________\n",
      "conv2d (Conv2D)              (None, 64, 106, 128)      6400      \n",
      "_________________________________________________________________\n",
      "dropout (Dropout)            (None, 64, 106, 128)      0         \n",
      "_________________________________________________________________\n",
      "leaky_re_lu_1 (LeakyReLU)    (None, 64, 106, 128)      0         \n",
      "_________________________________________________________________\n",
      "max_pooling2d (MaxPooling2D) (None, 32, 53, 128)       0         \n",
      "_________________________________________________________________\n",
      "conv2d_1 (Conv2D)            (None, 30, 51, 128)       147584    \n",
      "_________________________________________________________________\n",
      "leaky_re_lu_2 (LeakyReLU)    (None, 30, 51, 128)       0         \n",
      "_________________________________________________________________\n",
      "max_pooling2d_1 (MaxPooling2 (None, 15, 25, 128)       0         \n",
      "_________________________________________________________________\n",
      "dropout_1 (Dropout)          (None, 15, 25, 128)       0         \n",
      "_________________________________________________________________\n",
      "conv2d_2 (Conv2D)            (None, 13, 23, 256)       295168    \n",
      "_________________________________________________________________\n",
      "leaky_re_lu_3 (LeakyReLU)    (None, 13, 23, 256)       0         \n",
      "_________________________________________________________________\n",
      "dropout_2 (Dropout)          (None, 13, 23, 256)       0         \n",
      "_________________________________________________________________\n",
      "flatten (Flatten)            (None, 76544)             0         \n",
      "_________________________________________________________________\n",
      "dense (Dense)                (None, 512)               39191040  \n",
      "_________________________________________________________________\n",
      "leaky_re_lu_4 (LeakyReLU)    (None, 512)               0         \n",
      "_________________________________________________________________\n",
      "dropout_3 (Dropout)          (None, 512)               0         \n",
      "_________________________________________________________________\n",
      "dense_1 (Dense)              (None, 128)               65664     \n",
      "_________________________________________________________________\n",
      "leaky_re_lu_5 (LeakyReLU)    (None, 128)               0         \n",
      "_________________________________________________________________\n",
      "dropout_4 (Dropout)          (None, 128)               0         \n",
      "_________________________________________________________________\n",
      "dense_2 (Dense)              (None, 16)                2064      \n",
      "_________________________________________________________________\n",
      "leaky_re_lu_6 (LeakyReLU)    (None, 16)                0         \n",
      "_________________________________________________________________\n",
      "dropout_5 (Dropout)          (None, 16)                0         \n",
      "_________________________________________________________________\n",
      "dense_3 (Dense)              (None, 2)                 34        \n",
      "=================================================================\n",
      "Total params: 39,707,954\n",
      "Trainable params: 39,258,802\n",
      "Non-trainable params: 449,152\n",
      "_________________________________________________________________\n"
     ]
    }
   ],
   "source": [
    "pre_trained = get_model2()"
   ]
  },
  {
   "cell_type": "code",
   "execution_count": 125,
   "metadata": {},
   "outputs": [
    {
     "name": "stdout",
     "output_type": "stream",
     "text": [
      "[array([[[[-0.01187527,  0.0015317 , -0.00971723, ..., -0.14492604,\n",
      "          -0.03751224,  0.01732554]],\n",
      "\n",
      "        [[ 0.21667589, -0.05901612,  0.04007906, ...,  0.03227997,\n",
      "           0.20189057,  0.00927232]],\n",
      "\n",
      "        [[ 0.06191656,  0.00054594,  0.21008775, ..., -0.10033914,\n",
      "          -0.07373538,  0.02779702]],\n",
      "\n",
      "        ...,\n",
      "\n",
      "        [[-0.04401651,  0.00068354,  0.1430007 , ...,  0.08548132,\n",
      "          -0.04163494,  0.05652876]],\n",
      "\n",
      "        [[-0.0242262 , -0.12977515, -0.11523124, ...,  0.00612659,\n",
      "          -0.09389069, -0.02561852]],\n",
      "\n",
      "        [[-0.23645774, -0.04042454, -0.21882308, ...,  0.17700344,\n",
      "          -0.05074772, -0.02678195]]],\n",
      "\n",
      "\n",
      "       [[[ 0.16934513, -0.00131791,  0.11761586, ...,  0.04723837,\n",
      "          -0.24375889,  0.00275071]],\n",
      "\n",
      "        [[-0.0393817 , -0.06147302, -0.04310208, ..., -0.0199296 ,\n",
      "           0.14527388, -0.08884607]],\n",
      "\n",
      "        [[-0.28020227, -0.03481493,  0.00207788, ..., -0.10853183,\n",
      "          -0.01102869, -0.05332716]],\n",
      "\n",
      "        ...,\n",
      "\n",
      "        [[ 0.00621356, -0.01532328,  0.02874749, ...,  0.00843494,\n",
      "           0.01015898,  0.01575493]],\n",
      "\n",
      "        [[ 0.00598513, -0.13949858, -0.17555705, ...,  0.08649734,\n",
      "          -0.1267954 , -0.07186777]],\n",
      "\n",
      "        [[-0.12066909, -0.00097182, -0.00487827, ...,  0.15111782,\n",
      "           0.20748954,  0.06202063]]],\n",
      "\n",
      "\n",
      "       [[[-0.06738118,  0.12643526,  0.13675204, ...,  0.00790591,\n",
      "          -0.04697373, -0.1138599 ]],\n",
      "\n",
      "        [[ 0.05761722, -0.19701369,  0.1529912 , ...,  0.12108586,\n",
      "           0.14094284,  0.07768911]],\n",
      "\n",
      "        [[-0.12956913,  0.00033308, -0.1475586 , ...,  0.15245737,\n",
      "          -0.02278001,  0.18559636]],\n",
      "\n",
      "        ...,\n",
      "\n",
      "        [[ 0.06549592, -0.06565239,  0.02448376, ...,  0.1445299 ,\n",
      "          -0.19407956, -0.01045814]],\n",
      "\n",
      "        [[-0.03813035,  0.0006257 , -0.09972569, ..., -0.02672153,\n",
      "           0.14286995, -0.01219211]],\n",
      "\n",
      "        [[-0.09501203, -0.04258649, -0.01113654, ...,  0.15750317,\n",
      "           0.17642388, -0.08068935]]],\n",
      "\n",
      "\n",
      "       ...,\n",
      "\n",
      "\n",
      "       [[[ 0.02095816, -0.13318016,  0.00168709, ..., -0.03377749,\n",
      "           0.10219581,  0.0464475 ]],\n",
      "\n",
      "        [[-0.09400804, -0.13839069, -0.0552964 , ..., -0.04314441,\n",
      "           0.08675145,  0.07213204]],\n",
      "\n",
      "        [[ 0.01848686, -0.10278398, -0.06294105, ..., -0.13440888,\n",
      "           0.05617012, -0.07243729]],\n",
      "\n",
      "        ...,\n",
      "\n",
      "        [[-0.14655773,  0.02810127, -0.03816953, ..., -0.02506427,\n",
      "          -0.26732627,  0.19234963]],\n",
      "\n",
      "        [[-0.02871799, -0.00252099,  0.01647577, ..., -0.02896444,\n",
      "           0.06558431, -0.12697005]],\n",
      "\n",
      "        [[-0.2257277 , -0.065339  ,  0.0306758 , ...,  0.02403575,\n",
      "           0.16938436,  0.1339612 ]]],\n",
      "\n",
      "\n",
      "       [[[-0.11545141,  0.02131138,  0.04199323, ...,  0.02487213,\n",
      "           0.1718961 , -0.01100363]],\n",
      "\n",
      "        [[-0.05915572, -0.03936091,  0.09705814, ...,  0.06174573,\n",
      "           0.16359293,  0.0317336 ]],\n",
      "\n",
      "        [[ 0.0777317 ,  0.09378645,  0.0547736 , ...,  0.09769785,\n",
      "           0.17052062, -0.16555268]],\n",
      "\n",
      "        ...,\n",
      "\n",
      "        [[-0.19153832, -0.02224512,  0.21484505, ...,  0.07314906,\n",
      "          -0.05929922, -0.04802489]],\n",
      "\n",
      "        [[-0.01524438,  0.02471209, -0.04087501, ..., -0.03244406,\n",
      "           0.14833865,  0.01328435]],\n",
      "\n",
      "        [[ 0.11570378, -0.0742049 ,  0.09527194, ...,  0.18130635,\n",
      "          -0.06812452, -0.15680973]]],\n",
      "\n",
      "\n",
      "       [[[-0.05468321,  0.05817629, -0.01675552, ...,  0.12605613,\n",
      "          -0.0892427 ,  0.12343619]],\n",
      "\n",
      "        [[ 0.07913907, -0.09576697,  0.01317632, ...,  0.09383041,\n",
      "           0.05266991,  0.03887282]],\n",
      "\n",
      "        [[ 0.23680958, -0.06197461,  0.07889374, ...,  0.03638734,\n",
      "           0.02324231, -0.09814903]],\n",
      "\n",
      "        ...,\n",
      "\n",
      "        [[ 0.09318402,  0.21250959, -0.10167489, ...,  0.08630409,\n",
      "          -0.08307306, -0.08276635]],\n",
      "\n",
      "        [[ 0.07166529,  0.02005366,  0.03027508, ...,  0.01165475,\n",
      "          -0.25332016, -0.01181416]],\n",
      "\n",
      "        [[-0.0670377 , -0.00327669,  0.06449977, ..., -0.10347433,\n",
      "           0.02531213, -0.22173123]]]], dtype=float32)\n",
      " array([ 0.01473711,  0.00062688, -0.00492703, -0.00113565, -0.00389608,\n",
      "        0.00195244, -0.00468595, -0.00295242, -0.00169522, -0.0117272 ,\n",
      "       -0.00739016, -0.0053465 , -0.00241259, -0.00126579,  0.01617547,\n",
      "       -0.0056297 ,  0.00998418, -0.00292829, -0.01100832, -0.00499496,\n",
      "       -0.00484754, -0.00900733, -0.00064425, -0.01295463,  0.00495622,\n",
      "       -0.00195026,  0.00692633, -0.00131915, -0.00491599, -0.00106296,\n",
      "       -0.00275199, -0.00756039,  0.00546267, -0.00131252, -0.00319405,\n",
      "       -0.00532015,  0.0015654 , -0.00481335, -0.00626894,  0.00774272,\n",
      "       -0.00027031,  0.00447604,  0.0165729 ,  0.00613034, -0.00253844,\n",
      "        0.00348804,  0.00403561, -0.00556975, -0.00214252,  0.00274218,\n",
      "       -0.00544102, -0.0045226 ,  0.00365699, -0.00275731, -0.0023326 ,\n",
      "        0.01092721,  0.00421436, -0.00519675, -0.00481066,  0.00790474,\n",
      "        0.00648489, -0.00441194, -0.00587199,  0.00166196,  0.0004687 ,\n",
      "        0.00421146,  0.00349619, -0.0032504 , -0.00446896,  0.00525921,\n",
      "       -0.00014903, -0.00373202, -0.00529316, -0.00176373,  0.01695261,\n",
      "       -0.00437334, -0.0017273 ,  0.00578951, -0.00557361,  0.00153714,\n",
      "       -0.00694118, -0.00053219, -0.00582394, -0.00592419,  0.00651561,\n",
      "       -0.0092253 ,  0.0001211 , -0.00313161,  0.00794028, -0.00960028,\n",
      "       -0.00585734,  0.00667234, -0.00315781,  0.00916758, -0.0069255 ,\n",
      "       -0.00458597, -0.00505002, -0.00387494,  0.01013653, -0.00224791,\n",
      "        0.00803036, -0.0015173 , -0.00583653,  0.00392575, -0.00452383,\n",
      "       -0.00524401,  0.00621647, -0.00498369, -0.00349716, -0.00007796,\n",
      "       -0.00570182, -0.00196434,  0.0183871 ,  0.02161472, -0.00706333,\n",
      "       -0.00932439, -0.00114241,  0.00278245, -0.00436518,  0.00278497,\n",
      "       -0.00427554, -0.00408362, -0.00108998,  0.01372637, -0.00700489,\n",
      "       -0.00961336, -0.00907866, -0.00418464], dtype=float32)]\n",
      "[array([[[[-0.00503672, -0.02385883, -0.00491539, ..., -0.0023348 ,\n",
      "          -0.01355889, -0.02628969],\n",
      "         [ 0.00265807, -0.02018247, -0.00032081, ...,  0.00461708,\n",
      "          -0.00069641, -0.00385457],\n",
      "         [ 0.01994732,  0.00299301,  0.01028   , ...,  0.00161911,\n",
      "          -0.00195948,  0.03718288],\n",
      "         ...,\n",
      "         [-0.00798164, -0.02111218,  0.00151468, ..., -0.00725943,\n",
      "           0.01456724,  0.0097015 ],\n",
      "         [-0.0159472 ,  0.01374584,  0.01512773, ...,  0.0048574 ,\n",
      "           0.01190209,  0.02107164],\n",
      "         [-0.00526733,  0.01412698,  0.00427059, ...,  0.00142145,\n",
      "           0.00015566,  0.00330675]],\n",
      "\n",
      "        [[-0.02087711, -0.00824821,  0.00085351, ...,  0.01574866,\n",
      "           0.0207747 ,  0.01375355],\n",
      "         [-0.00001831, -0.00836053, -0.00152454, ...,  0.00317319,\n",
      "          -0.00869071,  0.00341553],\n",
      "         [-0.01799656, -0.03426444,  0.01549574, ...,  0.0001552 ,\n",
      "           0.00060166,  0.01044581],\n",
      "         ...,\n",
      "         [-0.00385549, -0.01449658,  0.00783313, ..., -0.00709236,\n",
      "          -0.00107185,  0.02400717],\n",
      "         [ 0.0056007 ,  0.00973705,  0.00521614, ...,  0.02959105,\n",
      "           0.00677661,  0.01158568],\n",
      "         [-0.01301392, -0.0001383 ,  0.02404726, ..., -0.00151361,\n",
      "           0.00305904,  0.0037081 ]],\n",
      "\n",
      "        [[-0.03028762, -0.03010915, -0.00835354, ..., -0.01320607,\n",
      "          -0.00615116, -0.00167903],\n",
      "         [ 0.00025475,  0.01972864, -0.00630387, ..., -0.00359573,\n",
      "          -0.0011221 , -0.00181735],\n",
      "         [-0.00153741, -0.01489904,  0.00017989, ...,  0.00460386,\n",
      "           0.0046442 ,  0.00660053],\n",
      "         ...,\n",
      "         [ 0.00123285, -0.01086604,  0.00325038, ..., -0.00943472,\n",
      "           0.02354955,  0.0252997 ],\n",
      "         [ 0.0058007 ,  0.01728754,  0.00407035, ...,  0.01984597,\n",
      "           0.01700501,  0.00622348],\n",
      "         [-0.00047637,  0.00280421, -0.00121923, ..., -0.00534477,\n",
      "           0.00029362, -0.00679906]]],\n",
      "\n",
      "\n",
      "       [[[ 0.01292956, -0.00006296, -0.00966486, ...,  0.00451989,\n",
      "           0.00856318,  0.00928571],\n",
      "         [ 0.003343  , -0.00504255,  0.00265919, ...,  0.00489514,\n",
      "           0.00672482, -0.00872371],\n",
      "         [ 0.02402182, -0.01848674,  0.00277719, ...,  0.00504155,\n",
      "           0.00221513,  0.00976572],\n",
      "         ...,\n",
      "         [ 0.0066031 , -0.02372409,  0.00641126, ...,  0.01413119,\n",
      "           0.02385237, -0.00608778],\n",
      "         [-0.00554352, -0.00887658,  0.02585331, ...,  0.00700524,\n",
      "           0.01184156,  0.01215879],\n",
      "         [ 0.00440985, -0.02101942,  0.00404637, ...,  0.00200761,\n",
      "           0.00781613,  0.02109872]],\n",
      "\n",
      "        [[ 0.00363022,  0.01647392,  0.00224101, ..., -0.01524974,\n",
      "           0.00120972,  0.00448831],\n",
      "         [ 0.00802223, -0.01149286,  0.00021673, ...,  0.00096629,\n",
      "          -0.00560543, -0.01129833],\n",
      "         [ 0.02141107, -0.02117208, -0.003535  , ...,  0.00338027,\n",
      "          -0.00546629,  0.0172895 ],\n",
      "         ...,\n",
      "         [-0.01246329, -0.00119883, -0.00001318, ...,  0.02599839,\n",
      "           0.00662685,  0.01750108],\n",
      "         [ 0.02409772,  0.03501961, -0.01463928, ...,  0.00188258,\n",
      "           0.01099564,  0.0063174 ],\n",
      "         [-0.00324866, -0.00462226,  0.00352313, ...,  0.00177868,\n",
      "          -0.00354646,  0.02185821]],\n",
      "\n",
      "        [[-0.00573198, -0.01437784, -0.01920989, ..., -0.00434305,\n",
      "          -0.00623273,  0.01494943],\n",
      "         [-0.00110995, -0.00752408,  0.00126259, ...,  0.00038662,\n",
      "          -0.00125449, -0.00449171],\n",
      "         [ 0.01208015, -0.00319217,  0.00326329, ..., -0.00333104,\n",
      "          -0.00088679,  0.0310332 ],\n",
      "         ...,\n",
      "         [ 0.01576898, -0.02803771,  0.0204518 , ..., -0.00545551,\n",
      "          -0.00654489,  0.01448353],\n",
      "         [ 0.02393844, -0.00915146,  0.00104567, ..., -0.00731911,\n",
      "           0.01185709,  0.00184084],\n",
      "         [-0.00087616,  0.00075215,  0.0074824 , ..., -0.01654328,\n",
      "          -0.00674763,  0.01208588]]],\n",
      "\n",
      "\n",
      "       [[[-0.02254702,  0.0014503 , -0.00229419, ...,  0.0257839 ,\n",
      "          -0.00237262, -0.02435119],\n",
      "         [ 0.0019893 ,  0.00468879,  0.00625606, ..., -0.00739152,\n",
      "          -0.00270403, -0.02062141],\n",
      "         [ 0.01482155, -0.00175622, -0.00613007, ...,  0.00375275,\n",
      "           0.00294923, -0.00507888],\n",
      "         ...,\n",
      "         [ 0.00731158, -0.00396442,  0.01818209, ...,  0.02985181,\n",
      "           0.0012059 ,  0.01363555],\n",
      "         [ 0.00601119, -0.02201419,  0.00965484, ...,  0.02186925,\n",
      "           0.01759326,  0.02394101],\n",
      "         [ 0.01020077, -0.01955101, -0.00220792, ...,  0.00207828,\n",
      "           0.00580786,  0.01316877]],\n",
      "\n",
      "        [[ 0.00683492,  0.02516017, -0.01389713, ...,  0.00959952,\n",
      "           0.00618799, -0.00140184],\n",
      "         [-0.00116436, -0.00380196, -0.01255938, ..., -0.00103159,\n",
      "          -0.00475373,  0.01650518],\n",
      "         [ 0.00241538, -0.0002848 ,  0.00114527, ..., -0.00789563,\n",
      "          -0.0072156 ,  0.00256675],\n",
      "         ...,\n",
      "         [-0.00737616, -0.00532675,  0.00596887, ..., -0.01655936,\n",
      "           0.00782818,  0.03432062],\n",
      "         [-0.02692821, -0.03528816, -0.00737103, ..., -0.0004729 ,\n",
      "           0.00402377,  0.02544576],\n",
      "         [ 0.01849123, -0.01645768, -0.00207881, ...,  0.002348  ,\n",
      "           0.01517292,  0.01760183]],\n",
      "\n",
      "        [[-0.02413794, -0.00596897, -0.01203256, ...,  0.02435289,\n",
      "           0.01461738, -0.00194363],\n",
      "         [-0.00726249, -0.01452449,  0.00091515, ...,  0.00472789,\n",
      "          -0.01007551, -0.00385069],\n",
      "         [ 0.01680951,  0.01040393,  0.00237984, ...,  0.00594942,\n",
      "           0.00702614, -0.01721324],\n",
      "         ...,\n",
      "         [ 0.00459851, -0.02362948,  0.00679336, ...,  0.01051973,\n",
      "           0.00367162, -0.01561863],\n",
      "         [ 0.00372415, -0.01940825,  0.00998081, ...,  0.01356838,\n",
      "          -0.00940852,  0.00315249],\n",
      "         [ 0.02106138, -0.02254565,  0.00170798, ..., -0.01215113,\n",
      "          -0.00347448,  0.0191022 ]]]], dtype=float32)\n",
      " array([-0.01152584,  0.00027083, -0.0140936 ,  0.00327277, -0.00887781,\n",
      "       -0.00169097,  0.00408102, -0.00468086,  0.00341826, -0.00626201,\n",
      "       -0.00182623,  0.00297117, -0.01121692, -0.00364623, -0.00607973,\n",
      "       -0.00801541, -0.00751005, -0.00658631, -0.00602066,  0.0029011 ,\n",
      "       -0.00350834,  0.00097364, -0.0057832 , -0.00190663, -0.00098538,\n",
      "        0.00644058, -0.00202573, -0.00433747, -0.00093234,  0.00054125,\n",
      "       -0.0039566 , -0.00340401,  0.00176329,  0.001195  , -0.00727333,\n",
      "        0.0079895 ,  0.00538931, -0.00359124, -0.00960317,  0.00007125,\n",
      "       -0.00200367, -0.00341853, -0.0020192 ,  0.00347019, -0.00932757,\n",
      "        0.00037743,  0.00221748,  0.00404392,  0.00620238,  0.00068748,\n",
      "       -0.00568725, -0.00114245, -0.0052073 , -0.00398101,  0.00526295,\n",
      "       -0.00166722, -0.00101155, -0.00648019, -0.00332403,  0.00283843,\n",
      "       -0.00084712,  0.00856952, -0.00309757, -0.0046552 , -0.00050209,\n",
      "       -0.00410754,  0.00171119, -0.0082147 ,  0.00881841, -0.00822906,\n",
      "       -0.00190367,  0.00553608, -0.01065778,  0.0018803 , -0.00148063,\n",
      "        0.00406885,  0.00449431,  0.00211448, -0.00381876, -0.00040006,\n",
      "        0.00551531,  0.00889509,  0.00156391, -0.00202455, -0.00758107,\n",
      "       -0.00953062,  0.00009913, -0.00156994,  0.00218157,  0.01257581,\n",
      "        0.00548868, -0.01382167, -0.00895808, -0.00441481, -0.00936915,\n",
      "       -0.00197189,  0.00116009, -0.0050184 , -0.00647809, -0.00018152,\n",
      "       -0.00781469, -0.00326995, -0.00047862, -0.00992217, -0.01073398,\n",
      "        0.00783369,  0.00315581, -0.00131997, -0.01053646,  0.00040383,\n",
      "        0.00258445, -0.00344999, -0.01255449, -0.00866329, -0.01036633,\n",
      "        0.00077354, -0.00482092, -0.00809672, -0.01447835, -0.01101767,\n",
      "       -0.00620075, -0.00478031, -0.00193878,  0.00816498, -0.00658751,\n",
      "       -0.00902033, -0.01096377, -0.01063718], dtype=float32)]\n",
      "[array([[[[-0.01599342,  0.00067686,  0.0036152 , ..., -0.01147386,\n",
      "          -0.0277785 , -0.01872135],\n",
      "         [ 0.03561383, -0.01965191, -0.02688682, ...,  0.00612356,\n",
      "           0.00434216, -0.01330854],\n",
      "         [ 0.02161324, -0.00183436,  0.00039313, ...,  0.01732191,\n",
      "          -0.00216664,  0.00510495],\n",
      "         ...,\n",
      "         [ 0.01008879,  0.00266671,  0.00308265, ...,  0.00008631,\n",
      "          -0.00620653, -0.00819741],\n",
      "         [-0.00475123, -0.01663374,  0.00530455, ...,  0.01985906,\n",
      "          -0.00733853, -0.00224754],\n",
      "         [-0.00569526, -0.01095667, -0.00376856, ...,  0.01038977,\n",
      "          -0.00776789,  0.0223318 ]],\n",
      "\n",
      "        [[ 0.00302485, -0.01445616,  0.02892959, ..., -0.00668708,\n",
      "          -0.00530695,  0.00357842],\n",
      "         [-0.00667773,  0.01320624, -0.01056745, ..., -0.03142536,\n",
      "           0.0177921 , -0.00074988],\n",
      "         [ 0.0014389 , -0.00301497,  0.00970078, ..., -0.0138653 ,\n",
      "          -0.00820416,  0.00244349],\n",
      "         ...,\n",
      "         [-0.00028181, -0.0003063 , -0.00411269, ...,  0.02220699,\n",
      "           0.00748747, -0.0000021 ],\n",
      "         [-0.02596415, -0.00538947, -0.0028376 , ..., -0.00647686,\n",
      "          -0.00179212, -0.00720277],\n",
      "         [ 0.01498877, -0.0043224 ,  0.00175802, ...,  0.00601419,\n",
      "          -0.00488034,  0.01640183]],\n",
      "\n",
      "        [[ 0.02165801, -0.00994607,  0.00417324, ..., -0.01519789,\n",
      "           0.01838762,  0.01991981],\n",
      "         [-0.00538365,  0.04312446, -0.00771866, ...,  0.00792556,\n",
      "          -0.00446203,  0.00344282],\n",
      "         [-0.00557518, -0.00184526,  0.00144313, ..., -0.02225609,\n",
      "          -0.00251118,  0.006323  ],\n",
      "         ...,\n",
      "         [-0.01873481, -0.01143858, -0.01134536, ..., -0.02709932,\n",
      "           0.01337935, -0.01757036],\n",
      "         [-0.00354411, -0.00732955,  0.01156308, ..., -0.00869182,\n",
      "           0.01330035,  0.00256727],\n",
      "         [ 0.00736649, -0.02715765, -0.00592815, ...,  0.01826255,\n",
      "           0.00754958,  0.02071174]]],\n",
      "\n",
      "\n",
      "       [[[-0.00227601,  0.01010565,  0.00063844, ..., -0.0000955 ,\n",
      "           0.00440005,  0.00648523],\n",
      "         [ 0.00794969,  0.02324985,  0.00853149, ..., -0.02550008,\n",
      "          -0.03446648, -0.00622719],\n",
      "         [ 0.00593725,  0.01220594,  0.00320805, ...,  0.00273622,\n",
      "           0.00586782, -0.00125549],\n",
      "         ...,\n",
      "         [ 0.00983509, -0.00087828,  0.0001789 , ..., -0.01407242,\n",
      "          -0.00813316, -0.00348579],\n",
      "         [ 0.00306283,  0.00304342, -0.00356002, ...,  0.00794545,\n",
      "          -0.00810374, -0.00078282],\n",
      "         [ 0.00961625,  0.01626683,  0.0177989 , ...,  0.00819037,\n",
      "           0.00822161, -0.00284406]],\n",
      "\n",
      "        [[-0.01030196, -0.00862525, -0.0081414 , ..., -0.01516923,\n",
      "           0.00778745,  0.01748493],\n",
      "         [ 0.00177528,  0.01996667,  0.01943612, ..., -0.00604959,\n",
      "          -0.01784844,  0.0094497 ],\n",
      "         [ 0.01567635,  0.00087428,  0.00666786, ..., -0.00028616,\n",
      "           0.01189885, -0.01950084],\n",
      "         ...,\n",
      "         [ 0.01102567, -0.01820155, -0.00835682, ...,  0.02192902,\n",
      "           0.00015505,  0.00173481],\n",
      "         [ 0.00889673, -0.01762695, -0.00768407, ..., -0.01699273,\n",
      "           0.0015979 , -0.0013901 ],\n",
      "         [ 0.02088616,  0.00123921,  0.00076782, ..., -0.00983428,\n",
      "           0.00316583,  0.00869542]],\n",
      "\n",
      "        [[-0.00235474, -0.00910976,  0.01260665, ...,  0.00427932,\n",
      "           0.03132782,  0.01599902],\n",
      "         [ 0.03233586,  0.02231403,  0.00610121, ...,  0.00117339,\n",
      "          -0.00392466,  0.00692676],\n",
      "         [-0.01224846,  0.00940801, -0.00275626, ..., -0.00363769,\n",
      "          -0.00862822, -0.00151438],\n",
      "         ...,\n",
      "         [-0.02032212, -0.00814634,  0.00273473, ...,  0.03248074,\n",
      "           0.00019871, -0.001408  ],\n",
      "         [ 0.00313236, -0.01145155,  0.00349883, ...,  0.00894067,\n",
      "           0.00642445,  0.00510805],\n",
      "         [-0.01803014, -0.01063873,  0.00293012, ...,  0.00622951,\n",
      "           0.00979537, -0.00073826]]],\n",
      "\n",
      "\n",
      "       [[[ 0.01909618,  0.0191878 , -0.0002673 , ...,  0.02101237,\n",
      "           0.00068226,  0.008922  ],\n",
      "         [ 0.00328796, -0.01025879, -0.00365751, ...,  0.00375414,\n",
      "          -0.00032999, -0.01979576],\n",
      "         [ 0.01364878, -0.00755967,  0.00299675, ..., -0.02887328,\n",
      "           0.01206282,  0.00254948],\n",
      "         ...,\n",
      "         [ 0.01796952, -0.02185399, -0.00271663, ...,  0.01574098,\n",
      "          -0.01316146,  0.00323547],\n",
      "         [ 0.01683334, -0.00675   ,  0.0051221 , ..., -0.02006001,\n",
      "           0.00865797,  0.00001476],\n",
      "         [ 0.02241994,  0.02495761, -0.00270418, ...,  0.02506071,\n",
      "          -0.01225273, -0.00827195]],\n",
      "\n",
      "        [[ 0.001551  , -0.00359565,  0.004229  , ...,  0.00224493,\n",
      "           0.01485327,  0.00527168],\n",
      "         [-0.00728931,  0.00105066,  0.01603178, ..., -0.02519612,\n",
      "          -0.02351672, -0.00278959],\n",
      "         [-0.01182595,  0.00817257,  0.00095673, ..., -0.0055562 ,\n",
      "           0.01135417, -0.00058707],\n",
      "         ...,\n",
      "         [ 0.01729554, -0.01029796, -0.00094974, ...,  0.00550486,\n",
      "           0.00646324,  0.00544282],\n",
      "         [-0.01447738,  0.01382408, -0.00277663, ...,  0.01138771,\n",
      "          -0.01322456, -0.00721608],\n",
      "         [ 0.00782059, -0.00072057,  0.01114469, ...,  0.03964805,\n",
      "          -0.02712524, -0.01731915]],\n",
      "\n",
      "        [[-0.00403059, -0.00631846, -0.00848803, ..., -0.00276353,\n",
      "           0.00522563,  0.00597558],\n",
      "         [-0.00721089, -0.00393394,  0.01341878, ...,  0.00424614,\n",
      "           0.02589431, -0.00831892],\n",
      "         [-0.02813586, -0.00255485,  0.00763044, ...,  0.00733238,\n",
      "           0.00250824,  0.01234994],\n",
      "         ...,\n",
      "         [ 0.03048024, -0.00371535,  0.00403402, ..., -0.01954491,\n",
      "           0.00841631,  0.02652485],\n",
      "         [-0.00165383, -0.00288609,  0.0003131 , ..., -0.0017529 ,\n",
      "           0.00348348,  0.01765812],\n",
      "         [ 0.02014449, -0.00139634, -0.00934024, ...,  0.02800103,\n",
      "          -0.00151272, -0.00473802]]]], dtype=float32)\n",
      " array([-0.00460549, -0.00223123, -0.00715014,  0.01205563,  0.00042259,\n",
      "        0.00835822, -0.00098211,  0.01177983, -0.01331447,  0.00512316,\n",
      "        0.01399676,  0.00774349, -0.00545508, -0.00077893,  0.00320903,\n",
      "       -0.01156358, -0.01291213, -0.00924864,  0.00062357, -0.00686198,\n",
      "        0.00134723, -0.01110036, -0.00112828, -0.00908646,  0.00189952,\n",
      "       -0.00600357, -0.0111352 , -0.00330064, -0.01477259, -0.00742073,\n",
      "        0.00071964,  0.00099912, -0.00780454,  0.00141337,  0.00163852,\n",
      "        0.00291055, -0.01358349,  0.00120608, -0.01321999, -0.00508875,\n",
      "       -0.00440594, -0.01075799, -0.00425097, -0.00318544, -0.0087272 ,\n",
      "       -0.00401341,  0.01030221, -0.0035418 ,  0.00003971,  0.00765439,\n",
      "        0.00176521, -0.00099393, -0.00241888,  0.002151  , -0.0019698 ,\n",
      "       -0.00948366, -0.00053388, -0.00138744, -0.00684952,  0.00476206,\n",
      "       -0.00983794,  0.0020228 , -0.00863965, -0.01064407, -0.00245457,\n",
      "       -0.00727477, -0.00837585, -0.01605125, -0.01041413, -0.00322579,\n",
      "       -0.0079619 , -0.00876268, -0.00327229, -0.00093671, -0.00546879,\n",
      "       -0.0055611 , -0.00732983, -0.00601217, -0.00501122, -0.00126839,\n",
      "       -0.00518253, -0.01094709, -0.00362483,  0.00199454,  0.00064053,\n",
      "       -0.0093206 ,  0.00004226,  0.00147713, -0.00426203, -0.00223568,\n",
      "        0.00386355, -0.01039443,  0.00037414,  0.00806226, -0.00292137,\n",
      "       -0.01570758, -0.00502992, -0.00134378,  0.00001029,  0.00694111,\n",
      "       -0.01316533, -0.00536277, -0.00564281, -0.00459915, -0.00323518,\n",
      "       -0.0129315 , -0.00647662, -0.00653417, -0.01474287, -0.00553356,\n",
      "       -0.0153991 ,  0.00958084, -0.00445065, -0.00316154, -0.00059028,\n",
      "        0.00903331, -0.00052617, -0.00198572, -0.00149585, -0.00983057,\n",
      "       -0.00632735,  0.00734767, -0.0088068 , -0.00329601, -0.0025133 ,\n",
      "       -0.00022046, -0.00505605,  0.00044149, -0.01197186,  0.00079706,\n",
      "       -0.00229739,  0.00005724, -0.00378719, -0.00848053,  0.00168663,\n",
      "       -0.00720524, -0.00997009, -0.0048856 , -0.00117528, -0.00271838,\n",
      "        0.0011123 , -0.00040363,  0.00373057, -0.00317306, -0.00114672,\n",
      "       -0.00803195,  0.00079638,  0.00196746, -0.00353763, -0.01264952,\n",
      "        0.00321973, -0.00412143,  0.00587283, -0.00030565, -0.00813438,\n",
      "       -0.00652201,  0.00530639, -0.00096153,  0.00335216, -0.00882276,\n",
      "       -0.00888578, -0.00082383, -0.00072396, -0.00025559, -0.01063906,\n",
      "       -0.00801918, -0.00857302, -0.00039133, -0.00244719, -0.0065679 ,\n",
      "        0.00371415, -0.00880462, -0.00464915, -0.00796774, -0.00078175,\n",
      "       -0.00674097, -0.00495926, -0.00187095,  0.00349485, -0.01063786,\n",
      "       -0.00058971, -0.00978148,  0.00236649, -0.00690672, -0.00704387,\n",
      "       -0.00438319,  0.00536884, -0.00368757, -0.00836576, -0.00412835,\n",
      "       -0.00492544, -0.00086521, -0.00566144, -0.00188009,  0.00070318,\n",
      "       -0.01430217,  0.00869762, -0.00759503, -0.00139438, -0.00608836,\n",
      "       -0.01370199,  0.00890302, -0.00589885,  0.00129479, -0.00049638,\n",
      "       -0.00192469, -0.01405203, -0.00350392,  0.00058503, -0.00595256,\n",
      "       -0.00764844, -0.0016657 ,  0.00137887, -0.00209525, -0.00716875,\n",
      "       -0.00491553, -0.00755117, -0.00524021, -0.01322103, -0.00338206,\n",
      "       -0.00172793, -0.0032271 ,  0.00349199, -0.00068209,  0.0042345 ,\n",
      "        0.00001611, -0.00493203, -0.00897312, -0.00575095,  0.00113502,\n",
      "       -0.00318412, -0.00110733, -0.00363764, -0.01006361,  0.00312747,\n",
      "       -0.01259007, -0.0022288 ,  0.00249677, -0.01537227,  0.00658603,\n",
      "       -0.00872077,  0.00417908, -0.00513789, -0.01095401,  0.00060616,\n",
      "       -0.003338  , -0.00228209, -0.00137909, -0.00602638, -0.00295834,\n",
      "        0.00388979, -0.00522946, -0.00040392,  0.00519567, -0.00948887,\n",
      "       -0.00018895], dtype=float32)]\n"
     ]
    },
    {
     "name": "stdout",
     "output_type": "stream",
     "text": [
      "[array([[-0.00001867,  0.00055899, -0.00003944, ...,  0.00158701,\n",
      "         0.00003364,  0.00184311],\n",
      "       [ 0.00000861, -0.00024103, -0.00001001, ..., -0.00028929,\n",
      "         0.00099949, -0.00253383],\n",
      "       [ 0.00001054, -0.00099561, -0.00000389, ...,  0.0019875 ,\n",
      "        -0.00093252,  0.00015174],\n",
      "       ...,\n",
      "       [ 0.00003865,  0.00272038, -0.00001474, ...,  0.00017757,\n",
      "        -0.00144057, -0.00147765],\n",
      "       [ 0.00000009,  0.00165917, -0.00000739, ...,  0.00058494,\n",
      "         0.00304537, -0.00449157],\n",
      "       [ 0.00001905,  0.00263562, -0.00000612, ..., -0.00204893,\n",
      "         0.00165833, -0.00085228]], dtype=float32)\n",
      " array([-0.00718573,  0.00069931, -0.0051023 , -0.0005026 , -0.00330259,\n",
      "        0.00230933, -0.00030487,  0.00166708,  0.00167959,  0.00053663,\n",
      "       -0.00368893, -0.00254991, -0.0036014 ,  0.00089336, -0.0038317 ,\n",
      "       -0.00646718,  0.00153521,  0.00024763, -0.00282498,  0.00919031,\n",
      "       -0.00008842, -0.00702026,  0.00249554, -0.01124838, -0.00810196,\n",
      "       -0.00406485, -0.00296413,  0.00346309, -0.00156495,  0.00332985,\n",
      "       -0.00719497, -0.00506121, -0.00772923,  0.00028883, -0.00064642,\n",
      "       -0.00214333,  0.00327737, -0.00292039,  0.0045547 , -0.00273655,\n",
      "        0.00097879, -0.0015144 ,  0.00342343, -0.00176301, -0.0090567 ,\n",
      "       -0.00204823,  0.00474794, -0.00899835,  0.00250761, -0.00378259,\n",
      "       -0.00699678, -0.00368562, -0.00151123, -0.00095696, -0.00018501,\n",
      "       -0.00837883,  0.00489679,  0.00033005,  0.00517115, -0.00169199,\n",
      "        0.00170805,  0.00210984, -0.0016277 , -0.00078207, -0.00553054,\n",
      "        0.00129289,  0.0011213 , -0.00114729, -0.00699113, -0.00290354,\n",
      "        0.0050343 ,  0.00114702, -0.00086749, -0.00794948, -0.00354709,\n",
      "       -0.00977231, -0.00590744, -0.00045678, -0.00226948,  0.00356936,\n",
      "       -0.00014897, -0.0005176 , -0.00049696, -0.00580675, -0.00362209,\n",
      "        0.00065372,  0.00740785,  0.00106424,  0.00346761,  0.00193137,\n",
      "        0.00250517, -0.00658462,  0.00327142, -0.0016721 ,  0.00666004,\n",
      "        0.00363758, -0.00323422,  0.006655  , -0.00220514, -0.00078906,\n",
      "       -0.00159963, -0.00419192, -0.00134035,  0.00227139, -0.00052873,\n",
      "       -0.00422985,  0.00107602,  0.00029591, -0.00375958, -0.0022718 ,\n",
      "       -0.00405028,  0.00232095,  0.00445696,  0.00496751,  0.00217247,\n",
      "        0.00176476, -0.00416886, -0.00481661, -0.00458382, -0.00697425,\n",
      "       -0.00574121,  0.00230405,  0.00581214,  0.00001823, -0.0065038 ,\n",
      "        0.00041949,  0.00254576, -0.00201844,  0.00358502,  0.00792785,\n",
      "       -0.00163969,  0.00244468, -0.00294202, -0.00062239,  0.0030489 ,\n",
      "        0.00479828,  0.00456138, -0.00485979, -0.00844021,  0.00294075,\n",
      "       -0.01033989, -0.00373348,  0.00206194,  0.00743513, -0.00238563,\n",
      "       -0.00318101, -0.0013772 , -0.01020468, -0.00344379, -0.00489567,\n",
      "       -0.0032631 , -0.00221324,  0.00331258, -0.00442955,  0.00151696,\n",
      "       -0.00515515, -0.00211484, -0.00377367, -0.0041454 , -0.00086721,\n",
      "        0.00427715, -0.0052046 , -0.00196037, -0.00619857,  0.00017619,\n",
      "       -0.00384199,  0.00285663, -0.00014306,  0.0001716 , -0.001709  ,\n",
      "        0.00256397,  0.00237728,  0.00045989,  0.00268324, -0.00520463,\n",
      "       -0.00177209,  0.00262182,  0.00254396,  0.00046618,  0.00067556,\n",
      "       -0.00202082,  0.00201398, -0.00221845, -0.00055588, -0.00351354,\n",
      "        0.00399608,  0.00094636, -0.00165876,  0.00062328, -0.00276737,\n",
      "       -0.00675708, -0.0025524 ,  0.00156968, -0.0011084 ,  0.01064674,\n",
      "       -0.00678054,  0.00281856, -0.00133065, -0.00989034, -0.00671677,\n",
      "       -0.00025099, -0.00815164,  0.00525008, -0.00226459, -0.0001413 ,\n",
      "       -0.00111097,  0.00387196, -0.00524299,  0.0047281 ,  0.00392998,\n",
      "        0.00601214, -0.00514548,  0.00312598, -0.00780547, -0.00042723,\n",
      "       -0.00539168, -0.00451506,  0.00136331, -0.00166864,  0.00120969,\n",
      "        0.00126787, -0.00679696, -0.00179773, -0.00009169, -0.00165437,\n",
      "       -0.00043827,  0.00329891,  0.0027409 ,  0.00499409,  0.00138112,\n",
      "       -0.0088958 , -0.00110289,  0.0018751 , -0.00273164,  0.00446175,\n",
      "        0.00139569,  0.00155032, -0.00066442,  0.01113664, -0.00250611,\n",
      "       -0.00078376, -0.00280202,  0.000166  ,  0.00090984, -0.00257815,\n",
      "        0.00085875, -0.00435161, -0.00222543, -0.00472391,  0.00257208,\n",
      "        0.00463161, -0.00302428,  0.00457858, -0.00003401, -0.00773601,\n",
      "       -0.00186864, -0.00017109,  0.00428087,  0.0002707 , -0.00272474,\n",
      "        0.00155173, -0.00050218,  0.00258359, -0.0029672 , -0.00169625,\n",
      "        0.00320843,  0.00400515, -0.00009626,  0.00420722, -0.00060407,\n",
      "       -0.00737132,  0.00238071, -0.000548  , -0.00149206, -0.00505128,\n",
      "       -0.0003333 , -0.00446077, -0.00648578, -0.00013027, -0.00493035,\n",
      "        0.00531131, -0.00014419,  0.00559888, -0.00618025,  0.00447827,\n",
      "        0.00030469, -0.00435924, -0.00263674, -0.00034624,  0.00096746,\n",
      "        0.00069289, -0.00887454,  0.00144273, -0.0015781 , -0.00065969,\n",
      "        0.00068089, -0.00002962, -0.0025366 ,  0.00305789, -0.00413046,\n",
      "       -0.00036432, -0.00331511, -0.00240755, -0.00531085, -0.00213923,\n",
      "        0.00027081, -0.00111414,  0.00044163, -0.00915267, -0.00718226,\n",
      "       -0.00406501, -0.00377816, -0.00992124, -0.00316511, -0.00006623,\n",
      "       -0.0016756 , -0.0054095 ,  0.00044402, -0.00854928,  0.00362587,\n",
      "        0.00805426, -0.00407502,  0.00146584,  0.0048007 ,  0.00404292,\n",
      "       -0.00406006,  0.00294101, -0.00117009,  0.00165716,  0.00952379,\n",
      "       -0.0018876 ,  0.00508669, -0.00522382, -0.00371762, -0.00061142,\n",
      "       -0.00225445,  0.00006058, -0.00305353, -0.00107813,  0.01035381,\n",
      "        0.00096061,  0.00115026, -0.00379272, -0.00121137, -0.00190099,\n",
      "       -0.00673645, -0.00798964, -0.00352975, -0.00040121, -0.00270866,\n",
      "       -0.00300412,  0.00019964,  0.00332268, -0.00182533, -0.00501369,\n",
      "       -0.00709015, -0.00339693, -0.00684368,  0.00101554,  0.00076245,\n",
      "       -0.0045832 , -0.00841014,  0.00007316, -0.00063086, -0.00867185,\n",
      "       -0.00435892, -0.00606985,  0.00254241,  0.00758247, -0.00379191,\n",
      "       -0.00051906, -0.00115456,  0.00205136, -0.00116788,  0.0026706 ,\n",
      "        0.00138645, -0.00156841,  0.00128699, -0.00024038,  0.00001189,\n",
      "       -0.00474206,  0.00263711,  0.00092766,  0.00176454, -0.00227975,\n",
      "       -0.00585611, -0.00669987,  0.0046847 ,  0.00000372,  0.00451355,\n",
      "        0.00382468,  0.00055757,  0.0058262 , -0.00842506,  0.00544838,\n",
      "        0.00043085, -0.0053941 ,  0.00738389, -0.00139491, -0.00472131,\n",
      "        0.00083626, -0.00063942,  0.00216746,  0.00031964, -0.00495232,\n",
      "        0.00223932, -0.00181427,  0.00101408,  0.00014638,  0.01208313,\n",
      "        0.00022443, -0.00364215,  0.00021774,  0.01056242,  0.00039672,\n",
      "       -0.00251418,  0.0038283 , -0.00270677, -0.0025569 ,  0.00296414,\n",
      "       -0.00109084, -0.00445266, -0.00030845,  0.00532222,  0.00268969,\n",
      "        0.00245191,  0.00122257,  0.0014153 , -0.00158089, -0.0055003 ,\n",
      "       -0.00617348, -0.00198412, -0.00289932,  0.00012805,  0.0012684 ,\n",
      "       -0.00141068, -0.00444291, -0.00322101, -0.0054112 ,  0.00012399,\n",
      "       -0.00068762, -0.00261299,  0.00087192,  0.00136973,  0.00308212,\n",
      "        0.00399355,  0.00031538, -0.00514546, -0.00495391,  0.00087427,\n",
      "       -0.00037291,  0.00831588,  0.004747  , -0.01020436, -0.00020839,\n",
      "       -0.00136789, -0.00143966, -0.00285828,  0.00192772,  0.00530067,\n",
      "       -0.00021782, -0.00084193,  0.00040391, -0.00100059, -0.00304827,\n",
      "       -0.00025812, -0.00076065,  0.00466208,  0.003165  , -0.00639878,\n",
      "       -0.00625278, -0.00571227,  0.00227734, -0.00146856, -0.00193873,\n",
      "       -0.00941397,  0.00412846,  0.00172089, -0.00567118, -0.0018264 ,\n",
      "        0.00280647, -0.00516715, -0.00389196,  0.00031148,  0.00696095,\n",
      "       -0.00250518, -0.00665869,  0.00100592, -0.00586943,  0.00528132,\n",
      "       -0.00206711, -0.00172089,  0.00314282, -0.00351449,  0.00825322,\n",
      "        0.00156193, -0.00378858, -0.00444744, -0.00135566, -0.00540161,\n",
      "       -0.0085846 ,  0.0028582 ,  0.00758596, -0.00659894,  0.0056066 ,\n",
      "        0.00448272, -0.00637052,  0.0018925 ,  0.00196196, -0.00526326,\n",
      "        0.00411042, -0.00239466], dtype=float32)]\n"
     ]
    }
   ],
   "source": [
    "indexlayers = [2,6,10,14]\n",
    "for layerweight in indexlayers:\n",
    "\n",
    "    pre_trained.layers[layerweight].set_weights(weights_list[layerweight])   \n",
    "    print(weights_list[layerweight])\n",
    "\n",
    "\n",
    "for indexlayer in indexlayers:    \n",
    "    layer = pre_trained.layers[indexlayer]\n",
    "    layer.trainable =  False\n"
   ]
  },
  {
   "cell_type": "code",
   "execution_count": null,
   "metadata": {},
   "outputs": [],
   "source": []
  },
  {
   "cell_type": "code",
   "execution_count": 126,
   "metadata": {},
   "outputs": [
    {
     "data": {
      "text/plain": [
       "'/home/pattyry/birds'"
      ]
     },
     "execution_count": 126,
     "metadata": {},
     "output_type": "execute_result"
    }
   ],
   "source": [
    "os.getcwd()"
   ]
  },
  {
   "cell_type": "markdown",
   "metadata": {},
   "source": [
    "### Ferry Data Inputs\n",
    "Pre-proceseed, mapped to same sample rate, transformed to cqt and unrolled into a 2D matrix"
   ]
  },
  {
   "cell_type": "code",
   "execution_count": 127,
   "metadata": {},
   "outputs": [
    {
     "data": {
      "text/plain": [
       "'/home/pattyry/birds/ferry-data/ferry-cqt'"
      ]
     },
     "execution_count": 127,
     "metadata": {},
     "output_type": "execute_result"
    }
   ],
   "source": [
    "os.chdir(birds_home)\n",
    "cwd_ferry_audio = os.path.join(\"./ferry-data\",\"ferry-cqt\")\n",
    "os.chdir(cwd_ferry_audio)\n",
    "os.getcwd()"
   ]
  },
  {
   "cell_type": "code",
   "execution_count": 128,
   "metadata": {},
   "outputs": [
    {
     "name": "stdout",
     "output_type": "stream",
     "text": [
      "(167, 1)\n",
      "(66, 1)\n"
     ]
    }
   ],
   "source": [
    "cqt_y_train =pd.read_csv('y_train.csv', sep=',',header=None)\n",
    "print(cqt_y_train.shape)\n",
    "cqt_y_train = np.asarray(cqt_y_train)\n",
    "\n",
    "cqt_y_test =pd.read_csv('y_test.csv', sep=',',header=None)\n",
    "print(cqt_y_test.shape)\n",
    "cqt_y_test = np.asarray(cqt_y_test)\n"
   ]
  },
  {
   "cell_type": "code",
   "execution_count": 129,
   "metadata": {},
   "outputs": [
    {
     "name": "stdout",
     "output_type": "stream",
     "text": [
      "(66, 7840)\n"
     ]
    }
   ],
   "source": [
    "cqt_x_test =pd.read_csv('x_test.csv', sep=',',header=None)\n",
    "print(cqt_x_test.shape)\n",
    "cqt_x_test = np.asarray(cqt_x_test)"
   ]
  },
  {
   "cell_type": "code",
   "execution_count": 130,
   "metadata": {},
   "outputs": [
    {
     "name": "stdout",
     "output_type": "stream",
     "text": [
      "(167, 7840)\n"
     ]
    }
   ],
   "source": [
    "cqt_x_train =pd.read_csv('x_train.csv', sep=',',header=None)\n",
    "print(cqt_x_train.shape)\n",
    "cqt_x_train = np.asarray(cqt_x_train)"
   ]
  },
  {
   "cell_type": "code",
   "execution_count": 131,
   "metadata": {},
   "outputs": [
    {
     "name": "stdout",
     "output_type": "stream",
     "text": [
      "66\n",
      "167\n",
      "70\n",
      "112\n"
     ]
    }
   ],
   "source": [
    "#Define Single input shape\n",
    "num_test_samples = cqt_x_test.shape[0]\n",
    "num_train_samples = cqt_x_train.shape[0]\n",
    "num_timesteps = 70\n",
    "num_features = 112\n",
    "print(num_test_samples)\n",
    "print(num_train_samples)\n",
    "print(num_timesteps)\n",
    "print(num_features)"
   ]
  },
  {
   "cell_type": "code",
   "execution_count": 132,
   "metadata": {},
   "outputs": [],
   "source": [
    "cqt_x_test = np.array(cqt_x_test).reshape(num_test_samples, num_timesteps, num_features, 1)\n",
    "cqt_x_train = np.array(cqt_x_train).reshape(num_train_samples, num_timesteps, num_features, 1)\n"
   ]
  },
  {
   "cell_type": "code",
   "execution_count": 133,
   "metadata": {},
   "outputs": [],
   "source": [
    "cqt_x_test = np.float32(cqt_x_test)\n",
    "cqt_x_train = np.float32(cqt_x_train)"
   ]
  },
  {
   "cell_type": "code",
   "execution_count": 134,
   "metadata": {},
   "outputs": [
    {
     "name": "stdout",
     "output_type": "stream",
     "text": [
      "(66, 70, 112, 1)\n",
      "(167, 70, 112, 1)\n",
      "(66, 1)\n",
      "(167, 1)\n"
     ]
    }
   ],
   "source": [
    "print(cqt_x_test.shape)\n",
    "print(cqt_x_train.shape)\n",
    "\n",
    "print(cqt_y_test.shape)\n",
    "print(cqt_y_train.shape)"
   ]
  },
  {
   "cell_type": "code",
   "execution_count": null,
   "metadata": {},
   "outputs": [],
   "source": []
  },
  {
   "cell_type": "markdown",
   "metadata": {},
   "source": [
    "### Train Model"
   ]
  },
  {
   "cell_type": "code",
   "execution_count": 135,
   "metadata": {},
   "outputs": [],
   "source": [
    "# If wanted, add class weighting\n",
    "total_len = len(cqt_y_train)\n",
    "class_weight = {0: total_len/len([x for x in cqt_y_train==0 if x]),\n",
    "                1: total_len/len([x for x in cqt_y_train==1 if x])}"
   ]
  },
  {
   "cell_type": "code",
   "execution_count": 136,
   "metadata": {},
   "outputs": [],
   "source": [
    "from_layer = 14\n",
    "\n",
    "for layer in pre_trained.layers[:from_layer]:\n",
    "    layer.trainable =  False"
   ]
  },
  {
   "cell_type": "code",
   "execution_count": 137,
   "metadata": {},
   "outputs": [],
   "source": [
    "mcp_save_ = ModelCheckpoint('best_ferry_pretrained_6-13.hdf5', save_best_only=True, monitor='val_acc', mode='max')\n",
    "reduce_lr = keras.callbacks.ReduceLROnPlateau(monitor='val_loss', \n",
    "                                  factor=.1, \n",
    "                                  patience=2, \n",
    "                                  verbose=0, \n",
    "                                  mode='auto', \n",
    "                                  min_delta=0.0001, \n",
    "                                  cooldown=0, \n",
    "                                  min_lr=0)\n",
    "from tensorflow.keras.callbacks import EarlyStopping"
   ]
  },
  {
   "cell_type": "code",
   "execution_count": 138,
   "metadata": {
    "scrolled": true
   },
   "outputs": [
    {
     "name": "stdout",
     "output_type": "stream",
     "text": [
      "Train on 167 samples, validate on 66 samples\n",
      "Epoch 1/10\n",
      "167/167 [==============================] - 8s 46ms/sample - loss: 143698.7688 - acc: 0.5569 - val_loss: 441.8370 - val_acc: 0.9848\n",
      "Epoch 2/10\n",
      "167/167 [==============================] - 4s 22ms/sample - loss: 74698.0400 - acc: 0.5928 - val_loss: 1112.6076 - val_acc: 0.9015\n",
      "Epoch 3/10\n",
      "167/167 [==============================] - 5s 31ms/sample - loss: 44040.9254 - acc: 0.6527 - val_loss: 0.3315 - val_acc: 1.0000\n",
      "Epoch 4/10\n",
      "167/167 [==============================] - 3s 21ms/sample - loss: 26105.4197 - acc: 0.7395 - val_loss: 144.2677 - val_acc: 0.9773\n",
      "Epoch 5/10\n",
      "167/167 [==============================] - 3s 21ms/sample - loss: 16679.8310 - acc: 0.7695 - val_loss: 0.3315 - val_acc: 1.0000\n",
      "Epoch 6/10\n",
      "167/167 [==============================] - 3s 21ms/sample - loss: 19367.4816 - acc: 0.7575 - val_loss: 0.3315 - val_acc: 1.0000\n",
      "Epoch 7/10\n",
      "167/167 [==============================] - 3s 21ms/sample - loss: 16036.1050 - acc: 0.7874 - val_loss: 0.3315 - val_acc: 1.0000\n",
      "Epoch 8/10\n",
      "167/167 [==============================] - 3s 21ms/sample - loss: 21644.1386 - acc: 0.7605 - val_loss: 0.3315 - val_acc: 1.0000\n",
      "Epoch 9/10\n",
      "167/167 [==============================] - 3s 21ms/sample - loss: 17627.3037 - acc: 0.7515 - val_loss: 0.3315 - val_acc: 1.0000\n",
      "Epoch 10/10\n",
      "167/167 [==============================] - 3s 21ms/sample - loss: 19469.7310 - acc: 0.7485 - val_loss: 0.3315 - val_acc: 1.0000\n"
     ]
    }
   ],
   "source": [
    "history = pre_trained.fit([cqt_x_train],[to_categorical(cqt_y_train)], \n",
    "                         epochs=10, \n",
    "                         batch_size=8,\n",
    "                         validation_data=([cqt_x_test], to_categorical(cqt_y_test)),\n",
    "                         callbacks=[mcp_save_, reduce_lr],\n",
    "                         class_weight=class_weight)"
   ]
  },
  {
   "cell_type": "code",
   "execution_count": 139,
   "metadata": {},
   "outputs": [
    {
     "data": {
      "image/png": "[encoded data removed]",
      "text/plain": [
       "<Figure size 432x288 with 1 Axes>"
      ]
     },
     "metadata": {},
     "output_type": "display_data"
    }
   ],
   "source": [
    "import matplotlib.pyplot as plt\n",
    "#Accuracy\n",
    "plt.plot(history.history['acc'])\n",
    "plt.plot(history.history['val_acc'])\n",
    "plt.title('model accuracy')\n",
    "plt.ylabel('accuracy')\n",
    "plt.xlabel('epoch')\n",
    "plt.legend(['train', 'validation'], loc='upper left')\n",
    "plt.show()"
   ]
  },
  {
   "cell_type": "code",
   "execution_count": 140,
   "metadata": {},
   "outputs": [
    {
     "data": {
      "image/png": "[encoded data removed]",
      "text/plain": [
       "<Figure size 432x288 with 1 Axes>"
      ]
     },
     "metadata": {},
     "output_type": "display_data"
    }
   ],
   "source": [
    "plt.plot(history.history['loss'])\n",
    "plt.plot(history.history['val_loss'])\n",
    "plt.title('model loss')\n",
    "plt.ylabel('loss')\n",
    "plt.xlabel('epoch')\n",
    "plt.legend(['train', 'validation'], loc='upper left')\n",
    "plt.show()"
   ]
  },
  {
   "cell_type": "code",
   "execution_count": null,
   "metadata": {},
   "outputs": [],
   "source": []
  },
  {
   "cell_type": "code",
   "execution_count": null,
   "metadata": {},
   "outputs": [],
   "source": []
  },
  {
   "cell_type": "code",
   "execution_count": 141,
   "metadata": {},
   "outputs": [],
   "source": [
    "## Without pretraining"
   ]
  },
  {
   "cell_type": "code",
   "execution_count": 146,
   "metadata": {},
   "outputs": [],
   "source": [
    "def get_model3():\n",
    "    with tf.device(\"GPU:1\"):\n",
    "        nclass = 2\n",
    "        initializer1 = tf.keras.initializers.RandomNormal\n",
    "        initializer2 = tf.keras.initializers.Zeros()\n",
    "        initializer3 = tf.keras.initializers.glorot_uniform(seed=None)\n",
    "        initializer4 = tf.keras.initializers.lecun_normal(seed=None)\n",
    "        initializer5 = tf.keras.initializers.TruncatedNormal(mean=0., stddev=1.)\n",
    "\n",
    "        inp = Input(shape=cqt_input_shape)\n",
    "        img_1 = LeakyReLU(alpha=0.3)(inp)\n",
    "        img_1 = Conv2D(128, kernel_size=(7,7), \n",
    "                       kernel_initializer=initializer4,  \n",
    "                       #trainable = False,\n",
    "                       kernel_regularizer = regularizers.l2(0.001),         \n",
    "                       #use_bias=True, \n",
    "                       #bias_initializer=initializers.Zeros(),\n",
    "                       padding=\"valid\")(img_1)\n",
    "        img_1 = Dropout(0.3)(img_1)\n",
    "        img_1 = LeakyReLU(alpha=0.2)(img_1)\n",
    "        img_1 = MaxPooling2D()(img_1)\n",
    "        img_1 = Conv2D(128, kernel_size=(3,3),       \n",
    "                       kernel_initializer=initializer4, \n",
    "                       #trainable = False,\n",
    "                       kernel_regularizer = regularizers.l2(0.001),            \n",
    "                       #use_bias=True, \n",
    "                       #bias_initializer=initializers.Zeros(),\n",
    "                       padding=\"valid\")(img_1)\n",
    "        img_1 = LeakyReLU(alpha=0.2)(img_1)\n",
    "        img_1 = MaxPooling2D()(img_1)\n",
    "        img_1 = Dropout(0.3)(img_1)\n",
    "        img_1 = Conv2D(256, kernel_size=(3,3),       \n",
    "                       kernel_initializer=initializer4, \n",
    "                       kernel_regularizer = regularizers.l2(0.001), \n",
    "                       #trainable = False,\n",
    "                       #use_bias=True, \n",
    "                       #bias_initializer=initializers.Zeros(),\n",
    "                       padding=\"valid\")(img_1)\n",
    "        img_1 = LeakyReLU(alpha=0.2)(img_1)\n",
    "        img_1 = Dropout(0.5)(img_1)   \n",
    "        img_1 = Flatten()(img_1)      \n",
    "        img_1 = Dense(512, \n",
    "                      # kernel_initializer=initializer4,  \n",
    "                      kernel_regularizer = regularizers.l2(0.001),\n",
    "                      # trainable = False,\n",
    "                     )(img_1)\n",
    "        img_1 = LeakyReLU(alpha=0.2)(img_1)\n",
    "        img_1 = Dropout(0.5)(img_1)   \n",
    "        \n",
    "        img_1 = Dense(128, kernel_initializer=initializer4, trainable = True,\n",
    "                             kernel_regularizer = regularizers.l2(0.01),\n",
    "                             use_bias=True, \n",
    "                             bias_initializer=initializer4,\n",
    "                            )(img_1)\n",
    "        img_1 = LeakyReLU(alpha=0.2)(img_1)\n",
    "        img_1 = Dropout(0.5)(img_1)   \n",
    "        \n",
    "        img_1 = Dense(32, kernel_initializer=initializer4, trainable = True,\n",
    "                             kernel_regularizer = regularizers.l2(0.01),\n",
    "                             use_bias=True, \n",
    "                             bias_initializer=initializer4,\n",
    "                            )(img_1)\n",
    "        img_1 = LeakyReLU(alpha=0.2)(img_1)\n",
    "        img_1 = Dropout(0.3)(img_1)   \n",
    "\n",
    "\n",
    "        output_layer = Dense(2,activation=activations.sigmoid)(img_1)\n",
    "        model = models.Model(inputs=[inp], outputs=[output_layer])\n",
    "        opt = optimizers.Adam(lr=0.00005, beta_1=0.9, beta_2=0.999, epsilon=1e-5, decay=.03, amsgrad=False)\n",
    "        model.compile(optimizer=opt, loss=losses.binary_crossentropy, metrics=['acc'])\n",
    "\n",
    "        model.summary()\n",
    "\n",
    "\n",
    "        return model"
   ]
  },
  {
   "cell_type": "code",
   "execution_count": 147,
   "metadata": {},
   "outputs": [
    {
     "name": "stdout",
     "output_type": "stream",
     "text": [
      "Model: \"model_2\"\n",
      "_________________________________________________________________\n",
      "Layer (type)                 Output Shape              Param #   \n",
      "=================================================================\n",
      "input_3 (InputLayer)         [(None, 70, 112, 1)]      0         \n",
      "_________________________________________________________________\n",
      "leaky_re_lu_14 (LeakyReLU)   (None, 70, 112, 1)        0         \n",
      "_________________________________________________________________\n",
      "conv2d_6 (Conv2D)            (None, 64, 106, 128)      6400      \n",
      "_________________________________________________________________\n",
      "dropout_12 (Dropout)         (None, 64, 106, 128)      0         \n",
      "_________________________________________________________________\n",
      "leaky_re_lu_15 (LeakyReLU)   (None, 64, 106, 128)      0         \n",
      "_________________________________________________________________\n",
      "max_pooling2d_4 (MaxPooling2 (None, 32, 53, 128)       0         \n",
      "_________________________________________________________________\n",
      "conv2d_7 (Conv2D)            (None, 30, 51, 128)       147584    \n",
      "_________________________________________________________________\n",
      "leaky_re_lu_16 (LeakyReLU)   (None, 30, 51, 128)       0         \n",
      "_________________________________________________________________\n",
      "max_pooling2d_5 (MaxPooling2 (None, 15, 25, 128)       0         \n",
      "_________________________________________________________________\n",
      "dropout_13 (Dropout)         (None, 15, 25, 128)       0         \n",
      "_________________________________________________________________\n",
      "conv2d_8 (Conv2D)            (None, 13, 23, 256)       295168    \n",
      "_________________________________________________________________\n",
      "leaky_re_lu_17 (LeakyReLU)   (None, 13, 23, 256)       0         \n",
      "_________________________________________________________________\n",
      "dropout_14 (Dropout)         (None, 13, 23, 256)       0         \n",
      "_________________________________________________________________\n",
      "flatten_2 (Flatten)          (None, 76544)             0         \n",
      "_________________________________________________________________\n",
      "dense_8 (Dense)              (None, 512)               39191040  \n",
      "_________________________________________________________________\n",
      "leaky_re_lu_18 (LeakyReLU)   (None, 512)               0         \n",
      "_________________________________________________________________\n",
      "dropout_15 (Dropout)         (None, 512)               0         \n",
      "_________________________________________________________________\n",
      "dense_9 (Dense)              (None, 128)               65664     \n",
      "_________________________________________________________________\n",
      "leaky_re_lu_19 (LeakyReLU)   (None, 128)               0         \n",
      "_________________________________________________________________\n",
      "dropout_16 (Dropout)         (None, 128)               0         \n",
      "_________________________________________________________________\n",
      "dense_10 (Dense)             (None, 32)                4128      \n",
      "_________________________________________________________________\n",
      "leaky_re_lu_20 (LeakyReLU)   (None, 32)                0         \n",
      "_________________________________________________________________\n",
      "dropout_17 (Dropout)         (None, 32)                0         \n",
      "_________________________________________________________________\n",
      "dense_11 (Dense)             (None, 2)                 66        \n",
      "=================================================================\n",
      "Total params: 39,710,050\n",
      "Trainable params: 39,710,050\n",
      "Non-trainable params: 0\n",
      "_________________________________________________________________\n"
     ]
    }
   ],
   "source": [
    "not_pre_trained = get_model3()"
   ]
  },
  {
   "cell_type": "code",
   "execution_count": 148,
   "metadata": {},
   "outputs": [
    {
     "name": "stdout",
     "output_type": "stream",
     "text": [
      "Train on 167 samples, validate on 66 samples\n",
      "Epoch 1/10\n",
      "167/167 [==============================] - 7s 40ms/sample - loss: 92823.3010 - acc: 0.5150 - val_loss: 14400.5997 - val_acc: 0.5000\n",
      "Epoch 2/10\n",
      "167/167 [==============================] - 4s 26ms/sample - loss: 57712.8979 - acc: 0.5240 - val_loss: 7016.6745 - val_acc: 0.5000\n",
      "Epoch 3/10\n",
      "167/167 [==============================] - 4s 26ms/sample - loss: 33664.1810 - acc: 0.5898 - val_loss: 4396.6293 - val_acc: 0.5000\n",
      "Epoch 4/10\n",
      "167/167 [==============================] - 4s 26ms/sample - loss: 28128.7382 - acc: 0.5808 - val_loss: 2806.2149 - val_acc: 0.5000\n",
      "Epoch 5/10\n",
      "167/167 [==============================] - 4s 26ms/sample - loss: 32255.6131 - acc: 0.5210 - val_loss: 2728.9409 - val_acc: 0.5000\n",
      "Epoch 6/10\n",
      "167/167 [==============================] - 4s 26ms/sample - loss: 20560.3543 - acc: 0.5569 - val_loss: 1351.9545 - val_acc: 0.5000\n",
      "Epoch 7/10\n",
      "167/167 [==============================] - 4s 26ms/sample - loss: 21894.8706 - acc: 0.5509 - val_loss: 1036.1243 - val_acc: 0.5303\n",
      "Epoch 8/10\n",
      "167/167 [==============================] - 4s 26ms/sample - loss: 18831.9868 - acc: 0.5629 - val_loss: 1928.3823 - val_acc: 0.5152\n",
      "Epoch 9/10\n",
      "167/167 [==============================] - 4s 26ms/sample - loss: 19543.4753 - acc: 0.5509 - val_loss: 2367.7539 - val_acc: 0.5000\n",
      "Epoch 10/10\n",
      "167/167 [==============================] - 4s 25ms/sample - loss: 15362.6039 - acc: 0.6138 - val_loss: 2312.3908 - val_acc: 0.5000\n"
     ]
    }
   ],
   "source": [
    "history_not_pretrained = not_pre_trained.fit([cqt_x_train],[to_categorical(cqt_y_train)], \n",
    "                         epochs=10, \n",
    "                         batch_size=8,\n",
    "                         validation_data=([cqt_x_test], to_categorical(cqt_y_test)),\n",
    "                         callbacks=[mcp_save_, reduce_lr],\n",
    "                         class_weight=class_weight)"
   ]
  },
  {
   "cell_type": "code",
   "execution_count": null,
   "metadata": {},
   "outputs": [],
   "source": []
  },
  {
   "cell_type": "code",
   "execution_count": null,
   "metadata": {},
   "outputs": [],
   "source": []
  },
  {
   "cell_type": "code",
   "execution_count": null,
   "metadata": {},
   "outputs": [],
   "source": []
  }
 ],
 "metadata": {
  "kernelspec": {
   "display_name": "Python [conda env:gansynth]",
   "language": "python",
   "name": "conda-env-gansynth-py"
  },
  "language_info": {
   "codemirror_mode": {
    "name": "ipython",
    "version": 3
   },
   "file_extension": ".py",
   "mimetype": "text/x-python",
   "name": "python",
   "nbconvert_exporter": "python",
   "pygments_lexer": "ipython3",
   "version": "3.6.8"
  }
 },
 "nbformat": 4,
 "nbformat_minor": 2
}
