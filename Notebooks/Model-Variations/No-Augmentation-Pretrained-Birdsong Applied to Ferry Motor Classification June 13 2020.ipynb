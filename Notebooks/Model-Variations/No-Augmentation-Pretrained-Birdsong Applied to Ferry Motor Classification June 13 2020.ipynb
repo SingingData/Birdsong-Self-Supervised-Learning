{
 "cells": [
  {
   "cell_type": "markdown",
   "metadata": {},
   "source": [
    "## 1--Spec with Ferry Downstream Task\n",
    "## Wav Temporal Order Self-Supervised Learning from Birdsong Applied to Ferry Motor Classification.\n",
    "Self-Supervised Model, Extracted Weights, and Load into Custom Model"
   ]
  },
  {
   "cell_type": "markdown",
   "metadata": {},
   "source": [
    "Last Updated Date June 10\n"
   ]
  },
  {
   "cell_type": "code",
   "execution_count": 1,
   "metadata": {},
   "outputs": [],
   "source": [
    "from __future__ import print_function\n",
    "%matplotlib inline\n",
    "import matplotlib as plt\n",
    "plt.style.use('seaborn-white')\n",
    "from IPython.display import Markdown, display\n",
    "from IPython.display import SVG\n",
    "import numpy as np\n",
    "from time import time\n",
    "np.random.seed(10)\n",
    "import tensorflow as tf\n",
    "import pandas as pd\n",
    "import pyAudioAnalysis\n",
    "from pyAudioAnalysis import audioBasicIO\n",
    "from pyAudioAnalysis import ShortTermFeatures, MidTermFeatures\n",
    "import matplotlib.pyplot as plt\n",
    "import resampy\n",
    "import librosa\n",
    "from librosa import cqt\n",
    "\n",
    "import scipy.io.wavfile as wavfile \n",
    "import librosa\n",
    "import plotly\n",
    "import numpy as np\n",
    "import plotly.graph_objs as go\n",
    "from scipy.signal import medfilt as mf\n",
    "\n",
    "\n",
    "\n",
    "import os\n",
    "import os.path\n",
    "from os.path import isfile, join\n",
    "from os import listdir\n",
    "import sklearn\n",
    "from sklearn import preprocessing\n",
    "import scipy.io.wavfile as wavfile\n",
    "np.set_printoptions(suppress=True)\n",
    "import argparse\n",
    "from pydub import AudioSegment\n",
    "import random"
   ]
  },
  {
   "cell_type": "code",
   "execution_count": 78,
   "metadata": {},
   "outputs": [
    {
     "data": {
      "text/plain": [
       "'/home/pattyry/birds'"
      ]
     },
     "execution_count": 78,
     "metadata": {},
     "output_type": "execute_result"
    }
   ],
   "source": [
    "birds_home = os.path.join('/home/pattyry/birds/')\n",
    "#cwd_audio = os.path.join(\"..\",\"..\",\"birds\")\n",
    "os.chdir(birds_home)\n",
    "os.getcwd()"
   ]
  },
  {
   "cell_type": "code",
   "execution_count": 77,
   "metadata": {},
   "outputs": [
    {
     "name": "stdout",
     "output_type": "stream",
     "text": [
      "./cqt-sequences_train\n"
     ]
    }
   ],
   "source": [
    "cqt_train = os.path.join('./cqt-sequences_train')\n",
    "cqt_test = os.path.join('./cqt-sequences_test')\n",
    "spec_cqt_train = os.path.join('./spec-aug-sequences_train')\n",
    "spec_cqt_test = os.path.join('./spec-aug-sequences_test')\n",
    "new_train_test = os.path.join('./new-train-test')\n",
    "print(cqt_train)"
   ]
  },
  {
   "cell_type": "code",
   "execution_count": 4,
   "metadata": {},
   "outputs": [],
   "source": [
    "nb_classes = 2\n",
    "img_rows, img_cols = 70, 112"
   ]
  },
  {
   "cell_type": "code",
   "execution_count": 5,
   "metadata": {},
   "outputs": [
    {
     "data": {
      "text/plain": [
       "'/home/pattyry/birds/cqt-sequences_train'"
      ]
     },
     "execution_count": 5,
     "metadata": {},
     "output_type": "execute_result"
    }
   ],
   "source": [
    "os.chdir(birds_home)\n",
    "os.chdir(cqt_train)\n",
    "os.getcwd()"
   ]
  },
  {
   "cell_type": "code",
   "execution_count": 6,
   "metadata": {},
   "outputs": [
    {
     "name": "stdout",
     "output_type": "stream",
     "text": [
      "(763, 7840)\n",
      "(763, 7840)\n",
      "(763, 7840)\n",
      "(763, 7840)\n",
      "(763, 2)\n"
     ]
    }
   ],
   "source": [
    "train_x_cqt_1=pd.read_csv('a_train_cqt.csv', sep=',',header=None)\n",
    "print(train_x_cqt_1.shape)\n",
    "train_x_cqt_1 = np.asarray(train_x_cqt_1)\n",
    "\n",
    "train_x_cqt_2=pd.read_csv('b_train_cqt.csv', sep=',',header=None)\n",
    "print(train_x_cqt_2.shape)\n",
    "train_x_cqt_2 = np.asarray(train_x_cqt_2)\n",
    "\n",
    "train_x_cqt_3=pd.read_csv('c_train_cqt.csv', sep=',',header=None)\n",
    "print(train_x_cqt_3.shape)\n",
    "train_x_cqt_3 = np.asarray(train_x_cqt_3)\n",
    "\n",
    "train_x_cqt_4=pd.read_csv('d_train_cqt.csv', sep=',',header=None)\n",
    "print(train_x_cqt_4.shape)\n",
    "train_x_cqt_4 = np.asarray(train_x_cqt_4)\n",
    "\n",
    "\n",
    "train_y_cqt=pd.read_csv('labels_train_cqt.csv', sep=',',header=None)\n",
    "print(train_y_cqt.shape)\n",
    "train_y_cqt = np.asarray(train_y_cqt)\n"
   ]
  },
  {
   "cell_type": "code",
   "execution_count": 7,
   "metadata": {},
   "outputs": [
    {
     "data": {
      "text/plain": [
       "'/home/pattyry/birds/cqt-sequences_test'"
      ]
     },
     "execution_count": 7,
     "metadata": {},
     "output_type": "execute_result"
    }
   ],
   "source": [
    "os.chdir(birds_home)\n",
    "os.chdir(cqt_test)\n",
    "os.getcwd()"
   ]
  },
  {
   "cell_type": "code",
   "execution_count": 8,
   "metadata": {},
   "outputs": [
    {
     "name": "stdout",
     "output_type": "stream",
     "text": [
      "(489, 7840)\n",
      "(489, 7840)\n",
      "(489, 7840)\n",
      "(489, 7840)\n",
      "(489, 2)\n"
     ]
    }
   ],
   "source": [
    "test_x_cqt_1=pd.read_csv('a_test_cqt.csv', sep=',',header=None)\n",
    "print(test_x_cqt_1.shape)\n",
    "test_x_cqt_1 = np.asarray(test_x_cqt_1)\n",
    "\n",
    "test_x_cqt_2=pd.read_csv('b_test_cqt.csv', sep=',',header=None)\n",
    "print(test_x_cqt_2.shape)\n",
    "test_x_cqt_2 = np.asarray(test_x_cqt_2)\n",
    "\n",
    "test_x_cqt_3=pd.read_csv('c_test_cqt.csv', sep=',',header=None)\n",
    "print(test_x_cqt_3.shape)\n",
    "test_x_cqt_3 = np.asarray(test_x_cqt_3)\n",
    "\n",
    "test_x_cqt_4=pd.read_csv('d_test_cqt.csv', sep=',',header=None)\n",
    "print(test_x_cqt_4.shape)\n",
    "test_x_cqt_4 = np.asarray(test_x_cqt_4)\n",
    "\n",
    "test_y_cqt=pd.read_csv('labels_test_cqt.csv', sep=',',header=None)\n",
    "print(test_y_cqt.shape)\n",
    "test_y_cqt = np.asarray(test_y_cqt)"
   ]
  },
  {
   "cell_type": "code",
   "execution_count": 9,
   "metadata": {},
   "outputs": [
    {
     "data": {
      "text/plain": [
       "['b_train.csv',\n",
       " 'labels_test.csv',\n",
       " 'd_train.csv',\n",
       " 'a_train.csv',\n",
       " 'c_train.csv',\n",
       " 'labels_train.csv']"
      ]
     },
     "execution_count": 9,
     "metadata": {},
     "output_type": "execute_result"
    }
   ],
   "source": [
    "os.chdir(birds_home)\n",
    "os.chdir(spec_cqt_train)\n",
    "os.getcwd()\n",
    "os.listdir()"
   ]
  },
  {
   "cell_type": "code",
   "execution_count": 10,
   "metadata": {},
   "outputs": [],
   "source": [
    "# train_x_spec_1=pd.read_csv('a_train.csv', sep=',',header=None)\n",
    "# print(train_x_spec_1.shape)\n",
    "# train_x_spec_1 = np.asarray(train_x_spec_1)\n",
    "\n",
    "# train_x_spec_2=pd.read_csv('b_train.csv', sep=',',header=None)\n",
    "# print(train_x_spec_2.shape)\n",
    "# train_x_spec_2 = np.asarray(train_x_spec_2)\n",
    "\n",
    "# train_x_spec_3=pd.read_csv('c_train.csv', sep=',',header=None)\n",
    "# print(train_x_spec_3.shape)\n",
    "# train_x_spec_3 = np.asarray(train_x_spec_3)\n",
    "\n",
    "# train_x_spec_4=pd.read_csv('d_train.csv', sep=',',header=None)\n",
    "# print(train_x_spec_4.shape)\n",
    "# train_x_spec_4 = np.asarray(train_x_spec_4)\n",
    "\n",
    "# train_y_spec=pd.read_csv('labels_train.csv', sep=',',header=None)\n",
    "# print(train_y_spec.shape)\n",
    "# train_y_spec = np.asarray(train_y_spec)"
   ]
  },
  {
   "cell_type": "code",
   "execution_count": 11,
   "metadata": {},
   "outputs": [
    {
     "data": {
      "text/plain": [
       "['labels_test.csv', 'b_test.csv', 'a_test.csv', 'd_test.csv', 'c_test.csv']"
      ]
     },
     "execution_count": 11,
     "metadata": {},
     "output_type": "execute_result"
    }
   ],
   "source": [
    "os.chdir(birds_home)\n",
    "os.chdir(spec_cqt_test)\n",
    "os.getcwd()\n",
    "os.listdir()"
   ]
  },
  {
   "cell_type": "code",
   "execution_count": 12,
   "metadata": {},
   "outputs": [
    {
     "name": "stdout",
     "output_type": "stream",
     "text": [
      "(489, 7840)\n",
      "(489, 7840)\n",
      "(489, 7840)\n",
      "(489, 7840)\n",
      "(489, 2)\n"
     ]
    }
   ],
   "source": [
    "test_x_spec_1=pd.read_csv('a_test.csv', sep=',',header=None)\n",
    "print(test_x_spec_1.shape)\n",
    "test_x_spec_1 = np.asarray(test_x_spec_1)\n",
    "\n",
    "test_x_spec_2=pd.read_csv('b_test.csv', sep=',',header=None)\n",
    "print(test_x_spec_2.shape)\n",
    "test_x_spec_2 = np.asarray(test_x_spec_2)\n",
    "\n",
    "test_x_spec_3=pd.read_csv('c_test.csv', sep=',',header=None)\n",
    "print(test_x_spec_3.shape)\n",
    "test_x_spec_3 = np.asarray(test_x_spec_3)\n",
    "\n",
    "test_x_spec_4=pd.read_csv('d_test.csv', sep=',',header=None)\n",
    "print(test_x_spec_4.shape)\n",
    "test_x_spec_4 = np.asarray(test_x_spec_4)\n",
    "\n",
    "test_y_spec=pd.read_csv('labels_test.csv', sep=',',header=None)\n",
    "print(test_y_spec.shape)\n",
    "test_y_spec = np.asarray(test_y_spec)"
   ]
  },
  {
   "cell_type": "code",
   "execution_count": 13,
   "metadata": {},
   "outputs": [],
   "source": [
    "# Build sets of Samples\n",
    "# Positive Sequence \n",
    "# a, b, c\n",
    "# Negative Sequences:\n",
    "# b, a, d\n",
    "# d, a, b\n",
    "\n",
    "# train_x_cqt_1, train_x_cqt_2, train_x_cqt_3, train_x_cqt_4\n",
    "# test_x_cqt_1, test_x_cqt_2, test_x_cqt_3, test_x_cqt_4\n",
    "# train_y_cqt\n",
    "# test_y_cqt\n",
    "\n",
    "# train_x_spec_1, train_x_spec_2, train_x_spec_3, train_x_spec_4\n",
    "# test_x_spec_1, test_x_spec_2, test_x_spec_3, test_x_spec_4\n",
    "# train_y_spec\n",
    "# test_y_spec"
   ]
  },
  {
   "cell_type": "code",
   "execution_count": 14,
   "metadata": {},
   "outputs": [
    {
     "name": "stdout",
     "output_type": "stream",
     "text": [
      "(763, 1)\n",
      "(489, 1)\n",
      "(763, 1)\n",
      "(489, 1)\n"
     ]
    }
   ],
   "source": [
    "samples_train = len(train_x_cqt_1)\n",
    "samples_test = len(test_x_cqt_1)\n",
    "\n",
    "train_labels_positive = np.full((samples_train, 1), 1)\n",
    "print(train_labels_positive.shape)\n",
    "\n",
    "test_labels_positive = np.full((samples_test, 1), 1)\n",
    "print(test_labels_positive.shape)\n",
    "\n",
    "train_labels_negative = np.full((samples_train, 1), 0)\n",
    "print(train_labels_negative.shape)\n",
    "\n",
    "test_labels_negative = np.full((samples_test, 1), 0)\n",
    "print(test_labels_negative.shape)"
   ]
  },
  {
   "cell_type": "code",
   "execution_count": 15,
   "metadata": {},
   "outputs": [],
   "source": [
    "positive_train_type1_cqt = np.concatenate((train_x_cqt_1, train_x_cqt_2, train_x_cqt_3, train_labels_positive), axis=1)\n",
    "positive_test_type1_cqt = np.concatenate((test_x_cqt_1, test_x_cqt_2, test_x_cqt_3, test_labels_positive), axis=1)\n",
    "\n",
    "negative_train_type2_cqt = np.concatenate((train_x_cqt_2, train_x_cqt_1, train_x_cqt_4, train_labels_negative), axis=1)\n",
    "negative_test_type2_cqt = np.concatenate((test_x_cqt_2, test_x_cqt_1, test_x_cqt_4, test_labels_negative), axis=1)\n",
    "\n",
    "negative_train_type3_cqt = np.concatenate((train_x_cqt_4, train_x_cqt_1, train_x_cqt_2, train_labels_negative), axis=1)\n",
    "negative_test_type3_cqt = np.concatenate((test_x_cqt_4, test_x_cqt_1, test_x_cqt_2, test_labels_negative), axis=1)"
   ]
  },
  {
   "cell_type": "code",
   "execution_count": 18,
   "metadata": {},
   "outputs": [],
   "source": [
    "# positive_train_type1_spec = np.concatenate((train_x_spec_1, train_x_spec_2, train_x_spec_3, train_labels_positive), axis=1)\n",
    "# positive_test_type1_spec = np.concatenate((test_x_spec_1, test_x_spec_2, test_x_spec_3, test_labels_positive), axis=1)\n",
    "\n",
    "# negative_train_type2_spec = np.concatenate((train_x_spec_2, train_x_spec_1, train_x_spec_4, train_labels_negative), axis=1)\n",
    "# negative_test_type2_spec = np.concatenate((test_x_spec_2, test_x_spec_1, test_x_spec_4, test_labels_negative), axis=1)\n",
    "\n",
    "# negative_train_type3_spec = np.concatenate((train_x_spec_4, train_x_spec_1, train_x_spec_2, train_labels_negative), axis=1)\n",
    "# negative_test_type3_spec = np.concatenate((test_x_spec_4, test_x_spec_1, test_x_spec_2, test_labels_negative), axis=1)"
   ]
  },
  {
   "cell_type": "code",
   "execution_count": 19,
   "metadata": {},
   "outputs": [
    {
     "name": "stdout",
     "output_type": "stream",
     "text": [
      "(2289, 23521)\n",
      "(1467, 23521)\n"
     ]
    }
   ],
   "source": [
    "train_cqt = np.append(positive_train_type1_cqt, negative_train_type2_cqt, axis=0)\n",
    "train_cqt = np.append(train_cqt, negative_train_type3_cqt, axis=0)\n",
    "print(train_cqt.shape)\n",
    "\n",
    "test_cqt = np.append(positive_test_type1_cqt,negative_test_type2_cqt, axis=0)\n",
    "test_cqt = np.append(test_cqt,negative_test_type3_cqt, axis=0)\n",
    "print(test_cqt.shape)"
   ]
  },
  {
   "cell_type": "code",
   "execution_count": 20,
   "metadata": {},
   "outputs": [],
   "source": [
    "train_cqt = np.append(positive_train_type1_cqt, negative_train_type2_cqt, axis=0)\n",
    "test_cqt = np.append(positive_test_type1_cqt,negative_test_type2_cqt, axis=0)"
   ]
  },
  {
   "cell_type": "code",
   "execution_count": 22,
   "metadata": {},
   "outputs": [],
   "source": [
    "# train_spec = np.append(positive_train_type1_spec, negative_train_type2_spec, axis=0)\n",
    "# train_spec = np.append(train_spec, negative_train_type3_spec, axis=0)\n",
    "# print(train_spec.shape)\n",
    "\n",
    "# test_spec = np.append(positive_test_type1_spec,negative_test_type2_spec, axis=0)\n",
    "# test_spec = np.append(test_spec,negative_test_type3_spec, axis=0)\n",
    "# print(test_spec.shape)"
   ]
  },
  {
   "cell_type": "code",
   "execution_count": 23,
   "metadata": {},
   "outputs": [],
   "source": [
    "# train_cqt, test_cqt\n",
    "# train_spec, test_spec"
   ]
  },
  {
   "cell_type": "code",
   "execution_count": 24,
   "metadata": {},
   "outputs": [
    {
     "data": {
      "text/plain": [
       "['self-supervised-temporal-order-2-6-14.hdf5',\n",
       " 'spec-augment-only-aug-self-supervised-temporal-order--6-14b.hdf5',\n",
       " 'spec-augment-only-aug-self-supervised-temporal-order--6-14.hdf5',\n",
       " 'ferry-data',\n",
       " 'birds-notebooks',\n",
       " 'time-stretch-train',\n",
       " 'resampled-train',\n",
       " 'pitch-shifted_test',\n",
       " 'spec-aug-sequences_test',\n",
       " 'cqt-sequences_test',\n",
       " 'cqt-sequences_train',\n",
       " 'spec-aug-sequences_train',\n",
       " 'old-train-test',\n",
       " 'spec-and-pitchshift-aug-self-supervised-temporal-order--6-14.hdf5',\n",
       " 'pitchshift-only-aug-self-supervised-temporal-order--6-14b.hdf5',\n",
       " 'pitch-shifted_train',\n",
       " 'pitchshift-only-aug-self-supervised-temporal-order--6-14.hdf5',\n",
       " 'new-train-test',\n",
       " 'resampled-test',\n",
       " 'time_stretch-only-aug-self-supervised-temporal-order--6-14.hdf5',\n",
       " 'file-index']"
      ]
     },
     "execution_count": 24,
     "metadata": {},
     "output_type": "execute_result"
    }
   ],
   "source": [
    "os.chdir(birds_home)\n",
    "#os.chdir(spec_cqt_test)\n",
    "os.getcwd()\n",
    "os.listdir()"
   ]
  },
  {
   "cell_type": "code",
   "execution_count": 25,
   "metadata": {},
   "outputs": [],
   "source": [
    "np.random.shuffle(train_cqt)\n",
    "np.random.shuffle(test_cqt)\n"
   ]
  },
  {
   "cell_type": "code",
   "execution_count": 26,
   "metadata": {},
   "outputs": [],
   "source": [
    "# np.random.shuffle(train_spec)\n",
    "# np.random.shuffle(test_spec)"
   ]
  },
  {
   "cell_type": "code",
   "execution_count": 27,
   "metadata": {},
   "outputs": [
    {
     "name": "stdout",
     "output_type": "stream",
     "text": [
      "23521\n"
     ]
    }
   ],
   "source": [
    "unrolled_cols = train_cqt.shape[1]\n",
    "print(unrolled_cols)"
   ]
  },
  {
   "cell_type": "code",
   "execution_count": 29,
   "metadata": {},
   "outputs": [
    {
     "name": "stdout",
     "output_type": "stream",
     "text": [
      "(1526,)\n",
      "(978,)\n"
     ]
    }
   ],
   "source": [
    "train_cqt_y = train_cqt[:,-1]\n",
    "test_cqt_y = test_cqt[:,-1]\n",
    "\n",
    "print(train_cqt_y.shape)\n",
    "print(test_cqt_y.shape)\n",
    "\n",
    "# train_spec_y = train_spec[:,-1]\n",
    "# test_spec_y = test_spec[:,-1]\n",
    "\n",
    "# print(train_spec_y.shape)\n",
    "# print(test_spec_y.shape)"
   ]
  },
  {
   "cell_type": "code",
   "execution_count": 30,
   "metadata": {},
   "outputs": [
    {
     "name": "stdout",
     "output_type": "stream",
     "text": [
      "(1526, 23520)\n",
      "(978, 23520)\n"
     ]
    }
   ],
   "source": [
    "train_cqt_x = train_cqt[:,0:(unrolled_cols-1)]\n",
    "print(train_cqt_x.shape)\n",
    "\n",
    "# train_spec_x = train_spec[:,0:(unrolled_cols-1)]\n",
    "# print(train_spec_x.shape)\n",
    "\n",
    "test_cqt_x = test_cqt[:,0:(unrolled_cols-1)]\n",
    "print(test_cqt_x.shape)\n",
    "\n",
    "# test_spec_x = test_spec[:,0:(unrolled_cols-1)]\n",
    "# print(test_spec_x.shape)"
   ]
  },
  {
   "cell_type": "code",
   "execution_count": 31,
   "metadata": {},
   "outputs": [
    {
     "name": "stdout",
     "output_type": "stream",
     "text": [
      "/home/pattyry/birds/new-train-test\n"
     ]
    },
    {
     "data": {
      "text/plain": [
       "['train_pitch_y.csv',\n",
       " 'test_cqt_y.csv',\n",
       " 'train_spec_x.csv',\n",
       " 'test_spec_x.csv',\n",
       " 'test_spec_y.csv',\n",
       " 'test_pitch_y.csv',\n",
       " 'train_cqt_x.csv',\n",
       " 'test_pitch_x.csv',\n",
       " 'train_spec_y.csv',\n",
       " 'train_pitch_x.csv',\n",
       " 'train_cqt_y.csv',\n",
       " 'self-supervised-temporal-order6-4.hdf5',\n",
       " 'test_cqt_x.csv']"
      ]
     },
     "execution_count": 31,
     "metadata": {},
     "output_type": "execute_result"
    }
   ],
   "source": [
    "os.chdir(birds_home)\n",
    "os.chdir(new_train_test)\n",
    "print(os.getcwd())\n",
    "os.listdir()"
   ]
  },
  {
   "cell_type": "code",
   "execution_count": 32,
   "metadata": {},
   "outputs": [],
   "source": [
    "np.savetxt('train_cqt_x.csv', train_cqt_x, delimiter=',')  \n",
    "# np.savetxt('train_spec_x.csv', train_spec_x, delimiter=',')  \n",
    "np.savetxt('test_cqt_x.csv', test_cqt_x, delimiter=',')  \n",
    "# np.savetxt('test_spec_x.csv', test_spec_x, delimiter=',')  \n",
    "\n",
    "# np.savetxt('train_spec_y.csv', train_spec_y, delimiter=',')  \n",
    "# np.savetxt('test_spec_y.csv', test_spec_y, delimiter=',')  \n",
    "np.savetxt('train_cqt_y.csv', train_cqt_y, delimiter=',')  \n",
    "np.savetxt('test_cqt_y.csv', test_cqt_y, delimiter=',')  "
   ]
  },
  {
   "cell_type": "code",
   "execution_count": 34,
   "metadata": {},
   "outputs": [
    {
     "name": "stdout",
     "output_type": "stream",
     "text": [
      "(1526, 23520)\n",
      "(978, 23520)\n",
      "(1526,)\n",
      "(978,)\n"
     ]
    }
   ],
   "source": [
    "# train_x = np.append(train_cqt_x, train_spec_x, axis=0)\n",
    "# test_x = np.append(test_cqt_x, test_spec_x, axis=0)\n",
    "\n",
    "# train_y = np.append(train_cqt_y, train_spec_y, axis=0)\n",
    "# test_y = np.append(test_cqt_y, test_spec_y, axis=0)\n",
    "\n",
    "train_x = train_cqt_x\n",
    "test_x = test_cqt_x\n",
    "\n",
    "train_y = train_cqt_y\n",
    "test_y = test_cqt_y\n",
    "\n",
    "print(train_x.shape)\n",
    "print(test_x.shape)\n",
    "print(train_y.shape)\n",
    "print(test_y.shape)\n"
   ]
  },
  {
   "cell_type": "code",
   "execution_count": 35,
   "metadata": {},
   "outputs": [
    {
     "name": "stdout",
     "output_type": "stream",
     "text": [
      "(1526, 23521)\n",
      "(978, 23521)\n"
     ]
    }
   ],
   "source": [
    "train_labelled = np.asarray(pd.concat([pd.DataFrame(train_x), pd.DataFrame(train_y)], axis=1))\n",
    "test_labelled = np.asarray(pd.concat([pd.DataFrame(test_x), pd.DataFrame(test_y)], axis=1))\n",
    "print(train_labelled.shape)\n",
    "print(test_labelled.shape)\n"
   ]
  },
  {
   "cell_type": "code",
   "execution_count": 36,
   "metadata": {},
   "outputs": [],
   "source": [
    "np.random.shuffle(train_labelled)\n",
    "np.random.shuffle(test_labelled)"
   ]
  },
  {
   "cell_type": "code",
   "execution_count": 37,
   "metadata": {},
   "outputs": [
    {
     "data": {
      "text/plain": [
       "array([0.00462152, 0.00461457, 0.00459797, ..., 0.00187264, 0.00187904,\n",
       "       1.        ])"
      ]
     },
     "execution_count": 37,
     "metadata": {},
     "output_type": "execute_result"
    }
   ],
   "source": [
    "test_labelled[0,:]"
   ]
  },
  {
   "cell_type": "code",
   "execution_count": 41,
   "metadata": {},
   "outputs": [],
   "source": [
    "num_train_samples = 1526\n",
    "num_test_samples = 978"
   ]
  },
  {
   "cell_type": "code",
   "execution_count": 42,
   "metadata": {},
   "outputs": [
    {
     "name": "stdout",
     "output_type": "stream",
     "text": [
      "(1526,)\n",
      "(978,)\n",
      "[0. 0. 1. ... 0. 1. 1.]\n",
      "[1. 1. 0. 1. 0. 0. 0. 0. 0. 1. 0. 0. 0. 1. 1. 0. 0. 0. 0. 1. 1. 0. 0. 0.\n",
      " 0. 0. 1. 1. 0. 0. 1. 0. 1. 0. 1. 1. 0. 1. 1. 0. 1. 0. 0. 0. 1. 0. 1. 1.\n",
      " 1. 1. 1. 0. 1. 1. 1. 1. 0. 1. 0. 0. 0. 1. 0. 0. 1. 0. 1. 0. 0. 0. 0. 1.\n",
      " 1. 0. 1. 0. 1. 0. 0. 0. 1. 1. 0. 0. 0. 1. 1. 0. 0. 0. 1. 1. 1. 0. 0. 1.\n",
      " 1. 0. 1. 0. 0. 1. 1. 0. 0. 1. 1. 1. 1. 1. 0. 0. 1. 1. 1. 0. 1. 0. 1. 1.\n",
      " 1. 0. 1. 0. 1. 0. 0. 1. 1. 1. 0. 1. 1. 1. 1. 1. 1. 1. 1. 0. 0. 0. 1. 1.\n",
      " 1. 0. 0. 1. 0. 1. 1. 1. 0. 0. 1. 0. 1. 1. 0. 1. 1. 0. 1. 1. 1. 1. 0. 1.\n",
      " 1. 0. 1. 1. 1. 1. 1. 1. 1. 1. 0. 0. 1. 1. 1. 1. 0. 1. 1. 1. 0. 0. 1. 1.\n",
      " 0. 0. 0. 1. 1. 0. 0. 0. 0. 0. 1. 0. 0. 1. 0. 0. 1. 1. 0. 1. 1. 0. 0. 0.\n",
      " 1. 1. 0. 1. 0. 0. 0. 0. 1. 1. 0. 0. 1. 1. 1. 0. 0. 1. 0. 0. 1. 1. 1. 0.\n",
      " 1. 1. 1. 0. 0. 0. 1. 1. 0. 0. 0. 1. 1. 1. 1. 1. 0. 0. 0. 0. 0. 1. 0. 1.\n",
      " 1. 0. 0. 0. 0. 0. 0. 1. 0. 0. 1. 1. 0. 0. 1. 0. 1. 0. 1. 1. 1. 1. 1. 0.\n",
      " 0. 1. 0. 1. 0. 1. 0. 1. 1. 1. 1. 1. 0. 0. 0. 0. 0. 1. 0. 1. 0. 1. 0. 1.\n",
      " 1. 1. 1. 1. 0. 1. 1. 0. 0. 0. 0. 0. 1. 1. 1. 1. 0. 1. 0. 1. 0. 0. 1. 1.\n",
      " 0. 1. 0. 0. 1. 1. 0. 1. 0. 1. 1. 1. 1. 0. 1. 1. 1. 1. 1. 1. 1. 1. 1. 0.\n",
      " 0. 0. 1. 1. 0. 1. 1. 0. 0. 1. 1. 0. 1. 0. 1. 0. 1. 1. 0. 0. 0. 1. 1. 1.\n",
      " 1. 1. 1. 0. 0. 0. 1. 0. 1. 1. 1. 0. 0. 1. 0. 0. 0. 1. 0. 0. 0. 1. 0. 1.\n",
      " 0. 1. 0. 1. 1. 1. 1. 0. 1. 1. 0. 1. 1. 1. 0. 1. 0. 0. 0. 0. 0. 1. 1. 0.\n",
      " 1. 0. 1. 0. 1. 1. 0. 0. 1. 1. 0. 1. 1. 0. 0. 0. 1. 1. 0. 0. 1. 0. 0. 1.\n",
      " 0. 0. 1. 0. 0. 0. 0. 1. 1. 1. 0. 0. 0. 1. 0. 0. 1. 0. 0. 0. 1. 1. 0. 0.\n",
      " 0. 0. 1. 1. 1. 1. 0. 1. 0. 0. 0. 1. 0. 0. 0. 1. 0. 1. 0. 0. 1. 1. 0. 1.\n",
      " 1. 1. 0. 1. 0. 0. 0. 1. 0. 0. 0. 0. 1. 0. 0. 0. 0. 0. 1. 1. 0. 0. 1. 0.\n",
      " 1. 1. 0. 0. 1. 1. 0. 1. 1. 1. 1. 1. 0. 0. 0. 1. 0. 0. 1. 1. 0. 1. 0. 1.\n",
      " 0. 0. 1. 1. 0. 1. 0. 0. 1. 0. 0. 1. 1. 0. 1. 1. 1. 0. 0. 0. 0. 0. 0. 0.\n",
      " 0. 1. 0. 1. 1. 0. 0. 0. 0. 0. 0. 0. 1. 1. 1. 0. 1. 0. 0. 1. 1. 0. 1. 0.\n",
      " 1. 1. 1. 1. 1. 0. 0. 0. 0. 0. 1. 1. 0. 1. 1. 1. 1. 0. 1. 1. 0. 0. 0. 0.\n",
      " 0. 1. 1. 0. 1. 1. 0. 1. 1. 0. 0. 0. 1. 1. 0. 0. 0. 1. 0. 1. 1. 0. 0. 1.\n",
      " 1. 0. 1. 0. 1. 1. 0. 0. 1. 1. 0. 1. 0. 0. 1. 0. 1. 0. 0. 1. 1. 0. 0. 1.\n",
      " 0. 0. 1. 1. 0. 1. 1. 1. 0. 1. 1. 0. 1. 0. 1. 0. 0. 0. 0. 0. 0. 0. 0. 1.\n",
      " 0. 0. 0. 1. 0. 1. 0. 0. 0. 1. 1. 1. 1. 0. 1. 1. 0. 0. 0. 1. 0. 0. 0. 1.\n",
      " 0. 1. 1. 0. 0. 0. 1. 1. 1. 1. 0. 0. 0. 0. 0. 1. 0. 0. 0. 0. 0. 0. 1. 0.\n",
      " 0. 1. 1. 0. 1. 1. 1. 0. 1. 1. 0. 0. 1. 0. 1. 1. 1. 1. 0. 0. 1. 0. 0. 0.\n",
      " 1. 1. 1. 0. 0. 0. 1. 1. 0. 1. 0. 0. 0. 1. 1. 0. 0. 0. 0. 1. 0. 0. 1. 1.\n",
      " 0. 1. 0. 1. 0. 1. 1. 0. 0. 0. 1. 1. 0. 1. 0. 0. 0. 1. 0. 1. 0. 0. 0. 0.\n",
      " 0. 0. 0. 0. 1. 1. 1. 0. 0. 1. 0. 0. 0. 0. 1. 0. 0. 0. 1. 0. 0. 0. 0. 0.\n",
      " 0. 1. 1. 1. 0. 1. 1. 0. 1. 1. 1. 0. 1. 1. 1. 0. 0. 0. 0. 0. 0. 1. 1. 0.\n",
      " 0. 0. 1. 0. 0. 1. 0. 1. 0. 1. 1. 0. 1. 0. 1. 1. 1. 0. 1. 1. 1. 0. 1. 1.\n",
      " 0. 1. 0. 0. 1. 1. 0. 1. 1. 1. 1. 1. 1. 1. 1. 1. 1. 0. 1. 1. 1. 0. 1. 1.\n",
      " 1. 0. 0. 1. 0. 0. 1. 1. 0. 0. 1. 1. 1. 1. 1. 1. 1. 0. 1. 1. 1. 0. 1. 1.\n",
      " 1. 0. 0. 1. 1. 0. 1. 1. 1. 0. 0. 0. 1. 0. 1. 0. 1. 0. 1. 0. 1. 0. 1. 1.\n",
      " 1. 0. 1. 1. 0. 1. 1. 0. 0. 1. 0. 0. 1. 1. 1. 0. 0. 0.]\n"
     ]
    }
   ],
   "source": [
    "train_y_shuffled = np.asarray(train_labelled)[:,-1]\n",
    "print(train_y_shuffled.shape)\n",
    "\n",
    "test_y_shuffled = np.asarray(test_labelled)[:,-1]\n",
    "print(test_y_shuffled.shape)\n",
    "\n",
    "train_y_ =  np.array(train_y_shuffled).reshape(num_train_samples)\n",
    "test_y_ =  np.array(test_y_shuffled).reshape(num_test_samples)\n",
    "print(train_y_)\n",
    "print(test_y_)"
   ]
  },
  {
   "cell_type": "code",
   "execution_count": 43,
   "metadata": {},
   "outputs": [
    {
     "data": {
      "text/plain": [
       "23521"
      ]
     },
     "execution_count": 43,
     "metadata": {},
     "output_type": "execute_result"
    }
   ],
   "source": [
    "unrolled_cols"
   ]
  },
  {
   "cell_type": "code",
   "execution_count": 44,
   "metadata": {},
   "outputs": [
    {
     "name": "stdout",
     "output_type": "stream",
     "text": [
      "(1526, 23520)\n",
      "(978, 23520)\n"
     ]
    }
   ],
   "source": [
    "train_x_shuffled = np.asarray(train_labelled)[:,0:(unrolled_cols-1)]\n",
    "print(train_x_shuffled.shape)\n",
    "\n",
    "test_x_shuffled = np.asarray(test_labelled)[:,0:(unrolled_cols-1)]\n",
    "print(test_x_shuffled.shape)"
   ]
  },
  {
   "cell_type": "code",
   "execution_count": 45,
   "metadata": {},
   "outputs": [],
   "source": [
    "# train_x_shuffled, train_y_shuffled\n",
    "# test_x_shuffled, test_y_shuffled\n",
    "\n",
    "#7840"
   ]
  },
  {
   "cell_type": "markdown",
   "metadata": {},
   "source": [
    "## Shape Data for Model Inputs"
   ]
  },
  {
   "cell_type": "code",
   "execution_count": 46,
   "metadata": {},
   "outputs": [
    {
     "name": "stdout",
     "output_type": "stream",
     "text": [
      "(1526, 7840)\n"
     ]
    }
   ],
   "source": [
    "# Split 'x' series back into sequences\n",
    "train_x_1 = train_x_shuffled[:,0:7840]\n",
    "train_x_2 = train_x_shuffled[:,7840:15680]\n",
    "train_x_3 = train_x_shuffled[:,15680:]\n",
    "print(train_x_3.shape)"
   ]
  },
  {
   "cell_type": "code",
   "execution_count": 47,
   "metadata": {},
   "outputs": [],
   "source": [
    "train_x_1 = train_x_shuffled[:,0:7840]\n",
    "train_x_2 = train_x_shuffled[:,7840:15680]\n",
    "train_x_3 = train_x_shuffled[:,15680:]\n",
    "\n",
    "test_x_1 = test_x_shuffled[:,0:7840]\n",
    "test_x_2 = test_x_shuffled[:,7840:15680]\n",
    "test_x_3 = test_x_shuffled[:,15680:]"
   ]
  },
  {
   "cell_type": "code",
   "execution_count": 48,
   "metadata": {},
   "outputs": [
    {
     "name": "stdout",
     "output_type": "stream",
     "text": [
      "978\n",
      "1526\n",
      "70\n",
      "112\n"
     ]
    }
   ],
   "source": [
    "#Define Single input shape\n",
    "num_test_samples = test_x_shuffled.shape[0]\n",
    "num_train_samples = train_x_shuffled.shape[0]\n",
    "num_timesteps = 70\n",
    "num_features = 112\n",
    "print(num_test_samples)\n",
    "print(num_train_samples)\n",
    "print(num_timesteps)\n",
    "print(num_features)"
   ]
  },
  {
   "cell_type": "code",
   "execution_count": 49,
   "metadata": {},
   "outputs": [
    {
     "name": "stdout",
     "output_type": "stream",
     "text": [
      "(1526, 70, 112, 1)\n",
      "(978, 70, 112, 1)\n"
     ]
    }
   ],
   "source": [
    "train_x_1 = np.array(train_x_1).reshape(num_train_samples, num_timesteps, num_features, 1)\n",
    "train_x_2 = np.array(train_x_2).reshape(num_train_samples, num_timesteps, num_features, 1)\n",
    "train_x_3 = np.array(train_x_3).reshape(num_train_samples, num_timesteps, num_features, 1)\n",
    "print(train_x_1.shape)\n",
    "\n",
    "test_x_1 = np.array(test_x_1).reshape(num_test_samples, num_timesteps, num_features, 1)\n",
    "test_x_2 = np.array(test_x_2).reshape(num_test_samples, num_timesteps, num_features, 1)\n",
    "test_x_3 = np.array(test_x_3).reshape(num_test_samples, num_timesteps, num_features, 1)\n",
    "print(test_x_1.shape)"
   ]
  },
  {
   "cell_type": "code",
   "execution_count": 50,
   "metadata": {},
   "outputs": [
    {
     "name": "stdout",
     "output_type": "stream",
     "text": [
      "(978, 70, 112, 1)\n",
      "(1526, 70, 112, 1)\n",
      "(978, 70, 112, 1)\n",
      "(1526, 70, 112, 1)\n",
      "(978, 70, 112, 1)\n",
      "(1526, 70, 112, 1)\n"
     ]
    }
   ],
   "source": [
    "print(test_x_1.shape)\n",
    "print(train_x_1.shape)\n",
    "      \n",
    "print(test_x_2.shape)\n",
    "print(train_x_2.shape)\n",
    "\n",
    "print(test_x_3.shape)\n",
    "print(train_x_3.shape)\n",
    "\n",
    "train_x_1 = np.float32(train_x_1)\n",
    "test_x_1 = np.float32(test_x_1)\n",
    "\n",
    "train_x_2 = np.float32(train_x_2)\n",
    "test_x_2 = np.float32(test_x_2)\n",
    "\n",
    "train_x_3 = np.float32(train_x_3)\n",
    "test_x_3 = np.float32(test_x_3)\n"
   ]
  },
  {
   "cell_type": "code",
   "execution_count": 326,
   "metadata": {},
   "outputs": [
    {
     "name": "stdout",
     "output_type": "stream",
     "text": [
      "(70, 112, 1)\n",
      "(1526, 70, 112, 1)\n"
     ]
    },
    {
     "data": {
      "text/plain": [
       "numpy.ndarray"
      ]
     },
     "execution_count": 326,
     "metadata": {},
     "output_type": "execute_result"
    }
   ],
   "source": [
    "cqt_input_shape = train_x_1[0].shape\n",
    "print(cqt_input_shape)\n",
    "print(train_x_1.shape)\n",
    "type(train_x_1)\n"
   ]
  },
  {
   "cell_type": "code",
   "execution_count": null,
   "metadata": {},
   "outputs": [],
   "source": []
  },
  {
   "cell_type": "code",
   "execution_count": 327,
   "metadata": {},
   "outputs": [],
   "source": [
    "%matplotlib inline\n",
    "import matplotlib.pyplot as plt\n",
    "plt.style.use('seaborn-white')\n",
    "import pywt\n",
    "from matplotlib.image import imread\n",
    "import numpy as np\n",
    "import os\n",
    "from scipy.io import wavfile\n",
    "from pathlib import Path\n",
    "import pywt\n",
    "#import soundfile\n",
    "import random\n",
    "import pickle\n",
    "from glob import iglob\n",
    "from sklearn.metrics import confusion_matrix, classification_report\n",
    "import pprint\n",
    "random.seed(42)\n",
    "import librosa\n",
    "import scipy.signal\n",
    "import tensorflow as tf\n",
    "from tensorflow import keras\n",
    "from tensorflow.keras import layers\n",
    "from tensorflow.keras.models import Sequential, load_model\n",
    "\n",
    "from tensorflow.keras.layers import MaxPooling2D, Flatten, Conv2D\n",
    "from tensorflow.keras.utils import to_categorical\n",
    "import tensorflow.keras\n",
    "from tensorflow.keras import initializers \n",
    "from tensorflow.keras import regularizers \n",
    "from tensorflow.keras import constraints \n",
    "from tensorflow.keras.layers import Activation\n",
    "from keras.layers.advanced_activations import PReLU\n",
    "from keras.layers.advanced_activations import LeakyReLU\n",
    "from keras.layers.advanced_activations import ELU\n",
    "from tensorflow.keras.constraints import max_norm\n",
    "from tensorflow.keras.layers import LeakyReLU\n",
    "from tensorflow.keras import optimizers, losses, activations, models\n",
    "from tensorflow.keras.callbacks import ModelCheckpoint, EarlyStopping, LearningRateScheduler\n",
    "from tensorflow.keras.layers import Dense, Input, Dropout, Convolution1D, MaxPool1D, GlobalMaxPool1D, GlobalAveragePooling1D,concatenate\n",
    "from tensorflow.keras.layers import MaxPooling3D, Flatten, Conv3D\n",
    "from tensorflow.keras import backend as K\n",
    "from tensorflow.keras.layers import LeakyReLU,PReLU\n",
    "import tensorflow.keras\n",
    "from tensorflow.keras.losses import *\n",
    "from tensorflow.keras.models import load_model\n",
    "# def my_init(shape,  dtype=None):\n",
    "#      vals=((float(shape[0], float(shape[1]))) * math.sqrt(2./float(shape[1])))\n",
    "#      return K.random_normal(vals, dtype=dtype)    \n",
    "import math\n"
   ]
  },
  {
   "cell_type": "code",
   "execution_count": 328,
   "metadata": {},
   "outputs": [
    {
     "name": "stdout",
     "output_type": "stream",
     "text": [
      "Num GPUs Available:  0\n"
     ]
    }
   ],
   "source": [
    "#Before prediction\n",
    "K.clear_session()\n",
    "# from tensorflow.compat.v1 import ConfigProto\n",
    "# from tensorflow.compat.v1 import InteractiveSession\n",
    "tf.compat.v1.disable_eager_execution()\n",
    "# # #session = InteractiveSession.close()\n",
    "# config = ConfigProto()\n",
    "# config.gpu_options.allow_growth = True\n",
    "\n",
    "print(\"Num GPUs Available: \", len(tf.config.experimental.list_physical_devices('GPU')))\n",
    "\n",
    "from tensorflow.python.framework import ops\n",
    "ops.reset_default_graph()"
   ]
  },
  {
   "cell_type": "code",
   "execution_count": 329,
   "metadata": {},
   "outputs": [
    {
     "name": "stdout",
     "output_type": "stream",
     "text": [
      "[0. 1.]\n",
      "[763 763]\n"
     ]
    }
   ],
   "source": [
    "# import os\n",
    "# os.environ[\"CUDA_DEVICE_ORDER\"]=\"PCI_BUS_ID\"   # see issue #152\n",
    "# os.environ[\"CUDA_VISIBLE_DEVICES\"]=\"1\"\n",
    "len(train_y)\n",
    "unique, counts = np.unique(train_y_, return_counts=True)\n",
    "print(unique)\n",
    "print(counts)"
   ]
  },
  {
   "cell_type": "code",
   "execution_count": 330,
   "metadata": {},
   "outputs": [],
   "source": [
    "# If wanted, add class weighting\n",
    "total_len = len(train_y)\n",
    "class_weight = {0: total_len/len([x for x in train_y_==0 if x]),\n",
    "                1: total_len/len([x for x in train_y_==1 if x])}"
   ]
  },
  {
   "cell_type": "code",
   "execution_count": 357,
   "metadata": {},
   "outputs": [],
   "source": [
    "def get_model():\n",
    "    with tf.device(\"GPU:1\"):\n",
    "        nclass = 2\n",
    "        initializer1 = tf.keras.initializers.RandomNormal\n",
    "        initializer2 = tf.keras.initializers.Zeros()\n",
    "        initializer3 = tf.keras.initializers.glorot_uniform(seed=None)\n",
    "        initializer4 = tf.keras.initializers.lecun_normal(seed=None)\n",
    "        initializer5 = tf.keras.initializers.TruncatedNormal(mean=0., stddev=1.)\n",
    "\n",
    "        inp = Input(shape=cqt_input_shape)\n",
    "       \n",
    "        img_1 = Conv2D(128, kernel_size=(7,7), \n",
    "                       kernel_initializer=initializer4,  kernel_regularizer = regularizers.l2(0.001),         \n",
    "                       use_bias=True, bias_initializer=initializers.Zeros(),padding=\"valid\")(inp)\n",
    "        #img_1 = LeakyReLU(alpha=0.2)(img_1)\n",
    "        img_1 = Dropout(0.3)(img_1)\n",
    "\n",
    "        img_1 = MaxPooling2D()(img_1)\n",
    "        img_1 = Conv2D(128, kernel_size=(3,3),       \n",
    "                       kernel_initializer=initializer4, kernel_regularizer = regularizers.l2(0.001),            \n",
    "                       use_bias=True, bias_initializer=initializers.Zeros(),padding=\"valid\")(img_1)\n",
    "        #img_1 = LeakyReLU(alpha=0.2)(img_1)\n",
    "        img_1 = Dropout(0.3)(img_1)\n",
    "        \n",
    "        img_1 = MaxPooling2D()(img_1)\n",
    "        img_1 = Conv2D(256, kernel_size=(3,3),       \n",
    "                       kernel_initializer=initializer4, kernel_regularizer = regularizers.l2(0.001),            \n",
    "                       use_bias=True, bias_initializer=initializers.Zeros(),padding=\"valid\")(img_1)\n",
    "        #img_1 = LeakyReLU(alpha=0.2)(img_1)\n",
    "        img_1 = Dropout(0.5)(img_1)   \n",
    "        \n",
    "        img_1 = Flatten()(img_1)      \n",
    "        img_1 = Dense(512, kernel_initializer=initializer4,  kernel_regularizer = regularizers.l2(0.001))(img_1)\n",
    "        #img_1 = LeakyReLU(alpha=0.2)(img_1)\n",
    "        img_1 = Dropout(0.5)(img_1)   \n",
    "        \n",
    "\n",
    "        inp2 = Input(shape=cqt_input_shape)\n",
    "        img_2 = Conv2D(128, kernel_size=(7,7), \n",
    "                       kernel_initializer=initializer4,  kernel_regularizer = regularizers.l2(0.001),         \n",
    "                       use_bias=True, bias_initializer=initializers.Zeros())(inp2)\n",
    "        #img_2 = LeakyReLU(alpha=0.2)(img_2)\n",
    "        img_2 = Dropout(0.3)(img_2)\n",
    "        \n",
    "        img_2 = MaxPooling2D()(img_2)\n",
    "        img_2 = Conv2D(128, kernel_size=(3,3),       \n",
    "                       kernel_initializer=initializer4, kernel_regularizer = regularizers.l2(0.001),            \n",
    "                       use_bias=True, bias_initializer=initializers.Zeros(),padding=\"valid\")(img_2)\n",
    "        #img_2 = LeakyReLU(alpha=0.2)(img_2)\n",
    "        img_2 = Dropout(0.3)(img_2)\n",
    "        \n",
    "        img_2 = MaxPooling2D()(img_2)\n",
    "        img_2 = Conv2D(256, kernel_size=(3,3),       \n",
    "                       kernel_initializer=initializer4, kernel_regularizer = regularizers.l2(0.001),            \n",
    "                       use_bias=True, bias_initializer=initializers.Zeros(),padding=\"valid\")(img_2)\n",
    "        #img_2 = LeakyReLU(alpha=0.2)(img_2)\n",
    "        img_2 = Dropout(0.5)(img_2)\n",
    "        \n",
    "        img_2 = Flatten()(img_2)   \n",
    "        img_2 = Dense(512, kernel_initializer=initializer4,  kernel_regularizer = regularizers.l2(0.001))(img_2)\n",
    "        #img_2 = LeakyReLU(alpha=0.2)(img_2)\n",
    "        img_2 = Dropout(0.5)(img_2)\n",
    "\n",
    "        \n",
    "        inp3 = Input(shape=cqt_input_shape)\n",
    "        img_3 = Conv2D(128, kernel_size=(7,7), \n",
    "                       kernel_initializer=initializer4,  kernel_regularizer = regularizers.l2(0.001),         \n",
    "                       use_bias=True, bias_initializer=initializers.Zeros(),padding=\"valid\")(inp3)\n",
    "        #img_3 = LeakyReLU(alpha=0.2)(img_3)\n",
    "        img_3 = Dropout(0.3)(img_3)\n",
    "\n",
    "        img_3 = MaxPooling2D()(img_3)\n",
    "        img_3 = Conv2D(128, kernel_size=(3,3),       \n",
    "                       kernel_initializer=initializer4, kernel_regularizer = regularizers.l2(0.001),            \n",
    "                       use_bias=True, bias_initializer=initializers.Zeros(),padding=\"valid\")(img_3)\n",
    "        #img_3 = LeakyReLU(alpha=0.2)(img_3)\n",
    "        img_3 = Dropout(0.5)(img_3)\n",
    "        \n",
    "        img_3 = MaxPooling2D()(img_3)\n",
    "        img_3 = Conv2D(256, kernel_size=(3,3),       \n",
    "                       kernel_initializer=initializer4, kernel_regularizer = regularizers.l2(0.001),            \n",
    "                       use_bias=True, bias_initializer=initializers.Zeros(),padding=\"valid\")(img_3)\n",
    "        #img_3 = LeakyReLU(alpha=0.2)(img_3)\n",
    "        img_3 = Dropout(0.5)(img_3)\n",
    "        \n",
    "        img_3 = Flatten()(img_3)   \n",
    "        img_3 = Dense(512, kernel_initializer=initializer4,   kernel_regularizer = regularizers.l2(0.001))(img_3)\n",
    "        #img_3 = LeakyReLU(alpha=0.2)(img_3)\n",
    "        img_3 = Dropout(0.5)(img_3)\n",
    "\n",
    "\n",
    "        concat_layer = keras.layers.concatenate([img_1, img_2, img_3])\n",
    "        concat_dense = LeakyReLU(alpha=0.2)(concat_layer)\n",
    "        concat_dense = Dense(256, kernel_initializer=initializer4,  kernel_regularizer = regularizers.l2(0.001),\n",
    "                             bias_initializer=initializers.Zeros(),use_bias=True)(concat_dense)\n",
    "        concat_dense = Dropout(0.5)(concat_dense)\n",
    "        concat_dense = Dense(16, kernel_regularizer = regularizers.l2(0.1))(concat_dense)\n",
    "        concat_dense = Dropout(0.5)(concat_dense)   \n",
    "\n",
    "        output_layer = Dense(2,activation=activations.sigmoid)(concat_dense)\n",
    "        model = models.Model(inputs=[inp, inp2, inp3], outputs=[output_layer])\n",
    "        opt = optimizers.Adam(lr=0.0009, beta_1=0.9, beta_2=0.999, epsilon=1e-5, decay=.03, amsgrad=False)\n",
    "        model.compile(optimizer=opt, loss=losses.binary_crossentropy, metrics=['acc'])\n",
    "\n",
    "        model.summary()\n",
    "\n",
    "\n",
    "        return model"
   ]
  },
  {
   "cell_type": "code",
   "execution_count": 358,
   "metadata": {
    "scrolled": true
   },
   "outputs": [
    {
     "name": "stdout",
     "output_type": "stream",
     "text": [
      "Model: \"model_3\"\n",
      "__________________________________________________________________________________________________\n",
      "Layer (type)                    Output Shape         Param #     Connected to                     \n",
      "==================================================================================================\n",
      "input_13 (InputLayer)           [(None, 70, 112, 1)] 0                                            \n",
      "__________________________________________________________________________________________________\n",
      "input_14 (InputLayer)           [(None, 70, 112, 1)] 0                                            \n",
      "__________________________________________________________________________________________________\n",
      "input_15 (InputLayer)           [(None, 70, 112, 1)] 0                                            \n",
      "__________________________________________________________________________________________________\n",
      "conv2d_32 (Conv2D)              (None, 64, 106, 128) 6400        input_13[0][0]                   \n",
      "__________________________________________________________________________________________________\n",
      "conv2d_35 (Conv2D)              (None, 64, 106, 128) 6400        input_14[0][0]                   \n",
      "__________________________________________________________________________________________________\n",
      "conv2d_38 (Conv2D)              (None, 64, 106, 128) 6400        input_15[0][0]                   \n",
      "__________________________________________________________________________________________________\n",
      "dropout_46 (Dropout)            (None, 64, 106, 128) 0           conv2d_32[0][0]                  \n",
      "__________________________________________________________________________________________________\n",
      "dropout_50 (Dropout)            (None, 64, 106, 128) 0           conv2d_35[0][0]                  \n",
      "__________________________________________________________________________________________________\n",
      "dropout_54 (Dropout)            (None, 64, 106, 128) 0           conv2d_38[0][0]                  \n",
      "__________________________________________________________________________________________________\n",
      "max_pooling2d_20 (MaxPooling2D) (None, 32, 53, 128)  0           dropout_46[0][0]                 \n",
      "__________________________________________________________________________________________________\n",
      "max_pooling2d_22 (MaxPooling2D) (None, 32, 53, 128)  0           dropout_50[0][0]                 \n",
      "__________________________________________________________________________________________________\n",
      "max_pooling2d_24 (MaxPooling2D) (None, 32, 53, 128)  0           dropout_54[0][0]                 \n",
      "__________________________________________________________________________________________________\n",
      "conv2d_33 (Conv2D)              (None, 30, 51, 128)  147584      max_pooling2d_20[0][0]           \n",
      "__________________________________________________________________________________________________\n",
      "conv2d_36 (Conv2D)              (None, 30, 51, 128)  147584      max_pooling2d_22[0][0]           \n",
      "__________________________________________________________________________________________________\n",
      "conv2d_39 (Conv2D)              (None, 30, 51, 128)  147584      max_pooling2d_24[0][0]           \n",
      "__________________________________________________________________________________________________\n",
      "dropout_47 (Dropout)            (None, 30, 51, 128)  0           conv2d_33[0][0]                  \n",
      "__________________________________________________________________________________________________\n",
      "dropout_51 (Dropout)            (None, 30, 51, 128)  0           conv2d_36[0][0]                  \n",
      "__________________________________________________________________________________________________\n",
      "dropout_55 (Dropout)            (None, 30, 51, 128)  0           conv2d_39[0][0]                  \n",
      "__________________________________________________________________________________________________\n",
      "max_pooling2d_21 (MaxPooling2D) (None, 15, 25, 128)  0           dropout_47[0][0]                 \n",
      "__________________________________________________________________________________________________\n",
      "max_pooling2d_23 (MaxPooling2D) (None, 15, 25, 128)  0           dropout_51[0][0]                 \n",
      "__________________________________________________________________________________________________\n",
      "max_pooling2d_25 (MaxPooling2D) (None, 15, 25, 128)  0           dropout_55[0][0]                 \n",
      "__________________________________________________________________________________________________\n",
      "conv2d_34 (Conv2D)              (None, 13, 23, 256)  295168      max_pooling2d_21[0][0]           \n",
      "__________________________________________________________________________________________________\n",
      "conv2d_37 (Conv2D)              (None, 13, 23, 256)  295168      max_pooling2d_23[0][0]           \n",
      "__________________________________________________________________________________________________\n",
      "conv2d_40 (Conv2D)              (None, 13, 23, 256)  295168      max_pooling2d_25[0][0]           \n",
      "__________________________________________________________________________________________________\n",
      "dropout_48 (Dropout)            (None, 13, 23, 256)  0           conv2d_34[0][0]                  \n",
      "__________________________________________________________________________________________________\n",
      "dropout_52 (Dropout)            (None, 13, 23, 256)  0           conv2d_37[0][0]                  \n",
      "__________________________________________________________________________________________________\n",
      "dropout_56 (Dropout)            (None, 13, 23, 256)  0           conv2d_40[0][0]                  \n",
      "__________________________________________________________________________________________________\n",
      "flatten_10 (Flatten)            (None, 76544)        0           dropout_48[0][0]                 \n",
      "__________________________________________________________________________________________________\n",
      "flatten_11 (Flatten)            (None, 76544)        0           dropout_52[0][0]                 \n",
      "__________________________________________________________________________________________________\n",
      "flatten_12 (Flatten)            (None, 76544)        0           dropout_56[0][0]                 \n",
      "__________________________________________________________________________________________________\n",
      "dense_19 (Dense)                (None, 512)          39191040    flatten_10[0][0]                 \n",
      "__________________________________________________________________________________________________\n",
      "dense_20 (Dense)                (None, 512)          39191040    flatten_11[0][0]                 \n",
      "__________________________________________________________________________________________________\n",
      "dense_21 (Dense)                (None, 512)          39191040    flatten_12[0][0]                 \n",
      "__________________________________________________________________________________________________\n",
      "dropout_49 (Dropout)            (None, 512)          0           dense_19[0][0]                   \n",
      "__________________________________________________________________________________________________\n",
      "dropout_53 (Dropout)            (None, 512)          0           dense_20[0][0]                   \n",
      "__________________________________________________________________________________________________\n",
      "dropout_57 (Dropout)            (None, 512)          0           dense_21[0][0]                   \n",
      "__________________________________________________________________________________________________\n",
      "concatenate_3 (Concatenate)     (None, 1536)         0           dropout_49[0][0]                 \n",
      "                                                                 dropout_53[0][0]                 \n",
      "                                                                 dropout_57[0][0]                 \n",
      "__________________________________________________________________________________________________\n",
      "leaky_re_lu_32 (LeakyReLU)      (None, 1536)         0           concatenate_3[0][0]              \n",
      "__________________________________________________________________________________________________\n",
      "dense_22 (Dense)                (None, 256)          393472      leaky_re_lu_32[0][0]             \n",
      "__________________________________________________________________________________________________\n",
      "dropout_58 (Dropout)            (None, 256)          0           dense_22[0][0]                   \n",
      "__________________________________________________________________________________________________\n",
      "dense_23 (Dense)                (None, 16)           4112        dropout_58[0][0]                 \n",
      "__________________________________________________________________________________________________\n",
      "dropout_59 (Dropout)            (None, 16)           0           dense_23[0][0]                   \n",
      "__________________________________________________________________________________________________\n",
      "dense_24 (Dense)                (None, 2)            34          dropout_59[0][0]                 \n",
      "==================================================================================================\n",
      "Total params: 119,318,194\n",
      "Trainable params: 119,318,194\n",
      "Non-trainable params: 0\n",
      "__________________________________________________________________________________________________\n"
     ]
    }
   ],
   "source": [
    "cqt_order_model = get_model()"
   ]
  },
  {
   "cell_type": "code",
   "execution_count": 359,
   "metadata": {},
   "outputs": [
    {
     "data": {
      "text/plain": [
       "<bound method Network.summary of <tensorflow.python.keras.engine.training.Model object at 0x7fab717c43c8>>"
      ]
     },
     "execution_count": 359,
     "metadata": {},
     "output_type": "execute_result"
    }
   ],
   "source": [
    "cqt_order_model.summary"
   ]
  },
  {
   "cell_type": "code",
   "execution_count": 360,
   "metadata": {},
   "outputs": [],
   "source": [
    "mcp_save = ModelCheckpoint('self-supervised-temporal-order7_7.hdf5', save_best_only=True, monitor='val_acc', mode='max')\n",
    "reduce_lr = keras.callbacks.ReduceLROnPlateau(monitor='val_loss', \n",
    "                                  factor=.2, \n",
    "                                  patience=1, \n",
    "                                  verbose=0, \n",
    "                                  mode='auto', \n",
    "                                  min_delta=0.00001, \n",
    "                                  cooldown=0, \n",
    "                                  min_lr=0)\n",
    "from tensorflow.keras.callbacks import EarlyStopping"
   ]
  },
  {
   "cell_type": "code",
   "execution_count": 361,
   "metadata": {},
   "outputs": [
    {
     "data": {
      "text/plain": [
       "'/home/pattyry/birds'"
      ]
     },
     "execution_count": 361,
     "metadata": {},
     "output_type": "execute_result"
    }
   ],
   "source": [
    "birds_home = os.path.join('/home/pattyry/birds/')\n",
    "#cwd_audio = os.path.join(\"..\",\"..\",\"birds\")\n",
    "os.chdir(birds_home)\n",
    "os.getcwd()"
   ]
  },
  {
   "cell_type": "code",
   "execution_count": 362,
   "metadata": {
    "scrolled": true
   },
   "outputs": [
    {
     "name": "stdout",
     "output_type": "stream",
     "text": [
      "Train on 1526 samples, validate on 978 samples\n",
      "Epoch 1/20\n",
      "1526/1526 [==============================] - 69s 45ms/sample - loss: 7.9187 - acc: 0.5092 - val_loss: 6.6990 - val_acc: 0.5516\n",
      "Epoch 2/20\n",
      "1526/1526 [==============================] - 61s 40ms/sample - loss: 7.2646 - acc: 0.5809 - val_loss: 6.3909 - val_acc: 0.5925\n",
      "Epoch 3/20\n",
      "1526/1526 [==============================] - 61s 40ms/sample - loss: 6.7788 - acc: 0.6887 - val_loss: 6.0712 - val_acc: 0.6999\n",
      "Epoch 4/20\n",
      "1526/1526 [==============================] - 56s 37ms/sample - loss: 6.3748 - acc: 0.7425 - val_loss: 5.9315 - val_acc: 0.6662\n",
      "Epoch 5/20\n",
      "1526/1526 [==============================] - 61s 40ms/sample - loss: 6.0415 - acc: 0.7710 - val_loss: 5.5630 - val_acc: 0.7168\n",
      "Epoch 6/20\n",
      "1526/1526 [==============================] - 60s 40ms/sample - loss: 5.7559 - acc: 0.7910 - val_loss: 5.2706 - val_acc: 0.7761\n",
      "Epoch 7/20\n",
      "1526/1526 [==============================] - 60s 40ms/sample - loss: 5.4856 - acc: 0.8034 - val_loss: 5.0543 - val_acc: 0.7889\n",
      "Epoch 8/20\n",
      "1526/1526 [==============================] - 57s 37ms/sample - loss: 5.2338 - acc: 0.8214 - val_loss: 4.8578 - val_acc: 0.7868\n",
      "Epoch 9/20\n",
      "1526/1526 [==============================] - 57s 37ms/sample - loss: 5.0467 - acc: 0.8411 - val_loss: 4.6991 - val_acc: 0.7812\n",
      "Epoch 10/20\n",
      "1526/1526 [==============================] - 61s 40ms/sample - loss: 4.8592 - acc: 0.8467 - val_loss: 4.5331 - val_acc: 0.7914\n",
      "Epoch 11/20\n",
      "1526/1526 [==============================] - 60s 40ms/sample - loss: 4.6493 - acc: 0.8673 - val_loss: 4.3942 - val_acc: 0.8129\n",
      "Epoch 12/20\n",
      "1526/1526 [==============================] - 57s 37ms/sample - loss: 4.4910 - acc: 0.8702 - val_loss: 4.2612 - val_acc: 0.8078\n",
      "Epoch 13/20\n",
      "1526/1526 [==============================] - 57s 37ms/sample - loss: 4.3368 - acc: 0.8788 - val_loss: 4.1856 - val_acc: 0.7975\n",
      "Epoch 14/20\n",
      "1526/1526 [==============================] - 57s 37ms/sample - loss: 4.2519 - acc: 0.8761 - val_loss: 4.0692 - val_acc: 0.8124\n",
      "Epoch 15/20\n",
      "1526/1526 [==============================] - 61s 40ms/sample - loss: 4.1181 - acc: 0.8755 - val_loss: 3.9714 - val_acc: 0.8170\n",
      "Epoch 16/20\n",
      "1526/1526 [==============================] - 57s 37ms/sample - loss: 4.0281 - acc: 0.8879 - val_loss: 3.9490 - val_acc: 0.7858\n",
      "Epoch 17/20\n",
      "1526/1526 [==============================] - 61s 40ms/sample - loss: 3.9449 - acc: 0.8896 - val_loss: 3.8494 - val_acc: 0.8236\n",
      "Epoch 18/20\n",
      "1526/1526 [==============================] - 60s 40ms/sample - loss: 3.8047 - acc: 0.9063 - val_loss: 3.7936 - val_acc: 0.8292\n",
      "Epoch 19/20\n",
      "1526/1526 [==============================] - 57s 37ms/sample - loss: 3.7035 - acc: 0.9174 - val_loss: 3.7383 - val_acc: 0.8221\n",
      "Epoch 20/20\n",
      "1526/1526 [==============================] - 56s 37ms/sample - loss: 3.6297 - acc: 0.9063 - val_loss: 3.6600 - val_acc: 0.8262\n"
     ]
    }
   ],
   "source": [
    "history = cqt_order_model.fit([train_x_1, train_x_2, train_x_3],[to_categorical(train_y_)], \n",
    "                         epochs=20,\n",
    "                         #verbose=2, \n",
    "                         batch_size=240,\n",
    "                         validation_data=([test_x_1, test_x_2,test_x_3], to_categorical(test_y_)),\n",
    "                         callbacks=[mcp_save, reduce_lr],\n",
    "                         class_weight=class_weight)"
   ]
  },
  {
   "cell_type": "code",
   "execution_count": 363,
   "metadata": {},
   "outputs": [
    {
     "data": {
      "text/plain": [
       "'/opt/anaconda3/envs/gansynth/bin'"
      ]
     },
     "execution_count": 363,
     "metadata": {},
     "output_type": "execute_result"
    }
   ],
   "source": [
    "import sys\n",
    "os.path.dirname(sys.executable)"
   ]
  },
  {
   "cell_type": "code",
   "execution_count": 364,
   "metadata": {},
   "outputs": [
    {
     "data": {
      "image/png": "[encoded data removed]",
      "text/plain": [
       "<Figure size 432x288 with 1 Axes>"
      ]
     },
     "metadata": {},
     "output_type": "display_data"
    }
   ],
   "source": [
    "import matplotlib.pyplot as plt\n",
    "#Accuracy\n",
    "plt.plot(history.history['acc'])\n",
    "plt.plot(history.history['val_acc'])\n",
    "plt.title('model accuracy')\n",
    "plt.ylabel('accuracy')\n",
    "plt.xlabel('epoch')\n",
    "plt.legend(['train', 'validation'], loc='upper left')\n",
    "plt.show()"
   ]
  },
  {
   "cell_type": "code",
   "execution_count": 365,
   "metadata": {},
   "outputs": [
    {
     "data": {
      "image/png": "[encoded data removed]",
      "text/plain": [
       "<Figure size 432x288 with 1 Axes>"
      ]
     },
     "metadata": {},
     "output_type": "display_data"
    }
   ],
   "source": [
    "plt.plot(history.history['loss'])\n",
    "plt.plot(history.history['val_loss'])\n",
    "plt.title('model loss')\n",
    "plt.ylabel('loss')\n",
    "plt.xlabel('epoch')\n",
    "plt.legend(['train', 'validation'], loc='upper left')\n",
    "plt.show()"
   ]
  },
  {
   "cell_type": "code",
   "execution_count": 366,
   "metadata": {},
   "outputs": [],
   "source": [
    "from tensorflow.keras.preprocessing.image import img_to_array\n",
    "from tensorflow.keras.models import load_model\n"
   ]
  },
  {
   "cell_type": "code",
   "execution_count": null,
   "metadata": {},
   "outputs": [],
   "source": []
  },
  {
   "cell_type": "markdown",
   "metadata": {},
   "source": [
    "## Self-Supervised Learning"
   ]
  },
  {
   "cell_type": "code",
   "execution_count": 367,
   "metadata": {},
   "outputs": [
    {
     "data": {
      "text/plain": [
       "'/home/pattyry/birds'"
      ]
     },
     "execution_count": 367,
     "metadata": {},
     "output_type": "execute_result"
    }
   ],
   "source": [
    "os.getcwd()\n",
    "birds_home = os.path.join('/home/pattyry/birds/')\n",
    "#cwd_audio = os.path.join(\"..\",\"..\",\"birds\")\n",
    "os.chdir(birds_home)\n",
    "os.getcwd()\n"
   ]
  },
  {
   "cell_type": "code",
   "execution_count": 370,
   "metadata": {},
   "outputs": [],
   "source": [
    "model = load_model('self-supervised-temporal-order7_7.hdf5')"
   ]
  },
  {
   "cell_type": "code",
   "execution_count": 371,
   "metadata": {},
   "outputs": [],
   "source": [
    "# ferry_data = os.path.join('./ferry-data')\n",
    "# os.chdir(ferry_data)\n",
    "# print(ferry_data)"
   ]
  },
  {
   "cell_type": "code",
   "execution_count": 372,
   "metadata": {},
   "outputs": [],
   "source": [
    "x1 = keras.Input(shape =(cqt_input_shape))\n",
    "x2 = keras.Input(shape =(cqt_input_shape))\n",
    "x3 = keras.Input(shape =(cqt_input_shape))\n",
    "\n",
    "inputs=[x1, x2, x3]"
   ]
  },
  {
   "cell_type": "code",
   "execution_count": 384,
   "metadata": {
    "scrolled": true
   },
   "outputs": [
    {
     "name": "stdout",
     "output_type": "stream",
     "text": [
      "{'input_13': <tensorflow.python.keras.engine.input_layer.InputLayer object at 0x7faaf14236a0>, 'input_14': <tensorflow.python.keras.engine.input_layer.InputLayer object at 0x7faaf1423550>, 'input_15': <tensorflow.python.keras.engine.input_layer.InputLayer object at 0x7faaf1423710>, 'conv2d_32': <tensorflow.python.keras.layers.convolutional.Conv2D object at 0x7faaf1423cc0>, 'conv2d_35': <tensorflow.python.keras.layers.convolutional.Conv2D object at 0x7faaf142a5c0>, 'conv2d_38': <tensorflow.python.keras.layers.convolutional.Conv2D object at 0x7faaf14a2ac8>, 'dropout_46': <tensorflow.python.keras.layers.core.Dropout object at 0x7faadae10d68>, 'dropout_50': <tensorflow.python.keras.layers.core.Dropout object at 0x7faadae10b70>, 'dropout_54': <tensorflow.python.keras.layers.core.Dropout object at 0x7faadae10a20>, 'max_pooling2d_20': <tensorflow.python.keras.layers.pooling.MaxPooling2D object at 0x7faadae10400>, 'max_pooling2d_22': <tensorflow.python.keras.layers.pooling.MaxPooling2D object at 0x7faadae10550>, 'max_pooling2d_24': <tensorflow.python.keras.layers.pooling.MaxPooling2D object at 0x7faadae22668>, 'conv2d_33': <tensorflow.python.keras.layers.convolutional.Conv2D object at 0x7faadae22908>, 'conv2d_36': <tensorflow.python.keras.layers.convolutional.Conv2D object at 0x7faadae22dd8>, 'conv2d_39': <tensorflow.python.keras.layers.convolutional.Conv2D object at 0x7faadae220b8>, 'dropout_47': <tensorflow.python.keras.layers.core.Dropout object at 0x7faadb02e0f0>, 'dropout_51': <tensorflow.python.keras.layers.core.Dropout object at 0x7faadb02e240>, 'dropout_55': <tensorflow.python.keras.layers.core.Dropout object at 0x7faadb02e390>, 'max_pooling2d_21': <tensorflow.python.keras.layers.pooling.MaxPooling2D object at 0x7faadb02e4e0>, 'max_pooling2d_23': <tensorflow.python.keras.layers.pooling.MaxPooling2D object at 0x7faadb02e780>, 'max_pooling2d_25': <tensorflow.python.keras.layers.pooling.MaxPooling2D object at 0x7faadb02ea20>, 'conv2d_34': <tensorflow.python.keras.layers.convolutional.Conv2D object at 0x7faadb02ecc0>, 'conv2d_37': <tensorflow.python.keras.layers.convolutional.Conv2D object at 0x7faadae271d0>, 'conv2d_40': <tensorflow.python.keras.layers.convolutional.Conv2D object at 0x7faadae276a0>, 'dropout_48': <tensorflow.python.keras.layers.core.Dropout object at 0x7faadae27b70>, 'dropout_52': <tensorflow.python.keras.layers.core.Dropout object at 0x7faadae27cc0>, 'dropout_56': <tensorflow.python.keras.layers.core.Dropout object at 0x7faadae27e10>, 'flatten_10': <tensorflow.python.keras.layers.core.Flatten object at 0x7faadae27f60>, 'flatten_11': <tensorflow.python.keras.layers.core.Flatten object at 0x7faadae2e128>, 'flatten_12': <tensorflow.python.keras.layers.core.Flatten object at 0x7faadae2e2b0>, 'dense_19': <tensorflow.python.keras.layers.core.Dense object at 0x7faadae2e438>, 'dense_20': <tensorflow.python.keras.layers.core.Dense object at 0x7faadae2e780>, 'dense_21': <tensorflow.python.keras.layers.core.Dense object at 0x7faadae2eac8>, 'dropout_49': <tensorflow.python.keras.layers.core.Dropout object at 0x7faadae2ee10>, 'dropout_53': <tensorflow.python.keras.layers.core.Dropout object at 0x7faadae2ef60>, 'dropout_57': <tensorflow.python.keras.layers.core.Dropout object at 0x7faadae340f0>, 'concatenate_3': <tensorflow.python.keras.layers.merge.Concatenate object at 0x7faadae34240>, 'leaky_re_lu_32': <tensorflow.python.keras.layers.advanced_activations.LeakyReLU object at 0x7faadae343c8>, 'dense_22': <tensorflow.python.keras.layers.core.Dense object at 0x7faadae34588>, 'dropout_58': <tensorflow.python.keras.layers.core.Dropout object at 0x7faadae348d0>, 'dense_23': <tensorflow.python.keras.layers.core.Dense object at 0x7faadae34a20>, 'dropout_59': <tensorflow.python.keras.layers.core.Dropout object at 0x7faadae34da0>, 'dense_24': <tensorflow.python.keras.layers.core.Dense object at 0x7faadae34ef0>}\n"
     ]
    }
   ],
   "source": [
    "layer_dict = dict([(layer.name, layer) for layer in model.layers])\n",
    "print(layer_dict)"
   ]
  },
  {
   "cell_type": "code",
   "execution_count": 374,
   "metadata": {},
   "outputs": [
    {
     "name": "stdout",
     "output_type": "stream",
     "text": [
      "[]\n",
      "[array([[[[-0.11442658, -0.07573606,  0.10840393, ..., -0.12790704,\n",
      "           0.10694934,  0.0756535 ]],\n",
      "\n",
      "        [[-0.12939432, -0.10993961,  0.25770494, ...,  0.20975386,\n",
      "          -0.12936383,  0.07665407]],\n",
      "\n",
      "        [[ 0.02438268, -0.05128435, -0.01023597, ...,  0.17624024,\n",
      "          -0.02288436, -0.0284999 ]],\n",
      "\n",
      "        ...,\n",
      "\n",
      "        [[-0.10508987, -0.10805966,  0.21009547, ..., -0.10050454,\n",
      "          -0.01034671, -0.25058046]],\n",
      "\n",
      "        [[ 0.211159  , -0.2118894 ,  0.07217697, ..., -0.13822788,\n",
      "           0.28004393,  0.0548064 ]],\n",
      "\n",
      "        [[ 0.25074723,  0.05158928,  0.19241987, ..., -0.27820233,\n",
      "          -0.03005468,  0.22932757]]],\n",
      "\n",
      "\n",
      "       [[[-0.09939691,  0.0317211 ,  0.11862662, ...,  0.0227039 ,\n",
      "           0.00171996, -0.03042625]],\n",
      "\n",
      "        [[ 0.21981417,  0.16589946, -0.02726466, ..., -0.11251115,\n",
      "           0.03677797,  0.11840519]],\n",
      "\n",
      "        [[ 0.10757915,  0.07430968, -0.01762263, ...,  0.223612  ,\n",
      "          -0.09325015,  0.03261703]],\n",
      "\n",
      "        ...,\n",
      "\n",
      "        [[-0.1658376 ,  0.2660138 , -0.00380725, ..., -0.07562501,\n",
      "           0.05611671, -0.19084744]],\n",
      "\n",
      "        [[ 0.04032432,  0.11734622, -0.24395378, ...,  0.13219836,\n",
      "           0.01675934,  0.10346241]],\n",
      "\n",
      "        [[-0.10437039,  0.05336044, -0.2565397 , ...,  0.12396812,\n",
      "           0.11274562,  0.00286959]]],\n",
      "\n",
      "\n",
      "       [[[ 0.24327917,  0.0379448 , -0.00219881, ...,  0.26607487,\n",
      "          -0.11236344,  0.00634885]],\n",
      "\n",
      "        [[-0.2849653 ,  0.249038  ,  0.0517484 , ..., -0.01341046,\n",
      "           0.17613232,  0.07999711]],\n",
      "\n",
      "        [[-0.08284575,  0.00617571, -0.02317254, ...,  0.01056445,\n",
      "          -0.12764561,  0.12383597]],\n",
      "\n",
      "        ...,\n",
      "\n",
      "        [[ 0.02922851, -0.05016278, -0.04290376, ...,  0.09052956,\n",
      "           0.18102196,  0.00933717]],\n",
      "\n",
      "        [[-0.15898809,  0.01527826,  0.14699176, ...,  0.16722848,\n",
      "           0.0319362 ,  0.05401699]],\n",
      "\n",
      "        [[ 0.03658435,  0.06519083, -0.2424254 , ..., -0.25573048,\n",
      "          -0.1492151 , -0.22552083]]],\n",
      "\n",
      "\n",
      "       ...,\n",
      "\n",
      "\n",
      "       [[[ 0.10375512, -0.03094814,  0.19037987, ..., -0.28181773,\n",
      "           0.09834582,  0.16549526]],\n",
      "\n",
      "        [[-0.30047214,  0.01936891, -0.03817058, ...,  0.23240052,\n",
      "           0.03708088, -0.22402526]],\n",
      "\n",
      "        [[ 0.15661325,  0.17048669,  0.03206122, ..., -0.11956434,\n",
      "          -0.10909517,  0.1820821 ]],\n",
      "\n",
      "        ...,\n",
      "\n",
      "        [[-0.09319644,  0.11709667, -0.14532559, ...,  0.02880058,\n",
      "          -0.19831902, -0.22254352]],\n",
      "\n",
      "        [[-0.21678084,  0.2861083 ,  0.15141743, ...,  0.04740359,\n",
      "           0.04992343,  0.04208951]],\n",
      "\n",
      "        [[-0.09049778,  0.0474497 ,  0.21719639, ...,  0.21559955,\n",
      "           0.0038696 ,  0.01062316]]],\n",
      "\n",
      "\n",
      "       [[[-0.1352304 ,  0.09781731, -0.25149265, ...,  0.12287793,\n",
      "          -0.10527286,  0.11817306]],\n",
      "\n",
      "        [[-0.00272739, -0.04586431,  0.02786553, ..., -0.0903326 ,\n",
      "           0.30089968,  0.01879953]],\n",
      "\n",
      "        [[ 0.13661724,  0.11770944, -0.15820405, ..., -0.24187443,\n",
      "           0.20990494, -0.13094337]],\n",
      "\n",
      "        ...,\n",
      "\n",
      "        [[ 0.11624446, -0.09134414, -0.03233844, ..., -0.09664451,\n",
      "           0.117991  ,  0.04862043]],\n",
      "\n",
      "        [[ 0.14145625, -0.14698713, -0.13824058, ..., -0.02556913,\n",
      "           0.15311438,  0.08325997]],\n",
      "\n",
      "        [[-0.01771202,  0.06310302, -0.1992934 , ...,  0.00844558,\n",
      "          -0.01490044,  0.03536334]]],\n",
      "\n",
      "\n",
      "       [[[-0.16508415, -0.12064761,  0.07474701, ..., -0.08679659,\n",
      "          -0.05384453, -0.18642104]],\n",
      "\n",
      "        [[ 0.12800024, -0.01394235, -0.11291759, ..., -0.13469869,\n",
      "          -0.30146104, -0.18303037]],\n",
      "\n",
      "        [[ 0.017875  , -0.0710712 , -0.00696789, ..., -0.05601652,\n",
      "          -0.00178743, -0.05738698]],\n",
      "\n",
      "        ...,\n",
      "\n",
      "        [[-0.14561829, -0.16840084, -0.07685487, ...,  0.20384674,\n",
      "          -0.20534801, -0.16775937]],\n",
      "\n",
      "        [[-0.22340277,  0.15611394, -0.08957045, ..., -0.11875881,\n",
      "          -0.06425839, -0.27688798]],\n",
      "\n",
      "        [[ 0.16615461, -0.0151626 ,  0.02117651, ..., -0.0158205 ,\n",
      "          -0.11372664, -0.05218472]]]], dtype=float32), array([-0.00574248, -0.00483903,  0.00114871, -0.00136664,  0.0006233 ,\n",
      "        0.00672867, -0.00487672, -0.0061952 ,  0.00649855, -0.00422025,\n",
      "        0.00529184, -0.00038877,  0.00069935,  0.00924976, -0.00648774,\n",
      "       -0.00060789, -0.00261339,  0.00988463,  0.00582656,  0.00621668,\n",
      "       -0.01202618, -0.00563394, -0.00893467,  0.00608312,  0.00659621,\n",
      "       -0.00453564,  0.00730351, -0.0037456 ,  0.00205291,  0.01392805,\n",
      "        0.00612022, -0.00180648, -0.0070143 , -0.00809446, -0.00668866,\n",
      "        0.00108011, -0.00650269, -0.00005898, -0.01030469,  0.00003022,\n",
      "        0.00223821, -0.00274412, -0.00237433, -0.00149195, -0.00727539,\n",
      "       -0.00258558, -0.00464253, -0.00293267, -0.00584919,  0.00047589,\n",
      "       -0.00832997,  0.00182836, -0.00280318, -0.00307623,  0.00597744,\n",
      "        0.00827498,  0.01182768, -0.00819987, -0.0047768 , -0.00319728,\n",
      "        0.00995837, -0.005244  ,  0.01154625, -0.00018248, -0.00821729,\n",
      "        0.00152815, -0.00709277, -0.00177519, -0.01318575,  0.01044944,\n",
      "       -0.00372041,  0.01184659,  0.00985075,  0.01002836, -0.00847876,\n",
      "       -0.00324768, -0.00534717,  0.01445691, -0.00242495, -0.00331848,\n",
      "        0.01432923,  0.00618789, -0.00512797, -0.00908875, -0.00463067,\n",
      "       -0.00348737, -0.00759847, -0.00958588, -0.00167473, -0.00196223,\n",
      "       -0.00664165,  0.00535192, -0.00189764,  0.00992253, -0.00831653,\n",
      "        0.00976498, -0.00159632,  0.00033088, -0.00847532, -0.004901  ,\n",
      "        0.01353503, -0.00362849,  0.00739396, -0.00965603, -0.00152667,\n",
      "       -0.00703663,  0.00556748, -0.00269893,  0.00951456, -0.00341599,\n",
      "        0.00451009, -0.00430318, -0.00439994, -0.00461493, -0.00611534,\n",
      "        0.00921476,  0.00621723, -0.00697193, -0.00313057,  0.01112582,\n",
      "       -0.00191066, -0.00410779, -0.00297847,  0.00774802, -0.00662513,\n",
      "       -0.01007932, -0.00270175,  0.00632527], dtype=float32)]\n",
      "[]\n",
      "[]\n",
      "[array([[[[ 0.01362636,  0.01255282,  0.00757458, ..., -0.00438937,\n",
      "           0.04930877, -0.03189153],\n",
      "         [ 0.02668969,  0.00243714, -0.04509762, ..., -0.03156236,\n",
      "          -0.04075242, -0.02858873],\n",
      "         [ 0.02920786,  0.01879305, -0.01340603, ..., -0.02460677,\n",
      "           0.01567579,  0.03947435],\n",
      "         ...,\n",
      "         [-0.02272481,  0.0363735 ,  0.01942683, ...,  0.01999835,\n",
      "           0.01716753, -0.03321699],\n",
      "         [-0.04128656,  0.01227046, -0.03008509, ...,  0.01505481,\n",
      "           0.00317002,  0.00446372],\n",
      "         [ 0.02492047,  0.01674041,  0.01580109, ...,  0.04472668,\n",
      "           0.02491926, -0.00121167]],\n",
      "\n",
      "        [[-0.03030202,  0.00553534,  0.01935985, ...,  0.01208645,\n",
      "          -0.00230609,  0.0082819 ],\n",
      "         [ 0.01818168, -0.02720133, -0.04391576, ...,  0.03463841,\n",
      "          -0.02969636,  0.0315553 ],\n",
      "         [ 0.00252862, -0.02868477, -0.01078805, ..., -0.0007028 ,\n",
      "          -0.02596161, -0.02948818],\n",
      "         ...,\n",
      "         [-0.05934499,  0.00994454, -0.0127567 , ..., -0.00835773,\n",
      "           0.01732258,  0.02503926],\n",
      "         [-0.06131623,  0.01327157,  0.01486516, ..., -0.00703632,\n",
      "          -0.01928656,  0.01266581],\n",
      "         [ 0.02083456, -0.02131991,  0.0129852 , ...,  0.00882331,\n",
      "          -0.00501465, -0.00159122]],\n",
      "\n",
      "        [[-0.0097167 , -0.01439991,  0.03181837, ..., -0.04105714,\n",
      "          -0.02276777, -0.01226691],\n",
      "         [-0.00114231, -0.05298238, -0.03738901, ..., -0.01682181,\n",
      "           0.00778768,  0.00475845],\n",
      "         [ 0.0519253 ,  0.00820189, -0.06151527, ..., -0.01664307,\n",
      "           0.00582715, -0.00876717],\n",
      "         ...,\n",
      "         [-0.03630899,  0.01382943,  0.01960734, ..., -0.02812668,\n",
      "          -0.01691375, -0.01395035],\n",
      "         [ 0.00002705,  0.00474628, -0.04399827, ...,  0.03421609,\n",
      "           0.00260798,  0.01842019],\n",
      "         [-0.02309586, -0.04192669,  0.06385744, ...,  0.01297702,\n",
      "          -0.04783205,  0.02193463]]],\n",
      "\n",
      "\n",
      "       [[[ 0.03216937, -0.01334063,  0.00724041, ...,  0.0168631 ,\n",
      "           0.011289  , -0.03476791],\n",
      "         [ 0.02462684,  0.03749198, -0.02370802, ...,  0.04285682,\n",
      "          -0.00681103, -0.00534364],\n",
      "         [ 0.03588875, -0.02565576, -0.0010797 , ..., -0.01443768,\n",
      "           0.01742525, -0.04702852],\n",
      "         ...,\n",
      "         [ 0.0395214 , -0.03924198, -0.03667973, ...,  0.05721164,\n",
      "           0.01173211,  0.04741652],\n",
      "         [ 0.01106543, -0.03232121, -0.04926307, ...,  0.03857286,\n",
      "          -0.01084005, -0.02219581],\n",
      "         [ 0.00882739, -0.02002351, -0.01265694, ...,  0.03414697,\n",
      "           0.00063792, -0.01870773]],\n",
      "\n",
      "        [[ 0.05606468, -0.02808017,  0.00539837, ...,  0.01249061,\n",
      "          -0.01407499, -0.0113972 ],\n",
      "         [-0.03612365, -0.04642438,  0.0134514 , ..., -0.05077481,\n",
      "          -0.03652667, -0.02307192],\n",
      "         [ 0.0010954 , -0.01149712, -0.04049478, ...,  0.01533874,\n",
      "           0.04156774,  0.03304258],\n",
      "         ...,\n",
      "         [-0.01408352,  0.01327125,  0.05555928, ...,  0.03563765,\n",
      "          -0.02435184, -0.02274421],\n",
      "         [-0.00482545,  0.00313247, -0.03077238, ..., -0.0171889 ,\n",
      "           0.04573886, -0.05181709],\n",
      "         [-0.00755533,  0.00551189, -0.02403176, ...,  0.00563185,\n",
      "          -0.03199312,  0.02871071]],\n",
      "\n",
      "        [[ 0.02578897, -0.0094865 ,  0.06035843, ...,  0.0388588 ,\n",
      "          -0.01460983, -0.02991549],\n",
      "         [ 0.01454651,  0.04351399,  0.02784307, ..., -0.01390626,\n",
      "          -0.04003827, -0.03047866],\n",
      "         [ 0.03780662,  0.00510824, -0.04268502, ..., -0.03113019,\n",
      "          -0.01487468,  0.03299591],\n",
      "         ...,\n",
      "         [-0.00067738, -0.0286955 , -0.03845778, ...,  0.02846472,\n",
      "          -0.0072128 ,  0.00134101],\n",
      "         [ 0.01958088,  0.01518643, -0.00901579, ..., -0.0275494 ,\n",
      "          -0.01455831, -0.00180432],\n",
      "         [ 0.0003232 , -0.01007015, -0.00505835, ...,  0.0247532 ,\n",
      "          -0.00876816,  0.01530498]]],\n",
      "\n",
      "\n",
      "       [[[ 0.00033344, -0.02515461,  0.04777315, ...,  0.02322408,\n",
      "           0.01923521, -0.02701048],\n",
      "         [-0.00441005, -0.00811875,  0.02498334, ...,  0.00182634,\n",
      "           0.03830809, -0.02765642],\n",
      "         [-0.04438443,  0.03114749,  0.04467038, ...,  0.02313258,\n",
      "           0.01759391, -0.02604497],\n",
      "         ...,\n",
      "         [-0.00218865, -0.00050979, -0.01815889, ..., -0.02892475,\n",
      "           0.02223134, -0.02924154],\n",
      "         [-0.02155183,  0.0050918 ,  0.01026042, ...,  0.00878817,\n",
      "          -0.01863117,  0.00993682],\n",
      "         [-0.01027501, -0.02261085, -0.02514808, ..., -0.0255388 ,\n",
      "          -0.01543457, -0.00284603]],\n",
      "\n",
      "        [[-0.02541344, -0.00266798, -0.00749593, ...,  0.00263399,\n",
      "           0.03243251, -0.03002691],\n",
      "         [ 0.01741687,  0.01388975, -0.03239745, ...,  0.05696198,\n",
      "           0.00358389,  0.01802358],\n",
      "         [-0.03327776,  0.0036692 , -0.04457791, ..., -0.04061275,\n",
      "          -0.01214737, -0.04169319],\n",
      "         ...,\n",
      "         [-0.00301451,  0.00998498,  0.01340525, ..., -0.02829958,\n",
      "          -0.06169789,  0.03633453],\n",
      "         [-0.02296889,  0.02716946, -0.01721052, ...,  0.03676299,\n",
      "          -0.00480153,  0.00063267],\n",
      "         [ 0.013852  ,  0.02541343,  0.044183  , ..., -0.00817394,\n",
      "           0.00505507,  0.00316467]],\n",
      "\n",
      "        [[-0.00543121,  0.0306771 ,  0.04254059, ..., -0.01709945,\n",
      "          -0.01377202,  0.00732752],\n",
      "         [-0.02536788,  0.02080664, -0.00616872, ..., -0.05275467,\n",
      "          -0.04057729,  0.01722076],\n",
      "         [-0.00845497, -0.02242331, -0.02315773, ...,  0.00559412,\n",
      "           0.00903004,  0.02191129],\n",
      "         ...,\n",
      "         [-0.01038233,  0.01059571,  0.01215221, ...,  0.02714933,\n",
      "           0.00429042, -0.02837121],\n",
      "         [-0.01285977, -0.05697307,  0.04430117, ..., -0.00039408,\n",
      "          -0.03946155,  0.02223652],\n",
      "         [ 0.02407555,  0.0038809 , -0.01223798, ...,  0.01043466,\n",
      "          -0.00755929,  0.00236396]]]], dtype=float32), array([-0.00453449, -0.00432895, -0.00185735, -0.0017541 , -0.00227745,\n",
      "        0.00090294, -0.00292984, -0.00144816, -0.00227199, -0.00225036,\n",
      "       -0.00388142, -0.00088305,  0.00267301, -0.00198952, -0.00458671,\n",
      "       -0.00039455, -0.00394421, -0.00023224, -0.00105336, -0.00276118,\n",
      "       -0.00375301, -0.00466649,  0.00063599, -0.00467693, -0.00027759,\n",
      "       -0.00668089, -0.00256808, -0.00188405, -0.00065963, -0.00181772,\n",
      "       -0.00430868, -0.0009347 , -0.00102898, -0.00214721, -0.00260641,\n",
      "       -0.00408648, -0.00026207, -0.00067153, -0.00204197,  0.00184519,\n",
      "        0.00025773,  0.00150429, -0.00238027, -0.0017593 , -0.00406697,\n",
      "       -0.00471748, -0.00560783, -0.00585868, -0.00604741, -0.00231838,\n",
      "        0.00104794, -0.00317822, -0.00287719, -0.00360102, -0.00023126,\n",
      "       -0.00339344, -0.0045123 , -0.00306191, -0.00171958, -0.00459274,\n",
      "        0.00016017, -0.00208868, -0.00416846,  0.00392895, -0.00427606,\n",
      "       -0.00112131,  0.00253564, -0.00431661, -0.00370467,  0.00019513,\n",
      "       -0.00264232, -0.00163112, -0.00266007, -0.00247843, -0.00311907,\n",
      "       -0.00191015, -0.00215336, -0.00430041, -0.00114548, -0.00196235,\n",
      "        0.00010108,  0.00047083, -0.0010554 , -0.00541327, -0.00380563,\n",
      "       -0.00401503, -0.0024622 , -0.00176527, -0.00450023, -0.00407766,\n",
      "       -0.00010605, -0.00292595, -0.00186014, -0.00359346, -0.00259613,\n",
      "       -0.00036934, -0.00326404, -0.00431206, -0.00373935, -0.0002579 ,\n",
      "       -0.00137224, -0.00349773, -0.00149925, -0.0059968 ,  0.00076153,\n",
      "       -0.00322603, -0.00280571, -0.00052276, -0.00262212, -0.00040215,\n",
      "       -0.00430587, -0.00295681,  0.00179553, -0.00363816, -0.00127974,\n",
      "       -0.00239528, -0.00273901, -0.00096446, -0.00437551, -0.00451558,\n",
      "       -0.00332416, -0.00050933, -0.00493846,  0.00171001,  0.00029355,\n",
      "       -0.00282182, -0.00763455, -0.00362135], dtype=float32)]\n",
      "[]\n",
      "[]\n"
     ]
    },
    {
     "name": "stdout",
     "output_type": "stream",
     "text": [
      "[array([[[[-0.01311943,  0.02659217,  0.03968369, ..., -0.01739393,\n",
      "          -0.00841814, -0.0172916 ],\n",
      "         [-0.00944814,  0.00499235,  0.01508674, ..., -0.03513239,\n",
      "          -0.01933012, -0.00386561],\n",
      "         [ 0.040398  ,  0.0303499 , -0.00418975, ..., -0.01467551,\n",
      "          -0.00152274,  0.01173828],\n",
      "         ...,\n",
      "         [-0.04478349,  0.0118921 , -0.00226059, ...,  0.00747297,\n",
      "          -0.01526861,  0.00420142],\n",
      "         [ 0.03271503, -0.00240411,  0.01132953, ...,  0.03084405,\n",
      "           0.03484877,  0.02409829],\n",
      "         [ 0.00677373, -0.01086015, -0.04437129, ..., -0.04983672,\n",
      "          -0.02230794,  0.02152836]],\n",
      "\n",
      "        [[ 0.00903081,  0.03027733,  0.00780575, ..., -0.03349158,\n",
      "           0.01327809,  0.03291224],\n",
      "         [ 0.01773914,  0.00976098, -0.02193624, ...,  0.03214124,\n",
      "           0.00867801,  0.01807736],\n",
      "         [-0.01306547,  0.00089898,  0.05552876, ..., -0.0118034 ,\n",
      "          -0.01083776, -0.01910201],\n",
      "         ...,\n",
      "         [-0.01613917,  0.02594455, -0.01764851, ..., -0.00045357,\n",
      "          -0.03053215, -0.00801316],\n",
      "         [-0.03012312,  0.03951399,  0.04225375, ...,  0.03120451,\n",
      "          -0.00564453,  0.00077274],\n",
      "         [-0.00243044,  0.02985088, -0.00386038, ...,  0.00410175,\n",
      "          -0.00130769, -0.03202847]],\n",
      "\n",
      "        [[-0.00726162, -0.01561971,  0.01146147, ..., -0.03767764,\n",
      "          -0.02217057, -0.00155861],\n",
      "         [-0.01848559,  0.01675298,  0.00561017, ..., -0.00377573,\n",
      "           0.04501425,  0.02171051],\n",
      "         [ 0.03545562,  0.00420474,  0.01909946, ..., -0.05781776,\n",
      "           0.03303154,  0.03511693],\n",
      "         ...,\n",
      "         [ 0.01097477, -0.04285771, -0.01380402, ...,  0.02808294,\n",
      "           0.03010677,  0.01354788],\n",
      "         [ 0.06242931, -0.01338632, -0.01606951, ..., -0.04544539,\n",
      "           0.01840535, -0.02333793],\n",
      "         [-0.00283128, -0.04934906,  0.01509983, ...,  0.03280928,\n",
      "          -0.01782621,  0.01804734]]],\n",
      "\n",
      "\n",
      "       [[[-0.00684325,  0.02040887,  0.00703423, ..., -0.04945954,\n",
      "          -0.04183356, -0.01532984],\n",
      "         [ 0.03478464,  0.03623793,  0.00797106, ..., -0.01426174,\n",
      "           0.01967995, -0.02622239],\n",
      "         [ 0.01321272,  0.03605841,  0.00127523, ...,  0.03344641,\n",
      "           0.0535229 ,  0.00052167],\n",
      "         ...,\n",
      "         [ 0.00710773, -0.00662865,  0.01694776, ..., -0.00797937,\n",
      "          -0.02863135,  0.04622722],\n",
      "         [ 0.01158995,  0.0570531 ,  0.00978799, ..., -0.05163348,\n",
      "           0.00818323,  0.03121241],\n",
      "         [-0.02864529,  0.01780084, -0.00377383, ...,  0.01303727,\n",
      "           0.02146576,  0.01937765]],\n",
      "\n",
      "        [[-0.04873921,  0.03012837,  0.01611403, ...,  0.03356002,\n",
      "          -0.02579431, -0.0031737 ],\n",
      "         [ 0.01843278,  0.00617503,  0.03014021, ..., -0.00334028,\n",
      "          -0.02232791,  0.02152204],\n",
      "         [-0.01153957,  0.03023015, -0.00276214, ..., -0.00738676,\n",
      "           0.06101042, -0.0081811 ],\n",
      "         ...,\n",
      "         [-0.00363896,  0.05127222,  0.04236232, ..., -0.03586366,\n",
      "          -0.00808864, -0.01943778],\n",
      "         [ 0.01511632, -0.02489624, -0.00403126, ...,  0.03218992,\n",
      "           0.00409456, -0.05770903],\n",
      "         [ 0.0088678 ,  0.03809746,  0.01097148, ...,  0.03152447,\n",
      "          -0.01459822,  0.00319951]],\n",
      "\n",
      "        [[-0.01318629, -0.00425187,  0.00095523, ...,  0.00434797,\n",
      "           0.02348969,  0.02476658],\n",
      "         [-0.03083316,  0.01621882,  0.01840759, ...,  0.03949028,\n",
      "          -0.01321402, -0.03292686],\n",
      "         [ 0.00708146, -0.00203415,  0.03173368, ...,  0.05490517,\n",
      "           0.04810164, -0.03936968],\n",
      "         ...,\n",
      "         [ 0.04598447,  0.0100853 , -0.00711165, ...,  0.00580927,\n",
      "          -0.03035646,  0.00194917],\n",
      "         [ 0.00539777, -0.00225504,  0.00694057, ..., -0.0132811 ,\n",
      "          -0.0134657 , -0.04022506],\n",
      "         [-0.00668193, -0.00636589, -0.03422651, ...,  0.00673648,\n",
      "          -0.04686644, -0.02905858]]],\n",
      "\n",
      "\n",
      "       [[[ 0.00740464, -0.046723  ,  0.04353996, ...,  0.03478289,\n",
      "          -0.02033416, -0.00529367],\n",
      "         [ 0.02262266,  0.02364186, -0.01826551, ..., -0.02686069,\n",
      "           0.0031772 ,  0.02002261],\n",
      "         [ 0.0564371 ,  0.00234402, -0.01744239, ...,  0.00279679,\n",
      "           0.01058567,  0.0313846 ],\n",
      "         ...,\n",
      "         [ 0.05837788,  0.00049528,  0.01104447, ..., -0.05067224,\n",
      "          -0.0289392 , -0.02242035],\n",
      "         [ 0.00603075, -0.00099538, -0.03827264, ...,  0.00702592,\n",
      "          -0.04977058, -0.03793147],\n",
      "         [-0.01999947, -0.03408287, -0.0014838 , ..., -0.01615966,\n",
      "           0.0233183 , -0.00994515]],\n",
      "\n",
      "        [[ 0.00689889,  0.00101938, -0.01296904, ..., -0.03146317,\n",
      "           0.05350094,  0.00758922],\n",
      "         [-0.00113689,  0.03187928, -0.02761193, ..., -0.04055213,\n",
      "          -0.02424622,  0.01846777],\n",
      "         [-0.00456121,  0.02690273, -0.02556225, ..., -0.05584957,\n",
      "           0.00454779,  0.0130202 ],\n",
      "         ...,\n",
      "         [ 0.00057682, -0.02131661, -0.00459474, ...,  0.00108756,\n",
      "           0.01634397,  0.01243729],\n",
      "         [-0.00771923,  0.01146416,  0.04537326, ..., -0.04374319,\n",
      "           0.02585643,  0.04761331],\n",
      "         [-0.01524365, -0.0189918 , -0.00613156, ..., -0.04654637,\n",
      "           0.00805278, -0.05047191]],\n",
      "\n",
      "        [[-0.02414453, -0.02821415, -0.00917878, ...,  0.04573762,\n",
      "          -0.03185124,  0.01520258],\n",
      "         [-0.00567436,  0.0402648 ,  0.0079665 , ...,  0.02980506,\n",
      "          -0.02299963,  0.02878195],\n",
      "         [ 0.01622094,  0.0167355 ,  0.02034537, ..., -0.0202539 ,\n",
      "           0.04371034,  0.045215  ],\n",
      "         ...,\n",
      "         [ 0.01416605, -0.00178829, -0.020626  , ..., -0.00747545,\n",
      "           0.02309394,  0.02176461],\n",
      "         [-0.01029524,  0.0242571 ,  0.03098861, ..., -0.00384245,\n",
      "          -0.00086139, -0.03932872],\n",
      "         [ 0.02068717, -0.01410532, -0.00223699, ...,  0.05437085,\n",
      "          -0.01003758, -0.03714382]]]], dtype=float32), array([-0.00282601, -0.00373038, -0.00236635,  0.00098434, -0.00597712,\n",
      "       -0.00263043,  0.00053349, -0.00045079,  0.0005426 ,  0.00026409,\n",
      "        0.00150327,  0.00293513,  0.00503123, -0.00198242, -0.00042477,\n",
      "        0.00463381, -0.00797297,  0.00327925, -0.00191481, -0.00064164,\n",
      "       -0.00139857,  0.00338641, -0.00379489,  0.00130355,  0.00188626,\n",
      "       -0.00218938,  0.00260968,  0.00112195,  0.00275945,  0.00341296,\n",
      "        0.00435979,  0.00331091, -0.00335703, -0.00034295,  0.00422757,\n",
      "       -0.00484551, -0.00417125, -0.0022586 , -0.00146239, -0.00105985,\n",
      "       -0.00203176, -0.00262565,  0.00242803, -0.00187206,  0.0021145 ,\n",
      "        0.0003689 , -0.00226655, -0.0022335 , -0.00131602,  0.0045309 ,\n",
      "        0.00446517,  0.00223234,  0.00266208, -0.00090178, -0.0003544 ,\n",
      "        0.00040732, -0.00034952,  0.00273186, -0.00015386, -0.00196934,\n",
      "        0.00519083,  0.00124026,  0.00915891, -0.00008587,  0.00193824,\n",
      "        0.00550519,  0.00071629,  0.00121401, -0.00166948, -0.00013853,\n",
      "       -0.00052152, -0.0019464 , -0.00033097, -0.00020191, -0.00546891,\n",
      "        0.0026723 ,  0.00409636, -0.00145709, -0.00164032, -0.0036909 ,\n",
      "        0.00054642, -0.0038254 , -0.00698629, -0.00753964,  0.00152395,\n",
      "       -0.00269645, -0.00226498,  0.00757204, -0.00281566,  0.00005908,\n",
      "        0.0025295 ,  0.00135543, -0.00047692, -0.00389155, -0.00080607,\n",
      "        0.00214752,  0.00341947, -0.00069648, -0.00166011, -0.00048099,\n",
      "       -0.00160585,  0.00368709,  0.00273868,  0.00073022, -0.00213363,\n",
      "        0.00122539,  0.00109277, -0.00359555, -0.00159744,  0.00380873,\n",
      "       -0.0009904 ,  0.00133175, -0.00019849,  0.00175244,  0.00350256,\n",
      "        0.00384011, -0.00147287, -0.00439671,  0.00071117, -0.00145416,\n",
      "       -0.00268644, -0.00137983, -0.00341757, -0.00248267, -0.00203561,\n",
      "        0.00147366,  0.00273406, -0.00317965, -0.00538869, -0.00162558,\n",
      "        0.0037564 ,  0.00388241, -0.00282795, -0.00297905, -0.00003319,\n",
      "       -0.00082128,  0.00662427, -0.00086353,  0.0032912 , -0.00114499,\n",
      "        0.00108233,  0.00329562, -0.00143198,  0.00135704, -0.00153329,\n",
      "        0.00288934,  0.00216937,  0.00315147,  0.00094975,  0.0022946 ,\n",
      "       -0.00171421,  0.00002706,  0.00133215, -0.00022544,  0.00561782,\n",
      "        0.00101398,  0.00461647,  0.00080729, -0.00111741,  0.00100204,\n",
      "       -0.00025095, -0.00279442, -0.0011363 ,  0.00114223, -0.0005066 ,\n",
      "       -0.00446476,  0.00051815,  0.00305075, -0.00480821, -0.00259322,\n",
      "       -0.00543335, -0.00039197, -0.00509289,  0.00091167, -0.00188751,\n",
      "        0.0006863 , -0.00122952, -0.00061034,  0.00295495,  0.00010734,\n",
      "        0.00111485, -0.00170309, -0.00143904, -0.0010726 ,  0.00020833,\n",
      "       -0.00130836, -0.00440836, -0.0010044 , -0.00395413, -0.00270653,\n",
      "       -0.00260891, -0.00014373,  0.00135456,  0.000771  ,  0.00173526,\n",
      "        0.00166104,  0.00027278, -0.00608805, -0.00250817,  0.00063562,\n",
      "       -0.00168485,  0.00645263, -0.00101369,  0.00117615,  0.00115527,\n",
      "       -0.0030669 ,  0.00715553,  0.00163386,  0.00139459, -0.00262339,\n",
      "        0.00308161,  0.00200322,  0.00122017,  0.00025357, -0.00411491,\n",
      "        0.00275141,  0.00302168,  0.00556577,  0.00093966, -0.00116458,\n",
      "        0.00020344,  0.00103287,  0.00078029, -0.00103612,  0.00175035,\n",
      "       -0.00064593,  0.00205658, -0.00137418, -0.00103505,  0.00099605,\n",
      "       -0.00064764, -0.00104736, -0.00422895,  0.00034866, -0.00266197,\n",
      "        0.00144182, -0.00138133, -0.00696671, -0.00078889, -0.00233421,\n",
      "        0.00508404,  0.0020881 , -0.00024585, -0.00157712,  0.00035272,\n",
      "       -0.00081298, -0.00100014,  0.00146293,  0.00239309, -0.00030525,\n",
      "       -0.00073846, -0.0046475 , -0.00005514,  0.00074845, -0.00214086,\n",
      "       -0.0055507 ], dtype=float32)]\n",
      "[]\n",
      "[]\n"
     ]
    },
    {
     "name": "stdout",
     "output_type": "stream",
     "text": [
      "[array([[-0.0049923 , -0.00282286, -0.00058302, ...,  0.00296318,\n",
      "         0.00111441,  0.00053918],\n",
      "       [-0.00325962,  0.00334873, -0.00312088, ...,  0.00266769,\n",
      "        -0.00411372,  0.00012552],\n",
      "       [-0.00211034, -0.00028756,  0.00072609, ..., -0.00671465,\n",
      "        -0.00080819,  0.00178431],\n",
      "       ...,\n",
      "       [ 0.0052882 , -0.00303234,  0.00093579, ..., -0.00252155,\n",
      "        -0.00128663,  0.00032975],\n",
      "       [ 0.00182276,  0.00169892,  0.0032472 , ..., -0.00122358,\n",
      "        -0.00232215,  0.00293983],\n",
      "       [-0.00159557,  0.0016814 ,  0.00217451, ..., -0.00386511,\n",
      "        -0.00284254, -0.00037337]], dtype=float32), array([-0.00115093, -0.00275497,  0.00085391,  0.00040322, -0.00126434,\n",
      "       -0.00105294, -0.00336051, -0.0034955 ,  0.00201269,  0.0045551 ,\n",
      "        0.00209047, -0.00354522, -0.00520003, -0.00205629, -0.00131166,\n",
      "       -0.00146775, -0.00418747, -0.00369731, -0.00290454, -0.00209717,\n",
      "        0.00027586,  0.00044141, -0.00438294, -0.00386493,  0.00444627,\n",
      "        0.00066857,  0.00018068, -0.00357959, -0.0020075 ,  0.00264357,\n",
      "       -0.00088497, -0.0010549 , -0.00187656, -0.0036058 , -0.00017509,\n",
      "        0.0005532 , -0.00187958, -0.00641066, -0.00469387, -0.00525696,\n",
      "       -0.00157868, -0.0027059 , -0.00357721, -0.00522203, -0.00304968,\n",
      "        0.00590074,  0.00089377, -0.00170198,  0.0041268 , -0.00057191,\n",
      "       -0.00272725,  0.00489839,  0.00042277, -0.00525943, -0.00116985,\n",
      "       -0.00200279,  0.00266947, -0.00371205, -0.00169817,  0.00319183,\n",
      "       -0.00364146,  0.00145202, -0.00053122, -0.00262923,  0.00418983,\n",
      "       -0.00149436,  0.00648791,  0.00423067,  0.00072339,  0.00215723,\n",
      "        0.00085549, -0.00169825, -0.00426876, -0.00248298, -0.00316068,\n",
      "       -0.00424438, -0.00463256,  0.00432116, -0.00647956,  0.00376384,\n",
      "        0.00045972, -0.00216107,  0.00360085, -0.00058717, -0.00279868,\n",
      "        0.00067698, -0.00171161, -0.00456695,  0.00141708, -0.00268148,\n",
      "       -0.00061452, -0.00687252, -0.00708039,  0.00138209, -0.00660153,\n",
      "        0.00026514, -0.00221496,  0.0010133 , -0.00423449, -0.00703649,\n",
      "       -0.00277012, -0.00252949, -0.00131408, -0.00054435, -0.00542504,\n",
      "       -0.00136583, -0.00633062, -0.00106558, -0.00458064,  0.0001711 ,\n",
      "        0.00108657, -0.00169881, -0.00320596, -0.00206979, -0.00338191,\n",
      "        0.00402627, -0.00326011,  0.00049405, -0.00463242, -0.00227021,\n",
      "        0.00042469, -0.0046528 , -0.00485948,  0.00017468, -0.00599274,\n",
      "        0.00089637, -0.00141362, -0.00280598, -0.0062292 ,  0.00016036,\n",
      "        0.00066737, -0.00924827, -0.00394188, -0.0035079 , -0.00121537,\n",
      "       -0.00249516, -0.00313961,  0.00336812, -0.00707337, -0.00158901,\n",
      "       -0.00093465, -0.00206391,  0.00452718, -0.00232052, -0.00307414,\n",
      "       -0.00479203, -0.00362936, -0.00619892, -0.00077734,  0.0006274 ,\n",
      "       -0.00702106,  0.00003372, -0.00363595, -0.00148518,  0.0003101 ,\n",
      "       -0.00162679, -0.00049485, -0.00493319, -0.00321627, -0.00182302,\n",
      "       -0.00357122,  0.00000317, -0.00337224, -0.003272  , -0.00519851,\n",
      "       -0.00116135, -0.00146224, -0.00074079, -0.00454616, -0.00161194,\n",
      "       -0.00396335, -0.00245966,  0.00276821, -0.0022191 ,  0.00025669,\n",
      "       -0.00078995,  0.00406886, -0.00123407, -0.00478444, -0.00373192,\n",
      "        0.0029977 , -0.00073386,  0.00189666, -0.00176175, -0.00284504,\n",
      "       -0.00241847, -0.00915019, -0.00009931, -0.00144628, -0.00378403,\n",
      "       -0.00263586, -0.00843695, -0.00250617, -0.00707254,  0.00470174,\n",
      "       -0.0008031 , -0.00387746, -0.00591466, -0.00516279,  0.00009221,\n",
      "       -0.00334958, -0.00370954, -0.00448547, -0.00655264, -0.00375468,\n",
      "        0.00014482,  0.00221196, -0.00063511, -0.00356744,  0.00243898,\n",
      "       -0.00115865, -0.00325918,  0.00121841,  0.00101093, -0.00111446,\n",
      "       -0.00370414, -0.00547195, -0.00159746, -0.00576655, -0.00277753,\n",
      "       -0.00072568, -0.00263303, -0.00127042, -0.00029309, -0.00053245,\n",
      "       -0.00122187, -0.00398705,  0.0024284 , -0.00140689,  0.00033753,\n",
      "       -0.00293404,  0.00102124,  0.00188961, -0.00541031, -0.00187208,\n",
      "        0.00019473, -0.00128785, -0.00117051, -0.00099989, -0.00197313,\n",
      "       -0.00545868,  0.00198914,  0.00790251, -0.00081415, -0.00130272,\n",
      "       -0.00568181, -0.00159379, -0.00405041, -0.0019422 , -0.0026039 ,\n",
      "       -0.0016457 , -0.00551227, -0.00330525, -0.00767884, -0.00241552,\n",
      "       -0.00313986, -0.00232762,  0.00007936, -0.00085349, -0.00221781,\n",
      "        0.00416031, -0.00134044, -0.00090213, -0.00572331, -0.00648118,\n",
      "        0.00115064,  0.00141543, -0.00372706,  0.00734536, -0.0027775 ,\n",
      "       -0.00412796,  0.00207349,  0.00076653, -0.00165744, -0.00304514,\n",
      "        0.00485714, -0.00161104, -0.00413752,  0.00092179, -0.00287783,\n",
      "       -0.00946322, -0.00465805, -0.00571327,  0.00206929, -0.00400704,\n",
      "       -0.0008914 , -0.00170011, -0.00097801, -0.00175828, -0.00095613,\n",
      "       -0.00566697, -0.00350277, -0.00179191, -0.00319705, -0.0042071 ,\n",
      "       -0.0048067 , -0.00138474, -0.0030504 , -0.0049083 , -0.00438256,\n",
      "       -0.00408673,  0.00047344, -0.00087652,  0.00366902, -0.00050709,\n",
      "       -0.00001828, -0.00332769,  0.00156283, -0.00185594,  0.00055785,\n",
      "       -0.00635648, -0.00634391, -0.00493228,  0.00029109, -0.00282869,\n",
      "       -0.00229887, -0.00429059, -0.00301365,  0.00262054, -0.00311362,\n",
      "       -0.00662082, -0.00120293,  0.00020567, -0.00577746, -0.00004963,\n",
      "       -0.006183  , -0.00260868, -0.00326297,  0.00142124, -0.00186599,\n",
      "       -0.0026    ,  0.00273469,  0.00261495, -0.00273776, -0.00206033,\n",
      "       -0.00435592, -0.00432326, -0.0009801 , -0.00217914, -0.00665791,\n",
      "       -0.00337407,  0.0006422 , -0.00511521, -0.00450367,  0.00022077,\n",
      "       -0.00183978, -0.00151957, -0.00052384,  0.00513474, -0.00562521,\n",
      "       -0.0030984 , -0.00461689, -0.00383443, -0.00567632, -0.00588132,\n",
      "        0.00145053,  0.00020349,  0.00486224,  0.00576943,  0.00049202,\n",
      "       -0.00610534, -0.00229732,  0.00396992, -0.00072141, -0.00435525,\n",
      "        0.00423199, -0.00552559, -0.00068266, -0.00329049,  0.00444192,\n",
      "        0.00002283, -0.00369592, -0.00002068,  0.0032121 , -0.00598782,\n",
      "        0.00113607, -0.00541927,  0.00129181, -0.00241943,  0.00171407,\n",
      "       -0.00336524, -0.00443427, -0.00252434, -0.00198421, -0.00658752,\n",
      "       -0.00677977,  0.00220779, -0.00121443, -0.00441303,  0.00521945,\n",
      "       -0.00243455,  0.00027144, -0.00449469, -0.00245407, -0.00382093,\n",
      "        0.00145849,  0.00019941, -0.00025847,  0.00039415, -0.00392243,\n",
      "        0.00138511, -0.00218973,  0.00108364, -0.00594598, -0.00020152,\n",
      "        0.00270068, -0.00412283, -0.00124996, -0.00162806, -0.00324206,\n",
      "       -0.00207943, -0.00761854,  0.0000991 , -0.00109424,  0.0006038 ,\n",
      "        0.00331943, -0.00093287, -0.00646542,  0.00074256, -0.00399888,\n",
      "       -0.00751064, -0.00047102, -0.00240535, -0.00126968, -0.00039343,\n",
      "       -0.00220878, -0.00327189, -0.0037852 , -0.00153522, -0.00379971,\n",
      "        0.00051227, -0.0035619 , -0.00570322, -0.0037604 , -0.00305265,\n",
      "        0.00494585, -0.00119856, -0.00016987, -0.00175606, -0.00561955,\n",
      "        0.00124711,  0.00024162,  0.00225011,  0.0052096 , -0.00178158,\n",
      "        0.00613644, -0.00459361, -0.00157907, -0.00134513, -0.00226776,\n",
      "       -0.00416425, -0.00322541, -0.00406819,  0.00091255, -0.00194516,\n",
      "        0.00094169,  0.00202635,  0.00103674, -0.00614918,  0.00001222,\n",
      "       -0.00157129, -0.00181507, -0.00451198,  0.00023995, -0.00068108,\n",
      "        0.00360787,  0.001047  , -0.0047486 , -0.00248506,  0.00127976,\n",
      "       -0.00623891, -0.00341878,  0.00303317, -0.00104607, -0.00189735,\n",
      "       -0.00081825, -0.00143286, -0.00007596,  0.00237699,  0.00067524,\n",
      "       -0.00410303, -0.00167693, -0.00204272, -0.00446223, -0.00204287,\n",
      "       -0.00200396,  0.00181139, -0.00423856,  0.00409271, -0.00285083,\n",
      "       -0.00129371, -0.00050598, -0.00268785, -0.0042443 , -0.00139306,\n",
      "        0.00267442,  0.00032049, -0.00099821, -0.00194546, -0.0074631 ,\n",
      "       -0.00312146, -0.00257112, -0.00229833, -0.00309735, -0.00541991,\n",
      "       -0.00222857,  0.00166049, -0.00297055, -0.00013014, -0.00424144,\n",
      "       -0.00127551, -0.00068449], dtype=float32)]\n",
      "[]\n",
      "[]\n",
      "[]\n",
      "[array([[ 0.39558387, -0.09725302],\n",
      "       [ 0.15434936,  0.46828768],\n",
      "       [-0.34769955,  0.04381295],\n",
      "       [ 0.43169472,  0.12024844],\n",
      "       [-0.5225866 ,  0.46227315],\n",
      "       [-0.4220906 , -0.00066888],\n",
      "       [-0.1239384 , -0.41276348],\n",
      "       [-0.19693582,  0.38933572],\n",
      "       [ 0.08761376,  0.454495  ],\n",
      "       [-0.23176797,  0.15943228],\n",
      "       [-0.5465345 , -0.15313768],\n",
      "       [ 0.10802155,  0.47623473],\n",
      "       [ 0.36623615,  0.19531474],\n",
      "       [-0.22131267,  0.27558702],\n",
      "       [-0.35991   ,  0.3752376 ],\n",
      "       [ 0.04730241,  0.3498422 ]], dtype=float32), array([-0.00229742, -0.00149193], dtype=float32)]\n"
     ]
    }
   ],
   "source": [
    "weights_list = []\n",
    "for layer in model.layers[:43:3]:\n",
    "  layer_name = layer.name\n",
    "  # print(layer.name)\n",
    "  layer.set_weights(layer_dict[layer_name].get_weights())\n",
    "  print(layer.get_weights())\n",
    "  #print(type(np.asarray(layer.get_weights)))\n",
    "  x = (np.asarray(layer.get_weights()))\n",
    "\n",
    "  weights_list.append(np.asarray(x))\n"
   ]
  },
  {
   "cell_type": "code",
   "execution_count": 474,
   "metadata": {},
   "outputs": [],
   "source": [
    "def get_model2():\n",
    "    with tf.device(\"GPU:1\"):\n",
    "        nclass = 2\n",
    "        initializer1 = tf.keras.initializers.RandomNormal\n",
    "        initializer2 = tf.keras.initializers.Zeros()\n",
    "        initializer3 = tf.keras.initializers.glorot_uniform(seed=None)\n",
    "        initializer4 = tf.keras.initializers.lecun_normal(seed=None)\n",
    "        initializer5 = tf.keras.initializers.TruncatedNormal(mean=0., stddev=1.)\n",
    "\n",
    "        inp = Input(shape=cqt_input_shape)\n",
    "        \n",
    "        img_1 = Conv2D(128, kernel_size=(7,7), \n",
    "                       kernel_initializer=initializer4,  \n",
    "                       trainable = False,\n",
    "                       padding=\"valid\")(inp)\n",
    "        #img_1 = LeakyReLU(alpha=0.2)(img_1)\n",
    "        img_1 = Dropout(0.3)(img_1)\n",
    "\n",
    "        img_1 = MaxPooling2D()(img_1)\n",
    "        img_1 = Conv2D(128, kernel_size=(3,3),       \n",
    "                       kernel_initializer=initializer4,\n",
    "                       trainable = False,\n",
    "                       padding=\"valid\")(img_1)\n",
    "        #img_1 = LeakyReLU(alpha=0.2)(img_1)\n",
    "        img_1 = Dropout(0.3)(img_1)\n",
    "        \n",
    "        img_1 = MaxPooling2D()(img_1)\n",
    "        img_1 = Conv2D(256, kernel_size=(3,3),       \n",
    "                       kernel_initializer=initializer4, \n",
    "                       trainable = False,\n",
    "                       padding=\"valid\")(img_1)\n",
    "        #img_1 = LeakyReLU(alpha=0.2)(img_1)\n",
    "        img_1 = Dropout(0.3)(img_1)   \n",
    "        \n",
    "        img_1 = Flatten()(img_1)      \n",
    "        img_1 = Dense(512, kernel_initializer=initializer4, trainable = True, kernel_regularizer = regularizers.l2(0.001)\n",
    "                     )(img_1)\n",
    "        #img_1 = LeakyReLU(alpha=0.2)(img_1)\n",
    "        img_1 = Dropout(0.4)(img_1)   \n",
    "         \n",
    "        \n",
    "        img_1 = Dense(128, kernel_initializer=initializer4, trainable = True,\n",
    "                             kernel_regularizer = regularizers.l2(0.001),\n",
    "                             use_bias=True, \n",
    "                             bias_initializer=initializer4,\n",
    "                            )(img_1)\n",
    "        img_1 = LeakyReLU(alpha=0.2)(img_1)\n",
    "        img_1 = Dropout(0.5)(img_1)   \n",
    "\n",
    "        img_1 = Dense(16, kernel_initializer=initializer4, trainable = True,\n",
    "                             kernel_regularizer = regularizers.l2(0.01),\n",
    "                             use_bias=True, \n",
    "                             bias_initializer=initializer4,\n",
    "                            )(img_1)\n",
    "        img_1 = LeakyReLU(alpha=0.2)(img_1)\n",
    "        img_1 = Dropout(0.5)(img_1)   \n",
    "\n",
    "\n",
    "        output_layer = Dense(2,activation=activations.sigmoid)(img_1)\n",
    "        model = models.Model(inputs=[inp], outputs=[output_layer])\n",
    "        opt = optimizers.Adam(lr=0.00005, beta_1=0.9, beta_2=0.999, epsilon=1e-5, decay=.03, amsgrad=False)\n",
    "        model.compile(optimizer=opt, loss=losses.binary_crossentropy, metrics=['acc'])\n",
    "\n",
    "        model.summary()\n",
    "\n",
    "\n",
    "        return model"
   ]
  },
  {
   "cell_type": "code",
   "execution_count": 475,
   "metadata": {},
   "outputs": [],
   "source": [
    "#Before prediction\n",
    "K.clear_session()\n",
    "# from tensorflow.compat.v1 import ConfigProto\n",
    "# from tensorflow.compat.v1 import InteractiveSession\n",
    "tf.compat.v1.disable_eager_execution()\n",
    "# # #session = InteractiveSession.close()\n",
    "# config = ConfigProto()\n",
    "# config.gpu_options.allow_growth = True\n",
    "\n",
    "\n",
    "\n",
    "from tensorflow.python.framework import ops\n",
    "ops.reset_default_graph()"
   ]
  },
  {
   "cell_type": "code",
   "execution_count": 476,
   "metadata": {},
   "outputs": [
    {
     "name": "stdout",
     "output_type": "stream",
     "text": [
      "Num GPUs Available:  0\n"
     ]
    }
   ],
   "source": [
    "print(\"Num GPUs Available: \", len(tf.config.experimental.list_physical_devices('GPU')))"
   ]
  },
  {
   "cell_type": "code",
   "execution_count": 477,
   "metadata": {},
   "outputs": [
    {
     "name": "stdout",
     "output_type": "stream",
     "text": [
      "Model: \"model\"\n",
      "_________________________________________________________________\n",
      "Layer (type)                 Output Shape              Param #   \n",
      "=================================================================\n",
      "input_1 (InputLayer)         [(None, 70, 112, 1)]      0         \n",
      "_________________________________________________________________\n",
      "conv2d (Conv2D)              (None, 64, 106, 128)      6400      \n",
      "_________________________________________________________________\n",
      "dropout (Dropout)            (None, 64, 106, 128)      0         \n",
      "_________________________________________________________________\n",
      "max_pooling2d (MaxPooling2D) (None, 32, 53, 128)       0         \n",
      "_________________________________________________________________\n",
      "conv2d_1 (Conv2D)            (None, 30, 51, 128)       147584    \n",
      "_________________________________________________________________\n",
      "dropout_1 (Dropout)          (None, 30, 51, 128)       0         \n",
      "_________________________________________________________________\n",
      "max_pooling2d_1 (MaxPooling2 (None, 15, 25, 128)       0         \n",
      "_________________________________________________________________\n",
      "conv2d_2 (Conv2D)            (None, 13, 23, 256)       295168    \n",
      "_________________________________________________________________\n",
      "dropout_2 (Dropout)          (None, 13, 23, 256)       0         \n",
      "_________________________________________________________________\n",
      "flatten (Flatten)            (None, 76544)             0         \n",
      "_________________________________________________________________\n",
      "dense (Dense)                (None, 512)               39191040  \n",
      "_________________________________________________________________\n",
      "dropout_3 (Dropout)          (None, 512)               0         \n",
      "_________________________________________________________________\n",
      "dense_1 (Dense)              (None, 128)               65664     \n",
      "_________________________________________________________________\n",
      "leaky_re_lu (LeakyReLU)      (None, 128)               0         \n",
      "_________________________________________________________________\n",
      "dropout_4 (Dropout)          (None, 128)               0         \n",
      "_________________________________________________________________\n",
      "dense_2 (Dense)              (None, 16)                2064      \n",
      "_________________________________________________________________\n",
      "leaky_re_lu_1 (LeakyReLU)    (None, 16)                0         \n",
      "_________________________________________________________________\n",
      "dropout_5 (Dropout)          (None, 16)                0         \n",
      "_________________________________________________________________\n",
      "dense_3 (Dense)              (None, 2)                 34        \n",
      "=================================================================\n",
      "Total params: 39,707,954\n",
      "Trainable params: 39,258,802\n",
      "Non-trainable params: 449,152\n",
      "_________________________________________________________________\n"
     ]
    }
   ],
   "source": [
    "pre_trained = get_model2()"
   ]
  },
  {
   "cell_type": "code",
   "execution_count": 478,
   "metadata": {},
   "outputs": [
    {
     "name": "stdout",
     "output_type": "stream",
     "text": [
      "[array([[[[-0.11442658, -0.07573606,  0.10840393, ..., -0.12790704,\n",
      "           0.10694934,  0.0756535 ]],\n",
      "\n",
      "        [[-0.12939432, -0.10993961,  0.25770494, ...,  0.20975386,\n",
      "          -0.12936383,  0.07665407]],\n",
      "\n",
      "        [[ 0.02438268, -0.05128435, -0.01023597, ...,  0.17624024,\n",
      "          -0.02288436, -0.0284999 ]],\n",
      "\n",
      "        ...,\n",
      "\n",
      "        [[-0.10508987, -0.10805966,  0.21009547, ..., -0.10050454,\n",
      "          -0.01034671, -0.25058046]],\n",
      "\n",
      "        [[ 0.211159  , -0.2118894 ,  0.07217697, ..., -0.13822788,\n",
      "           0.28004393,  0.0548064 ]],\n",
      "\n",
      "        [[ 0.25074723,  0.05158928,  0.19241987, ..., -0.27820233,\n",
      "          -0.03005468,  0.22932757]]],\n",
      "\n",
      "\n",
      "       [[[-0.09939691,  0.0317211 ,  0.11862662, ...,  0.0227039 ,\n",
      "           0.00171996, -0.03042625]],\n",
      "\n",
      "        [[ 0.21981417,  0.16589946, -0.02726466, ..., -0.11251115,\n",
      "           0.03677797,  0.11840519]],\n",
      "\n",
      "        [[ 0.10757915,  0.07430968, -0.01762263, ...,  0.223612  ,\n",
      "          -0.09325015,  0.03261703]],\n",
      "\n",
      "        ...,\n",
      "\n",
      "        [[-0.1658376 ,  0.2660138 , -0.00380725, ..., -0.07562501,\n",
      "           0.05611671, -0.19084744]],\n",
      "\n",
      "        [[ 0.04032432,  0.11734622, -0.24395378, ...,  0.13219836,\n",
      "           0.01675934,  0.10346241]],\n",
      "\n",
      "        [[-0.10437039,  0.05336044, -0.2565397 , ...,  0.12396812,\n",
      "           0.11274562,  0.00286959]]],\n",
      "\n",
      "\n",
      "       [[[ 0.24327917,  0.0379448 , -0.00219881, ...,  0.26607487,\n",
      "          -0.11236344,  0.00634885]],\n",
      "\n",
      "        [[-0.2849653 ,  0.249038  ,  0.0517484 , ..., -0.01341046,\n",
      "           0.17613232,  0.07999711]],\n",
      "\n",
      "        [[-0.08284575,  0.00617571, -0.02317254, ...,  0.01056445,\n",
      "          -0.12764561,  0.12383597]],\n",
      "\n",
      "        ...,\n",
      "\n",
      "        [[ 0.02922851, -0.05016278, -0.04290376, ...,  0.09052956,\n",
      "           0.18102196,  0.00933717]],\n",
      "\n",
      "        [[-0.15898809,  0.01527826,  0.14699176, ...,  0.16722848,\n",
      "           0.0319362 ,  0.05401699]],\n",
      "\n",
      "        [[ 0.03658435,  0.06519083, -0.2424254 , ..., -0.25573048,\n",
      "          -0.1492151 , -0.22552083]]],\n",
      "\n",
      "\n",
      "       ...,\n",
      "\n",
      "\n",
      "       [[[ 0.10375512, -0.03094814,  0.19037987, ..., -0.28181773,\n",
      "           0.09834582,  0.16549526]],\n",
      "\n",
      "        [[-0.30047214,  0.01936891, -0.03817058, ...,  0.23240052,\n",
      "           0.03708088, -0.22402526]],\n",
      "\n",
      "        [[ 0.15661325,  0.17048669,  0.03206122, ..., -0.11956434,\n",
      "          -0.10909517,  0.1820821 ]],\n",
      "\n",
      "        ...,\n",
      "\n",
      "        [[-0.09319644,  0.11709667, -0.14532559, ...,  0.02880058,\n",
      "          -0.19831902, -0.22254352]],\n",
      "\n",
      "        [[-0.21678084,  0.2861083 ,  0.15141743, ...,  0.04740359,\n",
      "           0.04992343,  0.04208951]],\n",
      "\n",
      "        [[-0.09049778,  0.0474497 ,  0.21719639, ...,  0.21559955,\n",
      "           0.0038696 ,  0.01062316]]],\n",
      "\n",
      "\n",
      "       [[[-0.1352304 ,  0.09781731, -0.25149265, ...,  0.12287793,\n",
      "          -0.10527286,  0.11817306]],\n",
      "\n",
      "        [[-0.00272739, -0.04586431,  0.02786553, ..., -0.0903326 ,\n",
      "           0.30089968,  0.01879953]],\n",
      "\n",
      "        [[ 0.13661724,  0.11770944, -0.15820405, ..., -0.24187443,\n",
      "           0.20990494, -0.13094337]],\n",
      "\n",
      "        ...,\n",
      "\n",
      "        [[ 0.11624446, -0.09134414, -0.03233844, ..., -0.09664451,\n",
      "           0.117991  ,  0.04862043]],\n",
      "\n",
      "        [[ 0.14145625, -0.14698713, -0.13824058, ..., -0.02556913,\n",
      "           0.15311438,  0.08325997]],\n",
      "\n",
      "        [[-0.01771202,  0.06310302, -0.1992934 , ...,  0.00844558,\n",
      "          -0.01490044,  0.03536334]]],\n",
      "\n",
      "\n",
      "       [[[-0.16508415, -0.12064761,  0.07474701, ..., -0.08679659,\n",
      "          -0.05384453, -0.18642104]],\n",
      "\n",
      "        [[ 0.12800024, -0.01394235, -0.11291759, ..., -0.13469869,\n",
      "          -0.30146104, -0.18303037]],\n",
      "\n",
      "        [[ 0.017875  , -0.0710712 , -0.00696789, ..., -0.05601652,\n",
      "          -0.00178743, -0.05738698]],\n",
      "\n",
      "        ...,\n",
      "\n",
      "        [[-0.14561829, -0.16840084, -0.07685487, ...,  0.20384674,\n",
      "          -0.20534801, -0.16775937]],\n",
      "\n",
      "        [[-0.22340277,  0.15611394, -0.08957045, ..., -0.11875881,\n",
      "          -0.06425839, -0.27688798]],\n",
      "\n",
      "        [[ 0.16615461, -0.0151626 ,  0.02117651, ..., -0.0158205 ,\n",
      "          -0.11372664, -0.05218472]]]], dtype=float32)\n",
      " array([-0.00574248, -0.00483903,  0.00114871, -0.00136664,  0.0006233 ,\n",
      "        0.00672867, -0.00487672, -0.0061952 ,  0.00649855, -0.00422025,\n",
      "        0.00529184, -0.00038877,  0.00069935,  0.00924976, -0.00648774,\n",
      "       -0.00060789, -0.00261339,  0.00988463,  0.00582656,  0.00621668,\n",
      "       -0.01202618, -0.00563394, -0.00893467,  0.00608312,  0.00659621,\n",
      "       -0.00453564,  0.00730351, -0.0037456 ,  0.00205291,  0.01392805,\n",
      "        0.00612022, -0.00180648, -0.0070143 , -0.00809446, -0.00668866,\n",
      "        0.00108011, -0.00650269, -0.00005898, -0.01030469,  0.00003022,\n",
      "        0.00223821, -0.00274412, -0.00237433, -0.00149195, -0.00727539,\n",
      "       -0.00258558, -0.00464253, -0.00293267, -0.00584919,  0.00047589,\n",
      "       -0.00832997,  0.00182836, -0.00280318, -0.00307623,  0.00597744,\n",
      "        0.00827498,  0.01182768, -0.00819987, -0.0047768 , -0.00319728,\n",
      "        0.00995837, -0.005244  ,  0.01154625, -0.00018248, -0.00821729,\n",
      "        0.00152815, -0.00709277, -0.00177519, -0.01318575,  0.01044944,\n",
      "       -0.00372041,  0.01184659,  0.00985075,  0.01002836, -0.00847876,\n",
      "       -0.00324768, -0.00534717,  0.01445691, -0.00242495, -0.00331848,\n",
      "        0.01432923,  0.00618789, -0.00512797, -0.00908875, -0.00463067,\n",
      "       -0.00348737, -0.00759847, -0.00958588, -0.00167473, -0.00196223,\n",
      "       -0.00664165,  0.00535192, -0.00189764,  0.00992253, -0.00831653,\n",
      "        0.00976498, -0.00159632,  0.00033088, -0.00847532, -0.004901  ,\n",
      "        0.01353503, -0.00362849,  0.00739396, -0.00965603, -0.00152667,\n",
      "       -0.00703663,  0.00556748, -0.00269893,  0.00951456, -0.00341599,\n",
      "        0.00451009, -0.00430318, -0.00439994, -0.00461493, -0.00611534,\n",
      "        0.00921476,  0.00621723, -0.00697193, -0.00313057,  0.01112582,\n",
      "       -0.00191066, -0.00410779, -0.00297847,  0.00774802, -0.00662513,\n",
      "       -0.01007932, -0.00270175,  0.00632527], dtype=float32)]\n",
      "[array([[[[ 0.01362636,  0.01255282,  0.00757458, ..., -0.00438937,\n",
      "           0.04930877, -0.03189153],\n",
      "         [ 0.02668969,  0.00243714, -0.04509762, ..., -0.03156236,\n",
      "          -0.04075242, -0.02858873],\n",
      "         [ 0.02920786,  0.01879305, -0.01340603, ..., -0.02460677,\n",
      "           0.01567579,  0.03947435],\n",
      "         ...,\n",
      "         [-0.02272481,  0.0363735 ,  0.01942683, ...,  0.01999835,\n",
      "           0.01716753, -0.03321699],\n",
      "         [-0.04128656,  0.01227046, -0.03008509, ...,  0.01505481,\n",
      "           0.00317002,  0.00446372],\n",
      "         [ 0.02492047,  0.01674041,  0.01580109, ...,  0.04472668,\n",
      "           0.02491926, -0.00121167]],\n",
      "\n",
      "        [[-0.03030202,  0.00553534,  0.01935985, ...,  0.01208645,\n",
      "          -0.00230609,  0.0082819 ],\n",
      "         [ 0.01818168, -0.02720133, -0.04391576, ...,  0.03463841,\n",
      "          -0.02969636,  0.0315553 ],\n",
      "         [ 0.00252862, -0.02868477, -0.01078805, ..., -0.0007028 ,\n",
      "          -0.02596161, -0.02948818],\n",
      "         ...,\n",
      "         [-0.05934499,  0.00994454, -0.0127567 , ..., -0.00835773,\n",
      "           0.01732258,  0.02503926],\n",
      "         [-0.06131623,  0.01327157,  0.01486516, ..., -0.00703632,\n",
      "          -0.01928656,  0.01266581],\n",
      "         [ 0.02083456, -0.02131991,  0.0129852 , ...,  0.00882331,\n",
      "          -0.00501465, -0.00159122]],\n",
      "\n",
      "        [[-0.0097167 , -0.01439991,  0.03181837, ..., -0.04105714,\n",
      "          -0.02276777, -0.01226691],\n",
      "         [-0.00114231, -0.05298238, -0.03738901, ..., -0.01682181,\n",
      "           0.00778768,  0.00475845],\n",
      "         [ 0.0519253 ,  0.00820189, -0.06151527, ..., -0.01664307,\n",
      "           0.00582715, -0.00876717],\n",
      "         ...,\n",
      "         [-0.03630899,  0.01382943,  0.01960734, ..., -0.02812668,\n",
      "          -0.01691375, -0.01395035],\n",
      "         [ 0.00002705,  0.00474628, -0.04399827, ...,  0.03421609,\n",
      "           0.00260798,  0.01842019],\n",
      "         [-0.02309586, -0.04192669,  0.06385744, ...,  0.01297702,\n",
      "          -0.04783205,  0.02193463]]],\n",
      "\n",
      "\n",
      "       [[[ 0.03216937, -0.01334063,  0.00724041, ...,  0.0168631 ,\n",
      "           0.011289  , -0.03476791],\n",
      "         [ 0.02462684,  0.03749198, -0.02370802, ...,  0.04285682,\n",
      "          -0.00681103, -0.00534364],\n",
      "         [ 0.03588875, -0.02565576, -0.0010797 , ..., -0.01443768,\n",
      "           0.01742525, -0.04702852],\n",
      "         ...,\n",
      "         [ 0.0395214 , -0.03924198, -0.03667973, ...,  0.05721164,\n",
      "           0.01173211,  0.04741652],\n",
      "         [ 0.01106543, -0.03232121, -0.04926307, ...,  0.03857286,\n",
      "          -0.01084005, -0.02219581],\n",
      "         [ 0.00882739, -0.02002351, -0.01265694, ...,  0.03414697,\n",
      "           0.00063792, -0.01870773]],\n",
      "\n",
      "        [[ 0.05606468, -0.02808017,  0.00539837, ...,  0.01249061,\n",
      "          -0.01407499, -0.0113972 ],\n",
      "         [-0.03612365, -0.04642438,  0.0134514 , ..., -0.05077481,\n",
      "          -0.03652667, -0.02307192],\n",
      "         [ 0.0010954 , -0.01149712, -0.04049478, ...,  0.01533874,\n",
      "           0.04156774,  0.03304258],\n",
      "         ...,\n",
      "         [-0.01408352,  0.01327125,  0.05555928, ...,  0.03563765,\n",
      "          -0.02435184, -0.02274421],\n",
      "         [-0.00482545,  0.00313247, -0.03077238, ..., -0.0171889 ,\n",
      "           0.04573886, -0.05181709],\n",
      "         [-0.00755533,  0.00551189, -0.02403176, ...,  0.00563185,\n",
      "          -0.03199312,  0.02871071]],\n",
      "\n",
      "        [[ 0.02578897, -0.0094865 ,  0.06035843, ...,  0.0388588 ,\n",
      "          -0.01460983, -0.02991549],\n",
      "         [ 0.01454651,  0.04351399,  0.02784307, ..., -0.01390626,\n",
      "          -0.04003827, -0.03047866],\n",
      "         [ 0.03780662,  0.00510824, -0.04268502, ..., -0.03113019,\n",
      "          -0.01487468,  0.03299591],\n",
      "         ...,\n",
      "         [-0.00067738, -0.0286955 , -0.03845778, ...,  0.02846472,\n",
      "          -0.0072128 ,  0.00134101],\n",
      "         [ 0.01958088,  0.01518643, -0.00901579, ..., -0.0275494 ,\n",
      "          -0.01455831, -0.00180432],\n",
      "         [ 0.0003232 , -0.01007015, -0.00505835, ...,  0.0247532 ,\n",
      "          -0.00876816,  0.01530498]]],\n",
      "\n",
      "\n",
      "       [[[ 0.00033344, -0.02515461,  0.04777315, ...,  0.02322408,\n",
      "           0.01923521, -0.02701048],\n",
      "         [-0.00441005, -0.00811875,  0.02498334, ...,  0.00182634,\n",
      "           0.03830809, -0.02765642],\n",
      "         [-0.04438443,  0.03114749,  0.04467038, ...,  0.02313258,\n",
      "           0.01759391, -0.02604497],\n",
      "         ...,\n",
      "         [-0.00218865, -0.00050979, -0.01815889, ..., -0.02892475,\n",
      "           0.02223134, -0.02924154],\n",
      "         [-0.02155183,  0.0050918 ,  0.01026042, ...,  0.00878817,\n",
      "          -0.01863117,  0.00993682],\n",
      "         [-0.01027501, -0.02261085, -0.02514808, ..., -0.0255388 ,\n",
      "          -0.01543457, -0.00284603]],\n",
      "\n",
      "        [[-0.02541344, -0.00266798, -0.00749593, ...,  0.00263399,\n",
      "           0.03243251, -0.03002691],\n",
      "         [ 0.01741687,  0.01388975, -0.03239745, ...,  0.05696198,\n",
      "           0.00358389,  0.01802358],\n",
      "         [-0.03327776,  0.0036692 , -0.04457791, ..., -0.04061275,\n",
      "          -0.01214737, -0.04169319],\n",
      "         ...,\n",
      "         [-0.00301451,  0.00998498,  0.01340525, ..., -0.02829958,\n",
      "          -0.06169789,  0.03633453],\n",
      "         [-0.02296889,  0.02716946, -0.01721052, ...,  0.03676299,\n",
      "          -0.00480153,  0.00063267],\n",
      "         [ 0.013852  ,  0.02541343,  0.044183  , ..., -0.00817394,\n",
      "           0.00505507,  0.00316467]],\n",
      "\n",
      "        [[-0.00543121,  0.0306771 ,  0.04254059, ..., -0.01709945,\n",
      "          -0.01377202,  0.00732752],\n",
      "         [-0.02536788,  0.02080664, -0.00616872, ..., -0.05275467,\n",
      "          -0.04057729,  0.01722076],\n",
      "         [-0.00845497, -0.02242331, -0.02315773, ...,  0.00559412,\n",
      "           0.00903004,  0.02191129],\n",
      "         ...,\n",
      "         [-0.01038233,  0.01059571,  0.01215221, ...,  0.02714933,\n",
      "           0.00429042, -0.02837121],\n",
      "         [-0.01285977, -0.05697307,  0.04430117, ..., -0.00039408,\n",
      "          -0.03946155,  0.02223652],\n",
      "         [ 0.02407555,  0.0038809 , -0.01223798, ...,  0.01043466,\n",
      "          -0.00755929,  0.00236396]]]], dtype=float32)\n",
      " array([-0.00453449, -0.00432895, -0.00185735, -0.0017541 , -0.00227745,\n",
      "        0.00090294, -0.00292984, -0.00144816, -0.00227199, -0.00225036,\n",
      "       -0.00388142, -0.00088305,  0.00267301, -0.00198952, -0.00458671,\n",
      "       -0.00039455, -0.00394421, -0.00023224, -0.00105336, -0.00276118,\n",
      "       -0.00375301, -0.00466649,  0.00063599, -0.00467693, -0.00027759,\n",
      "       -0.00668089, -0.00256808, -0.00188405, -0.00065963, -0.00181772,\n",
      "       -0.00430868, -0.0009347 , -0.00102898, -0.00214721, -0.00260641,\n",
      "       -0.00408648, -0.00026207, -0.00067153, -0.00204197,  0.00184519,\n",
      "        0.00025773,  0.00150429, -0.00238027, -0.0017593 , -0.00406697,\n",
      "       -0.00471748, -0.00560783, -0.00585868, -0.00604741, -0.00231838,\n",
      "        0.00104794, -0.00317822, -0.00287719, -0.00360102, -0.00023126,\n",
      "       -0.00339344, -0.0045123 , -0.00306191, -0.00171958, -0.00459274,\n",
      "        0.00016017, -0.00208868, -0.00416846,  0.00392895, -0.00427606,\n",
      "       -0.00112131,  0.00253564, -0.00431661, -0.00370467,  0.00019513,\n",
      "       -0.00264232, -0.00163112, -0.00266007, -0.00247843, -0.00311907,\n",
      "       -0.00191015, -0.00215336, -0.00430041, -0.00114548, -0.00196235,\n",
      "        0.00010108,  0.00047083, -0.0010554 , -0.00541327, -0.00380563,\n",
      "       -0.00401503, -0.0024622 , -0.00176527, -0.00450023, -0.00407766,\n",
      "       -0.00010605, -0.00292595, -0.00186014, -0.00359346, -0.00259613,\n",
      "       -0.00036934, -0.00326404, -0.00431206, -0.00373935, -0.0002579 ,\n",
      "       -0.00137224, -0.00349773, -0.00149925, -0.0059968 ,  0.00076153,\n",
      "       -0.00322603, -0.00280571, -0.00052276, -0.00262212, -0.00040215,\n",
      "       -0.00430587, -0.00295681,  0.00179553, -0.00363816, -0.00127974,\n",
      "       -0.00239528, -0.00273901, -0.00096446, -0.00437551, -0.00451558,\n",
      "       -0.00332416, -0.00050933, -0.00493846,  0.00171001,  0.00029355,\n",
      "       -0.00282182, -0.00763455, -0.00362135], dtype=float32)]\n",
      "[array([[[[-0.01311943,  0.02659217,  0.03968369, ..., -0.01739393,\n",
      "          -0.00841814, -0.0172916 ],\n",
      "         [-0.00944814,  0.00499235,  0.01508674, ..., -0.03513239,\n",
      "          -0.01933012, -0.00386561],\n",
      "         [ 0.040398  ,  0.0303499 , -0.00418975, ..., -0.01467551,\n",
      "          -0.00152274,  0.01173828],\n",
      "         ...,\n",
      "         [-0.04478349,  0.0118921 , -0.00226059, ...,  0.00747297,\n",
      "          -0.01526861,  0.00420142],\n",
      "         [ 0.03271503, -0.00240411,  0.01132953, ...,  0.03084405,\n",
      "           0.03484877,  0.02409829],\n",
      "         [ 0.00677373, -0.01086015, -0.04437129, ..., -0.04983672,\n",
      "          -0.02230794,  0.02152836]],\n",
      "\n",
      "        [[ 0.00903081,  0.03027733,  0.00780575, ..., -0.03349158,\n",
      "           0.01327809,  0.03291224],\n",
      "         [ 0.01773914,  0.00976098, -0.02193624, ...,  0.03214124,\n",
      "           0.00867801,  0.01807736],\n",
      "         [-0.01306547,  0.00089898,  0.05552876, ..., -0.0118034 ,\n",
      "          -0.01083776, -0.01910201],\n",
      "         ...,\n",
      "         [-0.01613917,  0.02594455, -0.01764851, ..., -0.00045357,\n",
      "          -0.03053215, -0.00801316],\n",
      "         [-0.03012312,  0.03951399,  0.04225375, ...,  0.03120451,\n",
      "          -0.00564453,  0.00077274],\n",
      "         [-0.00243044,  0.02985088, -0.00386038, ...,  0.00410175,\n",
      "          -0.00130769, -0.03202847]],\n",
      "\n",
      "        [[-0.00726162, -0.01561971,  0.01146147, ..., -0.03767764,\n",
      "          -0.02217057, -0.00155861],\n",
      "         [-0.01848559,  0.01675298,  0.00561017, ..., -0.00377573,\n",
      "           0.04501425,  0.02171051],\n",
      "         [ 0.03545562,  0.00420474,  0.01909946, ..., -0.05781776,\n",
      "           0.03303154,  0.03511693],\n",
      "         ...,\n",
      "         [ 0.01097477, -0.04285771, -0.01380402, ...,  0.02808294,\n",
      "           0.03010677,  0.01354788],\n",
      "         [ 0.06242931, -0.01338632, -0.01606951, ..., -0.04544539,\n",
      "           0.01840535, -0.02333793],\n",
      "         [-0.00283128, -0.04934906,  0.01509983, ...,  0.03280928,\n",
      "          -0.01782621,  0.01804734]]],\n",
      "\n",
      "\n",
      "       [[[-0.00684325,  0.02040887,  0.00703423, ..., -0.04945954,\n",
      "          -0.04183356, -0.01532984],\n",
      "         [ 0.03478464,  0.03623793,  0.00797106, ..., -0.01426174,\n",
      "           0.01967995, -0.02622239],\n",
      "         [ 0.01321272,  0.03605841,  0.00127523, ...,  0.03344641,\n",
      "           0.0535229 ,  0.00052167],\n",
      "         ...,\n",
      "         [ 0.00710773, -0.00662865,  0.01694776, ..., -0.00797937,\n",
      "          -0.02863135,  0.04622722],\n",
      "         [ 0.01158995,  0.0570531 ,  0.00978799, ..., -0.05163348,\n",
      "           0.00818323,  0.03121241],\n",
      "         [-0.02864529,  0.01780084, -0.00377383, ...,  0.01303727,\n",
      "           0.02146576,  0.01937765]],\n",
      "\n",
      "        [[-0.04873921,  0.03012837,  0.01611403, ...,  0.03356002,\n",
      "          -0.02579431, -0.0031737 ],\n",
      "         [ 0.01843278,  0.00617503,  0.03014021, ..., -0.00334028,\n",
      "          -0.02232791,  0.02152204],\n",
      "         [-0.01153957,  0.03023015, -0.00276214, ..., -0.00738676,\n",
      "           0.06101042, -0.0081811 ],\n",
      "         ...,\n",
      "         [-0.00363896,  0.05127222,  0.04236232, ..., -0.03586366,\n",
      "          -0.00808864, -0.01943778],\n",
      "         [ 0.01511632, -0.02489624, -0.00403126, ...,  0.03218992,\n",
      "           0.00409456, -0.05770903],\n",
      "         [ 0.0088678 ,  0.03809746,  0.01097148, ...,  0.03152447,\n",
      "          -0.01459822,  0.00319951]],\n",
      "\n",
      "        [[-0.01318629, -0.00425187,  0.00095523, ...,  0.00434797,\n",
      "           0.02348969,  0.02476658],\n",
      "         [-0.03083316,  0.01621882,  0.01840759, ...,  0.03949028,\n",
      "          -0.01321402, -0.03292686],\n",
      "         [ 0.00708146, -0.00203415,  0.03173368, ...,  0.05490517,\n",
      "           0.04810164, -0.03936968],\n",
      "         ...,\n",
      "         [ 0.04598447,  0.0100853 , -0.00711165, ...,  0.00580927,\n",
      "          -0.03035646,  0.00194917],\n",
      "         [ 0.00539777, -0.00225504,  0.00694057, ..., -0.0132811 ,\n",
      "          -0.0134657 , -0.04022506],\n",
      "         [-0.00668193, -0.00636589, -0.03422651, ...,  0.00673648,\n",
      "          -0.04686644, -0.02905858]]],\n",
      "\n",
      "\n",
      "       [[[ 0.00740464, -0.046723  ,  0.04353996, ...,  0.03478289,\n",
      "          -0.02033416, -0.00529367],\n",
      "         [ 0.02262266,  0.02364186, -0.01826551, ..., -0.02686069,\n",
      "           0.0031772 ,  0.02002261],\n",
      "         [ 0.0564371 ,  0.00234402, -0.01744239, ...,  0.00279679,\n",
      "           0.01058567,  0.0313846 ],\n",
      "         ...,\n",
      "         [ 0.05837788,  0.00049528,  0.01104447, ..., -0.05067224,\n",
      "          -0.0289392 , -0.02242035],\n",
      "         [ 0.00603075, -0.00099538, -0.03827264, ...,  0.00702592,\n",
      "          -0.04977058, -0.03793147],\n",
      "         [-0.01999947, -0.03408287, -0.0014838 , ..., -0.01615966,\n",
      "           0.0233183 , -0.00994515]],\n",
      "\n",
      "        [[ 0.00689889,  0.00101938, -0.01296904, ..., -0.03146317,\n",
      "           0.05350094,  0.00758922],\n",
      "         [-0.00113689,  0.03187928, -0.02761193, ..., -0.04055213,\n",
      "          -0.02424622,  0.01846777],\n",
      "         [-0.00456121,  0.02690273, -0.02556225, ..., -0.05584957,\n",
      "           0.00454779,  0.0130202 ],\n",
      "         ...,\n",
      "         [ 0.00057682, -0.02131661, -0.00459474, ...,  0.00108756,\n",
      "           0.01634397,  0.01243729],\n",
      "         [-0.00771923,  0.01146416,  0.04537326, ..., -0.04374319,\n",
      "           0.02585643,  0.04761331],\n",
      "         [-0.01524365, -0.0189918 , -0.00613156, ..., -0.04654637,\n",
      "           0.00805278, -0.05047191]],\n",
      "\n",
      "        [[-0.02414453, -0.02821415, -0.00917878, ...,  0.04573762,\n",
      "          -0.03185124,  0.01520258],\n",
      "         [-0.00567436,  0.0402648 ,  0.0079665 , ...,  0.02980506,\n",
      "          -0.02299963,  0.02878195],\n",
      "         [ 0.01622094,  0.0167355 ,  0.02034537, ..., -0.0202539 ,\n",
      "           0.04371034,  0.045215  ],\n",
      "         ...,\n",
      "         [ 0.01416605, -0.00178829, -0.020626  , ..., -0.00747545,\n",
      "           0.02309394,  0.02176461],\n",
      "         [-0.01029524,  0.0242571 ,  0.03098861, ..., -0.00384245,\n",
      "          -0.00086139, -0.03932872],\n",
      "         [ 0.02068717, -0.01410532, -0.00223699, ...,  0.05437085,\n",
      "          -0.01003758, -0.03714382]]]], dtype=float32)\n",
      " array([-0.00282601, -0.00373038, -0.00236635,  0.00098434, -0.00597712,\n",
      "       -0.00263043,  0.00053349, -0.00045079,  0.0005426 ,  0.00026409,\n",
      "        0.00150327,  0.00293513,  0.00503123, -0.00198242, -0.00042477,\n",
      "        0.00463381, -0.00797297,  0.00327925, -0.00191481, -0.00064164,\n",
      "       -0.00139857,  0.00338641, -0.00379489,  0.00130355,  0.00188626,\n",
      "       -0.00218938,  0.00260968,  0.00112195,  0.00275945,  0.00341296,\n",
      "        0.00435979,  0.00331091, -0.00335703, -0.00034295,  0.00422757,\n",
      "       -0.00484551, -0.00417125, -0.0022586 , -0.00146239, -0.00105985,\n",
      "       -0.00203176, -0.00262565,  0.00242803, -0.00187206,  0.0021145 ,\n",
      "        0.0003689 , -0.00226655, -0.0022335 , -0.00131602,  0.0045309 ,\n",
      "        0.00446517,  0.00223234,  0.00266208, -0.00090178, -0.0003544 ,\n",
      "        0.00040732, -0.00034952,  0.00273186, -0.00015386, -0.00196934,\n",
      "        0.00519083,  0.00124026,  0.00915891, -0.00008587,  0.00193824,\n",
      "        0.00550519,  0.00071629,  0.00121401, -0.00166948, -0.00013853,\n",
      "       -0.00052152, -0.0019464 , -0.00033097, -0.00020191, -0.00546891,\n",
      "        0.0026723 ,  0.00409636, -0.00145709, -0.00164032, -0.0036909 ,\n",
      "        0.00054642, -0.0038254 , -0.00698629, -0.00753964,  0.00152395,\n",
      "       -0.00269645, -0.00226498,  0.00757204, -0.00281566,  0.00005908,\n",
      "        0.0025295 ,  0.00135543, -0.00047692, -0.00389155, -0.00080607,\n",
      "        0.00214752,  0.00341947, -0.00069648, -0.00166011, -0.00048099,\n",
      "       -0.00160585,  0.00368709,  0.00273868,  0.00073022, -0.00213363,\n",
      "        0.00122539,  0.00109277, -0.00359555, -0.00159744,  0.00380873,\n",
      "       -0.0009904 ,  0.00133175, -0.00019849,  0.00175244,  0.00350256,\n",
      "        0.00384011, -0.00147287, -0.00439671,  0.00071117, -0.00145416,\n",
      "       -0.00268644, -0.00137983, -0.00341757, -0.00248267, -0.00203561,\n",
      "        0.00147366,  0.00273406, -0.00317965, -0.00538869, -0.00162558,\n",
      "        0.0037564 ,  0.00388241, -0.00282795, -0.00297905, -0.00003319,\n",
      "       -0.00082128,  0.00662427, -0.00086353,  0.0032912 , -0.00114499,\n",
      "        0.00108233,  0.00329562, -0.00143198,  0.00135704, -0.00153329,\n",
      "        0.00288934,  0.00216937,  0.00315147,  0.00094975,  0.0022946 ,\n",
      "       -0.00171421,  0.00002706,  0.00133215, -0.00022544,  0.00561782,\n",
      "        0.00101398,  0.00461647,  0.00080729, -0.00111741,  0.00100204,\n",
      "       -0.00025095, -0.00279442, -0.0011363 ,  0.00114223, -0.0005066 ,\n",
      "       -0.00446476,  0.00051815,  0.00305075, -0.00480821, -0.00259322,\n",
      "       -0.00543335, -0.00039197, -0.00509289,  0.00091167, -0.00188751,\n",
      "        0.0006863 , -0.00122952, -0.00061034,  0.00295495,  0.00010734,\n",
      "        0.00111485, -0.00170309, -0.00143904, -0.0010726 ,  0.00020833,\n",
      "       -0.00130836, -0.00440836, -0.0010044 , -0.00395413, -0.00270653,\n",
      "       -0.00260891, -0.00014373,  0.00135456,  0.000771  ,  0.00173526,\n",
      "        0.00166104,  0.00027278, -0.00608805, -0.00250817,  0.00063562,\n",
      "       -0.00168485,  0.00645263, -0.00101369,  0.00117615,  0.00115527,\n",
      "       -0.0030669 ,  0.00715553,  0.00163386,  0.00139459, -0.00262339,\n",
      "        0.00308161,  0.00200322,  0.00122017,  0.00025357, -0.00411491,\n",
      "        0.00275141,  0.00302168,  0.00556577,  0.00093966, -0.00116458,\n",
      "        0.00020344,  0.00103287,  0.00078029, -0.00103612,  0.00175035,\n",
      "       -0.00064593,  0.00205658, -0.00137418, -0.00103505,  0.00099605,\n",
      "       -0.00064764, -0.00104736, -0.00422895,  0.00034866, -0.00266197,\n",
      "        0.00144182, -0.00138133, -0.00696671, -0.00078889, -0.00233421,\n",
      "        0.00508404,  0.0020881 , -0.00024585, -0.00157712,  0.00035272,\n",
      "       -0.00081298, -0.00100014,  0.00146293,  0.00239309, -0.00030525,\n",
      "       -0.00073846, -0.0046475 , -0.00005514,  0.00074845, -0.00214086,\n",
      "       -0.0055507 ], dtype=float32)]\n"
     ]
    },
    {
     "name": "stdout",
     "output_type": "stream",
     "text": [
      "[array([[-0.0049923 , -0.00282286, -0.00058302, ...,  0.00296318,\n",
      "         0.00111441,  0.00053918],\n",
      "       [-0.00325962,  0.00334873, -0.00312088, ...,  0.00266769,\n",
      "        -0.00411372,  0.00012552],\n",
      "       [-0.00211034, -0.00028756,  0.00072609, ..., -0.00671465,\n",
      "        -0.00080819,  0.00178431],\n",
      "       ...,\n",
      "       [ 0.0052882 , -0.00303234,  0.00093579, ..., -0.00252155,\n",
      "        -0.00128663,  0.00032975],\n",
      "       [ 0.00182276,  0.00169892,  0.0032472 , ..., -0.00122358,\n",
      "        -0.00232215,  0.00293983],\n",
      "       [-0.00159557,  0.0016814 ,  0.00217451, ..., -0.00386511,\n",
      "        -0.00284254, -0.00037337]], dtype=float32)\n",
      " array([-0.00115093, -0.00275497,  0.00085391,  0.00040322, -0.00126434,\n",
      "       -0.00105294, -0.00336051, -0.0034955 ,  0.00201269,  0.0045551 ,\n",
      "        0.00209047, -0.00354522, -0.00520003, -0.00205629, -0.00131166,\n",
      "       -0.00146775, -0.00418747, -0.00369731, -0.00290454, -0.00209717,\n",
      "        0.00027586,  0.00044141, -0.00438294, -0.00386493,  0.00444627,\n",
      "        0.00066857,  0.00018068, -0.00357959, -0.0020075 ,  0.00264357,\n",
      "       -0.00088497, -0.0010549 , -0.00187656, -0.0036058 , -0.00017509,\n",
      "        0.0005532 , -0.00187958, -0.00641066, -0.00469387, -0.00525696,\n",
      "       -0.00157868, -0.0027059 , -0.00357721, -0.00522203, -0.00304968,\n",
      "        0.00590074,  0.00089377, -0.00170198,  0.0041268 , -0.00057191,\n",
      "       -0.00272725,  0.00489839,  0.00042277, -0.00525943, -0.00116985,\n",
      "       -0.00200279,  0.00266947, -0.00371205, -0.00169817,  0.00319183,\n",
      "       -0.00364146,  0.00145202, -0.00053122, -0.00262923,  0.00418983,\n",
      "       -0.00149436,  0.00648791,  0.00423067,  0.00072339,  0.00215723,\n",
      "        0.00085549, -0.00169825, -0.00426876, -0.00248298, -0.00316068,\n",
      "       -0.00424438, -0.00463256,  0.00432116, -0.00647956,  0.00376384,\n",
      "        0.00045972, -0.00216107,  0.00360085, -0.00058717, -0.00279868,\n",
      "        0.00067698, -0.00171161, -0.00456695,  0.00141708, -0.00268148,\n",
      "       -0.00061452, -0.00687252, -0.00708039,  0.00138209, -0.00660153,\n",
      "        0.00026514, -0.00221496,  0.0010133 , -0.00423449, -0.00703649,\n",
      "       -0.00277012, -0.00252949, -0.00131408, -0.00054435, -0.00542504,\n",
      "       -0.00136583, -0.00633062, -0.00106558, -0.00458064,  0.0001711 ,\n",
      "        0.00108657, -0.00169881, -0.00320596, -0.00206979, -0.00338191,\n",
      "        0.00402627, -0.00326011,  0.00049405, -0.00463242, -0.00227021,\n",
      "        0.00042469, -0.0046528 , -0.00485948,  0.00017468, -0.00599274,\n",
      "        0.00089637, -0.00141362, -0.00280598, -0.0062292 ,  0.00016036,\n",
      "        0.00066737, -0.00924827, -0.00394188, -0.0035079 , -0.00121537,\n",
      "       -0.00249516, -0.00313961,  0.00336812, -0.00707337, -0.00158901,\n",
      "       -0.00093465, -0.00206391,  0.00452718, -0.00232052, -0.00307414,\n",
      "       -0.00479203, -0.00362936, -0.00619892, -0.00077734,  0.0006274 ,\n",
      "       -0.00702106,  0.00003372, -0.00363595, -0.00148518,  0.0003101 ,\n",
      "       -0.00162679, -0.00049485, -0.00493319, -0.00321627, -0.00182302,\n",
      "       -0.00357122,  0.00000317, -0.00337224, -0.003272  , -0.00519851,\n",
      "       -0.00116135, -0.00146224, -0.00074079, -0.00454616, -0.00161194,\n",
      "       -0.00396335, -0.00245966,  0.00276821, -0.0022191 ,  0.00025669,\n",
      "       -0.00078995,  0.00406886, -0.00123407, -0.00478444, -0.00373192,\n",
      "        0.0029977 , -0.00073386,  0.00189666, -0.00176175, -0.00284504,\n",
      "       -0.00241847, -0.00915019, -0.00009931, -0.00144628, -0.00378403,\n",
      "       -0.00263586, -0.00843695, -0.00250617, -0.00707254,  0.00470174,\n",
      "       -0.0008031 , -0.00387746, -0.00591466, -0.00516279,  0.00009221,\n",
      "       -0.00334958, -0.00370954, -0.00448547, -0.00655264, -0.00375468,\n",
      "        0.00014482,  0.00221196, -0.00063511, -0.00356744,  0.00243898,\n",
      "       -0.00115865, -0.00325918,  0.00121841,  0.00101093, -0.00111446,\n",
      "       -0.00370414, -0.00547195, -0.00159746, -0.00576655, -0.00277753,\n",
      "       -0.00072568, -0.00263303, -0.00127042, -0.00029309, -0.00053245,\n",
      "       -0.00122187, -0.00398705,  0.0024284 , -0.00140689,  0.00033753,\n",
      "       -0.00293404,  0.00102124,  0.00188961, -0.00541031, -0.00187208,\n",
      "        0.00019473, -0.00128785, -0.00117051, -0.00099989, -0.00197313,\n",
      "       -0.00545868,  0.00198914,  0.00790251, -0.00081415, -0.00130272,\n",
      "       -0.00568181, -0.00159379, -0.00405041, -0.0019422 , -0.0026039 ,\n",
      "       -0.0016457 , -0.00551227, -0.00330525, -0.00767884, -0.00241552,\n",
      "       -0.00313986, -0.00232762,  0.00007936, -0.00085349, -0.00221781,\n",
      "        0.00416031, -0.00134044, -0.00090213, -0.00572331, -0.00648118,\n",
      "        0.00115064,  0.00141543, -0.00372706,  0.00734536, -0.0027775 ,\n",
      "       -0.00412796,  0.00207349,  0.00076653, -0.00165744, -0.00304514,\n",
      "        0.00485714, -0.00161104, -0.00413752,  0.00092179, -0.00287783,\n",
      "       -0.00946322, -0.00465805, -0.00571327,  0.00206929, -0.00400704,\n",
      "       -0.0008914 , -0.00170011, -0.00097801, -0.00175828, -0.00095613,\n",
      "       -0.00566697, -0.00350277, -0.00179191, -0.00319705, -0.0042071 ,\n",
      "       -0.0048067 , -0.00138474, -0.0030504 , -0.0049083 , -0.00438256,\n",
      "       -0.00408673,  0.00047344, -0.00087652,  0.00366902, -0.00050709,\n",
      "       -0.00001828, -0.00332769,  0.00156283, -0.00185594,  0.00055785,\n",
      "       -0.00635648, -0.00634391, -0.00493228,  0.00029109, -0.00282869,\n",
      "       -0.00229887, -0.00429059, -0.00301365,  0.00262054, -0.00311362,\n",
      "       -0.00662082, -0.00120293,  0.00020567, -0.00577746, -0.00004963,\n",
      "       -0.006183  , -0.00260868, -0.00326297,  0.00142124, -0.00186599,\n",
      "       -0.0026    ,  0.00273469,  0.00261495, -0.00273776, -0.00206033,\n",
      "       -0.00435592, -0.00432326, -0.0009801 , -0.00217914, -0.00665791,\n",
      "       -0.00337407,  0.0006422 , -0.00511521, -0.00450367,  0.00022077,\n",
      "       -0.00183978, -0.00151957, -0.00052384,  0.00513474, -0.00562521,\n",
      "       -0.0030984 , -0.00461689, -0.00383443, -0.00567632, -0.00588132,\n",
      "        0.00145053,  0.00020349,  0.00486224,  0.00576943,  0.00049202,\n",
      "       -0.00610534, -0.00229732,  0.00396992, -0.00072141, -0.00435525,\n",
      "        0.00423199, -0.00552559, -0.00068266, -0.00329049,  0.00444192,\n",
      "        0.00002283, -0.00369592, -0.00002068,  0.0032121 , -0.00598782,\n",
      "        0.00113607, -0.00541927,  0.00129181, -0.00241943,  0.00171407,\n",
      "       -0.00336524, -0.00443427, -0.00252434, -0.00198421, -0.00658752,\n",
      "       -0.00677977,  0.00220779, -0.00121443, -0.00441303,  0.00521945,\n",
      "       -0.00243455,  0.00027144, -0.00449469, -0.00245407, -0.00382093,\n",
      "        0.00145849,  0.00019941, -0.00025847,  0.00039415, -0.00392243,\n",
      "        0.00138511, -0.00218973,  0.00108364, -0.00594598, -0.00020152,\n",
      "        0.00270068, -0.00412283, -0.00124996, -0.00162806, -0.00324206,\n",
      "       -0.00207943, -0.00761854,  0.0000991 , -0.00109424,  0.0006038 ,\n",
      "        0.00331943, -0.00093287, -0.00646542,  0.00074256, -0.00399888,\n",
      "       -0.00751064, -0.00047102, -0.00240535, -0.00126968, -0.00039343,\n",
      "       -0.00220878, -0.00327189, -0.0037852 , -0.00153522, -0.00379971,\n",
      "        0.00051227, -0.0035619 , -0.00570322, -0.0037604 , -0.00305265,\n",
      "        0.00494585, -0.00119856, -0.00016987, -0.00175606, -0.00561955,\n",
      "        0.00124711,  0.00024162,  0.00225011,  0.0052096 , -0.00178158,\n",
      "        0.00613644, -0.00459361, -0.00157907, -0.00134513, -0.00226776,\n",
      "       -0.00416425, -0.00322541, -0.00406819,  0.00091255, -0.00194516,\n",
      "        0.00094169,  0.00202635,  0.00103674, -0.00614918,  0.00001222,\n",
      "       -0.00157129, -0.00181507, -0.00451198,  0.00023995, -0.00068108,\n",
      "        0.00360787,  0.001047  , -0.0047486 , -0.00248506,  0.00127976,\n",
      "       -0.00623891, -0.00341878,  0.00303317, -0.00104607, -0.00189735,\n",
      "       -0.00081825, -0.00143286, -0.00007596,  0.00237699,  0.00067524,\n",
      "       -0.00410303, -0.00167693, -0.00204272, -0.00446223, -0.00204287,\n",
      "       -0.00200396,  0.00181139, -0.00423856,  0.00409271, -0.00285083,\n",
      "       -0.00129371, -0.00050598, -0.00268785, -0.0042443 , -0.00139306,\n",
      "        0.00267442,  0.00032049, -0.00099821, -0.00194546, -0.0074631 ,\n",
      "       -0.00312146, -0.00257112, -0.00229833, -0.00309735, -0.00541991,\n",
      "       -0.00222857,  0.00166049, -0.00297055, -0.00013014, -0.00424144,\n",
      "       -0.00127551, -0.00068449], dtype=float32)]\n"
     ]
    }
   ],
   "source": [
    "indexlayers = [1,4,7,10]\n",
    "for layerweight in indexlayers:\n",
    "\n",
    "    pre_trained.layers[layerweight].set_weights(weights_list[layerweight])   \n",
    "    print(weights_list[layerweight])\n",
    "\n",
    "\n",
    "for indexlayer in indexlayers:    \n",
    "    layer = pre_trained.layers[indexlayer]\n",
    "    layer.trainable =  False\n"
   ]
  },
  {
   "cell_type": "code",
   "execution_count": null,
   "metadata": {},
   "outputs": [],
   "source": []
  },
  {
   "cell_type": "code",
   "execution_count": 479,
   "metadata": {},
   "outputs": [
    {
     "data": {
      "text/plain": [
       "'/home/pattyry/birds/ferry-data/ferry-cqt'"
      ]
     },
     "execution_count": 479,
     "metadata": {},
     "output_type": "execute_result"
    }
   ],
   "source": [
    "os.getcwd()"
   ]
  },
  {
   "cell_type": "markdown",
   "metadata": {},
   "source": [
    "### Ferry Data Inputs\n",
    "Pre-proceseed, mapped to same sample rate, transformed to cqt and unrolled into a 2D matrix"
   ]
  },
  {
   "cell_type": "code",
   "execution_count": null,
   "metadata": {},
   "outputs": [],
   "source": []
  },
  {
   "cell_type": "code",
   "execution_count": 480,
   "metadata": {},
   "outputs": [
    {
     "data": {
      "text/plain": [
       "'/home/pattyry/birds/ferry-data/ferry-cqt'"
      ]
     },
     "execution_count": 480,
     "metadata": {},
     "output_type": "execute_result"
    }
   ],
   "source": [
    "os.chdir(birds_home)\n",
    "cwd_ferry_audio = os.path.join(\"./ferry-data\",\"ferry-cqt\")\n",
    "os.chdir(cwd_ferry_audio)\n",
    "os.getcwd()"
   ]
  },
  {
   "cell_type": "code",
   "execution_count": 481,
   "metadata": {},
   "outputs": [
    {
     "name": "stdout",
     "output_type": "stream",
     "text": [
      "(167, 1)\n",
      "(66, 1)\n"
     ]
    }
   ],
   "source": [
    "cqt_y_train =pd.read_csv('y_train.csv', sep=',',header=None)\n",
    "print(cqt_y_train.shape)\n",
    "cqt_y_train = np.asarray(cqt_y_train)\n",
    "\n",
    "cqt_y_test =pd.read_csv('y_test.csv', sep=',',header=None)\n",
    "print(cqt_y_test.shape)\n",
    "cqt_y_test = np.asarray(cqt_y_test)\n"
   ]
  },
  {
   "cell_type": "code",
   "execution_count": 482,
   "metadata": {},
   "outputs": [
    {
     "name": "stdout",
     "output_type": "stream",
     "text": [
      "(66, 7840)\n"
     ]
    }
   ],
   "source": [
    "cqt_x_test =pd.read_csv('x_test.csv', sep=',',header=None)\n",
    "print(cqt_x_test.shape)\n",
    "cqt_x_test = np.asarray(cqt_x_test)"
   ]
  },
  {
   "cell_type": "code",
   "execution_count": 483,
   "metadata": {},
   "outputs": [
    {
     "name": "stdout",
     "output_type": "stream",
     "text": [
      "(167, 7840)\n"
     ]
    }
   ],
   "source": [
    "cqt_x_train =pd.read_csv('x_train.csv', sep=',',header=None)\n",
    "print(cqt_x_train.shape)\n",
    "cqt_x_train = np.asarray(cqt_x_train)"
   ]
  },
  {
   "cell_type": "code",
   "execution_count": 484,
   "metadata": {},
   "outputs": [
    {
     "name": "stdout",
     "output_type": "stream",
     "text": [
      "66\n",
      "167\n",
      "70\n",
      "112\n"
     ]
    }
   ],
   "source": [
    "#Define Single input shape\n",
    "num_test_samples = cqt_x_test.shape[0]\n",
    "num_train_samples = cqt_x_train.shape[0]\n",
    "num_timesteps = 70\n",
    "num_features = 112\n",
    "print(num_test_samples)\n",
    "print(num_train_samples)\n",
    "print(num_timesteps)\n",
    "print(num_features)"
   ]
  },
  {
   "cell_type": "code",
   "execution_count": 485,
   "metadata": {},
   "outputs": [],
   "source": [
    "cqt_x_test = np.array(cqt_x_test).reshape(num_test_samples, num_timesteps, num_features, 1)\n",
    "cqt_x_train = np.array(cqt_x_train).reshape(num_train_samples, num_timesteps, num_features, 1)\n"
   ]
  },
  {
   "cell_type": "code",
   "execution_count": 486,
   "metadata": {},
   "outputs": [],
   "source": [
    "cqt_x_test = np.float32(cqt_x_test)\n",
    "cqt_x_train = np.float32(cqt_x_train)"
   ]
  },
  {
   "cell_type": "code",
   "execution_count": 487,
   "metadata": {},
   "outputs": [
    {
     "name": "stdout",
     "output_type": "stream",
     "text": [
      "(66, 70, 112, 1)\n",
      "(167, 70, 112, 1)\n",
      "(66, 1)\n",
      "(167, 1)\n"
     ]
    }
   ],
   "source": [
    "print(cqt_x_test.shape)\n",
    "print(cqt_x_train.shape)\n",
    "\n",
    "print(cqt_y_test.shape)\n",
    "print(cqt_y_train.shape)"
   ]
  },
  {
   "cell_type": "code",
   "execution_count": null,
   "metadata": {},
   "outputs": [],
   "source": []
  },
  {
   "cell_type": "markdown",
   "metadata": {},
   "source": [
    "### Train Model"
   ]
  },
  {
   "cell_type": "code",
   "execution_count": 488,
   "metadata": {},
   "outputs": [],
   "source": [
    "# If wanted, add class weighting\n",
    "total_len = len(cqt_y_train)\n",
    "class_weight = {0: total_len/len([x for x in cqt_y_train==0 if x]),\n",
    "                1: total_len/len([x for x in cqt_y_train==1 if x])}"
   ]
  },
  {
   "cell_type": "code",
   "execution_count": 489,
   "metadata": {},
   "outputs": [],
   "source": [
    "from_layer = 14\n",
    "\n",
    "for layer in pre_trained.layers[:from_layer]:\n",
    "    layer.trainable =  False"
   ]
  },
  {
   "cell_type": "code",
   "execution_count": 490,
   "metadata": {},
   "outputs": [],
   "source": [
    "mcp_save_ = ModelCheckpoint('best_ferry_pretrained_7_7.hdf5', save_best_only=True, monitor='val_acc', mode='max')\n",
    "reduce_lr = keras.callbacks.ReduceLROnPlateau(monitor='val_loss', \n",
    "                                  factor=.1, \n",
    "                                  patience=2, \n",
    "                                  verbose=0, \n",
    "                                  mode='auto', \n",
    "                                  min_delta=0.0001, \n",
    "                                  cooldown=0, \n",
    "                                  min_lr=0)\n",
    "from tensorflow.keras.callbacks import EarlyStopping"
   ]
  },
  {
   "cell_type": "code",
   "execution_count": 491,
   "metadata": {
    "scrolled": true
   },
   "outputs": [
    {
     "name": "stdout",
     "output_type": "stream",
     "text": [
      "Train on 167 samples, validate on 66 samples\n",
      "Epoch 1/10\n",
      "167/167 [==============================] - 7s 42ms/sample - loss: 317954.9731 - acc: 0.5090 - val_loss: 53200.2880 - val_acc: 0.6439\n",
      "Epoch 2/10\n",
      "167/167 [==============================] - 5s 29ms/sample - loss: 234242.5615 - acc: 0.5449 - val_loss: 5937.9445 - val_acc: 0.8788\n",
      "Epoch 3/10\n",
      "167/167 [==============================] - 3s 21ms/sample - loss: 139846.6095 - acc: 0.6048 - val_loss: 8650.7708 - val_acc: 0.8636\n",
      "Epoch 4/10\n",
      "167/167 [==============================] - 3s 21ms/sample - loss: 122892.9440 - acc: 0.5778 - val_loss: 10427.7721 - val_acc: 0.8182\n",
      "Epoch 5/10\n",
      "167/167 [==============================] - 3s 21ms/sample - loss: 134829.1664 - acc: 0.5928 - val_loss: 8255.7187 - val_acc: 0.8636\n",
      "Epoch 6/10\n",
      "167/167 [==============================] - 3s 21ms/sample - loss: 107205.9339 - acc: 0.6257 - val_loss: 7225.1105 - val_acc: 0.8712\n",
      "Epoch 7/10\n",
      "167/167 [==============================] - 3s 21ms/sample - loss: 130924.2784 - acc: 0.5719 - val_loss: 7042.4118 - val_acc: 0.8712\n",
      "Epoch 8/10\n",
      "167/167 [==============================] - 3s 21ms/sample - loss: 123495.4199 - acc: 0.5689 - val_loss: 6742.6255 - val_acc: 0.8712\n",
      "Epoch 9/10\n",
      "167/167 [==============================] - 3s 21ms/sample - loss: 108608.6764 - acc: 0.6287 - val_loss: 6742.7723 - val_acc: 0.8712\n",
      "Epoch 10/10\n",
      "167/167 [==============================] - 3s 21ms/sample - loss: 103428.4201 - acc: 0.5988 - val_loss: 6730.2180 - val_acc: 0.8712\n"
     ]
    }
   ],
   "source": [
    "history = pre_trained.fit([cqt_x_train],[to_categorical(cqt_y_train)], \n",
    "                         epochs=10, \n",
    "                         batch_size=8,\n",
    "                         validation_data=([cqt_x_test], to_categorical(cqt_y_test)),\n",
    "                         callbacks=[mcp_save_, reduce_lr],\n",
    "                         class_weight=class_weight)"
   ]
  },
  {
   "cell_type": "code",
   "execution_count": 492,
   "metadata": {},
   "outputs": [
    {
     "data": {
      "image/png": "[encoded data removed]",
      "text/plain": [
       "<Figure size 432x288 with 1 Axes>"
      ]
     },
     "metadata": {},
     "output_type": "display_data"
    }
   ],
   "source": [
    "import matplotlib.pyplot as plt\n",
    "#Accuracy\n",
    "plt.plot(history.history['acc'])\n",
    "plt.plot(history.history['val_acc'])\n",
    "plt.title('model accuracy')\n",
    "plt.ylabel('accuracy')\n",
    "plt.xlabel('epoch')\n",
    "plt.legend(['train', 'validation'], loc='upper left')\n",
    "plt.show()"
   ]
  },
  {
   "cell_type": "code",
   "execution_count": 493,
   "metadata": {},
   "outputs": [
    {
     "data": {
      "image/png": "[encoded data removed]",
      "text/plain": [
       "<Figure size 432x288 with 1 Axes>"
      ]
     },
     "metadata": {},
     "output_type": "display_data"
    }
   ],
   "source": [
    "plt.plot(history.history['loss'])\n",
    "plt.plot(history.history['val_loss'])\n",
    "plt.title('model loss')\n",
    "plt.ylabel('loss')\n",
    "plt.xlabel('epoch')\n",
    "plt.legend(['train', 'validation'], loc='upper left')\n",
    "plt.show()"
   ]
  },
  {
   "cell_type": "code",
   "execution_count": null,
   "metadata": {},
   "outputs": [],
   "source": []
  },
  {
   "cell_type": "code",
   "execution_count": null,
   "metadata": {},
   "outputs": [],
   "source": []
  },
  {
   "cell_type": "code",
   "execution_count": 494,
   "metadata": {},
   "outputs": [],
   "source": [
    "## Without pretraining"
   ]
  },
  {
   "cell_type": "code",
   "execution_count": 495,
   "metadata": {},
   "outputs": [],
   "source": [
    "def get_model3():\n",
    "    with tf.device(\"GPU:1\"):\n",
    "        nclass = 2\n",
    "        initializer1 = tf.keras.initializers.RandomNormal\n",
    "        initializer2 = tf.keras.initializers.Zeros()\n",
    "        initializer3 = tf.keras.initializers.glorot_uniform(seed=None)\n",
    "        initializer4 = tf.keras.initializers.lecun_normal(seed=None)\n",
    "        initializer5 = tf.keras.initializers.TruncatedNormal(mean=0., stddev=1.)\n",
    "\n",
    "\n",
    "        inp = Input(shape=cqt_input_shape)\n",
    "        \n",
    "        img_1 = Conv2D(128, kernel_size=(7,7), \n",
    "                       kernel_initializer=initializer4,  \n",
    "                       trainable = False,\n",
    "                       padding=\"valid\")(inp)\n",
    "        #img_1 = LeakyReLU(alpha=0.2)(img_1)\n",
    "        img_1 = Dropout(0.3)(img_1)\n",
    "\n",
    "        img_1 = MaxPooling2D()(img_1)\n",
    "        img_1 = Conv2D(128, kernel_size=(3,3),       \n",
    "                       kernel_initializer=initializer4,\n",
    "                       trainable = False,\n",
    "                       padding=\"valid\")(img_1)\n",
    "        #img_1 = LeakyReLU(alpha=0.2)(img_1)\n",
    "        img_1 = Dropout(0.3)(img_1)\n",
    "        \n",
    "        img_1 = MaxPooling2D()(img_1)\n",
    "        img_1 = Conv2D(256, kernel_size=(3,3),       \n",
    "                       kernel_initializer=initializer4, \n",
    "                       trainable = False,\n",
    "                       padding=\"valid\")(img_1)\n",
    "        #img_1 = LeakyReLU(alpha=0.2)(img_1)\n",
    "        img_1 = Dropout(0.3)(img_1)   \n",
    "        \n",
    "        img_1 = Flatten()(img_1)      \n",
    "        img_1 = Dense(512, kernel_initializer=initializer4, trainable = True, kernel_regularizer = regularizers.l2(0.001)\n",
    "                     )(img_1)\n",
    "        #img_1 = LeakyReLU(alpha=0.2)(img_1)\n",
    "        img_1 = Dropout(0.5)(img_1)   \n",
    "         \n",
    "        \n",
    "        img_1 = Dense(128, kernel_initializer=initializer4, trainable = True,\n",
    "                             kernel_regularizer = regularizers.l2(0.001),\n",
    "                             use_bias=True, \n",
    "                             bias_initializer=initializer4,\n",
    "                            )(img_1)\n",
    "        img_1 = LeakyReLU(alpha=0.2)(img_1)\n",
    "        img_1 = Dropout(0.5)(img_1)   \n",
    "\n",
    "        img_1 = Dense(16, kernel_initializer=initializer4, trainable = True,\n",
    "                             kernel_regularizer = regularizers.l2(0.01),\n",
    "                             use_bias=True, \n",
    "                             bias_initializer=initializer4,\n",
    "                            )(img_1)\n",
    "        img_1 = LeakyReLU(alpha=0.2)(img_1)\n",
    "        img_1 = Dropout(0.5)(img_1)   \n",
    "\n",
    "\n",
    "        output_layer = Dense(2,activation=activations.sigmoid)(img_1)\n",
    "        model = models.Model(inputs=[inp], outputs=[output_layer])\n",
    "        opt = optimizers.Adam(lr=0.00006, beta_1=0.9, beta_2=0.999, epsilon=1e-5, decay=.03, amsgrad=False)\n",
    "        model.compile(optimizer=opt, loss=losses.binary_crossentropy, metrics=['acc'])\n",
    "        \n",
    "        model.summary()\n",
    "\n",
    "        return model"
   ]
  },
  {
   "cell_type": "code",
   "execution_count": 496,
   "metadata": {},
   "outputs": [
    {
     "name": "stdout",
     "output_type": "stream",
     "text": [
      "Model: \"model_1\"\n",
      "_________________________________________________________________\n",
      "Layer (type)                 Output Shape              Param #   \n",
      "=================================================================\n",
      "input_2 (InputLayer)         [(None, 70, 112, 1)]      0         \n",
      "_________________________________________________________________\n",
      "conv2d_3 (Conv2D)            (None, 64, 106, 128)      6400      \n",
      "_________________________________________________________________\n",
      "dropout_6 (Dropout)          (None, 64, 106, 128)      0         \n",
      "_________________________________________________________________\n",
      "max_pooling2d_2 (MaxPooling2 (None, 32, 53, 128)       0         \n",
      "_________________________________________________________________\n",
      "conv2d_4 (Conv2D)            (None, 30, 51, 128)       147584    \n",
      "_________________________________________________________________\n",
      "dropout_7 (Dropout)          (None, 30, 51, 128)       0         \n",
      "_________________________________________________________________\n",
      "max_pooling2d_3 (MaxPooling2 (None, 15, 25, 128)       0         \n",
      "_________________________________________________________________\n",
      "conv2d_5 (Conv2D)            (None, 13, 23, 256)       295168    \n",
      "_________________________________________________________________\n",
      "dropout_8 (Dropout)          (None, 13, 23, 256)       0         \n",
      "_________________________________________________________________\n",
      "flatten_1 (Flatten)          (None, 76544)             0         \n",
      "_________________________________________________________________\n",
      "dense_4 (Dense)              (None, 512)               39191040  \n",
      "_________________________________________________________________\n",
      "dropout_9 (Dropout)          (None, 512)               0         \n",
      "_________________________________________________________________\n",
      "dense_5 (Dense)              (None, 128)               65664     \n",
      "_________________________________________________________________\n",
      "leaky_re_lu_2 (LeakyReLU)    (None, 128)               0         \n",
      "_________________________________________________________________\n",
      "dropout_10 (Dropout)         (None, 128)               0         \n",
      "_________________________________________________________________\n",
      "dense_6 (Dense)              (None, 16)                2064      \n",
      "_________________________________________________________________\n",
      "leaky_re_lu_3 (LeakyReLU)    (None, 16)                0         \n",
      "_________________________________________________________________\n",
      "dropout_11 (Dropout)         (None, 16)                0         \n",
      "_________________________________________________________________\n",
      "dense_7 (Dense)              (None, 2)                 34        \n",
      "=================================================================\n",
      "Total params: 39,707,954\n",
      "Trainable params: 39,258,802\n",
      "Non-trainable params: 449,152\n",
      "_________________________________________________________________\n"
     ]
    }
   ],
   "source": [
    "not_pre_trained = get_model3()"
   ]
  },
  {
   "cell_type": "code",
   "execution_count": 497,
   "metadata": {
    "scrolled": true
   },
   "outputs": [
    {
     "name": "stdout",
     "output_type": "stream",
     "text": [
      "Train on 167 samples, validate on 66 samples\n",
      "Epoch 1/10\n",
      "167/167 [==============================] - 6s 34ms/sample - loss: 371632.4519 - acc: 0.4551 - val_loss: 29416.7163 - val_acc: 0.5000\n",
      "Epoch 2/10\n",
      "167/167 [==============================] - 3s 21ms/sample - loss: 306780.3725 - acc: 0.5569 - val_loss: 24275.8123 - val_acc: 0.5000\n",
      "Epoch 3/10\n",
      "167/167 [==============================] - 3s 21ms/sample - loss: 310671.8866 - acc: 0.5419 - val_loss: 12664.5949 - val_acc: 0.5000\n",
      "Epoch 4/10\n",
      "167/167 [==============================] - 5s 30ms/sample - loss: 198125.1040 - acc: 0.5359 - val_loss: 157.6347 - val_acc: 0.9394\n",
      "Epoch 5/10\n",
      "167/167 [==============================] - 3s 21ms/sample - loss: 177807.7989 - acc: 0.5539 - val_loss: 13800.7676 - val_acc: 0.6894\n",
      "Epoch 6/10\n",
      "167/167 [==============================] - 4s 21ms/sample - loss: 203359.3372 - acc: 0.5269 - val_loss: 5691.3001 - val_acc: 0.5833\n",
      "Epoch 7/10\n",
      "167/167 [==============================] - 3s 21ms/sample - loss: 173222.6195 - acc: 0.5359 - val_loss: 6489.4822 - val_acc: 0.5833\n",
      "Epoch 8/10\n",
      "167/167 [==============================] - 3s 21ms/sample - loss: 165954.8827 - acc: 0.5659 - val_loss: 7001.4150 - val_acc: 0.5833\n",
      "Epoch 9/10\n",
      "167/167 [==============================] - 3s 21ms/sample - loss: 171018.8837 - acc: 0.5389 - val_loss: 6895.0012 - val_acc: 0.5833\n",
      "Epoch 10/10\n",
      "167/167 [==============================] - 3s 21ms/sample - loss: 151611.0088 - acc: 0.5479 - val_loss: 6738.4513 - val_acc: 0.5985\n"
     ]
    }
   ],
   "source": [
    "history_not_pretrained = not_pre_trained.fit([cqt_x_train],[to_categorical(cqt_y_train)], \n",
    "                         epochs=10, \n",
    "                         batch_size=8,\n",
    "                         validation_data=([cqt_x_test], to_categorical(cqt_y_test)),\n",
    "                         callbacks=[mcp_save_, reduce_lr],\n",
    "                         class_weight=class_weight)"
   ]
  },
  {
   "cell_type": "code",
   "execution_count": null,
   "metadata": {},
   "outputs": [],
   "source": []
  },
  {
   "cell_type": "code",
   "execution_count": 367,
   "metadata": {},
   "outputs": [
    {
     "name": "stderr",
     "output_type": "stream",
     "text": [
      "W0613 16:25:54.101797 140528814368512 hdf5_format.py:258] Error in loading the saved optimizer state. As a result, your model is starting with a freshly initialized optimizer.\n"
     ]
    }
   ],
   "source": [
    "model2 = load_model('10_epochs_not_pretrained_ferry_7-7.hdf5')"
   ]
  },
  {
   "cell_type": "code",
   "execution_count": null,
   "metadata": {},
   "outputs": [],
   "source": []
  },
  {
   "cell_type": "code",
   "execution_count": null,
   "metadata": {},
   "outputs": [],
   "source": [
    "# freezing selective layers\n",
    "\n",
    "# sentence_encoder.trainable = True\n",
    "# is_trainable = False\n",
    "# for layer in sentence_encoder.layers:\n",
    "#   if layer.name == 'last layer name':\n",
    "#      is_trainable = True\n",
    "#   if is_trainable:\n",
    "#     layer.trainable = True\n",
    "#   else:\n",
    "#     layer.trainable = False"
   ]
  }
 ],
 "metadata": {
  "kernelspec": {
   "display_name": "Python [conda env:gansynth]",
   "language": "python",
   "name": "conda-env-gansynth-py"
  },
  "language_info": {
   "codemirror_mode": {
    "name": "ipython",
    "version": 3
   },
   "file_extension": ".py",
   "mimetype": "text/x-python",
   "name": "python",
   "nbconvert_exporter": "python",
   "pygments_lexer": "ipython3",
   "version": "3.6.8"
  }
 },
 "nbformat": 4,
 "nbformat_minor": 2
}
