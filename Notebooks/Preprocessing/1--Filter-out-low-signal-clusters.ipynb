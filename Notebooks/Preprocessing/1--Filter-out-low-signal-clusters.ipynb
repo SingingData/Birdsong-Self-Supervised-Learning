{
 "cells": [
  {
   "cell_type": "markdown",
   "metadata": {},
   "source": [
    "## Filter out low signal audio files by clustering CQT representations\n",
    "\n",
    "Clustering to remove low signal sample"
   ]
  },
  {
   "cell_type": "code",
   "execution_count": null,
   "metadata": {},
   "outputs": [],
   "source": []
  },
  {
   "cell_type": "code",
   "execution_count": 49,
   "metadata": {},
   "outputs": [],
   "source": [
    "from time import time\n",
    "import numpy as np\n",
    "np.random.seed(10)\n",
    "import numpy as np\n",
    "import keras.backend as K\n",
    "from keras.engine.topology import Layer, InputSpec\n",
    "from keras.layers import Dense, Input\n",
    "from keras.models import Model\n",
    "from keras.optimizers import SGD\n",
    "from keras import callbacks\n",
    "from keras.initializers import VarianceScaling\n",
    "from sklearn.cluster import KMeans\n",
    "import metrics"
   ]
  },
  {
   "cell_type": "code",
   "execution_count": 50,
   "metadata": {},
   "outputs": [],
   "source": [
    "import scipy.io \n",
    "from scipy.io import wavfile\n",
    "import librosa"
   ]
  },
  {
   "cell_type": "code",
   "execution_count": 51,
   "metadata": {},
   "outputs": [
    {
     "data": {
      "text/plain": [
       "'D:\\\\bird-data\\\\test-set-resampled-audio'"
      ]
     },
     "execution_count": 51,
     "metadata": {},
     "output_type": "execute_result"
    }
   ],
   "source": [
    "import os\n",
    "drive = \"D:\\\\\"\n",
    "cwd_top = os.path.join(drive,\"bird-data\")\n",
    "cwd_source = os.path.join(cwd_top,\"test-set-resampled-audio\")\n",
    "cwd_target_cqt = os.path.join(cwd_top, \"cqt-full-sample\")\n",
    "os.chdir(cwd_source)\n",
    "os.getcwd()"
   ]
  },
  {
   "cell_type": "code",
   "execution_count": 52,
   "metadata": {},
   "outputs": [
    {
     "data": {
      "text/plain": [
       "677"
      ]
     },
     "execution_count": 52,
     "metadata": {},
     "output_type": "execute_result"
    }
   ],
   "source": [
    "sample_list = os.listdir(cwd_source)\n",
    "len(sample_list)"
   ]
  },
  {
   "cell_type": "code",
   "execution_count": 54,
   "metadata": {},
   "outputs": [
    {
     "data": {
      "text/plain": [
       "(677, 70, 447)"
      ]
     },
     "execution_count": 54,
     "metadata": {},
     "output_type": "execute_result"
    }
   ],
   "source": [
    "count = 0\n",
    "primary_input = []\n",
    "\n",
    "for samples in sample_list:\n",
    "    count = count + 1\n",
    "    os.chdir(cwd_source)\n",
    "    [fs, s] = wavfile.read(samples) \n",
    "    s = np.asarray(s[0:228800])\n",
    "    \n",
    "    constant_q = np.abs(librosa.cqt(s, sr=22000, fmin=librosa.note_to_hz('C1'), n_bins=70, bins_per_octave=12))\n",
    "    constant_q_shape_1 = constant_q.shape[1]\n",
    "    constant_q_shape_0 = constant_q.shape[0]\n",
    "    primary_input.append(constant_q)\n",
    "    os.chdir(cwd_target_cqt)\n",
    "    samples_without_extension = samples[:-4]\n",
    "    # np.savetxt(samples_without_extension+'_CQT_'+str(count)+'.csv', constant_q, delimiter=',')\n",
    "\n",
    "primary_input = np.array(primary_input).reshape(-1, constant_q_shape_0, constant_q_shape_1)\n",
    "primary_input.shape  "
   ]
  },
  {
   "cell_type": "code",
   "execution_count": 55,
   "metadata": {},
   "outputs": [
    {
     "name": "stdout",
     "output_type": "stream",
     "text": [
      "segment cqt shape (677, 31290)\n"
     ]
    }
   ],
   "source": [
    " x = primary_input.reshape((primary_input.shape[0], -1))\n",
    "print(\"segment cqt shape\", x.shape)"
   ]
  },
  {
   "cell_type": "code",
   "execution_count": 56,
   "metadata": {},
   "outputs": [
    {
     "data": {
      "text/plain": [
       "'D:\\\\bird-data\\\\cqt-full-sample'"
      ]
     },
     "execution_count": 56,
     "metadata": {},
     "output_type": "execute_result"
    }
   ],
   "source": [
    "os.getcwd()"
   ]
  },
  {
   "cell_type": "code",
   "execution_count": 57,
   "metadata": {},
   "outputs": [],
   "source": [
    "np.savetxt('unrolled-unfiltered-cqt'+'.csv', x, delimiter=',')  "
   ]
  },
  {
   "cell_type": "code",
   "execution_count": 58,
   "metadata": {},
   "outputs": [
    {
     "data": {
      "text/plain": [
       "(677,)"
      ]
     },
     "execution_count": 58,
     "metadata": {},
     "output_type": "execute_result"
    }
   ],
   "source": [
    "sample_list = np.asarray(sample_list)\n",
    "sample_list.shape"
   ]
  },
  {
   "cell_type": "code",
   "execution_count": 59,
   "metadata": {},
   "outputs": [],
   "source": [
    "\n",
    "np.savetxt('cqt_file_list'+'.csv', sample_list, delimiter=',', fmt=\"%s\")  "
   ]
  },
  {
   "cell_type": "code",
   "execution_count": 60,
   "metadata": {},
   "outputs": [],
   "source": [
    "import pandas as pd\n",
    "# x=pd.read_csv('cleaned_cqt_unrolled.csv', sep=',',header=None)\n",
    "# x.shape"
   ]
  },
  {
   "cell_type": "code",
   "execution_count": 61,
   "metadata": {},
   "outputs": [],
   "source": [
    "n_clusters = 8"
   ]
  },
  {
   "cell_type": "markdown",
   "metadata": {},
   "source": [
    "## Base line K-Means clustering accuracy"
   ]
  },
  {
   "cell_type": "code",
   "execution_count": 62,
   "metadata": {},
   "outputs": [
    {
     "name": "stderr",
     "output_type": "stream",
     "text": [
      "C:\\Anaconda\\envs\\recommender\\lib\\site-packages\\sklearn\\cluster\\_kmeans.py:968: FutureWarning: 'n_jobs' was deprecated in version 0.23 and will be removed in 0.25.\n",
      "  \" removed in 0.25.\", FutureWarning)\n"
     ]
    }
   ],
   "source": [
    "kmeans = KMeans(n_clusters=n_clusters, n_init=20, n_jobs=4)\n",
    "y_pred_kmeans = kmeans.fit_predict(x)"
   ]
  },
  {
   "cell_type": "code",
   "execution_count": 63,
   "metadata": {},
   "outputs": [
    {
     "data": {
      "text/plain": [
       "(677, 1)"
      ]
     },
     "execution_count": 63,
     "metadata": {},
     "output_type": "execute_result"
    }
   ],
   "source": [
    "titles=pd.read_csv('cqt_file_list.csv', sep=',',header=None)\n",
    "titles.shape\n"
   ]
  },
  {
   "cell_type": "code",
   "execution_count": 64,
   "metadata": {},
   "outputs": [
    {
     "data": {
      "text/plain": [
       "(677,)"
      ]
     },
     "execution_count": 64,
     "metadata": {},
     "output_type": "execute_result"
    }
   ],
   "source": [
    "y_pred_kmeans.shape\n"
   ]
  },
  {
   "cell_type": "code",
   "execution_count": 65,
   "metadata": {},
   "outputs": [
    {
     "name": "stdout",
     "output_type": "stream",
     "text": [
      "Counter({7: 597, 1: 39, 4: 36, 3: 1, 0: 1, 5: 1, 6: 1, 2: 1})\n"
     ]
    }
   ],
   "source": [
    "import collections \n",
    "  \n",
    "# it returns a dictionary data structure whose  \n",
    "# keys are array elements and values are their  \n",
    "# corresponding frequencies {1: 4, 2: 4, 3: 2,  \n",
    "# 5: 2, 4: 1} \n",
    "def CountFrequency(arr): \n",
    "    return collections.Counter(arr)   \n",
    "  \n",
    "# Driver function \n",
    "if __name__ == \"__main__\": \n",
    "  \n",
    "    freq = CountFrequency(y_pred_kmeans) \n",
    "    print(freq)\n"
   ]
  },
  {
   "cell_type": "code",
   "execution_count": 66,
   "metadata": {},
   "outputs": [],
   "source": [
    "y_pred_kmeans = pd.DataFrame(y_pred_kmeans)\n",
    "# y_pred_kmeans['Row_Num'] = y_pred_kmeans.reset_index().index\n",
    "\n",
    "# y_pred_kmeans.columns = [\"Cluster\",\"Row_Num\"]\n",
    "# y_pred_kmeans = y_pred_kmeans[[\"Row_Num\",\"Cluster\"]]\n",
    "# print(y_pred_kmeans.head(2))\n",
    "# y_pred_kmeans.shape"
   ]
  },
  {
   "cell_type": "code",
   "execution_count": 67,
   "metadata": {},
   "outputs": [
    {
     "data": {
      "text/plain": [
       "(677, 1)"
      ]
     },
     "execution_count": 67,
     "metadata": {},
     "output_type": "execute_result"
    }
   ],
   "source": [
    "titles = pd.DataFrame(titles)\n",
    "y_pred_kmeans.shape"
   ]
  },
  {
   "cell_type": "code",
   "execution_count": 68,
   "metadata": {},
   "outputs": [],
   "source": [
    "cqt_clusters = pd.concat([titles, y_pred_kmeans], axis=1)"
   ]
  },
  {
   "cell_type": "code",
   "execution_count": 69,
   "metadata": {},
   "outputs": [
    {
     "data": {
      "text/plain": [
       "(677, 2)"
      ]
     },
     "execution_count": 69,
     "metadata": {},
     "output_type": "execute_result"
    }
   ],
   "source": [
    "cqt_clusters.shape"
   ]
  },
  {
   "cell_type": "code",
   "execution_count": 70,
   "metadata": {},
   "outputs": [
    {
     "data": {
      "text/plain": [
       "(677, 2)"
      ]
     },
     "execution_count": 70,
     "metadata": {},
     "output_type": "execute_result"
    }
   ],
   "source": [
    "cqt_clusters.head(2)\n",
    "cqt_clusters = np.asarray(cqt_clusters)\n",
    "cqt_clusters.shape"
   ]
  },
  {
   "cell_type": "code",
   "execution_count": 72,
   "metadata": {},
   "outputs": [],
   "source": [
    "np.savetxt('cleaned_cqt_clusters.csv', cqt_clusters, delimiter=',', fmt='%s')  "
   ]
  },
  {
   "cell_type": "code",
   "execution_count": null,
   "metadata": {},
   "outputs": [],
   "source": []
  },
  {
   "cell_type": "code",
   "execution_count": null,
   "metadata": {},
   "outputs": [],
   "source": []
  }
 ],
 "metadata": {
  "kernelspec": {
   "display_name": "Python (recommender)",
   "language": "python",
   "name": "recommender"
  },
  "language_info": {
   "codemirror_mode": {
    "name": "ipython",
    "version": 3
   },
   "file_extension": ".py",
   "mimetype": "text/x-python",
   "name": "python",
   "nbconvert_exporter": "python",
   "pygments_lexer": "ipython3",
   "version": "3.7.5"
  }
 },
 "nbformat": 4,
 "nbformat_minor": 2
}
